{
 "cells": [
  {
   "cell_type": "markdown",
   "id": "e3d31a87",
   "metadata": {},
   "source": [
    "Grid search is the process of performing hyperparameter tuning so as to determine the optimal values for a given model. This is important as the performance of the entire model is based on the specified hyperparameter values"
   ]
  },
  {
   "cell_type": "markdown",
   "id": "82412c00",
   "metadata": {},
   "source": [
    "## Cross validation with parameter tuning using grid search"
   ]
  },
  {
   "cell_type": "code",
   "execution_count": 2,
   "id": "5e96cbae",
   "metadata": {},
   "outputs": [],
   "source": [
    "import numpy as np\n",
    "from sklearn.model_selection import GridSearchCV\n",
    "from sklearn import datasets, svm\n",
    "import matplotlib.pyplot as plt"
   ]
  },
  {
   "cell_type": "markdown",
   "id": "11b83a61",
   "metadata": {},
   "source": [
    "Create 2 datasets that contain 64 feature variables. A feature is a darknes of a pizel (8x8 image)"
   ]
  },
  {
   "cell_type": "code",
   "execution_count": 3,
   "id": "b5072955",
   "metadata": {},
   "outputs": [],
   "source": [
    "#load the digit data\n",
    "digits = datasets.load_digits()"
   ]
  },
  {
   "cell_type": "code",
   "execution_count": 4,
   "id": "a4db7d83",
   "metadata": {},
   "outputs": [
    {
     "data": {
      "text/plain": [
       "array([[ 0.,  0.,  5., 13.,  9.,  1.,  0.,  0.,  0.,  0., 13., 15., 10.,\n",
       "        15.,  5.,  0.,  0.,  3., 15.,  2.,  0., 11.,  8.,  0.,  0.,  4.,\n",
       "        12.,  0.,  0.,  8.,  8.,  0.,  0.,  5.,  8.,  0.,  0.,  9.,  8.,\n",
       "         0.,  0.,  4., 11.,  0.,  1., 12.,  7.,  0.,  0.,  2., 14.,  5.,\n",
       "        10., 12.,  0.,  0.,  0.,  0.,  6., 13., 10.,  0.,  0.,  0.]])"
      ]
     },
     "execution_count": 4,
     "metadata": {},
     "output_type": "execute_result"
    }
   ],
   "source": [
    "#view the features of the first observation\n",
    "digits.data[0:1]"
   ]
  },
  {
   "cell_type": "markdown",
   "id": "3db0c0eb",
   "metadata": {},
   "source": [
    "The target data is a vector containing the image;s true digit"
   ]
  },
  {
   "cell_type": "code",
   "execution_count": 5,
   "id": "29879a45",
   "metadata": {},
   "outputs": [
    {
     "data": {
      "text/plain": [
       "array([0])"
      ]
     },
     "execution_count": 5,
     "metadata": {},
     "output_type": "execute_result"
    }
   ],
   "source": [
    "#view the target of the first observation\n",
    "digits.target[0:1]"
   ]
  },
  {
   "cell_type": "markdown",
   "id": "84cf92ba",
   "metadata": {},
   "source": [
    "To demonstarte cross validation and parameter tuning, we are going to divide the dataset into 2. data 1 will have the first 1000 rows and the second will have 800.\n",
    "\n",
    "Note that the split is separate to the cross validation we will conduct and is done purley to demonstrate something at the end."
   ]
  },
  {
   "cell_type": "code",
   "execution_count": 6,
   "id": "69f5233d",
   "metadata": {},
   "outputs": [],
   "source": [
    "# Create dataset 1\n",
    "data1_features = digits.data[:1000]\n",
    "data1_target = digits.target[:1000]\n",
    "\n",
    "# Create dataset 2\n",
    "data2_features = digits.data[1000:]\n",
    "data2_target = digits.target[1000:]"
   ]
  },
  {
   "cell_type": "markdown",
   "id": "4c84f0f6",
   "metadata": {},
   "source": [
    "Create parameter candidates \n",
    "\n",
    "Before looking for which combination of parameter values produces the most accurate model, we must specify different  candidate values we want to try.\n",
    "\n",
    "Below we have multiple candidate parameter values for C, two values for gamma and two for kernel.\n",
    "\n",
    "The grid search will try all combinations of parameter values and select the set of parametes which provides the most accurate model"
   ]
  },
  {
   "cell_type": "code",
   "execution_count": 9,
   "id": "612a4651",
   "metadata": {},
   "outputs": [],
   "source": [
    "parameter_candidates = [\n",
    "  {'C': [1, 10, 100, 1000], 'kernel': ['linear']},\n",
    "  {'C': [1, 10, 100, 1000], 'gamma': [0.001, 0.0001], 'kernel': ['rbf']},\n",
    "]"
   ]
  },
  {
   "cell_type": "markdown",
   "id": "408bc98a",
   "metadata": {},
   "source": [
    "Let us conduct a grid search with GridSearchCV (grid search cross validation)\n",
    "\n",
    "By default it uses 3 fold Kfild and or stratefiedKfold depending on the situation"
   ]
  },
  {
   "cell_type": "code",
   "execution_count": 10,
   "id": "33b442f0",
   "metadata": {},
   "outputs": [
    {
     "name": "stdout",
     "output_type": "stream",
     "text": [
      "CPU times: user 313 ms, sys: 89.1 ms, total: 402 ms\n",
      "Wall time: 2.15 s\n"
     ]
    },
    {
     "data": {
      "text/plain": [
       "GridSearchCV(estimator=SVC(), n_jobs=-1,\n",
       "             param_grid=[{'C': [1, 10, 100, 1000], 'kernel': ['linear']},\n",
       "                         {'C': [1, 10, 100, 1000], 'gamma': [0.001, 0.0001],\n",
       "                          'kernel': ['rbf']}])"
      ]
     },
     "execution_count": 10,
     "metadata": {},
     "output_type": "execute_result"
    }
   ],
   "source": [
    "%%time\n",
    "# Create a classifier object with the classifier and parameter candidates\n",
    "clf = GridSearchCV(estimator=svm.SVC(), param_grid=parameter_candidates, n_jobs=-1)\n",
    "\n",
    "# Train the classifier on data1's feature and target data\n",
    "clf.fit(data1_features, data1_target)   "
   ]
  },
  {
   "cell_type": "markdown",
   "id": "144b0eaf",
   "metadata": {},
   "source": [
    "Success"
   ]
  },
  {
   "cell_type": "code",
   "execution_count": 11,
   "id": "db6fa2be",
   "metadata": {},
   "outputs": [
    {
     "name": "stdout",
     "output_type": "stream",
     "text": [
      "Best score for data1: 0.966\n"
     ]
    }
   ],
   "source": [
    "#Let us look at the accuracy score when we apply the model to data1's test data\n",
    "print('Best score for data1:', clf.best_score_)"
   ]
  },
  {
   "cell_type": "code",
   "execution_count": 12,
   "id": "d46bef8d",
   "metadata": {},
   "outputs": [
    {
     "name": "stdout",
     "output_type": "stream",
     "text": [
      "Best C: 10\n",
      "Best Kernel: rbf\n",
      "Best Gamma: 0.001\n"
     ]
    }
   ],
   "source": [
    "#view the best parameters for the model found using grid search\n",
    "print('Best C:', clf.best_estimator_.C)\n",
    "print('Best Kernel:', clf.best_estimator_.kernel)\n",
    "print('Best Gamma:', clf.best_estimator_.gamma)"
   ]
  },
  {
   "cell_type": "markdown",
   "id": "1475df4d",
   "metadata": {},
   "source": [
    "Therefore the most accurate model uses c = 10, rbf kernel and gamma = 0.001"
   ]
  },
  {
   "cell_type": "markdown",
   "id": "a916e4a8",
   "metadata": {},
   "source": [
    "Use the second data set to prove those params are actually used by the model. First apply classifier we just trained to the second one. Then we train a new support vector classifier from scratch using the prams for grid search"
   ]
  },
  {
   "cell_type": "code",
   "execution_count": 13,
   "id": "4e208ed4",
   "metadata": {},
   "outputs": [
    {
     "data": {
      "text/plain": [
       "0.9698870765370138"
      ]
     },
     "execution_count": 13,
     "metadata": {},
     "output_type": "execute_result"
    }
   ],
   "source": [
    "#apply the classifier trained using data1 to data 2 and view accuracy score\n",
    "clf.score(data2_features, data2_target)"
   ]
  },
  {
   "cell_type": "code",
   "execution_count": 14,
   "id": "418179ac",
   "metadata": {},
   "outputs": [
    {
     "data": {
      "text/plain": [
       "0.9698870765370138"
      ]
     },
     "execution_count": 14,
     "metadata": {},
     "output_type": "execute_result"
    }
   ],
   "source": [
    "# Train a new classifier using the best parameters found by the grid search\n",
    "svm.SVC(C=10, kernel='rbf', gamma=0.001).fit(data1_features, data1_target).score(data2_features, data2_target)"
   ]
  },
  {
   "cell_type": "code",
   "execution_count": null,
   "id": "a76c5313",
   "metadata": {},
   "outputs": [],
   "source": []
  }
 ],
 "metadata": {
  "kernelspec": {
   "display_name": "LHLBootcamp",
   "language": "python",
   "name": "lhlbootcamp"
  },
  "language_info": {
   "codemirror_mode": {
    "name": "ipython",
    "version": 3
   },
   "file_extension": ".py",
   "mimetype": "text/x-python",
   "name": "python",
   "nbconvert_exporter": "python",
   "pygments_lexer": "ipython3",
   "version": "3.6.10"
  }
 },
 "nbformat": 4,
 "nbformat_minor": 5
}
