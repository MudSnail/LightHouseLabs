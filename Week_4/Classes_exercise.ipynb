{
 "cells": [
  {
   "cell_type": "markdown",
   "metadata": {},
   "source": [
    "## Exercise 1\n",
    "\n",
    "Write a Python class named `Circle` constructed by a radius and two methods which will compute the area and the perimeter of a circle."
   ]
  },
  {
   "cell_type": "code",
   "execution_count": 32,
   "metadata": {},
   "outputs": [],
   "source": [
    "import math \n",
    "\n",
    "class Circle:\n",
    "    \"\"\"Class that will be able to calculate the area and perimeter of a circle\"\"\"\n",
    "    \n",
    "    #create init\n",
    "    def __init__(self, radius):\n",
    "        self.radius = radius\n",
    "    \n",
    "    #create function for area (pie r^2)\n",
    "    def area(self):\n",
    "        return math.pi*(self.radius**2)\n",
    "    \n",
    "    #create function for parameter (2*pie*r)\n",
    "    def perimeter(self):\n",
    "        return 2*math.pi*self.radius"
   ]
  },
  {
   "cell_type": "code",
   "execution_count": 33,
   "metadata": {},
   "outputs": [
    {
     "name": "stdout",
     "output_type": "stream",
     "text": [
      "78.53981633974483\n",
      "31.41592653589793\n"
     ]
    }
   ],
   "source": [
    "#test class functions\n",
    "rad_1 = Circle(5)\n",
    "\n",
    "print(rad_1.area())\n",
    "print(rad_1.perimeter())"
   ]
  },
  {
   "cell_type": "code",
   "execution_count": 46,
   "metadata": {},
   "outputs": [],
   "source": [
    "#second circle class without math module and using class attribute\n",
    "\n",
    "class Circle:\n",
    "    \"\"\"Class that will be able to calculate the area and perimeter of a circle\"\"\"\n",
    "    \n",
    "    PI = 3.14\n",
    "    \n",
    "    #create init\n",
    "    def __init__(self, radius):\n",
    "        self.radius = radius\n",
    "    \n",
    "    #create function for area (pie r^2)\n",
    "    def area(self):\n",
    "        return self.PI*self.radius**2\n",
    "    \n",
    "    #create function for parameter (2*pie*r)\n",
    "    def perimeter(self):\n",
    "        return 2*self.PI*self.radius"
   ]
  },
  {
   "cell_type": "code",
   "execution_count": 48,
   "metadata": {},
   "outputs": [
    {
     "name": "stdout",
     "output_type": "stream",
     "text": [
      "78.5\n",
      "31.400000000000002\n"
     ]
    }
   ],
   "source": [
    "#test class functions\n",
    "rad_1 = Circle(5)\n",
    "\n",
    "print(rad_1.area())\n",
    "print(rad_1.perimeter())"
   ]
  },
  {
   "cell_type": "markdown",
   "metadata": {},
   "source": [
    "## Exercise 2\n",
    "\n",
    "Create a class called `Numbers`, which has a single class attribute called `MULTIPLIER`, and a constructor which takes the parameters `x` and `y` (these should all be numbers).\n",
    "\n",
    "1. Write a method called `add` which returns the sum of the attributes `x` and `y`.\n",
    "2. Write a class method called `multiply`, which takes a single number parameter `a` and returns the product of `a` and `MULTIPLIER`.\n",
    "3. Write a static method called `subtract`, which takes two number parameters, `b` and `c`, and returns `b - c`.\n",
    "4. (STRETCH) Write a method called `value` which returns a tuple containing the values of `x` and `y`. Make this method into a property, and write a `setter` and a `deleter` for manipulating the values of `x` and `y`."
   ]
  },
  {
   "cell_type": "code",
   "execution_count": 75,
   "metadata": {},
   "outputs": [],
   "source": [
    "class Numbers:\n",
    "    \"\"\"create Numbers class with 2 attributes, and create normal function, class method\n",
    "    function, static function, property and setter/deleter functions\"\"\"\n",
    "    \n",
    "    #create class attribute\n",
    "    multiplier = 5\n",
    "    \n",
    "    #create constructor\n",
    "    def __init__(self, x, y):\n",
    "        self.x = x\n",
    "        self.y = y\n",
    "    \n",
    "    #create function to add attributes\n",
    "    def add(self):\n",
    "        return self.x+self.y\n",
    "    \n",
    "    #create class method to give product of single param and multiplier\n",
    "    @classmethod\n",
    "    def multiply(cls, num):\n",
    "        return cls.multiplier*num\n",
    "    \n",
    "    #create static method that takes two params and gives result of subtraction\n",
    "    @staticmethod\n",
    "    def subtract(b, c):\n",
    "        return b-c\n",
    "    \n",
    "    #create property function\n",
    "    @property\n",
    "    def value(self):\n",
    "        tupl = ()\n",
    "        return tupl+(self.x,)+(self.y,)\n",
    "    \n",
    "    #Create settler\n",
    "    @value.setter\n",
    "    def value(self, x, y):\n",
    "        self.x = x\n",
    "        self.y = y\n",
    "    \n",
    "    #create deleter\n",
    "    @value.deleter\n",
    "    def value(self):\n",
    "        print('Delete Name!')\n",
    "        self.first = None\n",
    "        self.last = None"
   ]
  },
  {
   "cell_type": "code",
   "execution_count": 76,
   "metadata": {},
   "outputs": [
    {
     "name": "stdout",
     "output_type": "stream",
     "text": [
      "method test = 5\n",
      "class test= 25\n",
      "static test = 2\n"
     ]
    }
   ],
   "source": [
    "#create instance for class\n",
    "combo = Numbers(2, 3)\n",
    "\n",
    "#test first method\n",
    "print('method test =', combo.add())\n",
    "\n",
    "#test class method\n",
    "a = 5\n",
    "print('class test=', Numbers.multiply(a))\n",
    "\n",
    "\n",
    "#test static method\n",
    "b=5\n",
    "c=3\n",
    "print('static test =', Numbers.subtract(b,c))"
   ]
  },
  {
   "cell_type": "code",
   "execution_count": 82,
   "metadata": {},
   "outputs": [
    {
     "name": "stdout",
     "output_type": "stream",
     "text": [
      "x = 2\n",
      "y = 3\n",
      "New x = 3\n",
      "New y = 6\n",
      "Delete Number!\n",
      "x = None\n",
      "y = None\n"
     ]
    }
   ],
   "source": [
    "#create instance for class\n",
    "combo = Numbers(2, 3)\n",
    "\n",
    "# test settler\n",
    "print('x =', combo.x)\n",
    "print('y =', combo.y)\n",
    "\n",
    "combo.x = 3\n",
    "combo.y = 6\n",
    "print('New x =', combo.x)\n",
    "print('New y =', combo.y)\n",
    "\n",
    "#test deleter\n",
    "del combo.value\n",
    "print('x =', combo.x)\n",
    "print('y =', combo.y)"
   ]
  }
 ],
 "metadata": {
  "kernelspec": {
   "display_name": "Python 3 (ipykernel)",
   "language": "python",
   "name": "python3"
  },
  "language_info": {
   "codemirror_mode": {
    "name": "ipython",
    "version": 3
   },
   "file_extension": ".py",
   "mimetype": "text/x-python",
   "name": "python",
   "nbconvert_exporter": "python",
   "pygments_lexer": "ipython3",
   "version": "3.10.1"
  }
 },
 "nbformat": 4,
 "nbformat_minor": 4
}
