{
 "cells": [
  {
   "cell_type": "markdown",
   "metadata": {},
   "source": [
    "# Time & Date Exercise"
   ]
  },
  {
   "cell_type": "code",
   "execution_count": 34,
   "metadata": {
    "ExecuteTime": {
     "end_time": "2020-04-23T12:59:43.427172Z",
     "start_time": "2020-04-23T12:59:43.421241Z"
    }
   },
   "outputs": [],
   "source": [
    "import datetime"
   ]
  },
  {
   "cell_type": "markdown",
   "metadata": {
    "ExecuteTime": {
     "end_time": "2020-04-23T12:52:58.201151Z",
     "start_time": "2020-04-23T12:52:58.193651Z"
    }
   },
   "source": [
    "**print:**\n",
    "1.  Current date and time\n",
    "2.  Current year\n",
    "3.  Month of year\n",
    "4.  Week number of the year\n",
    "5.  Weekday of the week\n",
    "6.  Day of year\n",
    "7.  Day of the month\n",
    "8.  Day of week"
   ]
  },
  {
   "cell_type": "markdown",
   "metadata": {},
   "source": [
    "https://strftime.org"
   ]
  },
  {
   "cell_type": "code",
   "execution_count": 4,
   "metadata": {
    "ExecuteTime": {
     "end_time": "2020-04-23T12:53:26.216074Z",
     "start_time": "2020-04-23T12:53:26.206960Z"
    }
   },
   "outputs": [
    {
     "name": "stdout",
     "output_type": "stream",
     "text": [
      "The current date and time is 2022-01-11 21:01:12.744983\n",
      "The current year is 2022\n",
      "The current month is 01\n",
      "The week number is 02\n",
      "The weekday is 2\n",
      "The day of the year is 011\n",
      "The day of the month is 11\n",
      "The week number is Tuesday\n"
     ]
    }
   ],
   "source": [
    "date_time = datetime.datetime.now() # 1\n",
    "print(\"The current date and time is\", date_time)\n",
    "\n",
    "year = date_time.strftime(\"%Y\") #2\n",
    "print(\"The current year is\", year)\n",
    "\n",
    "month = date_time.strftime(\"%m\") #3\n",
    "print(\"The current month is\", month)\n",
    "\n",
    "week_n = date_time.strftime(\"%W\") #4\n",
    "print(\"The week number is\", week_n)\n",
    "\n",
    "week_day = date_time.strftime(\"%w\") #5\n",
    "print(\"The weekday is\", week_day)\n",
    "\n",
    "day_year = date_time.strftime(\"%j\") #6\n",
    "print(\"The day of the year is\", day_year)\n",
    "\n",
    "day_month = date_time.strftime(\"%d\") #7\n",
    "print(\"The day of the month is\", day_month)\n",
    "\n",
    "day_week = date_time.strftime(\"%A\") #8\n",
    "print(\"The week number is\", day_week)"
   ]
  },
  {
   "cell_type": "markdown",
   "metadata": {},
   "source": [
    "* convert a string to datetime\n",
    "* **string** = *'Jan 1 2014 2:43PM'*"
   ]
  },
  {
   "cell_type": "code",
   "execution_count": 14,
   "metadata": {
    "ExecuteTime": {
     "end_time": "2020-04-23T12:53:52.241615Z",
     "start_time": "2020-04-23T12:53:52.231428Z"
    }
   },
   "outputs": [
    {
     "name": "stdout",
     "output_type": "stream",
     "text": [
      "Jan 1 2014 2:43PM\n",
      "2014-01-01 02:43:00\n"
     ]
    }
   ],
   "source": [
    "from datetime import datetime\n",
    "string = 'Jan 1 2014 2:43PM'\n",
    "print(string)\n",
    "date_object = datetime.strptime(string, \"%b %d %Y %H:%M%p\")\n",
    "print(date_object)"
   ]
  },
  {
   "cell_type": "markdown",
   "metadata": {},
   "source": [
    "* print the current time "
   ]
  },
  {
   "cell_type": "code",
   "execution_count": 36,
   "metadata": {
    "ExecuteTime": {
     "end_time": "2020-03-11T18:16:28.915595Z",
     "start_time": "2020-03-11T18:16:28.909658Z"
    }
   },
   "outputs": [
    {
     "name": "stdout",
     "output_type": "stream",
     "text": [
      "21:24:09\n"
     ]
    }
   ],
   "source": [
    "from datetime import datetime\n",
    "now = datetime.now()\n",
    "current_time = now.strftime(\"%H:%M:%S\")\n",
    "print(current_time)"
   ]
  },
  {
   "cell_type": "markdown",
   "metadata": {},
   "source": [
    "* subtract five days from current date"
   ]
  },
  {
   "cell_type": "code",
   "execution_count": 38,
   "metadata": {
    "ExecuteTime": {
     "end_time": "2020-04-23T12:54:56.116690Z",
     "start_time": "2020-04-23T12:54:56.111293Z"
    }
   },
   "outputs": [
    {
     "name": "stdout",
     "output_type": "stream",
     "text": [
      "2022-01-06 21:24:09.264511\n"
     ]
    }
   ],
   "source": [
    "from datetime import timedelta\n",
    "subtract_days = now - timedelta(days = 5)\n",
    "print(subtract_days)"
   ]
  },
  {
   "cell_type": "markdown",
   "metadata": {
    "ExecuteTime": {
     "end_time": "2020-04-23T12:55:10.916163Z",
     "start_time": "2020-04-23T12:55:10.910245Z"
    }
   },
   "source": [
    "* convert unix timestamp string to readable date\n",
    "* **unix** = *1284105682*"
   ]
  },
  {
   "cell_type": "code",
   "execution_count": 26,
   "metadata": {
    "ExecuteTime": {
     "end_time": "2020-03-11T18:19:02.952818Z",
     "start_time": "2020-03-11T18:19:02.946930Z"
    }
   },
   "outputs": [
    {
     "name": "stdout",
     "output_type": "stream",
     "text": [
      "2010-09-10 04:01:22\n"
     ]
    }
   ],
   "source": [
    "unix = '1284105682'\n",
    "\n",
    "timestamp = datetime.datetime.fromtimestamp(int(\"1284105682\"))\n",
    "print(timestamp.strftime('%Y-%m-%d %H:%M:%S'))"
   ]
  },
  {
   "cell_type": "markdown",
   "metadata": {
    "ExecuteTime": {
     "end_time": "2020-04-23T12:56:00.886007Z",
     "start_time": "2020-04-23T12:56:00.878697Z"
    }
   },
   "source": [
    "* convert today's date to Day of Year"
   ]
  },
  {
   "cell_type": "code",
   "execution_count": 40,
   "metadata": {
    "ExecuteTime": {
     "end_time": "2020-04-23T12:55:58.575327Z",
     "start_time": "2020-04-23T12:55:58.553895Z"
    }
   },
   "outputs": [
    {
     "name": "stdout",
     "output_type": "stream",
     "text": [
      "The day of the year is 011\n"
     ]
    }
   ],
   "source": [
    "from datetime import datetime\n",
    "now = datetime.now()\n",
    "day_year = now.strftime(\"%j\")\n",
    "print(\"The day of the year is\", day_year)"
   ]
  },
  {
   "cell_type": "markdown",
   "metadata": {},
   "source": [
    "* get week number from today's date"
   ]
  },
  {
   "cell_type": "code",
   "execution_count": 39,
   "metadata": {
    "ExecuteTime": {
     "end_time": "2020-04-23T12:56:28.577424Z",
     "start_time": "2020-04-23T12:56:28.572138Z"
    }
   },
   "outputs": [
    {
     "name": "stdout",
     "output_type": "stream",
     "text": [
      "The week number is 02\n"
     ]
    }
   ],
   "source": [
    "from datetime import datetime\n",
    "now = datetime.now()\n",
    "week_n = now.strftime(\"%W\") \n",
    "print(\"The week number is\", week_n)"
   ]
  },
  {
   "cell_type": "markdown",
   "metadata": {
    "ExecuteTime": {
     "end_time": "2020-04-23T12:56:43.939475Z",
     "start_time": "2020-04-23T12:56:43.932915Z"
    }
   },
   "source": [
    "* get the number of days between the two dates"
   ]
  },
  {
   "cell_type": "code",
   "execution_count": 46,
   "metadata": {
    "ExecuteTime": {
     "end_time": "2020-04-23T12:59:47.672905Z",
     "start_time": "2020-04-23T12:59:47.667373Z"
    }
   },
   "outputs": [
    {
     "name": "stdout",
     "output_type": "stream",
     "text": [
      "-32 days, 0:00:00\n"
     ]
    }
   ],
   "source": [
    "from datetime import datetime\n",
    "date_a = datetime(2020,2,2)\n",
    "date_b = datetime(2020,1,1)\n",
    "\n",
    "diff = date_b - date_a\n",
    "print(diff)"
   ]
  },
  {
   "cell_type": "markdown",
   "metadata": {},
   "source": [
    "* get the number of days of the given month and year"
   ]
  },
  {
   "cell_type": "code",
   "execution_count": 47,
   "metadata": {
    "ExecuteTime": {
     "end_time": "2020-04-23T12:59:48.516068Z",
     "start_time": "2020-04-23T12:59:48.511765Z"
    }
   },
   "outputs": [
    {
     "name": "stdout",
     "output_type": "stream",
     "text": [
      "(5, 31)\n"
     ]
    }
   ],
   "source": [
    "month = 10\n",
    "year = 2016\n",
    "\n",
    "from calendar import monthrange\n",
    "print(monthrange(year, month))"
   ]
  },
  {
   "cell_type": "markdown",
   "metadata": {},
   "source": [
    "* get a list of dates between the two dates"
   ]
  },
  {
   "cell_type": "code",
   "execution_count": 51,
   "metadata": {
    "ExecuteTime": {
     "end_time": "2020-04-23T12:59:53.461312Z",
     "start_time": "2020-04-23T12:59:53.456769Z"
    }
   },
   "outputs": [
    {
     "name": "stdout",
     "output_type": "stream",
     "text": [
      "2015-12-20 00:00:00\n",
      "2015-12-21 00:00:00\n",
      "2015-12-22 00:00:00\n",
      "2015-12-23 00:00:00\n",
      "2015-12-24 00:00:00\n",
      "2015-12-25 00:00:00\n",
      "2015-12-26 00:00:00\n",
      "2015-12-27 00:00:00\n",
      "2015-12-28 00:00:00\n",
      "2015-12-29 00:00:00\n",
      "2015-12-30 00:00:00\n",
      "2015-12-31 00:00:00\n",
      "2016-01-01 00:00:00\n",
      "2016-01-02 00:00:00\n",
      "2016-01-03 00:00:00\n",
      "2016-01-04 00:00:00\n",
      "2016-01-05 00:00:00\n",
      "2016-01-06 00:00:00\n",
      "2016-01-07 00:00:00\n",
      "2016-01-08 00:00:00\n",
      "2016-01-09 00:00:00\n",
      "2016-01-10 00:00:00\n",
      "2016-01-11 00:00:00\n"
     ]
    }
   ],
   "source": [
    "from datetime import datetime, timedelta\n",
    "\n",
    "start_dt = datetime(2015, 12, 20)\n",
    "end_dt = datetime(2016, 1, 11)\n",
    "\n",
    "delta = end_dt - start_dt # returns timedelta\n",
    "\n",
    "for i in range(delta.days +1):\n",
    "    day = start_dt + timedelta(days = i)\n",
    "    print(day)"
   ]
  }
 ],
 "metadata": {
  "kernelspec": {
   "display_name": "Python 3",
   "language": "python",
   "name": "python3"
  },
  "language_info": {
   "codemirror_mode": {
    "name": "ipython",
    "version": 3
   },
   "file_extension": ".py",
   "mimetype": "text/x-python",
   "name": "python",
   "nbconvert_exporter": "python",
   "pygments_lexer": "ipython3",
   "version": "3.8.8"
  },
  "toc": {
   "base_numbering": 1,
   "nav_menu": {},
   "number_sections": true,
   "sideBar": true,
   "skip_h1_title": false,
   "title_cell": "Table of Contents",
   "title_sidebar": "Contents",
   "toc_cell": false,
   "toc_position": {},
   "toc_section_display": true,
   "toc_window_display": false
  },
  "varInspector": {
   "cols": {
    "lenName": 16,
    "lenType": 16,
    "lenVar": 40
   },
   "kernels_config": {
    "python": {
     "delete_cmd_postfix": "",
     "delete_cmd_prefix": "del ",
     "library": "var_list.py",
     "varRefreshCmd": "print(var_dic_list())"
    },
    "r": {
     "delete_cmd_postfix": ") ",
     "delete_cmd_prefix": "rm(",
     "library": "var_list.r",
     "varRefreshCmd": "cat(var_dic_list()) "
    }
   },
   "types_to_exclude": [
    "module",
    "function",
    "builtin_function_or_method",
    "instance",
    "_Feature"
   ],
   "window_display": false
  }
 },
 "nbformat": 4,
 "nbformat_minor": 4
}
