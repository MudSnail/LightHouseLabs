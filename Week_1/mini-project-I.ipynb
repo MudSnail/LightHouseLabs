{
 "cells": [
  {
   "cell_type": "markdown",
   "metadata": {},
   "source": [
    "# Mini-Project I\n",
    "During this project, we will practice handling of complex lists and dictionaries in Python. Plus, we will learn how to work with API documentation. Don't be afraid to search for the information in the [**documentation**](https://api.tfl.gov.uk/swagger/ui/index.html?url=/swagger/docs/v1#!/AccidentStats/AccidentStats_Get).\n",
    "\n",
    "Let's go to the tasks, we have some parsing to do :)!!\n",
    "\n",
    "Helpful links:\n",
    "https://api.tfl.gov.uk/swagger/ui/index.html?url=/swagger/docs/v1#!/AccidentStats/AccidentStats_Get\n",
    "https://api-portal.tfl.gov.uk/api-details#api=AccidentStats&operation=AccidentStats_Get"
   ]
  },
  {
   "cell_type": "markdown",
   "metadata": {},
   "source": [
    "import os\n",
    "import requests as r\n",
    "from IPython.display import JSON"
   ]
  },
  {
   "cell_type": "code",
   "execution_count": 32,
   "metadata": {},
   "outputs": [],
   "source": [
    "# import packages we need (remember what packages we used yesterday during the API session)\n",
    "# IMPORT HERE\n",
    "\n",
    "import os\n",
    "import requests as r\n",
    "from IPython.display import JSON, display\n"
   ]
  },
  {
   "cell_type": "markdown",
   "metadata": {},
   "source": [
    "## Demo"
   ]
  },
  {
   "cell_type": "code",
   "execution_count": 33,
   "metadata": {},
   "outputs": [],
   "source": [
    "from api_keys import London_Prim\n",
    "from api_keys import London_Sec"
   ]
  },
  {
   "cell_type": "code",
   "execution_count": 34,
   "metadata": {},
   "outputs": [],
   "source": [
    "# don't forget package os\n",
    "app_id = London_Prim\n",
    "app_key = London_Sec\n",
    "url_append = f'?app_id={app_id}&app_key={app_key}' "
   ]
  },
  {
   "cell_type": "code",
   "execution_count": 36,
   "metadata": {},
   "outputs": [
    {
     "name": "stdout",
     "output_type": "stream",
     "text": [
      "?app_id=1e272adfa0514c3782d1e7adb2e974d1&app_key=b7bf359ac38d45b68031dd4e8dcfa9ef\n"
     ]
    }
   ],
   "source": [
    "print(url_append)"
   ]
  },
  {
   "cell_type": "code",
   "execution_count": 370,
   "metadata": {},
   "outputs": [],
   "source": [
    "# URL\n",
    "url = \"https://api.tfl.gov.uk/AirQuality\""
   ]
  },
  {
   "cell_type": "code",
   "execution_count": 371,
   "metadata": {},
   "outputs": [],
   "source": [
    "URL = \"https://api.tfl.gov.uk/\""
   ]
  },
  {
   "cell_type": "code",
   "execution_count": 372,
   "metadata": {},
   "outputs": [],
   "source": [
    "# We send the request to the API\n",
    "# NOTE: if you don't have your APP_KEY, run this without the url_append\n",
    "res = r.get(url+url_append)"
   ]
  },
  {
   "cell_type": "code",
   "execution_count": 373,
   "metadata": {},
   "outputs": [
    {
     "data": {
      "text/plain": [
       "200"
      ]
     },
     "execution_count": 373,
     "metadata": {},
     "output_type": "execute_result"
    }
   ],
   "source": [
    "# We can check if the request was successful\n",
    "res.status_code"
   ]
  },
  {
   "cell_type": "code",
   "execution_count": 374,
   "metadata": {},
   "outputs": [],
   "source": [
    "# We can export the information that was returned using method .json()\n",
    "weather_json = res.json()\n",
    "\n"
   ]
  },
  {
   "cell_type": "markdown",
   "metadata": {},
   "source": [
    "## Task\n",
    "Parse the dictionary and print the AirQuality predictions for tomorrow"
   ]
  },
  {
   "cell_type": "code",
   "execution_count": 2,
   "metadata": {},
   "outputs": [
    {
     "ename": "NameError",
     "evalue": "name 'weather_json' is not defined",
     "output_type": "error",
     "traceback": [
      "\u001b[0;31m---------------------------------------------------------------------------\u001b[0m",
      "\u001b[0;31mNameError\u001b[0m                                 Traceback (most recent call last)",
      "\u001b[0;32m<ipython-input-2-2ae723868e56>\u001b[0m in \u001b[0;36m<module>\u001b[0;34m\u001b[0m\n\u001b[0;32m----> 1\u001b[0;31m \u001b[0mprint\u001b[0m\u001b[0;34m(\u001b[0m\u001b[0mweather_json\u001b[0m\u001b[0;34m[\u001b[0m\u001b[0;34m\"currentForecast\"\u001b[0m\u001b[0;34m]\u001b[0m\u001b[0;34m[\u001b[0m\u001b[0;36m1\u001b[0m\u001b[0;34m]\u001b[0m\u001b[0;34m[\u001b[0m\u001b[0;34m\"forecastBand\"\u001b[0m\u001b[0;34m]\u001b[0m\u001b[0;34m)\u001b[0m\u001b[0;34m\u001b[0m\u001b[0;34m\u001b[0m\u001b[0m\n\u001b[0m",
      "\u001b[0;31mNameError\u001b[0m: name 'weather_json' is not defined"
     ]
    }
   ],
   "source": [
    "print(weather_json[\"currentForecast\"][1][\"forecastBand\"])"
   ]
  },
  {
   "cell_type": "code",
   "execution_count": 42,
   "metadata": {},
   "outputs": [
    {
     "data": {
      "application/json": {
       "$id": "1",
       "$type": "Tfl.Api.Presentation.Entities.LondonAirForecast, Tfl.Api.Presentation.Entities",
       "currentForecast": [
        {
         "$id": "2",
         "$type": "Tfl.Api.Presentation.Entities.CurrentForecast, Tfl.Api.Presentation.Entities",
         "forecastBand": "Moderate",
         "forecastID": "34800",
         "forecastSummary": "Moderate air pollution forecast valid from Thursday 13 January to end of Friday 14 January GMT",
         "forecastText": "Fine and settled, with some sunshine by day but with overnight frosts and stubborn fog patches readily developing, and perhaps staying for lengthy periods in some areas and suppressing temperatures. A very light westerly breeze will persist throughout.&lt;br/&gt; &lt;br/&gt;These settled, still and foggy conditions could lead to a build up of local pollutants with Moderate levels of Particulates and possibly Nitrogen Dioxide being reached at some busy roadside and industrial locations. &lt;br/&gt;&lt;br/&gt;Overall, air pollution is expected to remain &#39;Low&#39; throughout the forecast period for the following pollutants:&lt;br/&gt;&lt;br/&gt;Ozone&lt;br/&gt;Sulphur Dioxide&lt;br/&gt;&lt;br/&gt;&lt;br/&gt;",
         "forecastType": "Current",
         "nO2Band": "Moderate",
         "o3Band": "Low",
         "pM10Band": "Moderate",
         "pM25Band": "Moderate",
         "publishedDate": "2022-11-01T11:10:36Z",
         "sO2Band": "Low"
        },
        {
         "$id": "3",
         "$type": "Tfl.Api.Presentation.Entities.CurrentForecast, Tfl.Api.Presentation.Entities",
         "forecastBand": "Moderate",
         "forecastID": "34838",
         "forecastSummary": "Moderate air pollution forecast valid from Friday 14 January to end of Friday 14 January GMT",
         "forecastText": "Fine and settled, with some sunshine by day but with overnight frosts and stubborn fog patches readily developing, and perhaps staying for lengthy periods in some areas and suppressing temperatures. Very little wind expected.&lt;br/&gt; &lt;br/&gt;These settled, still and foggy conditions could lead to a build up of local pollutants with Moderate levels of Particulates and possibly Nitrogen Dioxide being reached at some busy roadside and industrial locations. &lt;br/&gt;&lt;br/&gt;Overall, air pollution is expected to remain &#39;Low&#39; throughout the forecast period for the following pollutants:&lt;br/&gt;&lt;br/&gt;Ozone&lt;br/&gt;Sulphur Dioxide&lt;br/&gt;&lt;br/&gt;&lt;br/&gt;",
         "forecastType": "Future",
         "nO2Band": "Moderate",
         "o3Band": "Low",
         "pM10Band": "Moderate",
         "pM25Band": "Moderate",
         "sO2Band": "Low"
        }
       ],
       "disclaimerText": "This forecast is intended to provide information on expected pollution levels in areas of significant public exposure. It may not apply in very specific locations close to unusually strong or short-lived local sources of pollution.",
       "forecastURL": "http://londonair.org.uk/forecast",
       "updateFrequency": "1",
       "updatePeriod": "hourly"
      },
      "text/plain": [
       "<IPython.core.display.JSON object>"
      ]
     },
     "metadata": {
      "application/json": {
       "expanded": true,
       "root": "root"
      }
     },
     "output_type": "display_data"
    }
   ],
   "source": [
    "display(JSON(weather_json,expanded=True))"
   ]
  },
  {
   "cell_type": "markdown",
   "metadata": {},
   "source": [
    "## Task\n",
    "What are the different modes of transport which are operated by Transfer for London? How many of modes do they have?\n",
    "\n",
    "Print the list with different modes of transport, plus their count. Example output:\n",
    "```\n",
    "[bus, cable-car,.....]\n",
    "Number of different modes of transport is: xyz\n",
    "```\n",
    "\n",
    "We need to search the documentation for correct request."
   ]
  },
  {
   "cell_type": "code",
   "execution_count": 68,
   "metadata": {},
   "outputs": [
    {
     "name": "stdout",
     "output_type": "stream",
     "text": [
      "200\n"
     ]
    }
   ],
   "source": [
    "url_mode = URL+\"/Line/Meta/Modes\"\n",
    "res_mode = r.get(url_mode+url_append)\n",
    "print(res_mode.status_code)\n",
    "mode_T = res_mode.json()"
   ]
  },
  {
   "cell_type": "code",
   "execution_count": 55,
   "metadata": {},
   "outputs": [
    {
     "data": {
      "application/vnd.code.notebook.error": {
       "message": "r.endsWith is not a function",
       "name": "TypeError",
       "stack": "TypeError: r.endsWith is not a function\n\tat u (/Applications/Visual Studio Code.app/Contents/Resources/app/extensions/ipynb/dist/ipynbMain.js:1:142434)\n\tat s (/Applications/Visual Studio Code.app/Contents/Resources/app/extensions/ipynb/dist/ipynbMain.js:1:143084)\n\tat f (/Applications/Visual Studio Code.app/Contents/Resources/app/extensions/ipynb/dist/ipynbMain.js:1:143827)\n\tat h (/Applications/Visual Studio Code.app/Contents/Resources/app/extensions/ipynb/dist/ipynbMain.js:1:144577)\n\tat Array.map (<anonymous>)\n\tat /Applications/Visual Studio Code.app/Contents/Resources/app/extensions/ipynb/dist/ipynbMain.js:1:145763\n\tat /Applications/Visual Studio Code.app/Contents/Resources/app/extensions/ipynb/dist/ipynbMain.js:1:146005\n\tat /Applications/Visual Studio Code.app/Contents/Resources/app/extensions/ipynb/dist/ipynbMain.js:1:146012\n\tat Array.map (<anonymous>)\n\tat e.jupyterNotebookModelToNotebookData (/Applications/Visual Studio Code.app/Contents/Resources/app/extensions/ipynb/dist/ipynbMain.js:1:145321)\n\tat e.NotebookSerializer.deserializeNotebook (/Applications/Visual Studio Code.app/Contents/Resources/app/extensions/ipynb/dist/ipynbMain.js:1:147518)\n\tat R.$dataToNotebook (/Applications/Visual Studio Code.app/Contents/Resources/app/out/vs/workbench/services/extensions/node/extensionHostProcess.js:93:144921)\n\tat i._doInvokeHandler (/Applications/Visual Studio Code.app/Contents/Resources/app/out/vs/workbench/services/extensions/node/extensionHostProcess.js:97:13801)\n\tat i._invokeHandler (/Applications/Visual Studio Code.app/Contents/Resources/app/out/vs/workbench/services/extensions/node/extensionHostProcess.js:97:13485)\n\tat i._receiveRequest (/Applications/Visual Studio Code.app/Contents/Resources/app/out/vs/workbench/services/extensions/node/extensionHostProcess.js:97:12096)\n\tat i._receiveOneMessage (/Applications/Visual Studio Code.app/Contents/Resources/app/out/vs/workbench/services/extensions/node/extensionHostProcess.js:97:11024)\n\tat /Applications/Visual Studio Code.app/Contents/Resources/app/out/vs/workbench/services/extensions/node/extensionHostProcess.js:97:8934\n\tat l.fire (/Applications/Visual Studio Code.app/Contents/Resources/app/out/vs/workbench/services/extensions/node/extensionHostProcess.js:64:1712)\n\tat s.fire (/Applications/Visual Studio Code.app/Contents/Resources/app/out/vs/workbench/services/extensions/node/extensionHostProcess.js:72:19002)\n\tat /Applications/Visual Studio Code.app/Contents/Resources/app/out/vs/workbench/services/extensions/node/extensionHostProcess.js:112:34390\n\tat l.fire (/Applications/Visual Studio Code.app/Contents/Resources/app/out/vs/workbench/services/extensions/node/extensionHostProcess.js:64:1712)\n\tat s.fire (/Applications/Visual Studio Code.app/Contents/Resources/app/out/vs/workbench/services/extensions/node/extensionHostProcess.js:72:19002)\n\tat a._receiveMessage (/Applications/Visual Studio Code.app/Contents/Resources/app/out/vs/workbench/services/extensions/node/extensionHostProcess.js:72:23583)\n\tat /Applications/Visual Studio Code.app/Contents/Resources/app/out/vs/workbench/services/extensions/node/extensionHostProcess.js:72:21117\n\tat l.fire (/Applications/Visual Studio Code.app/Contents/Resources/app/out/vs/workbench/services/extensions/node/extensionHostProcess.js:64:1712)\n\tat _.acceptChunk (/Applications/Visual Studio Code.app/Contents/Resources/app/out/vs/workbench/services/extensions/node/extensionHostProcess.js:72:15833)\n\tat /Applications/Visual Studio Code.app/Contents/Resources/app/out/vs/workbench/services/extensions/node/extensionHostProcess.js:72:14963\n\tat Socket.A (/Applications/Visual Studio Code.app/Contents/Resources/app/out/vs/workbench/services/extensions/node/extensionHostProcess.js:112:13838)\n\tat Socket.emit (events.js:315:20)\n\tat addChunk (internal/streams/readable.js:309:12)\n\tat readableAddChunk (internal/streams/readable.js:284:9)\n\tat Socket.Readable.push (internal/streams/readable.js:223:10)\n\tat Pipe.onStreamRead (internal/stream_base_commons.js:188:23)"
      },
      "text/plain": [
       "<IPython.core.display.JSON object>"
      ]
     },
     "metadata": {
      "application/json": {
       "expanded": true,
       "root": "root"
      }
     },
     "output_type": "display_data"
    }
   ],
   "source": [
    "display(JSON(mode_T,expanded=True))"
   ]
  },
  {
   "cell_type": "code",
   "execution_count": 130,
   "metadata": {},
   "outputs": [
    {
     "name": "stdout",
     "output_type": "stream",
     "text": [
      "1 - bus\n",
      "2 - cable-car\n",
      "3 - coach\n",
      "4 - cycle\n",
      "5 - cycle-hire\n",
      "6 - dlr\n",
      "7 - interchange-keep-sitting\n",
      "8 - interchange-secure\n",
      "9 - national-rail\n",
      "10 - overground\n",
      "11 - replacement-bus\n",
      "12 - river-bus\n",
      "13 - river-tour\n",
      "14 - taxi\n",
      "15 - tflrail\n",
      "16 - tram\n",
      "17 - tube\n",
      "18 - walking\n"
     ]
    }
   ],
   "source": [
    "for key,value in enumerate(mode_T):\n",
    "    print(f\"{key+1} - {value['modeName']}\")"
   ]
  },
  {
   "cell_type": "code",
   "execution_count": 147,
   "metadata": {},
   "outputs": [],
   "source": [
    "def count(d):\n",
    "    n = 0\n",
    "    for element in d:\n",
    "        n += 1\n",
    "    return n\n"
   ]
  },
  {
   "cell_type": "code",
   "execution_count": 153,
   "metadata": {},
   "outputs": [
    {
     "name": "stdout",
     "output_type": "stream",
     "text": [
      "There are 18 modes of transportation\n"
     ]
    }
   ],
   "source": [
    "no_t = count(mode_T)\n",
    "print(\"There are\", no_t, \"modes of transportation\")"
   ]
  },
  {
   "cell_type": "markdown",
   "metadata": {},
   "source": [
    "## Task\n",
    "How many BikePoints in London are operated by Transfor for London? How many docks are in **all** BikePoints? There is the information for empty and full docks for each BikePoint."
   ]
  },
  {
   "cell_type": "code",
   "execution_count": 71,
   "metadata": {},
   "outputs": [
    {
     "name": "stdout",
     "output_type": "stream",
     "text": [
      "200\n"
     ]
    }
   ],
   "source": [
    "url_bike = URL+\"/BikePoint\"\n",
    "res_bike = r.get(url_bike+url_append)\n",
    "print(res_bike.status_code)\n",
    "mode_bike = res_bike.json()"
   ]
  },
  {
   "cell_type": "code",
   "execution_count": 280,
   "metadata": {},
   "outputs": [
    {
     "name": "stdout",
     "output_type": "stream",
     "text": [
      "There are 788 Bike Points\n"
     ]
    }
   ],
   "source": [
    "no_bikes = count(mode_bike)\n",
    "print(\"There are\", no_bikes, \"Bike Points\")"
   ]
  },
  {
   "cell_type": "code",
   "execution_count": 281,
   "metadata": {},
   "outputs": [
    {
     "name": "stdout",
     "output_type": "stream",
     "text": [
      "There is a total of: 20943\n"
     ]
    }
   ],
   "source": [
    "N_docks = 0\n",
    "for item in mode_bike:\n",
    "    N_docks_point = int(item[\"additionalProperties\"][-1][\"value\"])\n",
    "    N_docks += N_docks_point\n",
    "print(\"There is a total of:\", N_docks)"
   ]
  },
  {
   "cell_type": "code",
   "execution_count": 282,
   "metadata": {},
   "outputs": [
    {
     "name": "stdout",
     "output_type": "stream",
     "text": [
      "There is 11157 empty docks.\n"
     ]
    }
   ],
   "source": [
    "N_docks = 0\n",
    "for item in mode_bike:\n",
    "    N_docks_point = int(item[\"additionalProperties\"][-2][\"value\"])\n",
    "    N_docks += N_docks_point\n",
    "print(\"There is\", N_docks, \"empty docks.\")"
   ]
  },
  {
   "cell_type": "code",
   "execution_count": 189,
   "metadata": {},
   "outputs": [
    {
     "name": "stdout",
     "output_type": "stream",
     "text": [
      "There is 9404 docks full.\n"
     ]
    }
   ],
   "source": [
    "N_docks = 0\n",
    "for item in mode_bike:\n",
    "    N_docks_point = int(item[\"additionalProperties\"][-3][\"value\"])\n",
    "    N_docks += N_docks_point\n",
    "print(\"There is\", N_docks, \"docks full.\")"
   ]
  },
  {
   "cell_type": "code",
   "execution_count": 72,
   "metadata": {},
   "outputs": [
    {
     "data": {
      "application/vnd.code.notebook.error": {
       "message": "r.endsWith is not a function",
       "name": "TypeError",
       "stack": "TypeError: r.endsWith is not a function\n\tat u (/Applications/Visual Studio Code.app/Contents/Resources/app/extensions/ipynb/dist/ipynbMain.js:1:142434)\n\tat s (/Applications/Visual Studio Code.app/Contents/Resources/app/extensions/ipynb/dist/ipynbMain.js:1:143084)\n\tat f (/Applications/Visual Studio Code.app/Contents/Resources/app/extensions/ipynb/dist/ipynbMain.js:1:143827)\n\tat h (/Applications/Visual Studio Code.app/Contents/Resources/app/extensions/ipynb/dist/ipynbMain.js:1:144577)\n\tat Array.map (<anonymous>)\n\tat /Applications/Visual Studio Code.app/Contents/Resources/app/extensions/ipynb/dist/ipynbMain.js:1:145763\n\tat /Applications/Visual Studio Code.app/Contents/Resources/app/extensions/ipynb/dist/ipynbMain.js:1:146005\n\tat /Applications/Visual Studio Code.app/Contents/Resources/app/extensions/ipynb/dist/ipynbMain.js:1:146012\n\tat Array.map (<anonymous>)\n\tat e.jupyterNotebookModelToNotebookData (/Applications/Visual Studio Code.app/Contents/Resources/app/extensions/ipynb/dist/ipynbMain.js:1:145321)\n\tat e.NotebookSerializer.deserializeNotebook (/Applications/Visual Studio Code.app/Contents/Resources/app/extensions/ipynb/dist/ipynbMain.js:1:147518)\n\tat R.$dataToNotebook (/Applications/Visual Studio Code.app/Contents/Resources/app/out/vs/workbench/services/extensions/node/extensionHostProcess.js:93:144921)\n\tat i._doInvokeHandler (/Applications/Visual Studio Code.app/Contents/Resources/app/out/vs/workbench/services/extensions/node/extensionHostProcess.js:97:13801)\n\tat i._invokeHandler (/Applications/Visual Studio Code.app/Contents/Resources/app/out/vs/workbench/services/extensions/node/extensionHostProcess.js:97:13485)\n\tat i._receiveRequest (/Applications/Visual Studio Code.app/Contents/Resources/app/out/vs/workbench/services/extensions/node/extensionHostProcess.js:97:12096)\n\tat i._receiveOneMessage (/Applications/Visual Studio Code.app/Contents/Resources/app/out/vs/workbench/services/extensions/node/extensionHostProcess.js:97:11024)\n\tat /Applications/Visual Studio Code.app/Contents/Resources/app/out/vs/workbench/services/extensions/node/extensionHostProcess.js:97:8934\n\tat l.fire (/Applications/Visual Studio Code.app/Contents/Resources/app/out/vs/workbench/services/extensions/node/extensionHostProcess.js:64:1712)\n\tat s.fire (/Applications/Visual Studio Code.app/Contents/Resources/app/out/vs/workbench/services/extensions/node/extensionHostProcess.js:72:19002)\n\tat /Applications/Visual Studio Code.app/Contents/Resources/app/out/vs/workbench/services/extensions/node/extensionHostProcess.js:112:34390\n\tat l.fire (/Applications/Visual Studio Code.app/Contents/Resources/app/out/vs/workbench/services/extensions/node/extensionHostProcess.js:64:1712)\n\tat s.fire (/Applications/Visual Studio Code.app/Contents/Resources/app/out/vs/workbench/services/extensions/node/extensionHostProcess.js:72:19002)\n\tat a._receiveMessage (/Applications/Visual Studio Code.app/Contents/Resources/app/out/vs/workbench/services/extensions/node/extensionHostProcess.js:72:23583)\n\tat /Applications/Visual Studio Code.app/Contents/Resources/app/out/vs/workbench/services/extensions/node/extensionHostProcess.js:72:21117\n\tat l.fire (/Applications/Visual Studio Code.app/Contents/Resources/app/out/vs/workbench/services/extensions/node/extensionHostProcess.js:64:1712)\n\tat _.acceptChunk (/Applications/Visual Studio Code.app/Contents/Resources/app/out/vs/workbench/services/extensions/node/extensionHostProcess.js:72:15833)\n\tat /Applications/Visual Studio Code.app/Contents/Resources/app/out/vs/workbench/services/extensions/node/extensionHostProcess.js:72:14963\n\tat Socket.A (/Applications/Visual Studio Code.app/Contents/Resources/app/out/vs/workbench/services/extensions/node/extensionHostProcess.js:112:13838)\n\tat Socket.emit (events.js:315:20)\n\tat addChunk (internal/streams/readable.js:309:12)\n\tat readableAddChunk (internal/streams/readable.js:284:9)\n\tat Socket.Readable.push (internal/streams/readable.js:223:10)\n\tat Pipe.onStreamRead (internal/stream_base_commons.js:188:23)"
      },
      "text/plain": [
       "<IPython.core.display.JSON object>"
      ]
     },
     "execution_count": 72,
     "metadata": {
      "application/json": {
       "expanded": false,
       "root": "root"
      }
     },
     "output_type": "execute_result"
    }
   ],
   "source": [
    "JSON(mode_bike)"
   ]
  },
  {
   "cell_type": "markdown",
   "metadata": {},
   "source": [
    "## Task\n",
    "How many tube and bus lines are in London? Print names of all tube lines."
   ]
  },
  {
   "cell_type": "code",
   "execution_count": 192,
   "metadata": {},
   "outputs": [
    {
     "name": "stdout",
     "output_type": "stream",
     "text": [
      "200\n"
     ]
    }
   ],
   "source": [
    "mode_t = 'tube'\n",
    "\n",
    "api_method = f\"/Line/Mode/{mode_t}\"\n",
    "endpoint = URL + api_method\n",
    "res_line = r.get(endpoint)\n",
    "print(res_line.status_code)\n",
    "mode_tube = res_line.json()"
   ]
  },
  {
   "cell_type": "code",
   "execution_count": 199,
   "metadata": {},
   "outputs": [
    {
     "name": "stdout",
     "output_type": "stream",
     "text": [
      "There are 11 bus lines in London.\n"
     ]
    }
   ],
   "source": [
    "N_tubelines = count(mode_tube)\n",
    "print(\"There are\", N_tubelines, \"bus lines in London.\")"
   ]
  },
  {
   "cell_type": "code",
   "execution_count": 197,
   "metadata": {},
   "outputs": [
    {
     "name": "stdout",
     "output_type": "stream",
     "text": [
      "1 - Bakerloo\n",
      "2 - Central\n",
      "3 - Circle\n",
      "4 - District\n",
      "5 - Hammersmith & City\n",
      "6 - Jubilee\n",
      "7 - Metropolitan\n",
      "8 - Northern\n",
      "9 - Piccadilly\n",
      "10 - Victoria\n",
      "11 - Waterloo & City\n"
     ]
    }
   ],
   "source": [
    "for key,value in enumerate(mode_tube):\n",
    "    print(f\"{key+1} - {value['name']}\")"
   ]
  },
  {
   "cell_type": "code",
   "execution_count": 194,
   "metadata": {},
   "outputs": [
    {
     "data": {
      "application/vnd.code.notebook.error": {
       "message": "r.endsWith is not a function",
       "name": "TypeError",
       "stack": "TypeError: r.endsWith is not a function\n\tat u (/Applications/Visual Studio Code.app/Contents/Resources/app/extensions/ipynb/dist/ipynbMain.js:1:142434)\n\tat s (/Applications/Visual Studio Code.app/Contents/Resources/app/extensions/ipynb/dist/ipynbMain.js:1:143084)\n\tat f (/Applications/Visual Studio Code.app/Contents/Resources/app/extensions/ipynb/dist/ipynbMain.js:1:143827)\n\tat h (/Applications/Visual Studio Code.app/Contents/Resources/app/extensions/ipynb/dist/ipynbMain.js:1:144577)\n\tat Array.map (<anonymous>)\n\tat /Applications/Visual Studio Code.app/Contents/Resources/app/extensions/ipynb/dist/ipynbMain.js:1:145763\n\tat /Applications/Visual Studio Code.app/Contents/Resources/app/extensions/ipynb/dist/ipynbMain.js:1:146005\n\tat /Applications/Visual Studio Code.app/Contents/Resources/app/extensions/ipynb/dist/ipynbMain.js:1:146012\n\tat Array.map (<anonymous>)\n\tat e.jupyterNotebookModelToNotebookData (/Applications/Visual Studio Code.app/Contents/Resources/app/extensions/ipynb/dist/ipynbMain.js:1:145321)\n\tat e.NotebookSerializer.deserializeNotebook (/Applications/Visual Studio Code.app/Contents/Resources/app/extensions/ipynb/dist/ipynbMain.js:1:147518)\n\tat R.$dataToNotebook (/Applications/Visual Studio Code.app/Contents/Resources/app/out/vs/workbench/services/extensions/node/extensionHostProcess.js:93:144921)\n\tat i._doInvokeHandler (/Applications/Visual Studio Code.app/Contents/Resources/app/out/vs/workbench/services/extensions/node/extensionHostProcess.js:97:13801)\n\tat i._invokeHandler (/Applications/Visual Studio Code.app/Contents/Resources/app/out/vs/workbench/services/extensions/node/extensionHostProcess.js:97:13485)\n\tat i._receiveRequest (/Applications/Visual Studio Code.app/Contents/Resources/app/out/vs/workbench/services/extensions/node/extensionHostProcess.js:97:12096)\n\tat i._receiveOneMessage (/Applications/Visual Studio Code.app/Contents/Resources/app/out/vs/workbench/services/extensions/node/extensionHostProcess.js:97:11024)\n\tat /Applications/Visual Studio Code.app/Contents/Resources/app/out/vs/workbench/services/extensions/node/extensionHostProcess.js:97:8934\n\tat l.fire (/Applications/Visual Studio Code.app/Contents/Resources/app/out/vs/workbench/services/extensions/node/extensionHostProcess.js:64:1712)\n\tat s.fire (/Applications/Visual Studio Code.app/Contents/Resources/app/out/vs/workbench/services/extensions/node/extensionHostProcess.js:72:19002)\n\tat /Applications/Visual Studio Code.app/Contents/Resources/app/out/vs/workbench/services/extensions/node/extensionHostProcess.js:112:34390\n\tat l.fire (/Applications/Visual Studio Code.app/Contents/Resources/app/out/vs/workbench/services/extensions/node/extensionHostProcess.js:64:1712)\n\tat s.fire (/Applications/Visual Studio Code.app/Contents/Resources/app/out/vs/workbench/services/extensions/node/extensionHostProcess.js:72:19002)\n\tat a._receiveMessage (/Applications/Visual Studio Code.app/Contents/Resources/app/out/vs/workbench/services/extensions/node/extensionHostProcess.js:72:23583)\n\tat /Applications/Visual Studio Code.app/Contents/Resources/app/out/vs/workbench/services/extensions/node/extensionHostProcess.js:72:21117\n\tat l.fire (/Applications/Visual Studio Code.app/Contents/Resources/app/out/vs/workbench/services/extensions/node/extensionHostProcess.js:64:1712)\n\tat _.acceptChunk (/Applications/Visual Studio Code.app/Contents/Resources/app/out/vs/workbench/services/extensions/node/extensionHostProcess.js:72:15833)\n\tat /Applications/Visual Studio Code.app/Contents/Resources/app/out/vs/workbench/services/extensions/node/extensionHostProcess.js:72:14963\n\tat Socket.A (/Applications/Visual Studio Code.app/Contents/Resources/app/out/vs/workbench/services/extensions/node/extensionHostProcess.js:112:13838)\n\tat Socket.emit (events.js:315:20)\n\tat addChunk (internal/streams/readable.js:309:12)\n\tat readableAddChunk (internal/streams/readable.js:284:9)\n\tat Socket.Readable.push (internal/streams/readable.js:223:10)\n\tat Pipe.onStreamRead (internal/stream_base_commons.js:188:23)"
      },
      "text/plain": [
       "<IPython.core.display.JSON object>"
      ]
     },
     "execution_count": 194,
     "metadata": {
      "application/json": {
       "expanded": false,
       "root": "root"
      }
     },
     "output_type": "execute_result"
    }
   ],
   "source": [
    "JSON(mode_line)"
   ]
  },
  {
   "cell_type": "code",
   "execution_count": 198,
   "metadata": {},
   "outputs": [
    {
     "name": "stdout",
     "output_type": "stream",
     "text": [
      "200\n"
     ]
    },
    {
     "data": {
      "application/vnd.code.notebook.error": {
       "message": "r.endsWith is not a function",
       "name": "TypeError",
       "stack": "TypeError: r.endsWith is not a function\n\tat u (/Applications/Visual Studio Code.app/Contents/Resources/app/extensions/ipynb/dist/ipynbMain.js:1:142434)\n\tat s (/Applications/Visual Studio Code.app/Contents/Resources/app/extensions/ipynb/dist/ipynbMain.js:1:143084)\n\tat f (/Applications/Visual Studio Code.app/Contents/Resources/app/extensions/ipynb/dist/ipynbMain.js:1:143827)\n\tat h (/Applications/Visual Studio Code.app/Contents/Resources/app/extensions/ipynb/dist/ipynbMain.js:1:144577)\n\tat Array.map (<anonymous>)\n\tat /Applications/Visual Studio Code.app/Contents/Resources/app/extensions/ipynb/dist/ipynbMain.js:1:145763\n\tat /Applications/Visual Studio Code.app/Contents/Resources/app/extensions/ipynb/dist/ipynbMain.js:1:146005\n\tat /Applications/Visual Studio Code.app/Contents/Resources/app/extensions/ipynb/dist/ipynbMain.js:1:146012\n\tat Array.map (<anonymous>)\n\tat e.jupyterNotebookModelToNotebookData (/Applications/Visual Studio Code.app/Contents/Resources/app/extensions/ipynb/dist/ipynbMain.js:1:145321)\n\tat e.NotebookSerializer.deserializeNotebook (/Applications/Visual Studio Code.app/Contents/Resources/app/extensions/ipynb/dist/ipynbMain.js:1:147518)\n\tat R.$dataToNotebook (/Applications/Visual Studio Code.app/Contents/Resources/app/out/vs/workbench/services/extensions/node/extensionHostProcess.js:93:144921)\n\tat i._doInvokeHandler (/Applications/Visual Studio Code.app/Contents/Resources/app/out/vs/workbench/services/extensions/node/extensionHostProcess.js:97:13801)\n\tat i._invokeHandler (/Applications/Visual Studio Code.app/Contents/Resources/app/out/vs/workbench/services/extensions/node/extensionHostProcess.js:97:13485)\n\tat i._receiveRequest (/Applications/Visual Studio Code.app/Contents/Resources/app/out/vs/workbench/services/extensions/node/extensionHostProcess.js:97:12096)\n\tat i._receiveOneMessage (/Applications/Visual Studio Code.app/Contents/Resources/app/out/vs/workbench/services/extensions/node/extensionHostProcess.js:97:11024)\n\tat /Applications/Visual Studio Code.app/Contents/Resources/app/out/vs/workbench/services/extensions/node/extensionHostProcess.js:97:8934\n\tat l.fire (/Applications/Visual Studio Code.app/Contents/Resources/app/out/vs/workbench/services/extensions/node/extensionHostProcess.js:64:1712)\n\tat s.fire (/Applications/Visual Studio Code.app/Contents/Resources/app/out/vs/workbench/services/extensions/node/extensionHostProcess.js:72:19002)\n\tat /Applications/Visual Studio Code.app/Contents/Resources/app/out/vs/workbench/services/extensions/node/extensionHostProcess.js:112:34390\n\tat l.fire (/Applications/Visual Studio Code.app/Contents/Resources/app/out/vs/workbench/services/extensions/node/extensionHostProcess.js:64:1712)\n\tat s.fire (/Applications/Visual Studio Code.app/Contents/Resources/app/out/vs/workbench/services/extensions/node/extensionHostProcess.js:72:19002)\n\tat a._receiveMessage (/Applications/Visual Studio Code.app/Contents/Resources/app/out/vs/workbench/services/extensions/node/extensionHostProcess.js:72:23583)\n\tat /Applications/Visual Studio Code.app/Contents/Resources/app/out/vs/workbench/services/extensions/node/extensionHostProcess.js:72:21117\n\tat l.fire (/Applications/Visual Studio Code.app/Contents/Resources/app/out/vs/workbench/services/extensions/node/extensionHostProcess.js:64:1712)\n\tat _.acceptChunk (/Applications/Visual Studio Code.app/Contents/Resources/app/out/vs/workbench/services/extensions/node/extensionHostProcess.js:72:15833)\n\tat /Applications/Visual Studio Code.app/Contents/Resources/app/out/vs/workbench/services/extensions/node/extensionHostProcess.js:72:14963\n\tat Socket.A (/Applications/Visual Studio Code.app/Contents/Resources/app/out/vs/workbench/services/extensions/node/extensionHostProcess.js:112:13838)\n\tat Socket.emit (events.js:315:20)\n\tat addChunk (internal/streams/readable.js:309:12)\n\tat readableAddChunk (internal/streams/readable.js:284:9)\n\tat Socket.Readable.push (internal/streams/readable.js:223:10)\n\tat Pipe.onStreamRead (internal/stream_base_commons.js:188:23)"
      },
      "text/plain": [
       "<IPython.core.display.JSON object>"
      ]
     },
     "execution_count": 198,
     "metadata": {
      "application/json": {
       "expanded": false,
       "root": "root"
      }
     },
     "output_type": "execute_result"
    }
   ],
   "source": [
    "mode_t = 'bus'\n",
    "\n",
    "api_method = f\"/Line/Mode/{mode_t}\"\n",
    "endpoint = URL + api_method\n",
    "res_line = r.get(endpoint)\n",
    "print(res_line.status_code)\n",
    "mode_bus = res_line.json()\n",
    "busses = \n",
    "JSON(mode_bus)"
   ]
  },
  {
   "cell_type": "code",
   "execution_count": 206,
   "metadata": {},
   "outputs": [
    {
     "name": "stdout",
     "output_type": "stream",
     "text": [
      "X68\n"
     ]
    }
   ],
   "source": [
    "print(mode_bus[-1]['name'])"
   ]
  },
  {
   "cell_type": "code",
   "execution_count": 207,
   "metadata": {},
   "outputs": [
    {
     "name": "stdout",
     "output_type": "stream",
     "text": [
      "There are 678 bus lines in London.\n",
      "1 - 1\n",
      "2 - 100\n",
      "3 - 101\n",
      "4 - 102\n",
      "5 - 103\n",
      "6 - 104\n",
      "7 - 105\n",
      "8 - 106\n",
      "9 - 107\n",
      "10 - 108\n",
      "11 - 109\n",
      "12 - 11\n",
      "13 - 110\n",
      "14 - 111\n",
      "15 - 112\n",
      "16 - 113\n",
      "17 - 114\n",
      "18 - 115\n",
      "19 - 116\n",
      "20 - 117\n",
      "21 - 118\n",
      "22 - 119\n",
      "23 - 12\n",
      "24 - 120\n",
      "25 - 121\n",
      "26 - 122\n",
      "27 - 123\n",
      "28 - 124\n",
      "29 - 125\n",
      "30 - 126\n",
      "31 - 127\n",
      "32 - 128\n",
      "33 - 129\n",
      "34 - 13\n",
      "35 - 130\n",
      "36 - 131\n",
      "37 - 132\n",
      "38 - 133\n",
      "39 - 134\n",
      "40 - 135\n",
      "41 - 136\n",
      "42 - 137\n",
      "43 - 138\n",
      "44 - 139\n",
      "45 - 14\n",
      "46 - 140\n",
      "47 - 141\n",
      "48 - 142\n",
      "49 - 143\n",
      "50 - 144\n",
      "51 - 145\n",
      "52 - 146\n",
      "53 - 147\n",
      "54 - 148\n",
      "55 - 149\n",
      "56 - 15\n",
      "57 - 150\n",
      "58 - 151\n",
      "59 - 152\n",
      "60 - 153\n",
      "61 - 154\n",
      "62 - 155\n",
      "63 - 156\n",
      "64 - 157\n",
      "65 - 158\n",
      "66 - 159\n",
      "67 - 16\n",
      "68 - 160\n",
      "69 - 161\n",
      "70 - 162\n",
      "71 - 163\n",
      "72 - 164\n",
      "73 - 165\n",
      "74 - 166\n",
      "75 - 167\n",
      "76 - 168\n",
      "77 - 169\n",
      "78 - 17\n",
      "79 - 170\n",
      "80 - 171\n",
      "81 - 172\n",
      "82 - 173\n",
      "83 - 174\n",
      "84 - 175\n",
      "85 - 176\n",
      "86 - 177\n",
      "87 - 178\n",
      "88 - 179\n",
      "89 - 18\n",
      "90 - 180\n",
      "91 - 181\n",
      "92 - 182\n",
      "93 - 183\n",
      "94 - 184\n",
      "95 - 185\n",
      "96 - 186\n",
      "97 - 187\n",
      "98 - 188\n",
      "99 - 189\n",
      "100 - 19\n",
      "101 - 190\n",
      "102 - 191\n",
      "103 - 192\n",
      "104 - 193\n",
      "105 - 194\n",
      "106 - 195\n",
      "107 - 196\n",
      "108 - 197\n",
      "109 - 198\n",
      "110 - 199\n",
      "111 - 2\n",
      "112 - 20\n",
      "113 - 200\n",
      "114 - 201\n",
      "115 - 202\n",
      "116 - 203\n",
      "117 - 204\n",
      "118 - 205\n",
      "119 - 206\n",
      "120 - 207\n",
      "121 - 208\n",
      "122 - 209\n",
      "123 - 21\n",
      "124 - 210\n",
      "125 - 211\n",
      "126 - 212\n",
      "127 - 213\n",
      "128 - 214\n",
      "129 - 215\n",
      "130 - 216\n",
      "131 - 217\n",
      "132 - 218\n",
      "133 - 219\n",
      "134 - 22\n",
      "135 - 220\n",
      "136 - 221\n",
      "137 - 222\n",
      "138 - 223\n",
      "139 - 224\n",
      "140 - 225\n",
      "141 - 226\n",
      "142 - 227\n",
      "143 - 228\n",
      "144 - 229\n",
      "145 - 23\n",
      "146 - 230\n",
      "147 - 231\n",
      "148 - 232\n",
      "149 - 233\n",
      "150 - 234\n",
      "151 - 235\n",
      "152 - 236\n",
      "153 - 237\n",
      "154 - 238\n",
      "155 - 24\n",
      "156 - 240\n",
      "157 - 241\n",
      "158 - 242\n",
      "159 - 243\n",
      "160 - 244\n",
      "161 - 245\n",
      "162 - 246\n",
      "163 - 247\n",
      "164 - 248\n",
      "165 - 249\n",
      "166 - 25\n",
      "167 - 250\n",
      "168 - 251\n",
      "169 - 252\n",
      "170 - 253\n",
      "171 - 254\n",
      "172 - 255\n",
      "173 - 256\n",
      "174 - 257\n",
      "175 - 258\n",
      "176 - 259\n",
      "177 - 26\n",
      "178 - 260\n",
      "179 - 261\n",
      "180 - 262\n",
      "181 - 263\n",
      "182 - 264\n",
      "183 - 265\n",
      "184 - 266\n",
      "185 - 267\n",
      "186 - 268\n",
      "187 - 269\n",
      "188 - 27\n",
      "189 - 270\n",
      "190 - 271\n",
      "191 - 272\n",
      "192 - 273\n",
      "193 - 274\n",
      "194 - 275\n",
      "195 - 276\n",
      "196 - 277\n",
      "197 - 278\n",
      "198 - 279\n",
      "199 - 28\n",
      "200 - 280\n",
      "201 - 281\n",
      "202 - 282\n",
      "203 - 283\n",
      "204 - 284\n",
      "205 - 285\n",
      "206 - 286\n",
      "207 - 287\n",
      "208 - 288\n",
      "209 - 289\n",
      "210 - 29\n",
      "211 - 290\n",
      "212 - 291\n",
      "213 - 292\n",
      "214 - 293\n",
      "215 - 294\n",
      "216 - 295\n",
      "217 - 296\n",
      "218 - 297\n",
      "219 - 298\n",
      "220 - 299\n",
      "221 - 3\n",
      "222 - 30\n",
      "223 - 300\n",
      "224 - 301\n",
      "225 - 302\n",
      "226 - 303\n",
      "227 - 306\n",
      "228 - 307\n",
      "229 - 308\n",
      "230 - 309\n",
      "231 - 31\n",
      "232 - 312\n",
      "233 - 313\n",
      "234 - 314\n",
      "235 - 315\n",
      "236 - 316\n",
      "237 - 317\n",
      "238 - 318\n",
      "239 - 319\n",
      "240 - 32\n",
      "241 - 320\n",
      "242 - 321\n",
      "243 - 322\n",
      "244 - 323\n",
      "245 - 324\n",
      "246 - 325\n",
      "247 - 326\n",
      "248 - 327\n",
      "249 - 328\n",
      "250 - 329\n",
      "251 - 33\n",
      "252 - 330\n",
      "253 - 331\n",
      "254 - 332\n",
      "255 - 333\n",
      "256 - 335\n",
      "257 - 336\n",
      "258 - 337\n",
      "259 - 339\n",
      "260 - 34\n",
      "261 - 340\n",
      "262 - 341\n",
      "263 - 343\n",
      "264 - 344\n",
      "265 - 345\n",
      "266 - 346\n",
      "267 - 347\n",
      "268 - 349\n",
      "269 - 35\n",
      "270 - 350\n",
      "271 - 352\n",
      "272 - 353\n",
      "273 - 354\n",
      "274 - 355\n",
      "275 - 356\n",
      "276 - 357\n",
      "277 - 358\n",
      "278 - 359\n",
      "279 - 36\n",
      "280 - 360\n",
      "281 - 362\n",
      "282 - 363\n",
      "283 - 364\n",
      "284 - 365\n",
      "285 - 366\n",
      "286 - 367\n",
      "287 - 368\n",
      "288 - 37\n",
      "289 - 370\n",
      "290 - 371\n",
      "291 - 372\n",
      "292 - 375\n",
      "293 - 376\n",
      "294 - 377\n",
      "295 - 378\n",
      "296 - 379\n",
      "297 - 38\n",
      "298 - 380\n",
      "299 - 381\n",
      "300 - 382\n",
      "301 - 383\n",
      "302 - 384\n",
      "303 - 385\n",
      "304 - 386\n",
      "305 - 388\n",
      "306 - 389\n",
      "307 - 39\n",
      "308 - 390\n",
      "309 - 393\n",
      "310 - 394\n",
      "311 - 395\n",
      "312 - 396\n",
      "313 - 397\n",
      "314 - 398\n",
      "315 - 399\n",
      "316 - 4\n",
      "317 - 40\n",
      "318 - 401\n",
      "319 - 403\n",
      "320 - 404\n",
      "321 - 405\n",
      "322 - 406\n",
      "323 - 407\n",
      "324 - 41\n",
      "325 - 410\n",
      "326 - 411\n",
      "327 - 412\n",
      "328 - 413\n",
      "329 - 414\n",
      "330 - 415\n",
      "331 - 417\n",
      "332 - 418\n",
      "333 - 419\n",
      "334 - 42\n",
      "335 - 422\n",
      "336 - 423\n",
      "337 - 424\n",
      "338 - 425\n",
      "339 - 427\n",
      "340 - 428\n",
      "341 - 43\n",
      "342 - 430\n",
      "343 - 432\n",
      "344 - 433\n",
      "345 - 434\n",
      "346 - 436\n",
      "347 - 44\n",
      "348 - 440\n",
      "349 - 444\n",
      "350 - 45\n",
      "351 - 450\n",
      "352 - 452\n",
      "353 - 453\n",
      "354 - 455\n",
      "355 - 456\n",
      "356 - 46\n",
      "357 - 460\n",
      "358 - 462\n",
      "359 - 463\n",
      "360 - 464\n",
      "361 - 465\n",
      "362 - 466\n",
      "363 - 467\n",
      "364 - 468\n",
      "365 - 469\n",
      "366 - 47\n",
      "367 - 470\n",
      "368 - 472\n",
      "369 - 473\n",
      "370 - 474\n",
      "371 - 476\n",
      "372 - 481\n",
      "373 - 482\n",
      "374 - 483\n",
      "375 - 484\n",
      "376 - 485\n",
      "377 - 486\n",
      "378 - 487\n",
      "379 - 488\n",
      "380 - 49\n",
      "381 - 490\n",
      "382 - 491\n",
      "383 - 492\n",
      "384 - 493\n",
      "385 - 496\n",
      "386 - 497\n",
      "387 - 498\n",
      "388 - 499\n",
      "389 - 5\n",
      "390 - 50\n",
      "391 - 507\n",
      "392 - 51\n",
      "393 - 52\n",
      "394 - 521\n",
      "395 - 53\n",
      "396 - 533\n",
      "397 - 54\n",
      "398 - 549\n",
      "399 - 55\n",
      "400 - 56\n",
      "401 - 57\n",
      "402 - 58\n",
      "403 - 59\n",
      "404 - 6\n",
      "405 - 60\n",
      "406 - 601\n",
      "407 - 602\n",
      "408 - 603\n",
      "409 - 605\n",
      "410 - 606\n",
      "411 - 607\n",
      "412 - 608\n",
      "413 - 61\n",
      "414 - 612\n",
      "415 - 613\n",
      "416 - 616\n",
      "417 - 617\n",
      "418 - 62\n",
      "419 - 621\n",
      "420 - 624\n",
      "421 - 625\n",
      "422 - 626\n",
      "423 - 627\n",
      "424 - 628\n",
      "425 - 629\n",
      "426 - 63\n",
      "427 - 631\n",
      "428 - 632\n",
      "429 - 633\n",
      "430 - 634\n",
      "431 - 635\n",
      "432 - 638\n",
      "433 - 639\n",
      "434 - 64\n",
      "435 - 640\n",
      "436 - 642\n",
      "437 - 643\n",
      "438 - 645\n",
      "439 - 646\n",
      "440 - 648\n",
      "441 - 649\n",
      "442 - 65\n",
      "443 - 650\n",
      "444 - 651\n",
      "445 - 652\n",
      "446 - 653\n",
      "447 - 654\n",
      "448 - 655\n",
      "449 - 656\n",
      "450 - 657\n",
      "451 - 658\n",
      "452 - 66\n",
      "453 - 660\n",
      "454 - 661\n",
      "455 - 662\n",
      "456 - 663\n",
      "457 - 664\n",
      "458 - 665\n",
      "459 - 667\n",
      "460 - 669\n",
      "461 - 67\n",
      "462 - 670\n",
      "463 - 671\n",
      "464 - 672\n",
      "465 - 673\n",
      "466 - 674\n",
      "467 - 675\n",
      "468 - 677\n",
      "469 - 678\n",
      "470 - 679\n",
      "471 - 68\n",
      "472 - 681\n",
      "473 - 683\n",
      "474 - 684\n",
      "475 - 685\n",
      "476 - 686\n",
      "477 - 687\n",
      "478 - 688\n",
      "479 - 689\n",
      "480 - 69\n",
      "481 - 690\n",
      "482 - 692\n",
      "483 - 696\n",
      "484 - 697\n",
      "485 - 698\n",
      "486 - 699\n",
      "487 - 7\n",
      "488 - 70\n",
      "489 - 71\n",
      "490 - 72\n",
      "491 - 73\n",
      "492 - 74\n",
      "493 - 75\n",
      "494 - 76\n",
      "495 - 77\n",
      "496 - 78\n",
      "497 - 79\n",
      "498 - 8\n",
      "499 - 80\n",
      "500 - 81\n",
      "501 - 83\n",
      "502 - 85\n",
      "503 - 86\n",
      "504 - 87\n",
      "505 - 88\n",
      "506 - 89\n",
      "507 - 9\n",
      "508 - 90\n",
      "509 - 91\n",
      "510 - 92\n",
      "511 - 93\n",
      "512 - 94\n",
      "513 - 95\n",
      "514 - 96\n",
      "515 - 969\n",
      "516 - 97\n",
      "517 - 98\n",
      "518 - 99\n",
      "519 - A10\n",
      "520 - B11\n",
      "521 - B12\n",
      "522 - B13\n",
      "523 - B14\n",
      "524 - B15\n",
      "525 - B16\n",
      "526 - C1\n",
      "527 - C10\n",
      "528 - C11\n",
      "529 - C3\n",
      "530 - D3\n",
      "531 - D6\n",
      "532 - D7\n",
      "533 - D8\n",
      "534 - E1\n",
      "535 - E10\n",
      "536 - E11\n",
      "537 - E2\n",
      "538 - E3\n",
      "539 - E5\n",
      "540 - E6\n",
      "541 - E7\n",
      "542 - E8\n",
      "543 - E9\n",
      "544 - EL1\n",
      "545 - EL2\n",
      "546 - EL3\n",
      "547 - G1\n",
      "548 - H10\n",
      "549 - H11\n",
      "550 - H12\n",
      "551 - H13\n",
      "552 - H14\n",
      "553 - H17\n",
      "554 - H18\n",
      "555 - H19\n",
      "556 - H2\n",
      "557 - H20\n",
      "558 - H22\n",
      "559 - H25\n",
      "560 - H26\n",
      "561 - H28\n",
      "562 - H3\n",
      "563 - H32\n",
      "564 - H37\n",
      "565 - H9\n",
      "566 - H91\n",
      "567 - H98\n",
      "568 - K1\n",
      "569 - K2\n",
      "570 - K3\n",
      "571 - K4\n",
      "572 - K5\n",
      "573 - N1\n",
      "574 - N109\n",
      "575 - N11\n",
      "576 - N113\n",
      "577 - N133\n",
      "578 - N136\n",
      "579 - N137\n",
      "580 - N140\n",
      "581 - N15\n",
      "582 - N155\n",
      "583 - N16\n",
      "584 - N171\n",
      "585 - N18\n",
      "586 - N19\n",
      "587 - N199\n",
      "588 - N2\n",
      "589 - N20\n",
      "590 - N205\n",
      "591 - N207\n",
      "592 - N21\n",
      "593 - N22\n",
      "594 - N242\n",
      "595 - N25\n",
      "596 - N250\n",
      "597 - N253\n",
      "598 - N26\n",
      "599 - N266\n",
      "600 - N27\n",
      "601 - N277\n",
      "602 - N279\n",
      "603 - N28\n",
      "604 - N29\n",
      "605 - N3\n",
      "606 - N31\n",
      "607 - N33\n",
      "608 - N343\n",
      "609 - N38\n",
      "610 - N381\n",
      "611 - N41\n",
      "612 - N44\n",
      "613 - N5\n",
      "614 - N53\n",
      "615 - N55\n",
      "616 - N550\n",
      "617 - N551\n",
      "618 - N63\n",
      "619 - N65\n",
      "620 - N68\n",
      "621 - N7\n",
      "622 - N72\n",
      "623 - N73\n",
      "624 - N74\n",
      "625 - N8\n",
      "626 - N83\n",
      "627 - N86\n",
      "628 - N87\n",
      "629 - N89\n",
      "630 - N9\n",
      "631 - N91\n",
      "632 - N97\n",
      "633 - N98\n",
      "634 - P12\n",
      "635 - P13\n",
      "636 - P4\n",
      "637 - P5\n",
      "638 - R1\n",
      "639 - R10\n",
      "640 - R11\n",
      "641 - R2\n",
      "642 - R3\n",
      "643 - R4\n",
      "644 - R5\n",
      "645 - R6\n",
      "646 - R68\n",
      "647 - R7\n",
      "648 - R70\n",
      "649 - R8\n",
      "650 - R9\n",
      "651 - S1\n",
      "652 - S3\n",
      "653 - S4\n",
      "654 - U1\n",
      "655 - U10\n",
      "656 - U2\n",
      "657 - U3\n",
      "658 - U4\n",
      "659 - U5\n",
      "660 - U7\n",
      "661 - U9\n",
      "662 - W11\n",
      "663 - W12\n",
      "664 - W13\n",
      "665 - W14\n",
      "666 - W15\n",
      "667 - W16\n",
      "668 - W19\n",
      "669 - W3\n",
      "670 - W4\n",
      "671 - W5\n",
      "672 - W6\n",
      "673 - W7\n",
      "674 - W8\n",
      "675 - W9\n",
      "676 - X140\n",
      "677 - X26\n",
      "678 - X68\n"
     ]
    }
   ],
   "source": [
    "N_buslines = count(mode_bus)\n",
    "print(\"There are\", N_buslines, \"bus lines in London.\")\n",
    "\n",
    "for key,value in enumerate(mode_bus):\n",
    "    print(f\"{key+1} - {value['name']}\")"
   ]
  },
  {
   "cell_type": "markdown",
   "metadata": {},
   "source": [
    "## Task\n",
    "How many station has `victoria` line?"
   ]
  },
  {
   "cell_type": "code",
   "execution_count": 176,
   "metadata": {},
   "outputs": [
    {
     "name": "stdout",
     "output_type": "stream",
     "text": [
      "/Line/victoria/Route/Sequence\n"
     ]
    }
   ],
   "source": [
    "print(api_method)"
   ]
  },
  {
   "cell_type": "code",
   "execution_count": 209,
   "metadata": {},
   "outputs": [
    {
     "data": {
      "application/vnd.code.notebook.error": {
       "message": "r.endsWith is not a function",
       "name": "TypeError",
       "stack": "TypeError: r.endsWith is not a function\n\tat u (/Applications/Visual Studio Code.app/Contents/Resources/app/extensions/ipynb/dist/ipynbMain.js:1:142434)\n\tat s (/Applications/Visual Studio Code.app/Contents/Resources/app/extensions/ipynb/dist/ipynbMain.js:1:143084)\n\tat f (/Applications/Visual Studio Code.app/Contents/Resources/app/extensions/ipynb/dist/ipynbMain.js:1:143827)\n\tat h (/Applications/Visual Studio Code.app/Contents/Resources/app/extensions/ipynb/dist/ipynbMain.js:1:144577)\n\tat Array.map (<anonymous>)\n\tat /Applications/Visual Studio Code.app/Contents/Resources/app/extensions/ipynb/dist/ipynbMain.js:1:145763\n\tat /Applications/Visual Studio Code.app/Contents/Resources/app/extensions/ipynb/dist/ipynbMain.js:1:146005\n\tat /Applications/Visual Studio Code.app/Contents/Resources/app/extensions/ipynb/dist/ipynbMain.js:1:146012\n\tat Array.map (<anonymous>)\n\tat e.jupyterNotebookModelToNotebookData (/Applications/Visual Studio Code.app/Contents/Resources/app/extensions/ipynb/dist/ipynbMain.js:1:145321)\n\tat e.NotebookSerializer.deserializeNotebook (/Applications/Visual Studio Code.app/Contents/Resources/app/extensions/ipynb/dist/ipynbMain.js:1:147518)\n\tat R.$dataToNotebook (/Applications/Visual Studio Code.app/Contents/Resources/app/out/vs/workbench/services/extensions/node/extensionHostProcess.js:93:144921)\n\tat i._doInvokeHandler (/Applications/Visual Studio Code.app/Contents/Resources/app/out/vs/workbench/services/extensions/node/extensionHostProcess.js:97:13801)\n\tat i._invokeHandler (/Applications/Visual Studio Code.app/Contents/Resources/app/out/vs/workbench/services/extensions/node/extensionHostProcess.js:97:13485)\n\tat i._receiveRequest (/Applications/Visual Studio Code.app/Contents/Resources/app/out/vs/workbench/services/extensions/node/extensionHostProcess.js:97:12096)\n\tat i._receiveOneMessage (/Applications/Visual Studio Code.app/Contents/Resources/app/out/vs/workbench/services/extensions/node/extensionHostProcess.js:97:11024)\n\tat /Applications/Visual Studio Code.app/Contents/Resources/app/out/vs/workbench/services/extensions/node/extensionHostProcess.js:97:8934\n\tat l.fire (/Applications/Visual Studio Code.app/Contents/Resources/app/out/vs/workbench/services/extensions/node/extensionHostProcess.js:64:1712)\n\tat s.fire (/Applications/Visual Studio Code.app/Contents/Resources/app/out/vs/workbench/services/extensions/node/extensionHostProcess.js:72:19002)\n\tat /Applications/Visual Studio Code.app/Contents/Resources/app/out/vs/workbench/services/extensions/node/extensionHostProcess.js:112:34390\n\tat l.fire (/Applications/Visual Studio Code.app/Contents/Resources/app/out/vs/workbench/services/extensions/node/extensionHostProcess.js:64:1712)\n\tat s.fire (/Applications/Visual Studio Code.app/Contents/Resources/app/out/vs/workbench/services/extensions/node/extensionHostProcess.js:72:19002)\n\tat a._receiveMessage (/Applications/Visual Studio Code.app/Contents/Resources/app/out/vs/workbench/services/extensions/node/extensionHostProcess.js:72:23583)\n\tat /Applications/Visual Studio Code.app/Contents/Resources/app/out/vs/workbench/services/extensions/node/extensionHostProcess.js:72:21117\n\tat l.fire (/Applications/Visual Studio Code.app/Contents/Resources/app/out/vs/workbench/services/extensions/node/extensionHostProcess.js:64:1712)\n\tat _.acceptChunk (/Applications/Visual Studio Code.app/Contents/Resources/app/out/vs/workbench/services/extensions/node/extensionHostProcess.js:72:15833)\n\tat /Applications/Visual Studio Code.app/Contents/Resources/app/out/vs/workbench/services/extensions/node/extensionHostProcess.js:72:14963\n\tat Socket.A (/Applications/Visual Studio Code.app/Contents/Resources/app/out/vs/workbench/services/extensions/node/extensionHostProcess.js:112:13838)\n\tat Socket.emit (events.js:315:20)\n\tat addChunk (internal/streams/readable.js:309:12)\n\tat readableAddChunk (internal/streams/readable.js:284:9)\n\tat Socket.Readable.push (internal/streams/readable.js:223:10)\n\tat Pipe.onStreamRead (internal/stream_base_commons.js:188:23)"
      },
      "text/plain": [
       "<IPython.core.display.JSON object>"
      ]
     },
     "execution_count": 209,
     "metadata": {
      "application/json": {
       "expanded": false,
       "root": "root"
      }
     },
     "output_type": "execute_result"
    }
   ],
   "source": [
    "id_var = 'victoria'\n",
    "api_method = f\"Line/{id_var}/StopPoints\"\n",
    "endpoint = URL + api_method\n",
    "res_line = r.get(endpoint)\n",
    "mode_line = res_line.json()\n",
    "JSON(mode_line)"
   ]
  },
  {
   "cell_type": "code",
   "execution_count": 203,
   "metadata": {},
   "outputs": [
    {
     "name": "stdout",
     "output_type": "stream",
     "text": [
      "Victoria line has 16 stations.\n"
     ]
    }
   ],
   "source": [
    "s_victoria = count(mode_line)\n",
    "print(\"Victoria line has\", s_victoria, \"stations.\")"
   ]
  },
  {
   "cell_type": "code",
   "execution_count": 201,
   "metadata": {},
   "outputs": [],
   "source": [
    "##other module that works\n",
    "#id_var = 'victoria'\n",
    "#api_method = f\"Line/{id_var}/Route/Sequence/inbound\"\n",
    "#endpoint = URL + api_method\n",
    "#res_line = r.get(endpoint)\n",
    "#mode_line = res_line.json()\n",
    "#JSON(mode_line)"
   ]
  },
  {
   "cell_type": "markdown",
   "metadata": {},
   "source": [
    "## Task\n",
    "Plan the journey from Heathrow Airport to Tower Bridge using Bus and Tube? Which way is faster? Example output:\n",
    "```\n",
    "Planned duration:\n",
    "Bus: x minutes\n",
    "Tube: y minutes\n",
    "```\n",
    "\n",
    "We need to search the documentation for correct requests and parameters we need."
   ]
  },
  {
   "cell_type": "code",
   "execution_count": 3,
   "metadata": {},
   "outputs": [
    {
     "ename": "NameError",
     "evalue": "name 'URL' is not defined",
     "output_type": "error",
     "traceback": [
      "\u001b[0;31m---------------------------------------------------------------------------\u001b[0m",
      "\u001b[0;31mNameError\u001b[0m                                 Traceback (most recent call last)",
      "\u001b[0;32m<ipython-input-3-c217226cce01>\u001b[0m in \u001b[0;36m<module>\u001b[0;34m\u001b[0m\n\u001b[1;32m      4\u001b[0m \u001b[0;34m\u001b[0m\u001b[0m\n\u001b[1;32m      5\u001b[0m \u001b[0mapi_method\u001b[0m \u001b[0;34m=\u001b[0m \u001b[0;34mf\"/Journey/JourneyResults/{From}/to/{Des}\"\u001b[0m\u001b[0;34m\u001b[0m\u001b[0;34m\u001b[0m\u001b[0m\n\u001b[0;32m----> 6\u001b[0;31m \u001b[0mendpoint\u001b[0m \u001b[0;34m=\u001b[0m \u001b[0mURL\u001b[0m \u001b[0;34m+\u001b[0m \u001b[0mapi_method\u001b[0m\u001b[0;34m\u001b[0m\u001b[0;34m\u001b[0m\u001b[0m\n\u001b[0m\u001b[1;32m      7\u001b[0m \u001b[0mresponse\u001b[0m \u001b[0;34m=\u001b[0m \u001b[0mr\u001b[0m\u001b[0;34m.\u001b[0m\u001b[0mget\u001b[0m\u001b[0;34m(\u001b[0m\u001b[0mendpoint\u001b[0m\u001b[0;34m,\u001b[0m \u001b[0mparams\u001b[0m\u001b[0;34m=\u001b[0m\u001b[0;34m{\u001b[0m\u001b[0;34m'mode'\u001b[0m\u001b[0;34m:\u001b[0m \u001b[0mMode\u001b[0m\u001b[0;34m}\u001b[0m\u001b[0;34m)\u001b[0m\u001b[0;34m\u001b[0m\u001b[0;34m\u001b[0m\u001b[0m\n\u001b[1;32m      8\u001b[0m \u001b[0mstatus_code\u001b[0m\u001b[0;34m,\u001b[0m \u001b[0mresult\u001b[0m \u001b[0;34m=\u001b[0m \u001b[0mresponse\u001b[0m\u001b[0;34m.\u001b[0m\u001b[0mstatus_code\u001b[0m\u001b[0;34m,\u001b[0m \u001b[0mresponse\u001b[0m\u001b[0;34m.\u001b[0m\u001b[0mjson\u001b[0m\u001b[0;34m(\u001b[0m\u001b[0;34m)\u001b[0m\u001b[0;34m\u001b[0m\u001b[0;34m\u001b[0m\u001b[0m\n",
      "\u001b[0;31mNameError\u001b[0m: name 'URL' is not defined"
     ]
    }
   ],
   "source": [
    "Des = \"Hillingdon, Heathrow Airport Terminal 2\"\n",
    "From = \"City of London, Tower Bridge\"\n",
    "Mode = \"bus\"\n",
    "\n",
    "api_method = f\"/Journey/JourneyResults/{From}/to/{Des}\"\n",
    "endpoint = URL + api_method\n",
    "response = r.get(endpoint, params={'mode': Mode})\n",
    "status_code, result = response.status_code, response.json()\n",
    "    \n",
    "if status_code != 200:\n",
    "    print(f'Wrong code: {status_code}')\n",
    "    \n",
    "j_method = response.json()"
   ]
  },
  {
   "cell_type": "code",
   "execution_count": 367,
   "metadata": {},
   "outputs": [],
   "source": [
    "Des = \"Hillingdon, Heathrow Airport Terminal 2\"\n",
    "From = \"City of London, Tower Bridge\"\n",
    "Mode = \"bus\"\n",
    "\n",
    "def journey_time(TO, FROM, MODE):\n",
    "    api_method = f\"/Journey/JourneyResults/{FROM}/to/{TO}\"\n",
    "    endpoint = URL + api_method\n",
    "    response = r.get(endpoint, params={'mode': MODE})\n",
    "    status_code, result = response.status_code, response.json()\n",
    "    \n",
    "    if status_code != 200:\n",
    "        print(f'Wrong code: {status_code}')\n",
    "    \n",
    "    j_method = response.json()\n",
    "    \n",
    "    journey_times = []\n",
    "    #retrieve duration value from each journey\n",
    "    for item in j_method:\n",
    "        if item == 'journeys':\n",
    "            j1 = j_method[item][0]['duration']\n",
    "            j2 = j_method[item][1]['duration']\n",
    "            j3 = j_method[item][2]['duration']\n",
    "            length = journey_times + [j1,j2,j3]  #add journeys to list\n",
    "    print(\"The journey time is:\", min(length))\n"
   ]
  },
  {
   "cell_type": "code",
   "execution_count": 368,
   "metadata": {},
   "outputs": [
    {
     "name": "stdout",
     "output_type": "stream",
     "text": [
      "The journey time is: 101\n"
     ]
    }
   ],
   "source": [
    "journey_time(Des,From,Mode)"
   ]
  },
  {
   "cell_type": "code",
   "execution_count": 347,
   "metadata": {},
   "outputs": [],
   "source": [
    "#Second half of above function\n",
    "def extract_times(data):\n",
    "    journey_times = []\n",
    "    #retrieve duration value from each journey\n",
    "    for item in data:\n",
    "        if item == 'journeys':\n",
    "            j1 = data[item][0]['duration']\n",
    "            j2 = data[item][1]['duration']\n",
    "            j3 = data[item][2]['duration']\n",
    "            length = journey_times + [j1,j2,j3]  #add journeys to list\n",
    "    print(\"The journey time is:\", min(length))"
   ]
  },
  {
   "cell_type": "code",
   "execution_count": 350,
   "metadata": {},
   "outputs": [
    {
     "name": "stdout",
     "output_type": "stream",
     "text": [
      "The journey time is: 86\n"
     ]
    }
   ],
   "source": [
    "extract_times(jour_tube)"
   ]
  },
  {
   "cell_type": "code",
   "execution_count": 351,
   "metadata": {},
   "outputs": [
    {
     "name": "stdout",
     "output_type": "stream",
     "text": [
      "The journey time is: 106\n"
     ]
    }
   ],
   "source": [
    "extract_times(jour_bus)"
   ]
  },
  {
   "cell_type": "markdown",
   "metadata": {},
   "source": [
    "example of https://api-portal.tfl.gov.uk/api-details#api=crowding&operation=dayofweek"
   ]
  },
  {
   "cell_type": "markdown",
   "metadata": {},
   "source": [
    "I did it ! wasn't too bad actually, the {naptan} part of the code i was so quick to dismiss relates to the associated naptan id of a station/valid place"
   ]
  }
 ],
 "metadata": {
  "kernelspec": {
   "display_name": "Python 3",
   "language": "python",
   "name": "python3"
  },
  "language_info": {
   "codemirror_mode": {
    "name": "ipython",
    "version": 3
   },
   "file_extension": ".py",
   "mimetype": "text/x-python",
   "name": "python",
   "nbconvert_exporter": "python",
   "pygments_lexer": "ipython3",
   "version": "3.8.8"
  }
 },
 "nbformat": 4,
 "nbformat_minor": 4
}
