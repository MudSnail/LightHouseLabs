{
 "cells": [
  {
   "cell_type": "markdown",
   "id": "7397599c-be9b-494f-8a98-5ccf34dd8dc6",
   "metadata": {},
   "source": [
    "Create a logistic regression and a random forest classifier to predict whether passengers would survive the demise of the Titantic"
   ]
  },
  {
   "cell_type": "code",
   "execution_count": 1,
   "id": "8bb6dac0-acc5-4297-93f5-f1a8623f8f6b",
   "metadata": {},
   "outputs": [],
   "source": [
    "# intiate a sparkcontext to run operation\n",
    "import pyspark\n",
    "from pyspark import SparkContext\n",
    "sc =SparkContext()"
   ]
  },
  {
   "cell_type": "code",
   "execution_count": 2,
   "id": "669881dd-aa61-423e-a590-59d6abe320f4",
   "metadata": {},
   "outputs": [
    {
     "name": "stderr",
     "output_type": "stream",
     "text": [
      "/usr/local/spark/python/pyspark/sql/context.py:77: FutureWarning: Deprecated in 3.0.0. Use SparkSession.builder.getOrCreate() instead.\n",
      "  warnings.warn(\n"
     ]
    }
   ],
   "source": [
    "from pyspark.sql import Row\n",
    "from pyspark.sql import SQLContext\n",
    "\n",
    "sqlContext = SQLContext(sc)"
   ]
  },
  {
   "cell_type": "code",
   "execution_count": 3,
   "id": "f5f0fdc3-0e03-4d99-887f-acf0edee4f02",
   "metadata": {},
   "outputs": [
    {
     "name": "stdout",
     "output_type": "stream",
     "text": [
      "root\n",
      " |-- PassengerId: integer (nullable = true)\n",
      " |-- Survived: integer (nullable = true)\n",
      " |-- Pclass: integer (nullable = true)\n",
      " |-- Name: string (nullable = true)\n",
      " |-- Sex: string (nullable = true)\n",
      " |-- Age: double (nullable = true)\n",
      " |-- SibSp: integer (nullable = true)\n",
      " |-- Parch: integer (nullable = true)\n",
      " |-- Ticket: string (nullable = true)\n",
      " |-- Fare: double (nullable = true)\n",
      " |-- Cabin: string (nullable = true)\n",
      " |-- Embarked: string (nullable = true)\n",
      "\n"
     ]
    }
   ],
   "source": [
    "#load dataset\n",
    "df = sqlContext.read.option(\"inferSchema\",True).option(\"header\",True).csv(\"titanic_dataset.csv\")\n",
    "\n",
    "#print schema\n",
    "df.printSchema()"
   ]
  },
  {
   "cell_type": "code",
   "execution_count": 4,
   "id": "bf4e5e8c-6e60-4a7a-bd56-d924da0e302c",
   "metadata": {},
   "outputs": [
    {
     "name": "stdout",
     "output_type": "stream",
     "text": [
      "+-----------+--------+------+--------------------+------+----+-----+-----+----------------+-------+-----+--------+\n",
      "|PassengerId|Survived|Pclass|                Name|   Sex| Age|SibSp|Parch|          Ticket|   Fare|Cabin|Embarked|\n",
      "+-----------+--------+------+--------------------+------+----+-----+-----+----------------+-------+-----+--------+\n",
      "|          1|       0|     3|Braund, Mr. Owen ...|  male|22.0|    1|    0|       A/5 21171|   7.25| null|       S|\n",
      "|          2|       1|     1|Cumings, Mrs. Joh...|female|38.0|    1|    0|        PC 17599|71.2833|  C85|       C|\n",
      "|          3|       1|     3|Heikkinen, Miss. ...|female|26.0|    0|    0|STON/O2. 3101282|  7.925| null|       S|\n",
      "|          4|       1|     1|Futrelle, Mrs. Ja...|female|35.0|    1|    0|          113803|   53.1| C123|       S|\n",
      "|          5|       0|     3|Allen, Mr. Willia...|  male|35.0|    0|    0|          373450|   8.05| null|       S|\n",
      "+-----------+--------+------+--------------------+------+----+-----+-----+----------------+-------+-----+--------+\n",
      "only showing top 5 rows\n",
      "\n"
     ]
    }
   ],
   "source": [
    "#see data \n",
    "df.show(5, truncate = True)"
   ]
  },
  {
   "cell_type": "markdown",
   "id": "53a55a03-91ea-4ef2-83c6-8096bd6e0fe4",
   "metadata": {},
   "source": [
    "Convert continous columns"
   ]
  },
  {
   "cell_type": "code",
   "execution_count": 5,
   "id": "b636cfd9-8724-4954-9b2c-a73842b65daa",
   "metadata": {},
   "outputs": [
    {
     "name": "stdout",
     "output_type": "stream",
     "text": [
      "root\n",
      " |-- PassengerId: integer (nullable = true)\n",
      " |-- Survived: float (nullable = true)\n",
      " |-- Pclass: float (nullable = true)\n",
      " |-- Name: string (nullable = true)\n",
      " |-- Sex: string (nullable = true)\n",
      " |-- Age: float (nullable = true)\n",
      " |-- Sibsp: float (nullable = true)\n",
      " |-- Parch: float (nullable = true)\n",
      " |-- Ticket: string (nullable = true)\n",
      " |-- Fare: float (nullable = true)\n",
      " |-- Cabin: string (nullable = true)\n",
      " |-- Embarked: string (nullable = true)\n",
      "\n"
     ]
    }
   ],
   "source": [
    "# Import all from `sql.types`\n",
    "from pyspark.sql.types import *\n",
    "\n",
    "# Write a custom function to convert the data type of DataFrame columns\n",
    "def convertColumn(df, names, newType):\n",
    "    for name in names: \n",
    "        df = df.withColumn(name, df[name].cast(newType))\n",
    "    return df \n",
    "\n",
    "# List of continuous features\n",
    "CONTI_FEATURES  = ['Survived', 'Pclass','Age', 'Sibsp', 'Parch', 'Fare']\n",
    "\n",
    "# Convert the type\n",
    "df = convertColumn(df, CONTI_FEATURES, FloatType())\n",
    "\n",
    "# Check the dataset\n",
    "df.printSchema()"
   ]
  },
  {
   "cell_type": "code",
   "execution_count": 7,
   "id": "4da6abc0-b296-47cf-81f7-1cca7a17547e",
   "metadata": {},
   "outputs": [
    {
     "name": "stdout",
     "output_type": "stream",
     "text": [
      "(891, 12)\n"
     ]
    }
   ],
   "source": [
    "#print shape\n",
    "print((df.count(), len(df.columns)))"
   ]
  },
  {
   "cell_type": "markdown",
   "id": "f9902625-5d4b-4eb4-b201-7ed54c508180",
   "metadata": {},
   "source": [
    "### Data exploration"
   ]
  },
  {
   "cell_type": "code",
   "execution_count": 8,
   "id": "f9fac2ef-a46f-4971-9282-35546a40b16a",
   "metadata": {},
   "outputs": [
    {
     "name": "stdout",
     "output_type": "stream",
     "text": [
      "+-----------+--------+------+----+---+---+-----+-----+------+----+-----+--------+\n",
      "|PassengerId|Survived|Pclass|Name|Sex|Age|Sibsp|Parch|Ticket|Fare|Cabin|Embarked|\n",
      "+-----------+--------+------+----+---+---+-----+-----+------+----+-----+--------+\n",
      "|          0|       0|     0|   0|  0|177|    0|    0|     0|   0|  687|       2|\n",
      "+-----------+--------+------+----+---+---+-----+-----+------+----+-----+--------+\n",
      "\n"
     ]
    }
   ],
   "source": [
    "from pyspark.sql.functions import *\n",
    "\n",
    "#check for null values\n",
    "df.select([count(when(isnan(c) | col(c).isNull(), c)).alias(c) for c in df.columns]).show()"
   ]
  },
  {
   "cell_type": "code",
   "execution_count": 9,
   "id": "fb687c98-852e-4524-a8d4-1f1339612bd1",
   "metadata": {},
   "outputs": [
    {
     "name": "stdout",
     "output_type": "stream",
     "text": [
      "+-------+------------------+\n",
      "|summary|               Age|\n",
      "+-------+------------------+\n",
      "|  count|               714|\n",
      "|   mean| 29.69911764704046|\n",
      "| stddev|14.526497332370992|\n",
      "|    min|              0.42|\n",
      "|    max|              80.0|\n",
      "+-------+------------------+\n",
      "\n"
     ]
    }
   ],
   "source": [
    "#statistical describe for Age\n",
    "df.describe('Age').show()"
   ]
  },
  {
   "cell_type": "code",
   "execution_count": 10,
   "id": "d897de08-132d-4f10-939a-30ec03d4c893",
   "metadata": {},
   "outputs": [
    {
     "name": "stdout",
     "output_type": "stream",
     "text": [
      "+-------+------------------+\n",
      "|summary|            Pclass|\n",
      "+-------+------------------+\n",
      "|  count|               891|\n",
      "|   mean| 2.308641975308642|\n",
      "| stddev|0.8360712409770491|\n",
      "|    min|               1.0|\n",
      "|    max|               3.0|\n",
      "+-------+------------------+\n",
      "\n"
     ]
    }
   ],
   "source": [
    "#statistical describe for Pclass\n",
    "df.describe('Pclass').show()"
   ]
  },
  {
   "cell_type": "code",
   "execution_count": 11,
   "id": "0cb0502a-4345-4b37-a9a6-353dd902d263",
   "metadata": {},
   "outputs": [
    {
     "name": "stdout",
     "output_type": "stream",
     "text": [
      "+-------+------------------+\n",
      "|summary|             Sibsp|\n",
      "+-------+------------------+\n",
      "|  count|               891|\n",
      "|   mean|0.5230078563411896|\n",
      "| stddev|1.1027434322934315|\n",
      "|    min|               0.0|\n",
      "|    max|               8.0|\n",
      "+-------+------------------+\n",
      "\n"
     ]
    }
   ],
   "source": [
    "#statistical describe for Sibsp\n",
    "df.describe('Sibsp').show()"
   ]
  },
  {
   "cell_type": "code",
   "execution_count": 12,
   "id": "49ff1d27-9fc2-4b43-a87c-fa603be8b5af",
   "metadata": {},
   "outputs": [
    {
     "name": "stdout",
     "output_type": "stream",
     "text": [
      "+-------+-------------------+\n",
      "|summary|              Parch|\n",
      "+-------+-------------------+\n",
      "|  count|                891|\n",
      "|   mean|0.38159371492704824|\n",
      "| stddev| 0.8060572211299488|\n",
      "|    min|                0.0|\n",
      "|    max|                6.0|\n",
      "+-------+-------------------+\n",
      "\n"
     ]
    }
   ],
   "source": [
    "#statistical describe for Parch\n",
    "df.describe('Parch').show()"
   ]
  },
  {
   "cell_type": "code",
   "execution_count": 13,
   "id": "c56853fa-bd2c-4731-b9a9-58f4000c16f9",
   "metadata": {},
   "outputs": [
    {
     "name": "stdout",
     "output_type": "stream",
     "text": [
      "+-------+-----------------+\n",
      "|summary|             Fare|\n",
      "+-------+-----------------+\n",
      "|  count|              891|\n",
      "|   mean|32.20420804114722|\n",
      "| stddev|49.69342916316158|\n",
      "|    min|              0.0|\n",
      "|    max|         512.3292|\n",
      "+-------+-----------------+\n",
      "\n"
     ]
    }
   ],
   "source": [
    "#statistical describe for Fare\n",
    "df.describe('Fare').show()"
   ]
  },
  {
   "cell_type": "code",
   "execution_count": 14,
   "id": "06ebcb7f-f2ce-41ea-8252-7de46d6a5173",
   "metadata": {},
   "outputs": [
    {
     "name": "stdout",
     "output_type": "stream",
     "text": [
      "+------+-----+\n",
      "|   Sex|count|\n",
      "+------+-----+\n",
      "|female|  314|\n",
      "|  male|  577|\n",
      "+------+-----+\n",
      "\n"
     ]
    }
   ],
   "source": [
    "#count occurances of Sex\n",
    "df.groupBy(\"Sex\").count().sort(\"count\",ascending=True).show()"
   ]
  },
  {
   "cell_type": "code",
   "execution_count": 15,
   "id": "78dd5a37-cc02-4b99-aabf-1911ea2f8930",
   "metadata": {},
   "outputs": [
    {
     "name": "stdout",
     "output_type": "stream",
     "text": [
      "+------+-----+\n",
      "|Pclass|count|\n",
      "+------+-----+\n",
      "|   2.0|  184|\n",
      "|   1.0|  216|\n",
      "|   3.0|  491|\n",
      "+------+-----+\n",
      "\n"
     ]
    }
   ],
   "source": [
    "#count occurances of PClass\n",
    "df.groupBy(\"Pclass\").count().sort(\"count\",ascending=True).show()"
   ]
  },
  {
   "cell_type": "code",
   "execution_count": 16,
   "id": "5f9ba4e1-463b-4845-a530-b92425bcf270",
   "metadata": {},
   "outputs": [
    {
     "name": "stdout",
     "output_type": "stream",
     "text": [
      "+--------+-----+\n",
      "|Embarked|count|\n",
      "+--------+-----+\n",
      "|    null|    2|\n",
      "|       Q|   77|\n",
      "|       C|  168|\n",
      "|       S|  644|\n",
      "+--------+-----+\n",
      "\n"
     ]
    }
   ],
   "source": [
    "#count occurances of embarked\n",
    "df.groupBy(\"Embarked\").count().sort(\"count\",ascending=True).show()"
   ]
  },
  {
   "cell_type": "code",
   "execution_count": 17,
   "id": "a02428ab-10e4-4bf2-a4a1-d034639bfea4",
   "metadata": {},
   "outputs": [
    {
     "name": "stdout",
     "output_type": "stream",
     "text": [
      "+-----+-----+\n",
      "|Parch|count|\n",
      "+-----+-----+\n",
      "|  6.0|    1|\n",
      "|  4.0|    4|\n",
      "|  5.0|    5|\n",
      "|  3.0|    5|\n",
      "|  2.0|   80|\n",
      "|  1.0|  118|\n",
      "|  0.0|  678|\n",
      "+-----+-----+\n",
      "\n"
     ]
    }
   ],
   "source": [
    "#count occurances of Parch\n",
    "df.groupBy(\"Parch\").count().sort(\"count\",ascending=True).show()"
   ]
  },
  {
   "cell_type": "code",
   "execution_count": 18,
   "id": "3f9b1249-7635-42f5-8781-dc3fb1da72ae",
   "metadata": {},
   "outputs": [
    {
     "name": "stdout",
     "output_type": "stream",
     "text": [
      "+-----+-----+\n",
      "|Sibsp|count|\n",
      "+-----+-----+\n",
      "|  5.0|    5|\n",
      "|  8.0|    7|\n",
      "|  3.0|   16|\n",
      "|  4.0|   18|\n",
      "|  2.0|   28|\n",
      "|  1.0|  209|\n",
      "|  0.0|  608|\n",
      "+-----+-----+\n",
      "\n"
     ]
    }
   ],
   "source": [
    "#count occurances of Sibsp\n",
    "df.groupBy(\"Sibsp\").count().sort(\"count\",ascending=True).show()"
   ]
  },
  {
   "cell_type": "code",
   "execution_count": 19,
   "id": "cce858ec-78eb-4c62-ab43-399fe9a09916",
   "metadata": {},
   "outputs": [
    {
     "name": "stdout",
     "output_type": "stream",
     "text": [
      "+--------+-----+\n",
      "|Survived|count|\n",
      "+--------+-----+\n",
      "|     1.0|  342|\n",
      "|     0.0|  549|\n",
      "+--------+-----+\n",
      "\n"
     ]
    }
   ],
   "source": [
    "#count occurances of Survived\n",
    "df.groupBy(\"Survived\").count().sort(\"count\",ascending=True).show()"
   ]
  },
  {
   "cell_type": "code",
   "execution_count": 20,
   "id": "5ddac62f-ab97-42eb-b64d-0a6dbfc152cb",
   "metadata": {},
   "outputs": [
    {
     "name": "stdout",
     "output_type": "stream",
     "text": [
      "+------+-------------------+\n",
      "|   Sex|      avg(Survived)|\n",
      "+------+-------------------+\n",
      "|female| 0.7420382165605095|\n",
      "|  male|0.18890814558058924|\n",
      "+------+-------------------+\n",
      "\n"
     ]
    }
   ],
   "source": [
    "#stats by group\n",
    "df.groupby('Sex').agg({'Survived': 'mean'}).show()"
   ]
  },
  {
   "cell_type": "code",
   "execution_count": 21,
   "id": "a4fda6e4-6a80-4db3-b09f-99763ac7135b",
   "metadata": {},
   "outputs": [
    {
     "name": "stdout",
     "output_type": "stream",
     "text": [
      "Number of people above 30: 305\n",
      "Number of people below 20: 164\n"
     ]
    }
   ],
   "source": [
    "#Number of people above 40\n",
    "print('Number of people above 30:',df.filter(df.Age > 30).count())\n",
    "print('Number of people below 20:',df.filter(df.Age < 20).count())"
   ]
  },
  {
   "cell_type": "code",
   "execution_count": 22,
   "id": "96290a4c-e58d-45df-a8cf-6026527aa536",
   "metadata": {},
   "outputs": [
    {
     "data": {
      "text/plain": [
       "422"
      ]
     },
     "execution_count": 22,
     "metadata": {},
     "output_type": "execute_result"
    }
   ],
   "source": [
    "#Number of people in 20s\n",
    "y = 891-305-164\n",
    "y"
   ]
  },
  {
   "cell_type": "markdown",
   "id": "20f1de88-b0ba-469f-a74f-f910688526c2",
   "metadata": {},
   "source": [
    "### Drop columns and replace null values"
   ]
  },
  {
   "cell_type": "code",
   "execution_count": 23,
   "id": "c0323184-eb73-4e22-b585-7cfe02148c8c",
   "metadata": {},
   "outputs": [
    {
     "name": "stdout",
     "output_type": "stream",
     "text": [
      "root\n",
      " |-- Survived: float (nullable = true)\n",
      " |-- Pclass: float (nullable = true)\n",
      " |-- Sex: string (nullable = true)\n",
      " |-- Age: float (nullable = true)\n",
      " |-- Sibsp: float (nullable = true)\n",
      " |-- Parch: float (nullable = true)\n",
      " |-- Ticket: string (nullable = true)\n",
      " |-- Fare: float (nullable = true)\n",
      " |-- Embarked: string (nullable = true)\n",
      "\n"
     ]
    }
   ],
   "source": [
    "#dropping passenger id and cabin and name\n",
    "cols = (\"PassengerId\", \"Cabin\", \"Name\")\n",
    "new_df = df.drop(*cols)\n",
    "new_df.printSchema()"
   ]
  },
  {
   "cell_type": "code",
   "execution_count": 30,
   "id": "0cbdb23d-c85b-40be-9afa-ea6f4920c6c8",
   "metadata": {},
   "outputs": [
    {
     "name": "stdout",
     "output_type": "stream",
     "text": [
      "+--------+------+---+---+-----+-----+------+----+--------+\n",
      "|Survived|Pclass|Sex|Age|Sibsp|Parch|Ticket|Fare|Embarked|\n",
      "+--------+------+---+---+-----+-----+------+----+--------+\n",
      "|       0|     0|  0|177|    0|    0|     0|   0|       2|\n",
      "+--------+------+---+---+-----+-----+------+----+--------+\n",
      "\n"
     ]
    }
   ],
   "source": [
    "#check for null values\n",
    "new_df.select([count(when(isnan(c) | col(c).isNull(), c)).alias(c) for c in new_df.columns]).show()"
   ]
  },
  {
   "cell_type": "code",
   "execution_count": 32,
   "id": "9208155d-c8ef-4011-baac-9d958a89e65f",
   "metadata": {},
   "outputs": [],
   "source": [
    "#mean age is 29.69\n",
    "#replace Age null with mean age\n",
    "\n",
    "new_df = new_df.fillna(value = 29.69, subset=['Age'])"
   ]
  },
  {
   "cell_type": "code",
   "execution_count": 33,
   "id": "1ca5075c-8a5b-40ac-ba0c-ee88a484cb52",
   "metadata": {},
   "outputs": [
    {
     "name": "stdout",
     "output_type": "stream",
     "text": [
      "+--------+------+---+---+-----+-----+------+----+--------+\n",
      "|Survived|Pclass|Sex|Age|Sibsp|Parch|Ticket|Fare|Embarked|\n",
      "+--------+------+---+---+-----+-----+------+----+--------+\n",
      "|       0|     0|  0|  0|    0|    0|     0|   0|       2|\n",
      "+--------+------+---+---+-----+-----+------+----+--------+\n",
      "\n"
     ]
    }
   ],
   "source": [
    "#check for null values\n",
    "new_df.select([count(when(isnan(c) | col(c).isNull(), c)).alias(c) for c in new_df.columns]).show()"
   ]
  },
  {
   "cell_type": "code",
   "execution_count": 34,
   "id": "cda8bdc9-7acc-49e7-a699-bc94815c518e",
   "metadata": {},
   "outputs": [
    {
     "name": "stdout",
     "output_type": "stream",
     "text": [
      "+--------+------+---+---+-----+-----+------+----+--------+\n",
      "|Survived|Pclass|Sex|Age|Sibsp|Parch|Ticket|Fare|Embarked|\n",
      "+--------+------+---+---+-----+-----+------+----+--------+\n",
      "|       0|     0|  0|  0|    0|    0|     0|   0|       0|\n",
      "+--------+------+---+---+-----+-----+------+----+--------+\n",
      "\n"
     ]
    }
   ],
   "source": [
    "#drop 2 embarked\n",
    "new_df = new_df.na.drop(\"any\")\n",
    "\n",
    "#check for null values\n",
    "new_df.select([count(when(isnan(c) | col(c).isNull(), c)).alias(c) for c in new_df.columns]).show()"
   ]
  },
  {
   "cell_type": "markdown",
   "id": "b51c7c7f-31c8-470e-ad20-239fcd769402",
   "metadata": {},
   "source": [
    "## Build Pipelines"
   ]
  },
  {
   "cell_type": "code",
   "execution_count": 35,
   "id": "87ab5186-6dca-4cc8-b40d-2dd716ada863",
   "metadata": {},
   "outputs": [
    {
     "name": "stdout",
     "output_type": "stream",
     "text": [
      "root\n",
      " |-- Survived: float (nullable = true)\n",
      " |-- Pclass: float (nullable = true)\n",
      " |-- Sex: string (nullable = true)\n",
      " |-- Age: float (nullable = false)\n",
      " |-- Sibsp: float (nullable = true)\n",
      " |-- Parch: float (nullable = true)\n",
      " |-- Ticket: string (nullable = true)\n",
      " |-- Fare: float (nullable = true)\n",
      " |-- Embarked: string (nullable = true)\n",
      "\n"
     ]
    }
   ],
   "source": [
    "new_df.printSchema()"
   ]
  },
  {
   "cell_type": "code",
   "execution_count": 39,
   "id": "6cafc402-c36d-4e76-a2df-00dbb9ef2785",
   "metadata": {},
   "outputs": [],
   "source": [
    "from pyspark.ml.feature import StringIndexer, OneHotEncoder, VectorAssembler\n",
    "from pyspark.ml import Pipeline"
   ]
  },
  {
   "cell_type": "markdown",
   "id": "dac6b76e-6e56-4a63-b986-110c65b076d8",
   "metadata": {},
   "source": [
    "Encode categorical data"
   ]
  },
  {
   "cell_type": "code",
   "execution_count": 45,
   "id": "ec07d000-ca67-4a27-8823-376d9daf359a",
   "metadata": {},
   "outputs": [],
   "source": [
    "CONTI_FEATURES  = ['Pclass','Age', 'Sibsp', 'Parch', 'Fare']\n",
    "\n",
    "\n",
    "CATE_FEATURES = ['Sex', 'Ticket', 'Embarked']\n",
    "stages = [] # stages in our Pipeline\n",
    "for categoricalCol in CATE_FEATURES:\n",
    "    stringIndexer = StringIndexer(inputCol=categoricalCol, outputCol=categoricalCol + \"Index\")\n",
    "    encoder = OneHotEncoder(inputCols=[stringIndexer.getOutputCol()],\n",
    "                                     outputCols=[categoricalCol + \"classVec\"])\n",
    "    stages += [stringIndexer, encoder]"
   ]
  },
  {
   "cell_type": "code",
   "execution_count": 46,
   "id": "981c05c8-6e06-48bc-9c25-7bda8566015b",
   "metadata": {},
   "outputs": [],
   "source": [
    "# Convert label into label indices using the StringIndexer\n",
    "label_stringIdx =  StringIndexer(inputCol=\"Survived\", outputCol=\"Survivor\")\n",
    "stages += [label_stringIdx]"
   ]
  },
  {
   "cell_type": "code",
   "execution_count": 47,
   "id": "b45ae909-422f-4d6c-9c42-2938a2bdef34",
   "metadata": {},
   "outputs": [],
   "source": [
    "#add continous variables\n",
    "assemblerInputs = [c + \"classVec\" for c in CATE_FEATURES] + CONTI_FEATURES"
   ]
  },
  {
   "cell_type": "code",
   "execution_count": 48,
   "id": "53c09032-840f-4201-97ba-ab257a47f45d",
   "metadata": {},
   "outputs": [],
   "source": [
    "#assemble steps\n",
    "assembler = VectorAssembler(inputCols=assemblerInputs, outputCol=\"features\")\n",
    "stages += [assembler]"
   ]
  },
  {
   "cell_type": "code",
   "execution_count": 49,
   "id": "7023a031-2c9c-448c-aec8-ccf9b1387778",
   "metadata": {},
   "outputs": [],
   "source": [
    "#push the steps into a pipeline\n",
    "pipeline = Pipeline(stages=stages)\n",
    "pipelineModel = pipeline.fit(new_df)\n",
    "model = pipelineModel.transform(new_df)"
   ]
  },
  {
   "cell_type": "code",
   "execution_count": 50,
   "id": "04baa1e2-61c0-48ad-ae12-223151103c71",
   "metadata": {},
   "outputs": [
    {
     "data": {
      "text/plain": [
       "[Row(Survived=0.0, Pclass=3.0, Sex='male', Age=22.0, Sibsp=1.0, Parch=0.0, Ticket='A/5 21171', Fare=7.25, Embarked='S', SexIndex=0.0, SexclassVec=SparseVector(1, {0: 1.0}), TicketIndex=558.0, TicketclassVec=SparseVector(679, {558: 1.0}), EmbarkedIndex=0.0, EmbarkedclassVec=SparseVector(2, {0: 1.0}), Survivor=0.0, features=SparseVector(687, {0: 1.0, 559: 1.0, 680: 1.0, 682: 3.0, 683: 22.0, 684: 1.0, 686: 7.25}))]"
      ]
     },
     "execution_count": 50,
     "metadata": {},
     "output_type": "execute_result"
    }
   ],
   "source": [
    "model.take(1)"
   ]
  },
  {
   "cell_type": "markdown",
   "id": "f8634b42-2efa-42a3-af75-1a71d71c388c",
   "metadata": {},
   "source": [
    "### Prep"
   ]
  },
  {
   "cell_type": "code",
   "execution_count": 77,
   "id": "389a4325-b480-4b54-8e72-f9ff0a5b008c",
   "metadata": {},
   "outputs": [],
   "source": [
    "#make computation faster\n",
    "from pyspark.ml.linalg import DenseVector\n",
    "input_data = model.rdd.map(lambda x: (x[\"Survivor\"], DenseVector(x[\"features\"])))"
   ]
  },
  {
   "cell_type": "code",
   "execution_count": 78,
   "id": "09843f4c-c790-4abd-9f4c-8335deafc541",
   "metadata": {},
   "outputs": [
    {
     "name": "stdout",
     "output_type": "stream",
     "text": [
      "+--------+--------------------+\n",
      "|Survivor|            features|\n",
      "+--------+--------------------+\n",
      "|     0.0|[1.0,0.0,0.0,0.0,...|\n",
      "|     1.0|[0.0,0.0,0.0,0.0,...|\n",
      "+--------+--------------------+\n",
      "only showing top 2 rows\n",
      "\n"
     ]
    }
   ],
   "source": [
    "#create train data\n",
    "df_train = sqlContext.createDataFrame(input_data, [\"Survivor\", \"features\"])\n",
    "df_train.show(2)"
   ]
  },
  {
   "cell_type": "code",
   "execution_count": 79,
   "id": "dd74b12f-41a1-450a-8f15-f2db20f75cc7",
   "metadata": {},
   "outputs": [],
   "source": [
    "# Split the data into train and test sets\n",
    "train_data, test_data = df_train.randomSplit([.8,.2],seed=1234)"
   ]
  },
  {
   "cell_type": "code",
   "execution_count": 80,
   "id": "74493bfb-1c6d-4422-b398-1ee0ac130d28",
   "metadata": {},
   "outputs": [
    {
     "name": "stdout",
     "output_type": "stream",
     "text": [
      "+--------+---------------+\n",
      "|Survivor|count(Survivor)|\n",
      "+--------+---------------+\n",
      "|     0.0|            429|\n",
      "|     1.0|            278|\n",
      "+--------+---------------+\n",
      "\n"
     ]
    }
   ],
   "source": [
    "#how many survived in train data\n",
    "train_data.groupby('Survivor').agg({'Survivor': 'count'}).show()"
   ]
  },
  {
   "cell_type": "code",
   "execution_count": 81,
   "id": "81cd9f18-a540-419a-a9a1-657e20d0dbb3",
   "metadata": {},
   "outputs": [
    {
     "name": "stdout",
     "output_type": "stream",
     "text": [
      "+--------+---------------+\n",
      "|Survivor|count(Survivor)|\n",
      "+--------+---------------+\n",
      "|     0.0|            120|\n",
      "|     1.0|             62|\n",
      "+--------+---------------+\n",
      "\n"
     ]
    }
   ],
   "source": [
    "#how many survived in test data\n",
    "test_data.groupby('Survivor').agg({'Survivor': 'count'}).show()"
   ]
  },
  {
   "cell_type": "markdown",
   "id": "0f430f78-1de7-47a3-b5f1-e01dd93b8d6a",
   "metadata": {},
   "source": [
    "## Build Logistic regressor"
   ]
  },
  {
   "cell_type": "code",
   "execution_count": 82,
   "id": "67627cbc-0ad6-4a78-8199-947ca3851b76",
   "metadata": {},
   "outputs": [],
   "source": [
    "# Import `LinearRegression`\n",
    "from pyspark.ml.classification import LogisticRegression\n",
    "\n",
    "# Initialize `lr`\n",
    "lr = LogisticRegression(labelCol=\"Survivor\",\n",
    "                        featuresCol=\"features\",\n",
    "                        maxIter=10,\n",
    "                        regParam=0.3)\n",
    "\n",
    "# Fit the data to the model\n",
    "linearModel = lr.fit(train_data)"
   ]
  },
  {
   "cell_type": "code",
   "execution_count": 83,
   "id": "0ad07330-3ed4-4195-a172-6df00621094d",
   "metadata": {},
   "outputs": [
    {
     "name": "stdout",
     "output_type": "stream",
     "text": [
      "Intercept: 0.6925964066702734\n"
     ]
    }
   ],
   "source": [
    "# Print the coefficients and intercept for logistic regression\n",
    "#print(\"Coefficients: \" + str(linearModel.coefficients))\n",
    "print(\"Intercept: \" + str(linearModel.intercept))"
   ]
  },
  {
   "cell_type": "markdown",
   "id": "0eac52d7-1c7e-46ef-894e-4233e33f78e2",
   "metadata": {},
   "source": [
    "#### Train and evaluate the model"
   ]
  },
  {
   "cell_type": "code",
   "execution_count": 84,
   "id": "7f6fa4a7-bcae-47c4-ab02-3777336897b7",
   "metadata": {},
   "outputs": [],
   "source": [
    "# Make predictions on test data using the transform() method.\n",
    "predictions = linearModel.transform(test_data)"
   ]
  },
  {
   "cell_type": "code",
   "execution_count": 85,
   "id": "03b9ceba-ebf4-4237-908c-3f2a7e0cf379",
   "metadata": {},
   "outputs": [
    {
     "name": "stdout",
     "output_type": "stream",
     "text": [
      "root\n",
      " |-- Survivor: double (nullable = true)\n",
      " |-- features: vector (nullable = true)\n",
      " |-- rawPrediction: vector (nullable = true)\n",
      " |-- probability: vector (nullable = true)\n",
      " |-- prediction: double (nullable = false)\n",
      "\n"
     ]
    }
   ],
   "source": [
    "predictions.printSchema()"
   ]
  },
  {
   "cell_type": "code",
   "execution_count": 86,
   "id": "4b2b3f8a-06b4-40b8-bd2f-5a3425bf7050",
   "metadata": {},
   "outputs": [
    {
     "name": "stdout",
     "output_type": "stream",
     "text": [
      "+--------+----------+--------------------+\n",
      "|Survivor|prediction|         probability|\n",
      "+--------+----------+--------------------+\n",
      "|     0.0|       0.0|[0.57526965729419...|\n",
      "|     0.0|       1.0|[0.37649414402381...|\n",
      "|     0.0|       0.0|[0.57021204667659...|\n",
      "|     0.0|       0.0|[0.59180326907963...|\n",
      "|     0.0|       0.0|[0.58205234522138...|\n",
      "|     0.0|       0.0|[0.53410073567563...|\n",
      "|     0.0|       0.0|[0.53437789306623...|\n",
      "|     0.0|       0.0|[0.70868208982623...|\n",
      "|     0.0|       0.0|[0.72214160016881...|\n",
      "|     0.0|       0.0|[0.69971336307594...|\n",
      "|     0.0|       0.0|[0.67350520555913...|\n",
      "|     0.0|       0.0|[0.73298606039628...|\n",
      "|     0.0|       0.0|[0.73701987370741...|\n",
      "|     0.0|       0.0|[0.76842747879293...|\n",
      "|     0.0|       0.0|[0.70783781321456...|\n",
      "|     0.0|       0.0|[0.63346050359251...|\n",
      "|     0.0|       0.0|[0.71989498250997...|\n",
      "|     0.0|       0.0|[0.66148929499494...|\n",
      "|     0.0|       0.0|[0.74829461058103...|\n",
      "|     0.0|       0.0|[0.73982194726142...|\n",
      "+--------+----------+--------------------+\n",
      "only showing top 20 rows\n",
      "\n"
     ]
    }
   ],
   "source": [
    "#create dataframe of survivor, prediction and probability\n",
    "selected = predictions.select(\"Survivor\", \"prediction\", \"probability\")\n",
    "selected.show(20)"
   ]
  },
  {
   "cell_type": "code",
   "execution_count": 87,
   "id": "5ec7beca-f1e5-4360-b87f-f105a75831e4",
   "metadata": {},
   "outputs": [],
   "source": [
    "#create dataframe with labeled data\n",
    "cm = predictions.select(\"Survivor\", \"prediction\")"
   ]
  },
  {
   "cell_type": "code",
   "execution_count": 88,
   "id": "e00223c3-afda-45a9-a649-5d88b553f8f7",
   "metadata": {},
   "outputs": [
    {
     "name": "stdout",
     "output_type": "stream",
     "text": [
      "+--------+---------------+\n",
      "|Survivor|count(Survivor)|\n",
      "+--------+---------------+\n",
      "|     0.0|            120|\n",
      "|     1.0|             62|\n",
      "+--------+---------------+\n",
      "\n"
     ]
    }
   ],
   "source": [
    "#check number survived\n",
    "cm.groupby('Survivor').agg({'Survivor': 'count'}).show()"
   ]
  },
  {
   "cell_type": "code",
   "execution_count": 89,
   "id": "6fc08c8f-8856-4777-b683-ee4adb21df7c",
   "metadata": {},
   "outputs": [
    {
     "name": "stdout",
     "output_type": "stream",
     "text": [
      "+----------+-----------------+\n",
      "|prediction|count(prediction)|\n",
      "+----------+-----------------+\n",
      "|       0.0|              135|\n",
      "|       1.0|               47|\n",
      "+----------+-----------------+\n",
      "\n"
     ]
    }
   ],
   "source": [
    "#group by prediction\n",
    "cm.groupby('prediction').agg({'prediction': 'count'}).show()"
   ]
  },
  {
   "cell_type": "code",
   "execution_count": 91,
   "id": "e95000aa-c1de-47f4-aa68-5cfea73fb4a8",
   "metadata": {},
   "outputs": [
    {
     "name": "stdout",
     "output_type": "stream",
     "text": [
      "Model accuracy: 79.670%\n"
     ]
    }
   ],
   "source": [
    "#define function to find accuracy\n",
    "def accuracy_m(model): \n",
    "    predictions = model.transform(test_data)\n",
    "    cm = predictions.select(\"Survivor\", \"prediction\")\n",
    "    acc = cm.filter(cm.Survivor == cm.prediction).count() / cm.count()\n",
    "    print(\"Model accuracy: %.3f%%\" % (acc * 100)) \n",
    "\n",
    "#find accuracy\n",
    "accuracy_m(model = linearModel)"
   ]
  },
  {
   "cell_type": "code",
   "execution_count": 104,
   "id": "4daad4c9-6829-4245-840e-d8b20e4b0ac2",
   "metadata": {},
   "outputs": [
    {
     "name": "stdout",
     "output_type": "stream",
     "text": [
      "0.8687500000000002\n",
      "areaUnderROC\n"
     ]
    }
   ],
   "source": [
    "### Use ROC \n",
    "from pyspark.ml.evaluation import BinaryClassificationEvaluator\n",
    "\n",
    "# Evaluate model\n",
    "evaluator = BinaryClassificationEvaluator(rawPredictionCol=\"rawPrediction\",\n",
    "                                         labelCol=\"Survivor\")\n",
    "print(evaluator.evaluate(predictions))\n",
    "print(evaluator.getMetricName())"
   ]
  },
  {
   "cell_type": "markdown",
   "id": "98558b96-5a13-477f-a738-fdbbfc153a22",
   "metadata": {},
   "source": [
    "### Tune Log Regression"
   ]
  },
  {
   "cell_type": "code",
   "execution_count": 93,
   "id": "0ea86c74-2cbd-43e6-ad1f-b3168f677a63",
   "metadata": {},
   "outputs": [],
   "source": [
    "from pyspark.ml.tuning import ParamGridBuilder, CrossValidator\n",
    "\n",
    "# Create ParamGrid for Cross Validation\n",
    "paramGrid = (ParamGridBuilder()\n",
    "             .addGrid(lr.regParam, [0.01, 0.5])\n",
    "             .build())\n"
   ]
  },
  {
   "cell_type": "code",
   "execution_count": 105,
   "id": "d1e3b18f-b196-4fb1-a336-d9d6e3702410",
   "metadata": {},
   "outputs": [
    {
     "name": "stdout",
     "output_type": "stream",
     "text": [
      "Time to train model: 78.312 seconds\n"
     ]
    }
   ],
   "source": [
    "#evaluate model with the crodd valudation method with 5 folds\n",
    "\n",
    "from time import *\n",
    "start_time = time()\n",
    "\n",
    "# Create 5-fold CrossValidator\n",
    "cv = CrossValidator(estimator=lr,\n",
    "                    estimatorParamMaps=paramGrid,\n",
    "                    evaluator=evaluator, numFolds=5)\n",
    "\n",
    "# Run cross validations\n",
    "cvModel = cv.fit(train_data)\n",
    "# likely take a fair amount of time\n",
    "end_time = time()\n",
    "elapsed_time = end_time - start_time\n",
    "print(\"Time to train model: %.3f seconds\" % elapsed_time)"
   ]
  },
  {
   "cell_type": "code",
   "execution_count": 106,
   "id": "3a81f230-ba83-4bd0-b4c9-065d1d80a609",
   "metadata": {},
   "outputs": [
    {
     "name": "stdout",
     "output_type": "stream",
     "text": [
      "Model accuracy: 83.516%\n"
     ]
    }
   ],
   "source": [
    "#test ccuracy\n",
    "accuracy_m(model = cvModel)"
   ]
  },
  {
   "cell_type": "markdown",
   "id": "d5579d5f-a6e9-4dea-8b11-fb1704421c35",
   "metadata": {},
   "source": [
    "Regularization param of 0.01 was best"
   ]
  },
  {
   "cell_type": "code",
   "execution_count": 107,
   "id": "ce972b0c-e832-4abb-85c3-4f50aa231941",
   "metadata": {},
   "outputs": [
    {
     "data": {
      "text/plain": [
       "{Param(parent='LogisticRegression_a62b1da01a9e', name='aggregationDepth', doc='suggested depth for treeAggregate (>= 2).'): 2,\n",
       " Param(parent='LogisticRegression_a62b1da01a9e', name='elasticNetParam', doc='the ElasticNet mixing parameter, in range [0, 1]. For alpha = 0, the penalty is an L2 penalty. For alpha = 1, it is an L1 penalty.'): 0.0,\n",
       " Param(parent='LogisticRegression_a62b1da01a9e', name='family', doc='The name of family which is a description of the label distribution to be used in the model. Supported options: auto, binomial, multinomial'): 'auto',\n",
       " Param(parent='LogisticRegression_a62b1da01a9e', name='featuresCol', doc='features column name.'): 'features',\n",
       " Param(parent='LogisticRegression_a62b1da01a9e', name='fitIntercept', doc='whether to fit an intercept term.'): True,\n",
       " Param(parent='LogisticRegression_a62b1da01a9e', name='labelCol', doc='label column name.'): 'Survivor',\n",
       " Param(parent='LogisticRegression_a62b1da01a9e', name='maxBlockSizeInMB', doc='maximum memory in MB for stacking input data into blocks. Data is stacked within partitions. If more than remaining data size in a partition then it is adjusted to the data size. Default 0.0 represents choosing optimal value, depends on specific algorithm. Must be >= 0.'): 0.0,\n",
       " Param(parent='LogisticRegression_a62b1da01a9e', name='maxIter', doc='max number of iterations (>= 0).'): 10,\n",
       " Param(parent='LogisticRegression_a62b1da01a9e', name='predictionCol', doc='prediction column name.'): 'prediction',\n",
       " Param(parent='LogisticRegression_a62b1da01a9e', name='probabilityCol', doc='Column name for predicted class conditional probabilities. Note: Not all models output well-calibrated probability estimates! These probabilities should be treated as confidences, not precise probabilities.'): 'probability',\n",
       " Param(parent='LogisticRegression_a62b1da01a9e', name='rawPredictionCol', doc='raw prediction (a.k.a. confidence) column name.'): 'rawPrediction',\n",
       " Param(parent='LogisticRegression_a62b1da01a9e', name='regParam', doc='regularization parameter (>= 0).'): 0.01,\n",
       " Param(parent='LogisticRegression_a62b1da01a9e', name='standardization', doc='whether to standardize the training features before fitting the model.'): True,\n",
       " Param(parent='LogisticRegression_a62b1da01a9e', name='threshold', doc='Threshold in binary classification prediction, in range [0, 1]. If threshold and thresholds are both set, they must match.e.g. if threshold is p, then thresholds must be equal to [1-p, p].'): 0.5,\n",
       " Param(parent='LogisticRegression_a62b1da01a9e', name='tol', doc='the convergence tolerance for iterative algorithms (>= 0).'): 1e-06}"
      ]
     },
     "execution_count": 107,
     "metadata": {},
     "output_type": "execute_result"
    }
   ],
   "source": [
    "#check best model\n",
    "bestModel = cvModel.bestModel\n",
    "bestModel.extractParamMap()"
   ]
  },
  {
   "cell_type": "markdown",
   "id": "a00dae04-4e0d-4d75-bcb2-53caf16932a0",
   "metadata": {},
   "source": [
    "## Random Forest Classifier"
   ]
  },
  {
   "cell_type": "code",
   "execution_count": 95,
   "id": "f5b0b17c-1fb6-4c82-8d9d-5f088ac4be9b",
   "metadata": {},
   "outputs": [],
   "source": [
    "from pyspark.ml.classification import RandomForestClassifier\n",
    "\n",
    "#initialize rf\n",
    "rf = RandomForestClassifier(featuresCol = 'features', labelCol = 'Survivor')\n",
    "rfModel = rf.fit(train_data)"
   ]
  },
  {
   "cell_type": "code",
   "execution_count": 97,
   "id": "fe2b336e-243f-4e2f-9907-85e5ca30f2f0",
   "metadata": {},
   "outputs": [],
   "source": [
    "# Make predictions on test data using the transform() method.\n",
    "predictions_rf = rfModel.transform(test_data)"
   ]
  },
  {
   "cell_type": "code",
   "execution_count": 98,
   "id": "322e8956-381a-4fb5-8ee5-c36d2b122465",
   "metadata": {},
   "outputs": [
    {
     "name": "stdout",
     "output_type": "stream",
     "text": [
      "root\n",
      " |-- Survivor: double (nullable = true)\n",
      " |-- features: vector (nullable = true)\n",
      " |-- rawPrediction: vector (nullable = true)\n",
      " |-- probability: vector (nullable = true)\n",
      " |-- prediction: double (nullable = false)\n",
      "\n"
     ]
    }
   ],
   "source": [
    "predictions_rf.printSchema()"
   ]
  },
  {
   "cell_type": "code",
   "execution_count": 99,
   "id": "1c3d38d1-1b11-4a49-bd2b-7440476b0a92",
   "metadata": {},
   "outputs": [
    {
     "name": "stdout",
     "output_type": "stream",
     "text": [
      "+--------+----------+--------------------+\n",
      "|Survivor|prediction|         probability|\n",
      "+--------+----------+--------------------+\n",
      "|     0.0|       0.0|[0.62602284325254...|\n",
      "|     0.0|       1.0|[0.43656030430593...|\n",
      "|     0.0|       0.0|[0.62602284325254...|\n",
      "|     0.0|       0.0|[0.59488564597625...|\n",
      "|     0.0|       0.0|[0.62602284325254...|\n",
      "|     0.0|       0.0|[0.58428226069235...|\n",
      "|     0.0|       0.0|[0.58428226069235...|\n",
      "|     0.0|       0.0|[0.59488564597625...|\n",
      "|     0.0|       0.0|[0.51428498632561...|\n",
      "|     0.0|       0.0|[0.51428498632561...|\n",
      "|     0.0|       0.0|[0.58256202365262...|\n",
      "|     0.0|       0.0|[0.59188403686787...|\n",
      "|     0.0|       0.0|[0.57881896178124...|\n",
      "|     0.0|       0.0|[0.67150879350483...|\n",
      "|     0.0|       0.0|[0.57072670284347...|\n",
      "|     0.0|       0.0|[0.57712811602354...|\n",
      "|     0.0|       0.0|[0.54745532541760...|\n",
      "|     0.0|       0.0|[0.59068840812437...|\n",
      "|     0.0|       0.0|[0.64405484842096...|\n",
      "|     0.0|       0.0|[0.71227034913516...|\n",
      "+--------+----------+--------------------+\n",
      "only showing top 20 rows\n",
      "\n"
     ]
    }
   ],
   "source": [
    "#new dataframe looking at survivor, prediciton and probability\n",
    "selected = predictions_rf.select(\"Survivor\", \"prediction\", \"probability\")\n",
    "selected.show(20)"
   ]
  },
  {
   "cell_type": "code",
   "execution_count": 100,
   "id": "e31fa8f0-200f-485e-b207-e17290559b1a",
   "metadata": {},
   "outputs": [],
   "source": [
    "#create new dataframe\n",
    "cm_rf = predictions_rf.select(\"Survivor\", \"prediction\")"
   ]
  },
  {
   "cell_type": "code",
   "execution_count": 101,
   "id": "62902208-4760-4b36-aeea-f6ca4ba4f1fd",
   "metadata": {},
   "outputs": [
    {
     "name": "stdout",
     "output_type": "stream",
     "text": [
      "+--------+---------------+\n",
      "|Survivor|count(Survivor)|\n",
      "+--------+---------------+\n",
      "|     0.0|            120|\n",
      "|     1.0|             62|\n",
      "+--------+---------------+\n",
      "\n"
     ]
    }
   ],
   "source": [
    "#group by survivor\n",
    "cm_rf.groupby('Survivor').agg({'Survivor': 'count'}).show()"
   ]
  },
  {
   "cell_type": "code",
   "execution_count": 102,
   "id": "09513f96-a703-430e-be4e-0d469e6ffb78",
   "metadata": {},
   "outputs": [
    {
     "name": "stdout",
     "output_type": "stream",
     "text": [
      "+----------+-----------------+\n",
      "|prediction|count(prediction)|\n",
      "+----------+-----------------+\n",
      "|       0.0|              145|\n",
      "|       1.0|               37|\n",
      "+----------+-----------------+\n",
      "\n"
     ]
    }
   ],
   "source": [
    "#groupby prediction\n",
    "cm_rf.groupby('prediction').agg({'prediction': 'count'}).show()"
   ]
  },
  {
   "cell_type": "code",
   "execution_count": 103,
   "id": "4b1bf583-5649-4ae0-a546-aa6e12ccc2c9",
   "metadata": {},
   "outputs": [
    {
     "name": "stdout",
     "output_type": "stream",
     "text": [
      "Model accuracy: 75.275%\n"
     ]
    }
   ],
   "source": [
    "#Check Accuracy\n",
    "accuracy_m(model=rfModel)"
   ]
  },
  {
   "cell_type": "code",
   "execution_count": 108,
   "id": "522f6849-4d62-494e-8fdd-78c0f7fce8ca",
   "metadata": {},
   "outputs": [
    {
     "name": "stdout",
     "output_type": "stream",
     "text": [
      "0.8442876344086022\n",
      "areaUnderROC\n"
     ]
    }
   ],
   "source": [
    "### Use ROC \n",
    "from pyspark.ml.evaluation import BinaryClassificationEvaluator\n",
    "\n",
    "# Evaluate model\n",
    "evaluator_rf = BinaryClassificationEvaluator(rawPredictionCol=\"rawPrediction\",\n",
    "                                         labelCol=\"Survivor\")\n",
    "print(evaluator_rf.evaluate(predictions_rf))\n",
    "print(evaluator_rf.getMetricName())"
   ]
  },
  {
   "cell_type": "markdown",
   "id": "2f2b1476-5429-425f-ad9f-acadf47fe6ae",
   "metadata": {},
   "source": [
    "### Tune Forest Classifier"
   ]
  },
  {
   "cell_type": "code",
   "execution_count": 110,
   "id": "2da6c323-ab32-4233-bfc6-9ba306a2fcc8",
   "metadata": {},
   "outputs": [],
   "source": [
    "from pyspark.ml.tuning import ParamGridBuilder, CrossValidator\n",
    "\n",
    "# Create ParamGrid for Cross Validation\n",
    "paramGrid_rf = (ParamGridBuilder()\n",
    "             .addGrid(rf.numTrees, [10,20,50])\n",
    "             .addGrid(rf.maxDepth, [5,10,15])\n",
    "             .addGrid(rf.maxBins, [5,10,15])\n",
    "             .build())\n"
   ]
  },
  {
   "cell_type": "code",
   "execution_count": 112,
   "id": "3d95519d-8478-492e-9426-91a30d442eb1",
   "metadata": {},
   "outputs": [],
   "source": [
    "# Create 5-fold CrossValidator\n",
    "rfcv = CrossValidator(estimator = rf,\n",
    "                      estimatorParamMaps = paramGrid_rf,\n",
    "                      evaluator = evaluator_rf,\n",
    "                      numFolds = 5)"
   ]
  },
  {
   "cell_type": "code",
   "execution_count": 113,
   "id": "22119a4b-d0e0-45f6-8a56-cb763901eef5",
   "metadata": {},
   "outputs": [
    {
     "name": "stdout",
     "output_type": "stream",
     "text": [
      "Time to train model: 839.147 seconds\n"
     ]
    }
   ],
   "source": [
    "# Run cross validations\n",
    "rfcvModel = rfcv.fit(train_data)\n",
    "# likely take a fair amount of time\n",
    "end_time = time()\n",
    "elapsed_time = end_time - start_time\n",
    "print(\"Time to train model: %.3f seconds\" % elapsed_time)"
   ]
  },
  {
   "cell_type": "code",
   "execution_count": 114,
   "id": "a4c84722-85ea-4b7e-af97-432262ce7270",
   "metadata": {},
   "outputs": [
    {
     "name": "stdout",
     "output_type": "stream",
     "text": [
      "Model accuracy: 81.868%\n"
     ]
    }
   ],
   "source": [
    "#test Accuracy\n",
    "accuracy_m(model = rfcvModel)"
   ]
  },
  {
   "cell_type": "code",
   "execution_count": 116,
   "id": "d9c8a08a-63ba-4ff1-a086-49ed00df4e73",
   "metadata": {},
   "outputs": [
    {
     "name": "stdout",
     "output_type": "stream",
     "text": [
      "RMSE: 0.865725806451613\n"
     ]
    }
   ],
   "source": [
    "# Use test set here so we can measure the accuracy of our model on new data\n",
    "rfpredictions = rfcvModel.transform(test_data)\n",
    "\n",
    "# cvModel uses the best model found from the Cross Validation\n",
    "# Evaluate best model\n",
    "print('RMSE:', evaluator_rf.evaluate(rfpredictions))"
   ]
  },
  {
   "cell_type": "markdown",
   "id": "4aa2cf80-af9b-4dee-8d0c-b146f95a5fc6",
   "metadata": {},
   "source": [
    "Best params were 50 for number of trees, 15 for maxdepth and 15 for maxbins"
   ]
  },
  {
   "cell_type": "code",
   "execution_count": 117,
   "id": "6f3048d9-e5d4-49cb-bff0-665cfe3179c8",
   "metadata": {},
   "outputs": [
    {
     "data": {
      "text/plain": [
       "{Param(parent='RandomForestClassifier_ebb8eeabdbff', name='bootstrap', doc='Whether bootstrap samples are used when building trees.'): True,\n",
       " Param(parent='RandomForestClassifier_ebb8eeabdbff', name='cacheNodeIds', doc='If false, the algorithm will pass trees to executors to match instances with nodes. If true, the algorithm will cache node IDs for each instance. Caching can speed up training of deeper trees. Users can set how often should the cache be checkpointed or disable it by setting checkpointInterval.'): False,\n",
       " Param(parent='RandomForestClassifier_ebb8eeabdbff', name='checkpointInterval', doc='set checkpoint interval (>= 1) or disable checkpoint (-1). E.g. 10 means that the cache will get checkpointed every 10 iterations. Note: this setting will be ignored if the checkpoint directory is not set in the SparkContext.'): 10,\n",
       " Param(parent='RandomForestClassifier_ebb8eeabdbff', name='featureSubsetStrategy', doc=\"The number of features to consider for splits at each tree node. Supported options: 'auto' (choose automatically for task: If numTrees == 1, set to 'all'. If numTrees > 1 (forest), set to 'sqrt' for classification and to 'onethird' for regression), 'all' (use all features), 'onethird' (use 1/3 of the features), 'sqrt' (use sqrt(number of features)), 'log2' (use log2(number of features)), 'n' (when n is in the range (0, 1.0], use n * number of features. When n is in the range (1, number of features), use n features). default = 'auto'\"): 'auto',\n",
       " Param(parent='RandomForestClassifier_ebb8eeabdbff', name='featuresCol', doc='features column name.'): 'features',\n",
       " Param(parent='RandomForestClassifier_ebb8eeabdbff', name='impurity', doc='Criterion used for information gain calculation (case-insensitive). Supported options: entropy, gini'): 'gini',\n",
       " Param(parent='RandomForestClassifier_ebb8eeabdbff', name='labelCol', doc='label column name.'): 'Survivor',\n",
       " Param(parent='RandomForestClassifier_ebb8eeabdbff', name='leafCol', doc='Leaf indices column name. Predicted leaf index of each instance in each tree by preorder.'): '',\n",
       " Param(parent='RandomForestClassifier_ebb8eeabdbff', name='maxBins', doc='Max number of bins for discretizing continuous features.  Must be >=2 and >= number of categories for any categorical feature.'): 15,\n",
       " Param(parent='RandomForestClassifier_ebb8eeabdbff', name='maxDepth', doc='Maximum depth of the tree. (>= 0) E.g., depth 0 means 1 leaf node; depth 1 means 1 internal node + 2 leaf nodes. Must be in range [0, 30].'): 15,\n",
       " Param(parent='RandomForestClassifier_ebb8eeabdbff', name='maxMemoryInMB', doc='Maximum memory in MB allocated to histogram aggregation. If too small, then 1 node will be split per iteration, and its aggregates may exceed this size.'): 256,\n",
       " Param(parent='RandomForestClassifier_ebb8eeabdbff', name='minInfoGain', doc='Minimum information gain for a split to be considered at a tree node.'): 0.0,\n",
       " Param(parent='RandomForestClassifier_ebb8eeabdbff', name='minInstancesPerNode', doc='Minimum number of instances each child must have after split. If a split causes the left or right child to have fewer than minInstancesPerNode, the split will be discarded as invalid. Should be >= 1.'): 1,\n",
       " Param(parent='RandomForestClassifier_ebb8eeabdbff', name='minWeightFractionPerNode', doc='Minimum fraction of the weighted sample count that each child must have after split. If a split causes the fraction of the total weight in the left or right child to be less than minWeightFractionPerNode, the split will be discarded as invalid. Should be in interval [0.0, 0.5).'): 0.0,\n",
       " Param(parent='RandomForestClassifier_ebb8eeabdbff', name='numTrees', doc='Number of trees to train (>= 1).'): 50,\n",
       " Param(parent='RandomForestClassifier_ebb8eeabdbff', name='predictionCol', doc='prediction column name.'): 'prediction',\n",
       " Param(parent='RandomForestClassifier_ebb8eeabdbff', name='probabilityCol', doc='Column name for predicted class conditional probabilities. Note: Not all models output well-calibrated probability estimates! These probabilities should be treated as confidences, not precise probabilities.'): 'probability',\n",
       " Param(parent='RandomForestClassifier_ebb8eeabdbff', name='rawPredictionCol', doc='raw prediction (a.k.a. confidence) column name.'): 'rawPrediction',\n",
       " Param(parent='RandomForestClassifier_ebb8eeabdbff', name='seed', doc='random seed.'): -5089380097475331997,\n",
       " Param(parent='RandomForestClassifier_ebb8eeabdbff', name='subsamplingRate', doc='Fraction of the training data used for learning each decision tree, in range (0, 1].'): 1.0}"
      ]
     },
     "execution_count": 117,
     "metadata": {},
     "output_type": "execute_result"
    }
   ],
   "source": [
    "#Check best params\n",
    "rfbestModel = rfcvModel.bestModel\n",
    "rfbestModel.extractParamMap()"
   ]
  },
  {
   "cell_type": "code",
   "execution_count": null,
   "id": "f101f934-1e59-4820-8249-ea52567438e6",
   "metadata": {},
   "outputs": [],
   "source": []
  }
 ],
 "metadata": {
  "kernelspec": {
   "display_name": "Python 3 (ipykernel)",
   "language": "python",
   "name": "python3"
  },
  "language_info": {
   "codemirror_mode": {
    "name": "ipython",
    "version": 3
   },
   "file_extension": ".py",
   "mimetype": "text/x-python",
   "name": "python",
   "nbconvert_exporter": "python",
   "pygments_lexer": "ipython3",
   "version": "3.9.7"
  }
 },
 "nbformat": 4,
 "nbformat_minor": 5
}
