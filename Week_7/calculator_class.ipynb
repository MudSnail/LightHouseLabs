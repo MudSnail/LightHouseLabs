{
 "cells": [
  {
   "cell_type": "markdown",
   "metadata": {},
   "source": [
    "## notes\n",
    "\n",
    "sudo scp -i /mnt/c/users/sjmit/high_voltage_wsl.pem zipped.zip\n",
    "#save commands as varibales\n",
    "\n",
    "sudo scp -i /mnt/c/users/sjmit/high_voltage_wsl.pem zipped.zip ec2-user@ec2-18-117-121-240.us-east-2.compute.amazonaws.com:zipped.zip\n",
    "\n",
    "directory to pem, file, and domain with file"
   ]
  },
  {
   "cell_type": "markdown",
   "metadata": {},
   "source": [
    "# Calculator Flask Challenge"
   ]
  },
  {
   "cell_type": "code",
   "execution_count": 18,
   "metadata": {},
   "outputs": [
    {
     "name": "stdout",
     "output_type": "stream",
     "text": [
      " * Serving Flask app '__main__' (lazy loading)\n",
      " * Environment: production\n",
      "\u001b[31m   WARNING: This is a development server. Do not use it in a production deployment.\u001b[0m\n",
      "\u001b[2m   Use a production WSGI server instead.\u001b[0m\n",
      " * Debug mode: on\n"
     ]
    },
    {
     "name": "stderr",
     "output_type": "stream",
     "text": [
      " * Running on http://127.0.0.1:5000/ (Press CTRL+C to quit)\n",
      " * Restarting with stat\n"
     ]
    },
    {
     "ename": "SystemExit",
     "evalue": "1",
     "output_type": "error",
     "traceback": [
      "An exception has occurred, use %tb to see the full traceback.\n",
      "\u001b[0;31mSystemExit\u001b[0m\u001b[0;31m:\u001b[0m 1\n"
     ]
    }
   ],
   "source": [
    "# import Flask and jsonify\n",
    "from flask import Flask, jsonify, request\n",
    "\n",
    "# import Resource, Api and reqparser\n",
    "from flask_restful import Resource, Api, reqparse\n",
    "\n",
    "#create api\n",
    "app = Flask(__name__)\n",
    "api = Api(app)\n",
    "\n",
    "#define 4 classes for  Calculator\n",
    "class Add(Resource):\n",
    "    #create function for adding X and Y\n",
    "    def post(self):\n",
    "        json_retrieved = request.get_json()\n",
    "        X = json_retrieved['x']\n",
    "        Y = json_retrieved['y']\n",
    "        x = int(X)\n",
    "        y = int(y)\n",
    "        return x+y\n",
    "    \n",
    "class Subtract(Resource):\n",
    "    #create function for subtracting X and Y\n",
    "    def post(self):\n",
    "        json_retrieved = request.get_json()\n",
    "        X = json_retrieved['x']\n",
    "        Y = json_retrieved['y']\n",
    "        x = int(X)\n",
    "        y = int(y)\n",
    "        return x-y\n",
    "    \n",
    "class Multiply(Resource):\n",
    "    #create function for multiplying X and Y\n",
    "    def post(self):\n",
    "        json_retrieved = request.get_json()\n",
    "        X = json_retrieved['x']\n",
    "        Y = json_retrieved['y']\n",
    "        x = int(X)\n",
    "        y = int(y)\n",
    "        return x*y\n",
    "    \n",
    "class Divide(Resource):\n",
    "    #create function for dividing X and Y\n",
    "    def post(self):\n",
    "        json_retrieved = request.get_json()\n",
    "        X = json_retrieved['x']\n",
    "        Y = json_retrieved['y']\n",
    "        x = int(X)\n",
    "        y = int(y)\n",
    "        return x/y\n",
    "\n",
    "#assign endpoints\n",
    "api.add_resource(Add, '/add',)\n",
    "api.add_resource(Subtract, '/subtract',)\n",
    "api.add_resource(Multiply, '/multiply',)\n",
    "api.add_resource(Divide, '/divide',)\n",
    "\n",
    "#run file directly\n",
    "if __name__ == '__main__':\n",
    "    app.run(debug=True)"
   ]
  },
  {
   "cell_type": "markdown",
   "metadata": {},
   "source": [
    "## Deploy and call calculator"
   ]
  },
  {
   "cell_type": "code",
   "execution_count": 41,
   "metadata": {},
   "outputs": [
    {
     "name": "stdout",
     "output_type": "stream",
     "text": [
      "8\n"
     ]
    }
   ],
   "source": [
    "cal_dict = {\"x\": 5, \"y\": 3}\n",
    "\n",
    "import requests\n",
    "URL = \"http://ec2-54-158-93-190.compute-1.amazonaws.com:5000/add\"\n",
    "# sending get request and saving the response as response object \n",
    "r = requests.post(url = URL, json = cal_dict)\n",
    "print(r.json())"
   ]
  }
 ],
 "metadata": {
  "interpreter": {
   "hash": "d8bbbd4ee10db25919bce58fef8b0c329be8981348cd52ed5590f6e13ea3c08a"
  },
  "kernelspec": {
   "display_name": "Python 3.6.10 ('LHLBootcamp')",
   "language": "python",
   "name": "python3"
  },
  "language_info": {
   "codemirror_mode": {
    "name": "ipython",
    "version": 3
   },
   "file_extension": ".py",
   "mimetype": "text/x-python",
   "name": "python",
   "nbconvert_exporter": "python",
   "pygments_lexer": "ipython3",
   "version": "3.6.10"
  },
  "orig_nbformat": 4
 },
 "nbformat": 4,
 "nbformat_minor": 2
}
