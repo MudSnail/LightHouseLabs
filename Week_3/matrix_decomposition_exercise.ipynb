{
 "cells": [
  {
   "cell_type": "markdown",
   "metadata": {},
   "source": [
    "## Matrix Decomposition Exercise"
   ]
  },
  {
   "cell_type": "code",
   "execution_count": 1,
   "metadata": {
    "ExecuteTime": {
     "end_time": "2020-01-30T08:49:15.705544Z",
     "start_time": "2020-01-30T08:49:15.691050Z"
    }
   },
   "outputs": [],
   "source": [
    "# import numpy\n",
    "import numpy as np"
   ]
  },
  {
   "cell_type": "markdown",
   "metadata": {
    "ExecuteTime": {
     "end_time": "2020-01-30T08:49:16.033687Z",
     "start_time": "2020-01-30T08:49:16.022845Z"
    }
   },
   "source": [
    "**Task:** Generate a random matrix 'A' with a shape of 150x50, using the '**np.random.rand**' function."
   ]
  },
  {
   "cell_type": "code",
   "execution_count": 2,
   "metadata": {},
   "outputs": [
    {
     "data": {
      "text/plain": [
       "array([[0.53356364, 0.81885834, 0.51654593, ..., 0.39357171, 0.86798056,\n",
       "        0.67995818],\n",
       "       [0.46779804, 0.35127796, 0.92843421, ..., 0.44177699, 0.82274664,\n",
       "        0.18698112],\n",
       "       [0.33808192, 0.7384277 , 0.95777946, ..., 0.88094914, 0.9811531 ,\n",
       "        0.97971287],\n",
       "       ...,\n",
       "       [0.57559088, 0.82794633, 0.15147343, ..., 0.2580329 , 0.7150374 ,\n",
       "        0.61255491],\n",
       "       [0.98649868, 0.37937572, 0.77976526, ..., 0.27246044, 0.09198796,\n",
       "        0.3116645 ],\n",
       "       [0.65676158, 0.53346632, 0.41518567, ..., 0.83666643, 0.24800015,\n",
       "        0.99506324]])"
      ]
     },
     "execution_count": 2,
     "metadata": {},
     "output_type": "execute_result"
    }
   ],
   "source": [
    "A = np.random.rand(150, 50)\n",
    "A"
   ]
  },
  {
   "cell_type": "markdown",
   "metadata": {
    "ExecuteTime": {
     "end_time": "2020-01-30T08:49:16.306858Z",
     "start_time": "2020-01-30T08:49:16.291806Z"
    }
   },
   "source": [
    "**Task:** Check the shape of 'A'."
   ]
  },
  {
   "cell_type": "code",
   "execution_count": 3,
   "metadata": {},
   "outputs": [
    {
     "data": {
      "text/plain": [
       "(150, 50)"
      ]
     },
     "execution_count": 3,
     "metadata": {},
     "output_type": "execute_result"
    }
   ],
   "source": [
    "A.shape"
   ]
  },
  {
   "cell_type": "markdown",
   "metadata": {
    "ExecuteTime": {
     "end_time": "2020-01-30T08:49:16.700850Z",
     "start_time": "2020-01-30T08:49:16.658980Z"
    }
   },
   "source": [
    "**Task:** Decompose matrix 'A' with SVD using numpy (decompose into matrices U,D,V)."
   ]
  },
  {
   "cell_type": "code",
   "execution_count": 4,
   "metadata": {},
   "outputs": [],
   "source": [
    "U, D, V = np.linalg.svd(A)"
   ]
  },
  {
   "cell_type": "markdown",
   "metadata": {
    "ExecuteTime": {
     "end_time": "2020-01-30T08:49:17.007803Z",
     "start_time": "2020-01-30T08:49:17.000154Z"
    }
   },
   "source": [
    "**Task:** Check the shapes of matrices U,D,V."
   ]
  },
  {
   "cell_type": "code",
   "execution_count": 5,
   "metadata": {},
   "outputs": [
    {
     "name": "stdout",
     "output_type": "stream",
     "text": [
      "(150, 150)\n",
      "(50,)\n",
      "(50, 50)\n"
     ]
    }
   ],
   "source": [
    "print(U.shape)\n",
    "print(D.shape)\n",
    "print(V.shape)"
   ]
  },
  {
   "cell_type": "markdown",
   "metadata": {
    "ExecuteTime": {
     "end_time": "2020-01-30T08:49:17.380307Z",
     "start_time": "2020-01-30T08:49:17.364171Z"
    }
   },
   "source": [
    "**Task:** Reconstruct matrix 'A' from matrices U,D,V."
   ]
  },
  {
   "cell_type": "code",
   "execution_count": 17,
   "metadata": {},
   "outputs": [],
   "source": [
    "recon = np.matrix(U[:,:1])*np.diag(D[:1])*np.matrix(V[:1,:])"
   ]
  },
  {
   "cell_type": "markdown",
   "metadata": {
    "ExecuteTime": {
     "end_time": "2020-01-30T08:49:17.782966Z",
     "start_time": "2020-01-30T08:49:17.775093Z"
    }
   },
   "source": [
    "**Task:** Compare matrices 'A' and 'A_rec' with the [**np.allclose**](https://numpy.org/doc/stable/reference/generated/numpy.allclose.html) function."
   ]
  },
  {
   "cell_type": "code",
   "execution_count": 18,
   "metadata": {},
   "outputs": [
    {
     "data": {
      "text/plain": [
       "False"
      ]
     },
     "execution_count": 18,
     "metadata": {},
     "output_type": "execute_result"
    }
   ],
   "source": [
    "np.allclose(A, recon)"
   ]
  },
  {
   "cell_type": "markdown",
   "metadata": {
    "ExecuteTime": {
     "end_time": "2020-01-30T08:49:18.170344Z",
     "start_time": "2020-01-30T08:49:18.164685Z"
    }
   },
   "source": [
    "**Task:** Reduce the dimnesion of matrix 'A' to shape 150x20 with SVD (try both equations)."
   ]
  },
  {
   "cell_type": "code",
   "execution_count": 20,
   "metadata": {},
   "outputs": [
    {
     "data": {
      "text/plain": [
       "array([[0.42082167, 0.82109969, 0.95392236, ..., 0.67081963, 0.92552248,\n",
       "        0.29647452],\n",
       "       [0.60659228, 0.3432516 , 0.87229948, ..., 0.04002042, 0.48144976,\n",
       "        0.63562247],\n",
       "       [0.1453013 , 0.83699092, 0.04322865, ..., 0.94826114, 0.26816662,\n",
       "        0.19711418],\n",
       "       ...,\n",
       "       [0.1422942 , 0.06997775, 0.24951963, ..., 0.51777736, 0.71746176,\n",
       "        0.70010982],\n",
       "       [0.37052001, 0.69566737, 0.45646907, ..., 0.55796192, 0.98150437,\n",
       "        0.63276806],\n",
       "       [0.16618723, 0.19101905, 0.94199568, ..., 0.76979936, 0.86734757,\n",
       "        0.20858116]])"
      ]
     },
     "execution_count": 20,
     "metadata": {},
     "output_type": "execute_result"
    }
   ],
   "source": [
    "B= np.random.rand(150, 20)\n",
    "B"
   ]
  },
  {
   "cell_type": "markdown",
   "metadata": {
    "ExecuteTime": {
     "end_time": "2020-01-30T08:49:18.526337Z",
     "start_time": "2020-01-30T08:49:18.519511Z"
    }
   },
   "source": [
    "**Task:** Print the shape."
   ]
  },
  {
   "cell_type": "code",
   "execution_count": 21,
   "metadata": {},
   "outputs": [
    {
     "data": {
      "text/plain": [
       "(150, 20)"
      ]
     },
     "execution_count": 21,
     "metadata": {},
     "output_type": "execute_result"
    }
   ],
   "source": [
    "B.shape"
   ]
  },
  {
   "cell_type": "markdown",
   "metadata": {
    "ExecuteTime": {
     "end_time": "2020-01-30T08:49:18.858261Z",
     "start_time": "2020-01-30T08:49:18.850912Z"
    }
   },
   "source": [
    "**Task:** Compare the two results with the [**np.allclose**](https://numpy.org/doc/stable/reference/generated/numpy.allclose.html) function."
   ]
  },
  {
   "cell_type": "code",
   "execution_count": 26,
   "metadata": {},
   "outputs": [],
   "source": [
    "U, D, V = np.linalg.svd(B)\n",
    "recon2 = np.matrix(U[:,:1])*np.diag(D[:1])*np.matrix(V[:1,:])"
   ]
  },
  {
   "cell_type": "code",
   "execution_count": 27,
   "metadata": {},
   "outputs": [
    {
     "data": {
      "text/plain": [
       "False"
      ]
     },
     "execution_count": 27,
     "metadata": {},
     "output_type": "execute_result"
    }
   ],
   "source": [
    "np.allclose(B, recon2)"
   ]
  },
  {
   "cell_type": "markdown",
   "metadata": {
    "ExecuteTime": {
     "end_time": "2020-01-30T08:49:19.245461Z",
     "start_time": "2020-01-30T08:49:19.237681Z"
    }
   },
   "source": [
    "**Task:** Filter the noise from matrix 'A' with 20 largest singular vectors (keep the shape of (150x50))."
   ]
  },
  {
   "cell_type": "code",
   "execution_count": 28,
   "metadata": {},
   "outputs": [],
   "source": [
    "noise = np.random.normal(150, 50, len(A))"
   ]
  },
  {
   "cell_type": "markdown",
   "metadata": {
    "ExecuteTime": {
     "end_time": "2020-01-30T08:49:19.787237Z",
     "start_time": "2020-01-30T08:49:19.775025Z"
    }
   },
   "source": [
    "**Task:** Check the shape."
   ]
  },
  {
   "cell_type": "code",
   "execution_count": 29,
   "metadata": {},
   "outputs": [
    {
     "data": {
      "text/plain": [
       "(150,)"
      ]
     },
     "execution_count": 29,
     "metadata": {},
     "output_type": "execute_result"
    }
   ],
   "source": [
    "noise.shape"
   ]
  },
  {
   "cell_type": "code",
   "execution_count": 32,
   "metadata": {},
   "outputs": [
    {
     "data": {
      "text/plain": [
       "(150, 50)"
      ]
     },
     "execution_count": 32,
     "metadata": {},
     "output_type": "execute_result"
    }
   ],
   "source": [
    "A.shape"
   ]
  },
  {
   "cell_type": "markdown",
   "metadata": {},
   "source": [
    "**Task:** Define the function `'SVD'` which perform singular values decomposition.\n",
    "\n",
    "Do not forget to hceck the shape of the input matrix."
   ]
  },
  {
   "cell_type": "code",
   "execution_count": null,
   "metadata": {
    "ExecuteTime": {
     "end_time": "2020-01-30T08:49:20.344770Z",
     "start_time": "2020-01-30T08:49:20.326781Z"
    }
   },
   "outputs": [],
   "source": [
    "\"\"\"\n",
    "PARAMS:\n",
    "    A (numpy.ndarray) - matrix to decompose\n",
    "RETURN:\n",
    "    U (numpy.ndarray) - left singular vectors\n",
    "    SV (numpy.ndarray) - singular values\n",
    "    V (numpy.ndarray) - right singular vectors\n",
    "\"\"\""
   ]
  },
  {
   "cell_type": "code",
   "execution_count": 30,
   "metadata": {},
   "outputs": [],
   "source": [
    "def new_svd(matrix):\n",
    "    tup = ()\n",
    "    U, SV, V = np.linalg.svd(matrix)\n",
    "    return tup + (U,) + (SV,) + (V,)"
   ]
  },
  {
   "cell_type": "markdown",
   "metadata": {
    "ExecuteTime": {
     "end_time": "2020-01-30T08:49:20.693579Z",
     "start_time": "2020-01-30T08:49:20.660972Z"
    }
   },
   "source": [
    "**Task:** Call the function `'SVD'` on matrix 'A'."
   ]
  },
  {
   "cell_type": "code",
   "execution_count": 31,
   "metadata": {},
   "outputs": [
    {
     "data": {
      "text/plain": [
       "(array([[-0.08419352,  0.05145044,  0.01742691, ..., -0.15718856,\n",
       "         -0.16190034,  0.00769896],\n",
       "        [-0.0819176 , -0.00998075,  0.06360614, ...,  0.09049696,\n",
       "          0.00195599,  0.07359598],\n",
       "        [-0.08720063,  0.15339324, -0.03079816, ...,  0.03946616,\n",
       "         -0.06052292,  0.05034422],\n",
       "        ...,\n",
       "        [-0.08310241, -0.02248091,  0.01004378, ...,  0.65110007,\n",
       "         -0.03277304,  0.04268566],\n",
       "        [-0.08740129, -0.04920455, -0.04501443, ..., -0.03156415,\n",
       "          0.6457848 , -0.04505016],\n",
       "        [-0.0755078 , -0.05698101, -0.14796125, ...,  0.02954367,\n",
       "         -0.03119569,  0.66461388]]),\n",
       " array([44.13531986,  5.42239364,  5.10239557,  5.08437103,  4.9041179 ,\n",
       "         4.81162652,  4.69416419,  4.58974257,  4.52440483,  4.46359541,\n",
       "         4.37409281,  4.24099555,  4.20635548,  4.18007161,  4.17544408,\n",
       "         4.03380318,  3.97456051,  3.84539836,  3.81060136,  3.67038458,\n",
       "         3.64423155,  3.56766257,  3.55666048,  3.52217642,  3.46600388,\n",
       "         3.40900513,  3.33982485,  3.27493125,  3.23673496,  3.1550996 ,\n",
       "         3.14106327,  3.07051027,  2.9100981 ,  2.83076432,  2.77521003,\n",
       "         2.67214625,  2.59469305,  2.46579719,  2.44061389,  2.3955975 ,\n",
       "         2.30846366,  2.26355364,  2.22566126,  2.16712371,  2.1140804 ,\n",
       "         2.05150327,  1.95536379,  1.92359472,  1.82574771,  1.6664594 ]),\n",
       " array([[-0.14093406, -0.13734929, -0.15397116, ..., -0.14059526,\n",
       "         -0.14144705, -0.14125699],\n",
       "        [-0.05387515,  0.02336169, -0.0077996 , ...,  0.10485584,\n",
       "          0.12510733,  0.05445787],\n",
       "        [ 0.13748154, -0.11118904, -0.06143986, ..., -0.13611367,\n",
       "          0.10801953, -0.02712592],\n",
       "        ...,\n",
       "        [-0.35955176,  0.12694995, -0.00773125, ..., -0.21393138,\n",
       "         -0.07204003, -0.10240329],\n",
       "        [ 0.08426587,  0.16060963, -0.04034249, ..., -0.11254964,\n",
       "         -0.12743899,  0.19225775],\n",
       "        [-0.09741821, -0.01690109,  0.01035609, ..., -0.2526917 ,\n",
       "          0.19983787,  0.19430917]]))"
      ]
     },
     "execution_count": 31,
     "metadata": {},
     "output_type": "execute_result"
    }
   ],
   "source": [
    "new_svd(A)"
   ]
  }
 ],
 "metadata": {
  "kernelspec": {
   "display_name": "LHLBootcamp",
   "language": "python",
   "name": "lhlbootcamp"
  },
  "language_info": {
   "codemirror_mode": {
    "name": "ipython",
    "version": 3
   },
   "file_extension": ".py",
   "mimetype": "text/x-python",
   "name": "python",
   "nbconvert_exporter": "python",
   "pygments_lexer": "ipython3",
   "version": "3.6.13"
  },
  "toc": {
   "base_numbering": 1,
   "nav_menu": {},
   "number_sections": true,
   "sideBar": true,
   "skip_h1_title": false,
   "title_cell": "Table of Contents",
   "title_sidebar": "Contents",
   "toc_cell": false,
   "toc_position": {},
   "toc_section_display": true,
   "toc_window_display": false
  },
  "varInspector": {
   "cols": {
    "lenName": 16,
    "lenType": 16,
    "lenVar": 40
   },
   "kernels_config": {
    "python": {
     "delete_cmd_postfix": "",
     "delete_cmd_prefix": "del ",
     "library": "var_list.py",
     "varRefreshCmd": "print(var_dic_list())"
    },
    "r": {
     "delete_cmd_postfix": ") ",
     "delete_cmd_prefix": "rm(",
     "library": "var_list.r",
     "varRefreshCmd": "cat(var_dic_list()) "
    }
   },
   "types_to_exclude": [
    "module",
    "function",
    "builtin_function_or_method",
    "instance",
    "_Feature"
   ],
   "window_display": false
  }
 },
 "nbformat": 4,
 "nbformat_minor": 4
}
