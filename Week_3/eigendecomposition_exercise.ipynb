{
 "cells": [
  {
   "cell_type": "markdown",
   "metadata": {},
   "source": [
    "## eigendecomposition exercise"
   ]
  },
  {
   "cell_type": "code",
   "execution_count": 1,
   "metadata": {
    "ExecuteTime": {
     "end_time": "2020-01-30T08:49:32.277001Z",
     "start_time": "2020-01-30T08:49:32.273265Z"
    }
   },
   "outputs": [],
   "source": [
    "# import numpy\n",
    "import numpy as np"
   ]
  },
  {
   "cell_type": "markdown",
   "metadata": {
    "ExecuteTime": {
     "end_time": "2020-01-30T08:49:32.705250Z",
     "start_time": "2020-01-30T08:49:32.690350Z"
    }
   },
   "source": [
    "**Task:** Create a matrix (2x2) called matrix 'A'.\n"
   ]
  },
  {
   "cell_type": "code",
   "execution_count": 3,
   "metadata": {},
   "outputs": [
    {
     "data": {
      "text/plain": [
       "array([[2, 7],\n",
       "       [3, 1]])"
      ]
     },
     "execution_count": 3,
     "metadata": {},
     "output_type": "execute_result"
    }
   ],
   "source": [
    "A = np.array([[2,7],[3,1]])\n",
    "A"
   ]
  },
  {
   "cell_type": "code",
   "execution_count": 13,
   "metadata": {},
   "outputs": [],
   "source": [
    "B = np.array([[2,7,3],[3,1,1]])"
   ]
  },
  {
   "cell_type": "markdown",
   "metadata": {},
   "source": [
    "**Task:** Define the function `'shape_2x2'` which checks if a matrix has a (2x2) shape."
   ]
  },
  {
   "cell_type": "code",
   "execution_count": null,
   "metadata": {
    "ExecuteTime": {
     "end_time": "2020-01-30T08:49:33.010790Z",
     "start_time": "2020-01-30T08:49:33.001874Z"
    }
   },
   "outputs": [],
   "source": [
    "\"\"\"\n",
    "Define the function 'shape_2x2' which checks if a matrix has a (2x2) shape.\n",
    "\n",
    "PARAMS:\n",
    "    matrix (numpy.ndarray) - matrix to check\n",
    "RETURN:\n",
    "    True (bool) - if matrix has shape 2x2\n",
    "    False (bool) - if matrix has not shape 2x2\n",
    "\n",
    "\"\"\"\n"
   ]
  },
  {
   "cell_type": "code",
   "execution_count": 10,
   "metadata": {},
   "outputs": [],
   "source": [
    "def shape_2x2(matrix):\n",
    "    if matrix.shape == (2,2):\n",
    "        return True\n",
    "    else:\n",
    "        return False"
   ]
  },
  {
   "cell_type": "code",
   "execution_count": 15,
   "metadata": {},
   "outputs": [
    {
     "data": {
      "text/plain": [
       "True"
      ]
     },
     "execution_count": 15,
     "metadata": {},
     "output_type": "execute_result"
    }
   ],
   "source": [
    "shape_2x2(A)"
   ]
  },
  {
   "cell_type": "markdown",
   "metadata": {},
   "source": [
    "**Task:** Define the function `'determinant_2x2'` which computes the determinant of a (2x2) matrix.\n",
    "\n",
    "Do not forget to check the shape of  the input matrix."
   ]
  },
  {
   "cell_type": "code",
   "execution_count": null,
   "metadata": {
    "ExecuteTime": {
     "end_time": "2020-01-30T08:49:33.337444Z",
     "start_time": "2020-01-30T08:49:33.329488Z"
    }
   },
   "outputs": [],
   "source": [
    "\"\"\"\n",
    "Define the function 'determinant_2x2' which computes the determinant of a (2x2) matrix.\n",
    "\n",
    "PARAMS:\n",
    "    matrix (numpy.ndarray) - matrix to compute determinant\n",
    "RETURN:\n",
    "    det (float) - matrix determinant\n",
    "\n",
    "\"\"\"\n"
   ]
  },
  {
   "cell_type": "code",
   "execution_count": 16,
   "metadata": {},
   "outputs": [],
   "source": [
    "def determinant_2x2(matrix):\n",
    "    if shape_2x2(matrix) == True:\n",
    "        deter = float(np.linalg.det(matrix))\n",
    "        return deter"
   ]
  },
  {
   "cell_type": "markdown",
   "metadata": {
    "ExecuteTime": {
     "end_time": "2020-01-30T08:49:33.653982Z",
     "start_time": "2020-01-30T08:49:33.640536Z"
    }
   },
   "source": [
    "**Task:** Call the function `'determinant_2x2'` on matrix 'A'."
   ]
  },
  {
   "cell_type": "code",
   "execution_count": 18,
   "metadata": {},
   "outputs": [
    {
     "data": {
      "text/plain": [
       "-18.999999999999996"
      ]
     },
     "execution_count": 18,
     "metadata": {},
     "output_type": "execute_result"
    }
   ],
   "source": [
    "determinant_2x2(A)"
   ]
  },
  {
   "cell_type": "markdown",
   "metadata": {
    "ExecuteTime": {
     "end_time": "2020-01-30T08:49:33.965268Z",
     "start_time": "2020-01-30T08:49:33.955633Z"
    }
   },
   "source": [
    "**Task:** Compute the eigenvalues of matrix 'A' with numpy."
   ]
  },
  {
   "cell_type": "code",
   "execution_count": 19,
   "metadata": {},
   "outputs": [],
   "source": [
    "eigenvals, V = np.linalg.eig(A)"
   ]
  },
  {
   "cell_type": "markdown",
   "metadata": {
    "ExecuteTime": {
     "end_time": "2020-01-30T08:49:34.161648Z",
     "start_time": "2020-01-30T08:49:34.150747Z"
    }
   },
   "source": [
    "**Task:** Print the eigenvalues."
   ]
  },
  {
   "cell_type": "code",
   "execution_count": 20,
   "metadata": {},
   "outputs": [
    {
     "name": "stdout",
     "output_type": "stream",
     "text": [
      "[ 6.10977223 -3.10977223]\n"
     ]
    }
   ],
   "source": [
    "print(eigenvals)"
   ]
  },
  {
   "cell_type": "markdown",
   "metadata": {
    "ExecuteTime": {
     "end_time": "2020-01-30T08:49:34.442956Z",
     "start_time": "2020-01-30T08:49:34.426399Z"
    }
   },
   "source": [
    "**Task:** Print  the eigenvectors."
   ]
  },
  {
   "cell_type": "code",
   "execution_count": 21,
   "metadata": {},
   "outputs": [
    {
     "name": "stdout",
     "output_type": "stream",
     "text": [
      "[[ 0.86235788 -0.80769951]\n",
      " [ 0.50629921  0.58959436]]\n"
     ]
    }
   ],
   "source": [
    "print(V)"
   ]
  },
  {
   "cell_type": "markdown",
   "metadata": {},
   "source": [
    "**Task:** Define a function `'eig_2x2'` which computes the eigenvectors and the eigenvalues of 2x2 matrix.\n",
    "\n",
    "Do not use the np.linalg.eig function. Use your 'shape_2x2' and your 'determinant_2x2' functions. Be carefull, eigenvalues and eigenvectors could contain complex numbers.\n",
    "\n",
    "How to compute eigenvalues of a 2x2 matrix?:\n",
    "\n",
    "- https://yutsumura.com/express-the-eigenvalues-of-a-2-by-2-matrix-in-terms-of-the-trace-and-determinant/"
   ]
  },
  {
   "cell_type": "code",
   "execution_count": 23,
   "metadata": {},
   "outputs": [
    {
     "data": {
      "text/plain": [
       "array([[2, 7],\n",
       "       [3, 1]])"
      ]
     },
     "execution_count": 23,
     "metadata": {},
     "output_type": "execute_result"
    }
   ],
   "source": [
    "A"
   ]
  },
  {
   "cell_type": "code",
   "execution_count": 24,
   "metadata": {},
   "outputs": [
    {
     "data": {
      "text/plain": [
       "1"
      ]
     },
     "execution_count": 24,
     "metadata": {},
     "output_type": "execute_result"
    }
   ],
   "source": [
    "A[1][1]"
   ]
  },
  {
   "cell_type": "code",
   "execution_count": null,
   "metadata": {
    "ExecuteTime": {
     "end_time": "2020-01-30T08:49:34.728724Z",
     "start_time": "2020-01-30T08:49:34.717473Z"
    }
   },
   "outputs": [],
   "source": [
    "\"\"\"\n",
    "Define a function 'eig_2x2' which computes the eigenvectors and the eigenvalues of 2x2 matrix\n",
    "\n",
    "PARAMS:\n",
    "    matrix (numpy.ndarray) - matrix to perform decomposition\n",
    "RETURN:\n",
    "    eigenvalues, eigenvectors (tuple) - eigenvalues, eigenvectors as numpy.ndarrays\n",
    "\n",
    "\"\"\""
   ]
  },
  {
   "cell_type": "code",
   "execution_count": 34,
   "metadata": {},
   "outputs": [],
   "source": [
    "def eig_2x2(matrix):\n",
    "    tup = ()\n",
    "    if shape_2x2(matrix) == True:\n",
    "        deter = determinant_2x2(matrix)\n",
    "        a = matrix[0][0]\n",
    "        d = matrix[1][1]\n",
    "        trace = a + d\n",
    "        eigenval1 = (trace + np.sqrt(trace**2 - 4(deter)))/2\n",
    "        eigenval2 = (trace - np.sqrt(trace**2 - 4(deter)))/2\n",
    "        vector = np.array[[x][y]]\n",
    "        x = \n",
    "        #eigenvect = \n",
    "        return tup + (eigenval1,eigenval2) +"
   ]
  },
  {
   "cell_type": "code",
   "execution_count": 37,
   "metadata": {},
   "outputs": [],
   "source": [
    "#new function of just using modules after talk with simon\n",
    "    #Just understand concepts\n",
    "def eig_2x2(matrix):\n",
    "    tup = ()\n",
    "    if shape_2x2(matrix) == True:\n",
    "        eigenvals, eigenVec = np.linalg.eig(matrix)\n",
    "        return tup + (eigenvals, ) + (eigenVec,)"
   ]
  },
  {
   "cell_type": "markdown",
   "metadata": {
    "ExecuteTime": {
     "end_time": "2020-01-30T08:49:35.033600Z",
     "start_time": "2020-01-30T08:49:35.026479Z"
    }
   },
   "source": [
    "**Task:** Call the function `'eig_2x2'` on matrix 'A'."
   ]
  },
  {
   "cell_type": "code",
   "execution_count": 38,
   "metadata": {},
   "outputs": [
    {
     "data": {
      "text/plain": [
       "(array([ 6.10977223, -3.10977223]),\n",
       " array([[ 0.86235788, -0.80769951],\n",
       "        [ 0.50629921,  0.58959436]]))"
      ]
     },
     "execution_count": 38,
     "metadata": {},
     "output_type": "execute_result"
    }
   ],
   "source": [
    "eig_2x2(A)"
   ]
  },
  {
   "cell_type": "markdown",
   "metadata": {
    "ExecuteTime": {
     "end_time": "2020-01-30T08:49:35.359324Z",
     "start_time": "2020-01-30T08:49:35.344962Z"
    }
   },
   "source": [
    "**Task:** Compare your results with the numpy function (to compare use the [**np.allclose**](https://numpy.org/doc/stable/reference/generated/numpy.allclose.html) function)."
   ]
  },
  {
   "cell_type": "code",
   "execution_count": 40,
   "metadata": {},
   "outputs": [
    {
     "data": {
      "text/plain": [
       "True"
      ]
     },
     "execution_count": 40,
     "metadata": {},
     "output_type": "execute_result"
    }
   ],
   "source": [
    "np.allclose(eigenvals, eig_2x2(A)[0])"
   ]
  },
  {
   "cell_type": "code",
   "execution_count": 41,
   "metadata": {},
   "outputs": [
    {
     "data": {
      "text/plain": [
       "True"
      ]
     },
     "execution_count": 41,
     "metadata": {},
     "output_type": "execute_result"
    }
   ],
   "source": [
    "np.allclose(V, eig_2x2(A)[1])"
   ]
  },
  {
   "cell_type": "markdown",
   "metadata": {
    "ExecuteTime": {
     "end_time": "2020-01-30T08:49:35.767409Z",
     "start_time": "2020-01-30T08:49:35.762382Z"
    }
   },
   "source": [
    "**Task:** Define matrix B = np.array([[0,1],[-1,0]]) "
   ]
  },
  {
   "cell_type": "code",
   "execution_count": 42,
   "metadata": {},
   "outputs": [
    {
     "data": {
      "text/plain": [
       "array([[ 0,  1],\n",
       "       [-1,  0]])"
      ]
     },
     "execution_count": 42,
     "metadata": {},
     "output_type": "execute_result"
    }
   ],
   "source": [
    "B = np.array([[0,1],[-1,0]])\n",
    "B"
   ]
  },
  {
   "cell_type": "markdown",
   "metadata": {
    "ExecuteTime": {
     "end_time": "2020-01-30T08:49:36.107561Z",
     "start_time": "2020-01-30T08:49:36.101971Z"
    }
   },
   "source": [
    "**Task:** Compute the eigenvalues and the eigevectors of matrix 'B' with numpy and with your `'eig_2x2'` function."
   ]
  },
  {
   "cell_type": "code",
   "execution_count": 44,
   "metadata": {},
   "outputs": [
    {
     "name": "stdout",
     "output_type": "stream",
     "text": [
      "[0.+1.j 0.-1.j]\n",
      "[[0.70710678+0.j         0.70710678-0.j        ]\n",
      " [0.        +0.70710678j 0.        -0.70710678j]]\n"
     ]
    }
   ],
   "source": [
    "eigenvals2, V2 = np.linalg.eig(B)\n",
    "print(eigenvals2)\n",
    "print(V2)"
   ]
  },
  {
   "cell_type": "code",
   "execution_count": 43,
   "metadata": {},
   "outputs": [
    {
     "data": {
      "text/plain": [
       "(array([0.+1.j, 0.-1.j]),\n",
       " array([[0.70710678+0.j        , 0.70710678-0.j        ],\n",
       "        [0.        +0.70710678j, 0.        -0.70710678j]]))"
      ]
     },
     "execution_count": 43,
     "metadata": {},
     "output_type": "execute_result"
    }
   ],
   "source": [
    "two = eig_2x2(B)\n",
    "two"
   ]
  },
  {
   "cell_type": "markdown",
   "metadata": {
    "ExecuteTime": {
     "end_time": "2020-01-30T08:49:36.483358Z",
     "start_time": "2020-01-30T08:49:36.474496Z"
    }
   },
   "source": [
    "**Task:** Compare the results with the numpy function (to compare use the [**np.allclose**](https://numpy.org/doc/stable/reference/generated/numpy.allclose.html) function)."
   ]
  },
  {
   "cell_type": "code",
   "execution_count": 46,
   "metadata": {},
   "outputs": [
    {
     "data": {
      "text/plain": [
       "True"
      ]
     },
     "execution_count": 46,
     "metadata": {},
     "output_type": "execute_result"
    }
   ],
   "source": [
    "np.allclose(eigenvals2, two[0])"
   ]
  },
  {
   "cell_type": "code",
   "execution_count": 45,
   "metadata": {},
   "outputs": [
    {
     "data": {
      "text/plain": [
       "True"
      ]
     },
     "execution_count": 45,
     "metadata": {},
     "output_type": "execute_result"
    }
   ],
   "source": [
    "np.allclose(V2, two[1])"
   ]
  },
  {
   "cell_type": "markdown",
   "metadata": {
    "ExecuteTime": {
     "end_time": "2020-01-30T08:49:36.913277Z",
     "start_time": "2020-01-30T08:49:36.893341Z"
    }
   },
   "source": [
    "**Task:** Print the eigenvalues and the eigenvectors. Why are the solutions different?"
   ]
  },
  {
   "cell_type": "code",
   "execution_count": 47,
   "metadata": {},
   "outputs": [
    {
     "name": "stdout",
     "output_type": "stream",
     "text": [
      "[ 6.10977223 -3.10977223]\n",
      "[0.+1.j 0.-1.j]\n"
     ]
    }
   ],
   "source": [
    "print(eigenvals)\n",
    "print(eigenvals2)"
   ]
  },
  {
   "cell_type": "code",
   "execution_count": 48,
   "metadata": {},
   "outputs": [
    {
     "name": "stdout",
     "output_type": "stream",
     "text": [
      "[[ 0.86235788 -0.80769951]\n",
      " [ 0.50629921  0.58959436]]\n",
      "[[0.70710678+0.j         0.70710678-0.j        ]\n",
      " [0.        +0.70710678j 0.        -0.70710678j]]\n"
     ]
    }
   ],
   "source": [
    "print(V)\n",
    "print(V2)"
   ]
  }
 ],
 "metadata": {
  "kernelspec": {
   "display_name": "LHLBootcamp",
   "language": "python",
   "name": "lhlbootcamp"
  },
  "language_info": {
   "codemirror_mode": {
    "name": "ipython",
    "version": 3
   },
   "file_extension": ".py",
   "mimetype": "text/x-python",
   "name": "python",
   "nbconvert_exporter": "python",
   "pygments_lexer": "ipython3",
   "version": "3.6.13"
  },
  "toc": {
   "base_numbering": 1,
   "nav_menu": {},
   "number_sections": true,
   "sideBar": true,
   "skip_h1_title": false,
   "title_cell": "Table of Contents",
   "title_sidebar": "Contents",
   "toc_cell": false,
   "toc_position": {},
   "toc_section_display": true,
   "toc_window_display": false
  },
  "varInspector": {
   "cols": {
    "lenName": 16,
    "lenType": 16,
    "lenVar": 40
   },
   "kernels_config": {
    "python": {
     "delete_cmd_postfix": "",
     "delete_cmd_prefix": "del ",
     "library": "var_list.py",
     "varRefreshCmd": "print(var_dic_list())"
    },
    "r": {
     "delete_cmd_postfix": ") ",
     "delete_cmd_prefix": "rm(",
     "library": "var_list.r",
     "varRefreshCmd": "cat(var_dic_list()) "
    }
   },
   "types_to_exclude": [
    "module",
    "function",
    "builtin_function_or_method",
    "instance",
    "_Feature"
   ],
   "window_display": false
  }
 },
 "nbformat": 4,
 "nbformat_minor": 4
}
