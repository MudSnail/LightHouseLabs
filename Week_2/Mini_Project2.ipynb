{
 "cells": [
  {
   "cell_type": "markdown",
   "id": "97f12a7a-0463-43cc-9715-717c695f36f0",
   "metadata": {},
   "source": [
    "# Mini - project - Lisbon"
   ]
  },
  {
   "cell_type": "markdown",
   "id": "02b90d54-11eb-4d29-bdec-68e7c5b3222a",
   "metadata": {},
   "source": [
    "I will be looking at various locations in Lisbon, Portugal\n",
    "\n",
    "        Latitude: 38.713757\n",
    "        Longitude: -9.137990\n",
    "        Radius: 5000 \n",
    "        \n",
    "        Foursquare Categories:\n",
    "            Landmarks: 16000\n",
    "            Art/Entertainment: 10000\n",
    "            Bakery: 13002\n",
    "            Cafes: 13032\n",
    "            Desserts: 13040\n",
    "            Restaurant: 13065\n",
    "            Wine Bars: 13025"
   ]
  },
  {
   "cell_type": "code",
   "execution_count": 43,
   "id": "62589236-9452-4261-a42d-98c4332f8da1",
   "metadata": {},
   "outputs": [],
   "source": [
    "#import libraries\n",
    "import requests as r    # To get HTTP request\n",
    "import foursquare\n",
    "from IPython.display import JSON\n",
    "import pandas as pd\n",
    "import json"
   ]
  },
  {
   "cell_type": "markdown",
   "id": "6f2eb566-2c35-45e7-95ae-255bad7c5418",
   "metadata": {},
   "source": [
    "## Create SQL functions and database"
   ]
  },
  {
   "cell_type": "code",
   "execution_count": 83,
   "id": "191374db-f0a0-47cc-93c6-3cc24db23508",
   "metadata": {},
   "outputs": [],
   "source": [
    "#create SQl path\n",
    "import sqlite3\n",
    "from sqlite3 import Error\n",
    "\n",
    "def create_connection(path):\n",
    "    connection = None\n",
    "    try:\n",
    "        connection = sqlite3.connect(path)\n",
    "        print(\"Connection to SQLite DB successful\")\n",
    "    except Error as e:\n",
    "        print(f\"The error '{e}' occurred\")\n",
    "\n",
    "    return connection"
   ]
  },
  {
   "cell_type": "code",
   "execution_count": 323,
   "id": "3d495548-1455-42c4-b685-8c248ba3b7e4",
   "metadata": {},
   "outputs": [
    {
     "name": "stdout",
     "output_type": "stream",
     "text": [
      "Connection to SQLite DB successful\n"
     ]
    }
   ],
   "source": [
    "#make connection and make sql Lisbon\n",
    "connection = create_connection(\"Lisbon.sqlite\")"
   ]
  },
  {
   "cell_type": "code",
   "execution_count": 85,
   "id": "f77faa79-b2a3-489d-b6b3-ebcde8e0d9b7",
   "metadata": {},
   "outputs": [],
   "source": [
    "#define function to execute a query\n",
    "def execute_query(connection, query):\n",
    "    cursor = connection.cursor()\n",
    "    try:\n",
    "        cursor.execute(query)\n",
    "        connection.commit()\n",
    "        print(\"Query executed successfully\")\n",
    "    except Error as e:\n",
    "        print(f\"The error '{e}' occurred\")"
   ]
  },
  {
   "cell_type": "markdown",
   "id": "8aa7b9cd-e601-4df0-86db-c21f158cb1dd",
   "metadata": {},
   "source": [
    "## Foursquare"
   ]
  },
  {
   "cell_type": "markdown",
   "id": "d8b24712-782f-4117-a15a-521499e704ac",
   "metadata": {},
   "source": [
    "#### Landmarks"
   ]
  },
  {
   "cell_type": "code",
   "execution_count": 132,
   "id": "031a6bc7-01e3-4f03-a933-b4e3e8b3eceb",
   "metadata": {},
   "outputs": [
    {
     "name": "stdout",
     "output_type": "stream",
     "text": [
      "200\n"
     ]
    }
   ],
   "source": [
    "#pull landmarks\n",
    "code = 16000\n",
    "url = f\"https://api.foursquare.com/v3/places/search?ll=38.713757%2C-9.137990&radius=5000&categories={code}&limit=15\"\n",
    "headers = {\n",
    "    \"Accept\": \"application/json\",\n",
    "    \"Authorization\": \"KEy\"\n",
    "}\n",
    "\n",
    "response = r.request(\"GET\", url, headers=headers)\n",
    "print(response.status_code)\n",
    "\n",
    "landmarks = response.json()"
   ]
  },
  {
   "cell_type": "code",
   "execution_count": 133,
   "id": "39702625-1e88-468f-931a-93bdcc49cd17",
   "metadata": {},
   "outputs": [],
   "source": [
    "#open Json\n",
    "with open('landmarks.json', 'w') as json_file:\n",
    "    json.dump(landmarks,json_file)"
   ]
  },
  {
   "cell_type": "code",
   "execution_count": 5,
   "id": "ea3d6561-599e-47fb-9b30-ed2717527661",
   "metadata": {},
   "outputs": [
    {
     "data": {
      "application/json": {
       "context": {
        "geo_bounds": {
         "circle": {
          "center": {
           "latitude": 38.713757,
           "longitude": -9.13799
          },
          "radius": 5000
         }
        }
       },
       "results": [
        {
         "categories": [
          {
           "icon": {
            "prefix": "https://ss3.4sqi.net/img/categories_v2/parks_outdoors/plaza_",
            "suffix": ".png"
           },
           "id": 16041,
           "name": "Plaza"
          }
         ],
         "chains": [],
         "distance": 120,
         "fsq_id": "4d26e469ebacb1f73118e24f",
         "geocodes": {
          "main": {
           "latitude": 38.71373581818702,
           "longitude": -9.139375435748326
          }
         },
         "location": {
          "address": "Praça Dom Pedro IV",
          "country": "PT",
          "locality": "Lisbon",
          "neighborhood": [
           "Figueira"
          ],
          "postcode": "1100-201",
          "region": "Lisbon"
         },
         "name": "Rossio Square (Rossio)",
         "related_places": {
          "children": [
           {
            "fsq_id": "5abaa80a3362736f944e907b",
            "name": "Mercado de Primivera"
           }
          ]
         },
         "timezone": "Europe/Lisbon"
        },
        {
         "categories": [
          {
           "icon": {
            "prefix": "https://ss3.4sqi.net/img/categories_v2/parks_outdoors/plaza_",
            "suffix": ".png"
           },
           "id": 16041,
           "name": "Plaza"
          }
         ],
         "chains": [],
         "distance": 5,
         "fsq_id": "4bb48eab695876b03337fc3d",
         "geocodes": {
          "main": {
           "latitude": 38.7137333150946,
           "longitude": -9.137932427547357
          }
         },
         "location": {
          "address": "Pç da Figueira",
          "country": "PT",
          "locality": "Lisbon",
          "region": "Lisbon"
         },
         "name": "Praça da Figueira",
         "related_places": {
          "children": [
           {
            "fsq_id": "4db9fb5b93a08055482c2b13",
            "name": "Parque de Estacionamento - Praça da Figueira"
           }
          ]
         },
         "timezone": "Europe/Lisbon"
        },
        {
         "categories": [
          {
           "icon": {
            "prefix": "https://ss3.4sqi.net/img/categories_v2/parks_outdoors/sceniclookout_",
            "suffix": ".png"
           },
           "id": 16046,
           "name": "Scenic Lookout"
          }
         ],
         "chains": [],
         "distance": 448,
         "fsq_id": "4dbbda364b222080d38232c2",
         "geocodes": {
          "main": {
           "latitude": 38.712525166207804,
           "longitude": -9.133069553433598
          }
         },
         "location": {
          "address": "Castelo de São Jorge",
          "country": "PT",
          "locality": "Lisbon",
          "region": "Lisbon"
         },
         "name": "Miradouro do Castelo de São Jorge",
         "related_places": {},
         "timezone": "Europe/Lisbon"
        },
        {
         "categories": [
          {
           "icon": {
            "prefix": "https://ss3.4sqi.net/img/categories_v2/building/government_monument_",
            "suffix": ".png"
           },
           "id": 16026,
           "name": "Monument"
          }
         ],
         "chains": [],
         "distance": 425,
         "fsq_id": "4bd9635911dcc9288998f933",
         "geocodes": {
          "main": {
           "latitude": 38.71611142956747,
           "longitude": -9.141856173596306
          }
         },
         "location": {
          "address": "Praça dos Restauradores, Lisbon",
          "country": "PT",
          "locality": "Lisbon",
          "postcode": "1250-187",
          "region": "Lisbon"
         },
         "name": "Praça dos Restauradores",
         "related_places": {
          "children": [
           {
            "fsq_id": "4f2bf49ee4b0571e1d0f62f3",
            "name": "Vitaminas"
           }
          ]
         },
         "timezone": "Europe/Lisbon"
        },
        {
         "categories": [
          {
           "icon": {
            "prefix": "https://ss3.4sqi.net/img/categories_v2/parks_outdoors/sceniclookout_",
            "suffix": ".png"
           },
           "id": 16046,
           "name": "Scenic Lookout"
          }
         ],
         "chains": [],
         "distance": 566,
         "fsq_id": "4b0588a2f964a5200dd122e3",
         "geocodes": {
          "main": {
           "latitude": 38.715233,
           "longitude": -9.144247
          }
         },
         "location": {
          "address": "Rua de São Pedro de Alcântara",
          "country": "PT",
          "locality": "Lisbon",
          "neighborhood": [
           "Alcântara"
          ],
          "postcode": "1269-138",
          "region": "Lisbon"
         },
         "name": "Miradouro de São Pedro de Alcântara",
         "related_places": {
          "children": [
           {
            "fsq_id": "59c79ef0f5e9d70dc1b46ec8",
            "name": "Miradouro"
           },
           {
            "fsq_id": "5da9a61f8e3e4e000832e8e5",
            "name": "Escultura Eduardo Coelho"
           }
          ]
         },
         "timezone": "Europe/Lisbon"
        },
        {
         "categories": [
          {
           "icon": {
            "prefix": "https://ss3.4sqi.net/img/categories_v2/parks_outdoors/default_",
            "suffix": ".png"
           },
           "id": 16000,
           "name": "Landmarks and Outdoors"
          }
         ],
         "chains": [],
         "distance": 319,
         "fsq_id": "4c481e9d972c0f47a1dd2521",
         "geocodes": {
          "main": {
           "latitude": 38.7119100076719,
           "longitude": -9.140812112728627
          }
         },
         "location": {
          "address": "Largo do Carmo",
          "country": "PT",
          "locality": "Lisbon",
          "postcode": "1200-309",
          "region": "Lisbon"
         },
         "name": "Largo do Carmo",
         "related_places": {},
         "timezone": "Europe/Lisbon"
        },
        {
         "categories": [
          {
           "icon": {
            "prefix": "https://ss3.4sqi.net/img/categories_v2/building/government_monument_",
            "suffix": ".png"
           },
           "id": 16026,
           "name": "Monument"
          }
         ],
         "chains": [],
         "distance": 608,
         "fsq_id": "4b0588a2f964a52006d122e3",
         "geocodes": {
          "main": {
           "latitude": 38.708369,
           "longitude": -9.136738
          }
         },
         "location": {
          "address": "Rua Augusta, 1",
          "country": "PT",
          "cross_street": "Pç. do Comércio",
          "locality": "Lisbon",
          "postcode": "1100-053",
          "region": "Lisbon"
         },
         "name": "Arco da Rua Augusta",
         "related_places": {
          "children": []
         },
         "timezone": "Europe/Lisbon"
        },
        {
         "categories": [
          {
           "icon": {
            "prefix": "https://ss3.4sqi.net/img/categories_v2/parks_outdoors/plaza_",
            "suffix": ".png"
           },
           "id": 16041,
           "name": "Plaza"
          }
         ],
         "chains": [],
         "distance": 649,
         "fsq_id": "4b0588a2f964a52008d122e3",
         "geocodes": {
          "main": {
           "latitude": 38.70799,
           "longitude": -9.136759
          }
         },
         "location": {
          "address": "Terreiro do Paço",
          "country": "PT",
          "locality": "Lisbon",
          "neighborhood": [
           "Paço"
          ],
          "postcode": "1100-148",
          "region": "Lisbon"
         },
         "name": "Praça do Comércio (Praça do Comércio (Terreiro do Paço))",
         "related_places": {
          "children": [
           {
            "fsq_id": "577022e9498e4989c183d9ce",
            "name": "Euro 2016 Lounge"
           },
           {
            "fsq_id": "5a46de083149b9495568b737",
            "name": "Super Ano Novo"
           }
          ]
         },
         "timezone": "Europe/Lisbon"
        },
        {
         "categories": [
          {
           "icon": {
            "prefix": "https://ss3.4sqi.net/img/categories_v2/parks_outdoors/sceniclookout_",
            "suffix": ".png"
           },
           "id": 16046,
           "name": "Scenic Lookout"
          }
         ],
         "chains": [],
         "distance": 713,
         "fsq_id": "4b0588a2f964a5200bd122e3",
         "geocodes": {
          "main": {
           "latitude": 38.7116846144335,
           "longitude": -9.130207300186157
          }
         },
         "location": {
          "address": "Santa Luzia",
          "country": "PT",
          "locality": "Lisbon",
          "region": "Lisbon"
         },
         "name": "Miradouro de Santa Luzia",
         "related_places": {
          "children": [
           {
            "fsq_id": "516814fe498e6b9216822e15",
            "name": "Restaurante Miradouro Santa Luzia"
           }
          ]
         },
         "timezone": "Europe/Lisbon"
        },
        {
         "categories": [
          {
           "icon": {
            "prefix": "https://ss3.4sqi.net/img/categories_v2/parks_outdoors/sceniclookout_",
            "suffix": ".png"
           },
           "id": 16046,
           "name": "Scenic Lookout"
          }
         ],
         "chains": [],
         "distance": 742,
         "fsq_id": "4c151a7ca9c220a1568e589d",
         "geocodes": {
          "main": {
           "latitude": 38.7190715364876,
           "longitude": -9.132792865975164
          }
         },
         "location": {
          "address": "Largo da Senhora do Monte",
          "country": "PT",
          "locality": "Lisbon",
          "neighborhood": [
           "Monte"
          ],
          "postcode": "1170-254",
          "region": "Lisbon"
         },
         "name": "Miradouro da Senhora do Monte",
         "related_places": {
          "parent": {
           "fsq_id": "5b5368972f97ec002c86cdb2",
           "name": "Centro Histórico de Lisboa"
          }
         },
         "timezone": "Europe/Lisbon"
        }
       ]
      },
      "text/plain": [
       "<IPython.core.display.JSON object>"
      ]
     },
     "metadata": {
      "application/json": {
       "expanded": true,
       "root": "root"
      }
     },
     "output_type": "display_data"
    }
   ],
   "source": [
    "#display Json\n",
    "display(JSON(landmarks,expanded=True))"
   ]
  },
  {
   "cell_type": "code",
   "execution_count": 274,
   "id": "8e0a14b3-91d3-4956-b46c-37715aabd38d",
   "metadata": {},
   "outputs": [],
   "source": [
    "#normalize json\n",
    "land_marks = pd.json_normalize(landmarks, record_path='results')"
   ]
  },
  {
   "cell_type": "code",
   "execution_count": 135,
   "id": "aaaa42a1-f4cc-4a33-bafc-db34cc144dc3",
   "metadata": {},
   "outputs": [
    {
     "data": {
      "text/html": [
       "<div>\n",
       "<style scoped>\n",
       "    .dataframe tbody tr th:only-of-type {\n",
       "        vertical-align: middle;\n",
       "    }\n",
       "\n",
       "    .dataframe tbody tr th {\n",
       "        vertical-align: top;\n",
       "    }\n",
       "\n",
       "    .dataframe thead th {\n",
       "        text-align: right;\n",
       "    }\n",
       "</style>\n",
       "<table border=\"1\" class=\"dataframe\">\n",
       "  <thead>\n",
       "    <tr style=\"text-align: right;\">\n",
       "      <th></th>\n",
       "      <th>name</th>\n",
       "      <th>distance</th>\n",
       "      <th>location.address</th>\n",
       "    </tr>\n",
       "  </thead>\n",
       "  <tbody>\n",
       "    <tr>\n",
       "      <th>0</th>\n",
       "      <td>Rossio Square (Rossio)</td>\n",
       "      <td>120</td>\n",
       "      <td>Praça Dom Pedro IV</td>\n",
       "    </tr>\n",
       "    <tr>\n",
       "      <th>1</th>\n",
       "      <td>Praça da Figueira</td>\n",
       "      <td>5</td>\n",
       "      <td>Pç da Figueira</td>\n",
       "    </tr>\n",
       "    <tr>\n",
       "      <th>2</th>\n",
       "      <td>Miradouro do Castelo de São Jorge</td>\n",
       "      <td>448</td>\n",
       "      <td>Castelo de São Jorge</td>\n",
       "    </tr>\n",
       "    <tr>\n",
       "      <th>3</th>\n",
       "      <td>Praça dos Restauradores</td>\n",
       "      <td>425</td>\n",
       "      <td>Praça dos Restauradores, Lisbon</td>\n",
       "    </tr>\n",
       "    <tr>\n",
       "      <th>4</th>\n",
       "      <td>Miradouro de São Pedro de Alcântara</td>\n",
       "      <td>566</td>\n",
       "      <td>Rua de São Pedro de Alcântara</td>\n",
       "    </tr>\n",
       "    <tr>\n",
       "      <th>5</th>\n",
       "      <td>Largo do Carmo</td>\n",
       "      <td>319</td>\n",
       "      <td>Largo do Carmo</td>\n",
       "    </tr>\n",
       "    <tr>\n",
       "      <th>6</th>\n",
       "      <td>Arco da Rua Augusta</td>\n",
       "      <td>608</td>\n",
       "      <td>Rua Augusta, 1</td>\n",
       "    </tr>\n",
       "    <tr>\n",
       "      <th>7</th>\n",
       "      <td>Praça do Comércio (Praça do Comércio (Terreiro...</td>\n",
       "      <td>649</td>\n",
       "      <td>Terreiro do Paço</td>\n",
       "    </tr>\n",
       "    <tr>\n",
       "      <th>8</th>\n",
       "      <td>Miradouro de Santa Luzia</td>\n",
       "      <td>713</td>\n",
       "      <td>Santa Luzia</td>\n",
       "    </tr>\n",
       "    <tr>\n",
       "      <th>9</th>\n",
       "      <td>Miradouro da Senhora do Monte</td>\n",
       "      <td>742</td>\n",
       "      <td>Largo da Senhora do Monte</td>\n",
       "    </tr>\n",
       "    <tr>\n",
       "      <th>10</th>\n",
       "      <td>Largo Portas do Sol</td>\n",
       "      <td>684</td>\n",
       "      <td>Largo Portas do Sol</td>\n",
       "    </tr>\n",
       "    <tr>\n",
       "      <th>11</th>\n",
       "      <td>Cais das Colunas</td>\n",
       "      <td>808</td>\n",
       "      <td>Praça do Comércio 1</td>\n",
       "    </tr>\n",
       "    <tr>\n",
       "      <th>12</th>\n",
       "      <td>Praça Luís de Camões</td>\n",
       "      <td>582</td>\n",
       "      <td>Praça Luís de Camões</td>\n",
       "    </tr>\n",
       "    <tr>\n",
       "      <th>13</th>\n",
       "      <td>Jardim do Príncipe Real</td>\n",
       "      <td>963</td>\n",
       "      <td>Praça do Príncipe Real</td>\n",
       "    </tr>\n",
       "    <tr>\n",
       "      <th>14</th>\n",
       "      <td>Núcleo Arqueológico do Castelo</td>\n",
       "      <td>477</td>\n",
       "      <td>Castelo de São Jorge</td>\n",
       "    </tr>\n",
       "  </tbody>\n",
       "</table>\n",
       "</div>"
      ],
      "text/plain": [
       "                                                 name  distance  \\\n",
       "0                              Rossio Square (Rossio)       120   \n",
       "1                                   Praça da Figueira         5   \n",
       "2                   Miradouro do Castelo de São Jorge       448   \n",
       "3                             Praça dos Restauradores       425   \n",
       "4                 Miradouro de São Pedro de Alcântara       566   \n",
       "5                                      Largo do Carmo       319   \n",
       "6                                 Arco da Rua Augusta       608   \n",
       "7   Praça do Comércio (Praça do Comércio (Terreiro...       649   \n",
       "8                            Miradouro de Santa Luzia       713   \n",
       "9                       Miradouro da Senhora do Monte       742   \n",
       "10                                Largo Portas do Sol       684   \n",
       "11                                   Cais das Colunas       808   \n",
       "12                               Praça Luís de Camões       582   \n",
       "13                            Jardim do Príncipe Real       963   \n",
       "14                     Núcleo Arqueológico do Castelo       477   \n",
       "\n",
       "                   location.address  \n",
       "0                Praça Dom Pedro IV  \n",
       "1                    Pç da Figueira  \n",
       "2              Castelo de São Jorge  \n",
       "3   Praça dos Restauradores, Lisbon  \n",
       "4     Rua de São Pedro de Alcântara  \n",
       "5                    Largo do Carmo  \n",
       "6                    Rua Augusta, 1  \n",
       "7                  Terreiro do Paço  \n",
       "8                       Santa Luzia  \n",
       "9         Largo da Senhora do Monte  \n",
       "10              Largo Portas do Sol  \n",
       "11              Praça do Comércio 1  \n",
       "12             Praça Luís de Camões  \n",
       "13           Praça do Príncipe Real  \n",
       "14             Castelo de São Jorge  "
      ]
     },
     "execution_count": 135,
     "metadata": {},
     "output_type": "execute_result"
    }
   ],
   "source": [
    "#check name, distance and location features\n",
    "land_marks[['name', 'distance','location.address']]"
   ]
  },
  {
   "cell_type": "code",
   "execution_count": null,
   "id": "07a45cea",
   "metadata": {},
   "outputs": [],
   "source": [
    "#create landmarks table\n",
    "create_landmarks = \"\"\"\n",
    "CREATE TABLE IF NOT EXISTS landmarks(\n",
    "  id INTEGER PRIMARY KEY AUTOINCREMENT, \n",
    "  title TEXT NOT NULL, \n",
    "  distance INTEGER NOT NULL,\n",
    "  address TEXT NOT NULL,\n",
    "  category TEXT NOT NULL\n",
    ");\n",
    "\"\"\"\n",
    "execute_query(connection, create_landmarks)"
   ]
  },
  {
   "cell_type": "code",
   "execution_count": 326,
   "id": "3d8376e6-cba5-44f9-b7ca-b6cfdfab7205",
   "metadata": {},
   "outputs": [],
   "source": [
    "# add values\n",
    "insert_landmarks = \"\"\"\n",
    "INSERT INTO\n",
    "  landmarks (title, distance, address, category)\n",
    "VALUES\n",
    "  ('Rossio Square', 120, 'Praça Dom Pedro IV', 'Plaza'),\n",
    "  ('Praça da Figueira', 5, 'Pç da Figueira', 'Plaza'),\n",
    "  ('Miradouro do Castelo de São Jorge', 448, 'Castelo de São Jorge', 'Lookout'),\n",
    "  ('Praça dos Restauradores', 425, 'Praça dos Restauradores', 'Monument'),\n",
    "  ('Miradouro de São Pedro de Alcântara', 566, 'Rua de São Pedro de Alcântara', 'Lookout'),\n",
    "  ('Largo do Carmo', 319, 'Largo do Carmo', 'Landmark'),\n",
    "  ('Arco da Rua Augusta', 608, 'Rua Augusta', 'Monument'),\n",
    "  ('Praça do Comércio', 649, 'Terreiro do Paço', 'Plaza'),\n",
    "  ('Miradouro de Santa Luzia', 713, 'Santa Luzia', 'Lookout'),\n",
    "  ('Miradouro da Senhora do Monte', 742, 'Largo da Senhora do Monte', 'Lookout'),\n",
    "  ('Largo Portas do Sol', 684, 'Largo Portas do Sol', 'Plaza'),\n",
    "  ('Cais das Colunas', 808, 'Praça do Comércio', 'Plaza'),\n",
    "  ('Praça Luís de Camões', 582, 'Praça Luís de Camões', 'Plaza'),\n",
    "  ('Jardim do Príncipe Real', 963, 'Praça do Príncipe Real', 'Garden'),\n",
    "  ('Núcleo Arqueológico do Castelo', 477, 'Castelo de São Jorge', 'Historic Site');\n",
    "\"\"\""
   ]
  },
  {
   "cell_type": "code",
   "execution_count": 327,
   "id": "c5efd6b4-9e91-4f07-b836-2e160999b607",
   "metadata": {},
   "outputs": [
    {
     "name": "stdout",
     "output_type": "stream",
     "text": [
      "Query executed successfully\n"
     ]
    }
   ],
   "source": [
    "execute_query(connection, insert_landmarks)"
   ]
  },
  {
   "cell_type": "markdown",
   "id": "eda20381-1864-449d-978e-fc32f096ace5",
   "metadata": {},
   "source": [
    "#### Entertainment"
   ]
  },
  {
   "cell_type": "code",
   "execution_count": 140,
   "id": "c58a74b3-edd7-425e-837a-67e50efeecdb",
   "metadata": {},
   "outputs": [
    {
     "name": "stdout",
     "output_type": "stream",
     "text": [
      "200\n"
     ]
    }
   ],
   "source": [
    "#pull entertainment data\n",
    "url = \"https://api.foursquare.com/v3/places/search?ll=38.713757%2C-9.137990&radius=5000&categories=10000&limit=15\"\n",
    "headers = {\n",
    "    \"Accept\": \"application/json\",\n",
    "    \"Authorization\": \"KEY\"\n",
    "}\n",
    "\n",
    "response = requests.request(\"GET\", url, headers=headers)\n",
    "print(response.status_code)\n",
    "\n",
    "arts = response.json()"
   ]
  },
  {
   "cell_type": "code",
   "execution_count": 146,
   "id": "e56be9d3-8ce4-4701-a6ff-2e8336d1047c",
   "metadata": {},
   "outputs": [
    {
     "data": {
      "application/json": {
       "context": {
        "geo_bounds": {
         "circle": {
          "center": {
           "latitude": 38.713757,
           "longitude": -9.13799
          },
          "radius": 5000
         }
        }
       },
       "results": [
        {
         "categories": [
          {
           "icon": {
            "prefix": "https://ss3.4sqi.net/img/categories_v2/arts_entertainment/default_",
            "suffix": ".png"
           },
           "id": 10015,
           "name": "Escape Room"
          }
         ],
         "chains": [],
         "distance": 432,
         "fsq_id": "553bd287498e339378978ab0",
         "geocodes": {
          "main": {
           "latitude": 38.710133209662274,
           "longitude": -9.136165404338879
          }
         },
         "location": {
          "address": "Rua dos Douradores 13",
          "country": "PT",
          "cross_street": "",
          "locality": "Lisbon",
          "postcode": "1100-206",
          "region": "Lisbon"
         },
         "name": "Escape Hunt Lisbon",
         "related_places": {
          "children": [
           {
            "fsq_id": "5a390e77c4df1d2b88d86538",
            "name": "O Desassossego"
           }
          ]
         },
         "timezone": "Europe/Lisbon"
        },
        {
         "categories": [
          {
           "icon": {
            "prefix": "https://ss3.4sqi.net/img/categories_v2/arts_entertainment/musicvenue_",
            "suffix": ".png"
           },
           "id": 10039,
           "name": "Music Venue"
          }
         ],
         "chains": [],
         "distance": 375,
         "fsq_id": "4b0588a7f964a52087d222e3",
         "geocodes": {
          "main": {
           "latitude": 38.716432528655254,
           "longitude": -9.140630382985059
          }
         },
         "location": {
          "address": "Rua Portas de Santo Antão 96",
          "country": "PT",
          "locality": "Lisbon",
          "postcode": "1150-269",
          "region": "Lisbon"
         },
         "name": "Coliseu dos Recreios",
         "related_places": {
          "children": [
           {
            "fsq_id": "58ed380ae9233e1006b95bfc",
            "name": "Postmodern Jukebox"
           }
          ]
         },
         "timezone": "Europe/Lisbon"
        },
        {
         "categories": [
          {
           "icon": {
            "prefix": "https://ss3.4sqi.net/img/categories_v2/arts_entertainment/performingarts_theater_",
            "suffix": ".png"
           },
           "id": 10043,
           "name": "Theater"
          }
         ],
         "chains": [],
         "distance": 621,
         "fsq_id": "4bc8c20f14d795216ac969e9",
         "geocodes": {
          "main": {
           "latitude": 38.70933450072776,
           "longitude": -9.14236926085078
          }
         },
         "location": {
          "address": "Rua António Maria Cardoso, 38",
          "country": "PT",
          "locality": "Lisbon",
          "postcode": "1200-027",
          "region": "Lisbon"
         },
         "name": "Teatro Municipal São Luiz",
         "related_places": {
          "children": [
           {
            "fsq_id": "596235ef58aa7f4a58eadbe6",
            "name": "Sala Mário Viegas"
           }
          ]
         },
         "timezone": "Europe/Lisbon"
        },
        {
         "categories": [
          {
           "icon": {
            "prefix": "https://ss3.4sqi.net/img/categories_v2/arts_entertainment/musicvenue_",
            "suffix": ".png"
           },
           "id": 10039,
           "name": "Music Venue"
          }
         ],
         "chains": [],
         "distance": 235,
         "fsq_id": "4b0588a7f964a52096d222e3",
         "geocodes": {
          "main": {
           "latitude": 38.714606127379064,
           "longitude": -9.140479227145812
          }
         },
         "location": {
          "address": "Praça Dom Pedro IV",
          "country": "PT",
          "cross_street": "",
          "locality": "Lisbon",
          "neighborhood": [
           "Figueira"
          ],
          "postcode": "1100-201",
          "region": "Lisbon"
         },
         "name": "Teatro Nacional D. Maria II",
         "related_places": {
          "children": [
           {
            "fsq_id": "58d6d89c409f5659034d278d",
            "name": "Livraria Teatro Nacional D. Maria II"
           },
           {
            "fsq_id": "592efd55f62e09355c89de24",
            "name": "Café Garrett"
           }
          ]
         },
         "timezone": "Europe/Lisbon"
        },
        {
         "categories": [
          {
           "icon": {
            "prefix": "https://ss3.4sqi.net/img/categories_v2/arts_entertainment/default_",
            "suffix": ".png"
           },
           "id": 10000,
           "name": "Arts and Entertainment"
          }
         ],
         "chains": [],
         "distance": 505,
         "fsq_id": "4c22857099282d7fd64267b0",
         "geocodes": {
          "main": {
           "latitude": 38.709740244034116,
           "longitude": -9.135242372553064
          }
         },
         "location": {
          "address": "Rua de São Julião, 27",
          "country": "PT",
          "cross_street": "R. da Madalena",
          "locality": "Lisbon",
          "neighborhood": [
           "Madalena"
          ],
          "postcode": "1100-524",
          "region": "Lisbon"
         },
         "name": "Trobadores - Taberna Medieval",
         "related_places": {},
         "timezone": "Europe/Lisbon"
        },
        {
         "categories": [
          {
           "icon": {
            "prefix": "https://ss3.4sqi.net/img/categories_v2/arts_entertainment/museum_",
            "suffix": ".png"
           },
           "id": 10027,
           "name": "Museum"
          }
         ],
         "chains": [],
         "distance": 473,
         "fsq_id": "4b0588a2f964a52020d122e3",
         "geocodes": {
          "main": {
           "latitude": 38.7135975318174,
           "longitude": -9.143446683883667
          }
         },
         "location": {
          "address": "Largo Trindade Coelho",
          "country": "PT",
          "cross_street": "",
          "locality": "Lisbon",
          "postcode": "1200-470",
          "region": "Lisbon"
         },
         "name": "Museu de São Roque",
         "related_places": {},
         "timezone": "Europe/Lisbon"
        },
        {
         "categories": [
          {
           "icon": {
            "prefix": "https://ss3.4sqi.net/img/categories_v2/arts_entertainment/performingarts_theater_",
            "suffix": ".png"
           },
           "id": 10043,
           "name": "Theater"
          }
         ],
         "chains": [],
         "distance": 462,
         "fsq_id": "4e7f8cbbcc2101b4ffa138f3",
         "geocodes": {
          "main": {
           "latitude": 38.7151294945729,
           "longitude": -9.132955059699011
          }
         },
         "location": {
          "address": "Costa do Castelo, 75",
          "country": "PT",
          "locality": "Lisbon",
          "region": "Lisbon"
         },
         "name": "Teatro Taborda",
         "related_places": {
          "children": [
           {
            "fsq_id": "4f0cacfbe4b0dfc4356a5515",
            "name": "Café da Garagem"
           }
          ]
         },
         "timezone": "Europe/Lisbon"
        },
        {
         "categories": [
          {
           "icon": {
            "prefix": "https://ss3.4sqi.net/img/categories_v2/arts_entertainment/museum_",
            "suffix": ".png"
           },
           "id": 10027,
           "name": "Museum"
          }
         ],
         "chains": [],
         "distance": 311,
         "fsq_id": "4b0588a2f964a5201fd122e3",
         "geocodes": {
          "main": {
           "latitude": 38.711980391790235,
           "longitude": -9.140772647825779
          }
         },
         "location": {
          "address": "Largo do Carmo",
          "country": "PT",
          "locality": "Lisbon",
          "postcode": "1200-092",
          "region": "Lisbon"
         },
         "name": "Museu Arqueológico do Carmo",
         "related_places": {
          "children": [
           {
            "fsq_id": "5b28172975dcb7002ce4ac04",
            "name": "Lisbon Under Stars"
           }
          ]
         },
         "timezone": "Europe/Lisbon"
        },
        {
         "categories": [
          {
           "icon": {
            "prefix": "https://ss3.4sqi.net/img/categories_v2/nightlife/nightclub_",
            "suffix": ".png"
           },
           "id": 10032,
           "name": "Night Club"
          }
         ],
         "chains": [],
         "distance": 805,
         "fsq_id": "4b0588a7f964a520a9d222e3",
         "geocodes": {
          "main": {
           "latitude": 38.7180651679614,
           "longitude": -9.145460777423233
          }
         },
         "location": {
          "address": "Praça da Alegria 48",
          "country": "PT",
          "locality": "Lisbon",
          "postcode": "1250-004",
          "region": "Lisbon"
         },
         "name": "Hot Clube de Portugal",
         "related_places": {},
         "timezone": "Europe/Lisbon"
        },
        {
         "categories": [
          {
           "icon": {
            "prefix": "https://ss3.4sqi.net/img/categories_v2/nightlife/nightclub_",
            "suffix": ".png"
           },
           "id": 10032,
           "name": "Night Club"
          },
          {
           "icon": {
            "prefix": "https://ss3.4sqi.net/img/categories_v2/nightlife/pub_",
            "suffix": ".png"
           },
           "id": 13003,
           "name": "Bar"
          },
          {
           "icon": {
            "prefix": "https://ss3.4sqi.net/img/categories_v2/food/default_",
            "suffix": ".png"
           },
           "id": 13065,
           "name": "Restaurant"
          }
         ],
         "chains": [],
         "distance": 440,
         "fsq_id": "4b0588a9f964a52027d322e3",
         "geocodes": {
          "main": {
           "latitude": 38.71140991147003,
           "longitude": -9.133896693079338
          }
         },
         "location": {
          "address": "Rua da Costa do Castelo, 1-7",
          "country": "PT",
          "locality": "Lisbon",
          "neighborhood": [
           "Castelo"
          ],
          "postcode": "1149-079",
          "region": "Lisbon"
         },
         "name": "Chapitô",
         "related_places": {
          "children": [
           {
            "fsq_id": "5804f03c38fa104ef10e981b",
            "name": "Chapitô à Mesa"
           },
           {
            "fsq_id": "4d97c193e07ea35d6d6ae202",
            "name": "Bartô"
           }
          ]
         },
         "timezone": "Europe/Lisbon"
        },
        {
         "categories": [
          {
           "icon": {
            "prefix": "https://ss3.4sqi.net/img/categories_v2/arts_entertainment/default_",
            "suffix": ".png"
           },
           "id": 10000,
           "name": "Arts and Entertainment"
          },
          {
           "icon": {
            "prefix": "https://ss3.4sqi.net/img/categories_v2/nightlife/pub_",
            "suffix": ".png"
           },
           "id": 13003,
           "name": "Bar"
          },
          {
           "icon": {
            "prefix": "https://ss3.4sqi.net/img/categories_v2/food/gastropub_",
            "suffix": ".png"
           },
           "id": 13057,
           "name": "Gastropub"
          }
         ],
         "chains": [],
         "distance": 844,
         "fsq_id": "51239061e4b0bcef9d6c5a05",
         "geocodes": {
          "main": {
           "latitude": 38.72084089219337,
           "longitude": -9.134476614595926
          }
         },
         "location": {
          "address": "Largo do Intendente, 45",
          "country": "PT",
          "cross_street": "",
          "locality": "Lisbon",
          "postcode": "1100-285"
         },
         "name": "Casa Independente",
         "related_places": {},
         "timezone": "Europe/Lisbon"
        },
        {
         "categories": [
          {
           "icon": {
            "prefix": "https://ss3.4sqi.net/img/categories_v2/arts_entertainment/musicvenue_",
            "suffix": ".png"
           },
           "id": 10039,
           "name": "Music Venue"
          },
          {
           "icon": {
            "prefix": "https://ss3.4sqi.net/img/categories_v2/food/default_",
            "suffix": ".png"
           },
           "id": 13032,
           "name": "Cafes, Coffee, and Tea Houses"
          },
          {
           "icon": {
            "prefix": "https://ss3.4sqi.net/img/categories_v2/food/default_",
            "suffix": ".png"
           },
           "id": 13065,
           "name": "Restaurant"
          }
         ],
         "chains": [],
         "distance": 797,
         "fsq_id": "554656dc498e12237beb2162",
         "geocodes": {
          "main": {
           "latitude": 38.71645327352619,
           "longitude": -9.129463847927122
          }
         },
         "location": {
          "address": "Rua da Voz do Operário 60",
          "country": "PT",
          "cross_street": "",
          "locality": "Lisbon",
          "neighborhood": [
           "Graça"
          ],
          "postcode": "1070-087",
          "region": "Lisbon"
         },
         "name": "Damas",
         "related_places": {},
         "timezone": "Europe/Lisbon"
        },
        {
         "categories": [
          {
           "icon": {
            "prefix": "https://ss3.4sqi.net/img/categories_v2/arts_entertainment/movietheater_",
            "suffix": ".png"
           },
           "id": 10024,
           "name": "Movie Theater"
          }
         ],
         "chains": [],
         "distance": 1018,
         "fsq_id": "4b0588a7f964a5208dd222e3",
         "geocodes": {
          "main": {
           "latitude": 38.72038933499074,
           "longitude": -9.146095522426279
          }
         },
         "location": {
          "address": "Avenida da Liberdade 175",
          "country": "PT",
          "locality": "Lisbon",
          "postcode": "1250-141",
          "region": "Lisbon"
         },
         "name": "Cinema São Jorge",
         "related_places": {},
         "timezone": "Europe/Lisbon"
        },
        {
         "categories": [
          {
           "icon": {
            "prefix": "https://ss3.4sqi.net/img/categories_v2/arts_entertainment/movietheater_",
            "suffix": ".png"
           },
           "id": 10026,
           "name": "Indie Movie Theater"
          },
          {
           "icon": {
            "prefix": "https://ss3.4sqi.net/img/categories_v2/food/cafe_",
            "suffix": ".png"
           },
           "id": 13034,
           "name": "Café"
          },
          {
           "icon": {
            "prefix": "https://ss3.4sqi.net/img/categories_v2/food/default_",
            "suffix": ".png"
           },
           "id": 13065,
           "name": "Restaurant"
          }
         ],
         "chains": [],
         "distance": 1196,
         "fsq_id": "4b0588a4f964a520b3d122e3",
         "geocodes": {
          "main": {
           "latitude": 38.72059259900411,
           "longitude": -9.14865052221172
          }
         },
         "location": {
          "address": "Rua Barata Salgueiro 39",
          "country": "PT",
          "locality": "Lisbon",
          "neighborhood": [
           "Salgueiro"
          ],
          "postcode": "1269-059",
          "region": "Lisbon"
         },
         "name": "Cinemateca Portuguesa - Museu do Cinema",
         "related_places": {},
         "timezone": "Europe/Lisbon"
        },
        {
         "categories": [
          {
           "icon": {
            "prefix": "https://ss3.4sqi.net/img/categories_v2/arts_entertainment/default_",
            "suffix": ".png"
           },
           "id": 10000,
           "name": "Arts and Entertainment"
          },
          {
           "icon": {
            "prefix": "https://ss3.4sqi.net/img/categories_v2/nightlife/pub_",
            "suffix": ".png"
           },
           "id": 13006,
           "name": "Beer Bar"
          },
          {
           "icon": {
            "prefix": "https://ss3.4sqi.net/img/categories_v2/nightlife/beergarden_",
            "suffix": ".png"
           },
           "id": 13007,
           "name": "Beer Garden"
          }
         ],
         "chains": [],
         "distance": 1144,
         "fsq_id": "539c7563498e606f9b4166ec",
         "geocodes": {
          "main": {
           "latitude": 38.715183,
           "longitude": -9.151064
          }
         },
         "location": {
          "address": "Praça das Flores, 62",
          "country": "PT",
          "cross_street": "",
          "locality": "Lisbon",
          "neighborhood": [
           "Misericórdia, Lisboa"
          ],
          "postcode": "1200-192",
          "region": "Lisbon"
         },
         "name": "Cerveteca Lisboa",
         "related_places": {},
         "timezone": "Europe/Lisbon"
        }
       ]
      },
      "text/plain": [
       "<IPython.core.display.JSON object>"
      ]
     },
     "metadata": {
      "application/json": {
       "expanded": true,
       "root": "root"
      }
     },
     "output_type": "display_data"
    }
   ],
   "source": [
    "#pull json and display\n",
    "with open('arts.json', 'w') as json_file:\n",
    "    json.dump(arts,json_file)\n",
    "    \n",
    "display(JSON(arts,expanded=True))"
   ]
  },
  {
   "cell_type": "code",
   "execution_count": 142,
   "id": "99753f0d-5ad4-4a9e-9fd8-59ad9a00e938",
   "metadata": {},
   "outputs": [
    {
     "data": {
      "text/html": [
       "<div>\n",
       "<style scoped>\n",
       "    .dataframe tbody tr th:only-of-type {\n",
       "        vertical-align: middle;\n",
       "    }\n",
       "\n",
       "    .dataframe tbody tr th {\n",
       "        vertical-align: top;\n",
       "    }\n",
       "\n",
       "    .dataframe thead th {\n",
       "        text-align: right;\n",
       "    }\n",
       "</style>\n",
       "<table border=\"1\" class=\"dataframe\">\n",
       "  <thead>\n",
       "    <tr style=\"text-align: right;\">\n",
       "      <th></th>\n",
       "      <th>name</th>\n",
       "      <th>distance</th>\n",
       "      <th>location.address</th>\n",
       "    </tr>\n",
       "  </thead>\n",
       "  <tbody>\n",
       "    <tr>\n",
       "      <th>0</th>\n",
       "      <td>Escape Hunt Lisbon</td>\n",
       "      <td>432</td>\n",
       "      <td>Rua dos Douradores 13</td>\n",
       "    </tr>\n",
       "    <tr>\n",
       "      <th>1</th>\n",
       "      <td>Coliseu dos Recreios</td>\n",
       "      <td>375</td>\n",
       "      <td>Rua Portas de Santo Antão 96</td>\n",
       "    </tr>\n",
       "    <tr>\n",
       "      <th>2</th>\n",
       "      <td>Teatro Municipal São Luiz</td>\n",
       "      <td>621</td>\n",
       "      <td>Rua António Maria Cardoso, 38</td>\n",
       "    </tr>\n",
       "    <tr>\n",
       "      <th>3</th>\n",
       "      <td>Teatro Nacional D. Maria II</td>\n",
       "      <td>235</td>\n",
       "      <td>Praça Dom Pedro IV</td>\n",
       "    </tr>\n",
       "    <tr>\n",
       "      <th>4</th>\n",
       "      <td>Trobadores - Taberna Medieval</td>\n",
       "      <td>505</td>\n",
       "      <td>Rua de São Julião, 27</td>\n",
       "    </tr>\n",
       "    <tr>\n",
       "      <th>5</th>\n",
       "      <td>Museu de São Roque</td>\n",
       "      <td>473</td>\n",
       "      <td>Largo Trindade Coelho</td>\n",
       "    </tr>\n",
       "    <tr>\n",
       "      <th>6</th>\n",
       "      <td>Teatro Taborda</td>\n",
       "      <td>462</td>\n",
       "      <td>Costa do Castelo, 75</td>\n",
       "    </tr>\n",
       "    <tr>\n",
       "      <th>7</th>\n",
       "      <td>Museu Arqueológico do Carmo</td>\n",
       "      <td>311</td>\n",
       "      <td>Largo do Carmo</td>\n",
       "    </tr>\n",
       "    <tr>\n",
       "      <th>8</th>\n",
       "      <td>Hot Clube de Portugal</td>\n",
       "      <td>805</td>\n",
       "      <td>Praça da Alegria 48</td>\n",
       "    </tr>\n",
       "    <tr>\n",
       "      <th>9</th>\n",
       "      <td>Chapitô</td>\n",
       "      <td>440</td>\n",
       "      <td>Rua da Costa do Castelo, 1-7</td>\n",
       "    </tr>\n",
       "    <tr>\n",
       "      <th>10</th>\n",
       "      <td>Casa Independente</td>\n",
       "      <td>844</td>\n",
       "      <td>Largo do Intendente, 45</td>\n",
       "    </tr>\n",
       "    <tr>\n",
       "      <th>11</th>\n",
       "      <td>Damas</td>\n",
       "      <td>797</td>\n",
       "      <td>Rua da Voz do Operário 60</td>\n",
       "    </tr>\n",
       "    <tr>\n",
       "      <th>12</th>\n",
       "      <td>Cinema São Jorge</td>\n",
       "      <td>1018</td>\n",
       "      <td>Avenida da Liberdade 175</td>\n",
       "    </tr>\n",
       "    <tr>\n",
       "      <th>13</th>\n",
       "      <td>Cinemateca Portuguesa - Museu do Cinema</td>\n",
       "      <td>1196</td>\n",
       "      <td>Rua Barata Salgueiro 39</td>\n",
       "    </tr>\n",
       "    <tr>\n",
       "      <th>14</th>\n",
       "      <td>Cerveteca Lisboa</td>\n",
       "      <td>1144</td>\n",
       "      <td>Praça das Flores, 62</td>\n",
       "    </tr>\n",
       "  </tbody>\n",
       "</table>\n",
       "</div>"
      ],
      "text/plain": [
       "                                       name  distance  \\\n",
       "0                        Escape Hunt Lisbon       432   \n",
       "1                      Coliseu dos Recreios       375   \n",
       "2                 Teatro Municipal São Luiz       621   \n",
       "3               Teatro Nacional D. Maria II       235   \n",
       "4             Trobadores - Taberna Medieval       505   \n",
       "5                        Museu de São Roque       473   \n",
       "6                            Teatro Taborda       462   \n",
       "7               Museu Arqueológico do Carmo       311   \n",
       "8                     Hot Clube de Portugal       805   \n",
       "9                                   Chapitô       440   \n",
       "10                        Casa Independente       844   \n",
       "11                                    Damas       797   \n",
       "12                         Cinema São Jorge      1018   \n",
       "13  Cinemateca Portuguesa - Museu do Cinema      1196   \n",
       "14                         Cerveteca Lisboa      1144   \n",
       "\n",
       "                 location.address  \n",
       "0           Rua dos Douradores 13  \n",
       "1    Rua Portas de Santo Antão 96  \n",
       "2   Rua António Maria Cardoso, 38  \n",
       "3              Praça Dom Pedro IV  \n",
       "4           Rua de São Julião, 27  \n",
       "5           Largo Trindade Coelho  \n",
       "6            Costa do Castelo, 75  \n",
       "7                  Largo do Carmo  \n",
       "8             Praça da Alegria 48  \n",
       "9    Rua da Costa do Castelo, 1-7  \n",
       "10        Largo do Intendente, 45  \n",
       "11      Rua da Voz do Operário 60  \n",
       "12       Avenida da Liberdade 175  \n",
       "13        Rua Barata Salgueiro 39  \n",
       "14           Praça das Flores, 62  "
      ]
     },
     "execution_count": 142,
     "metadata": {},
     "output_type": "execute_result"
    }
   ],
   "source": [
    "#normalize json and view name, distance and location\n",
    "arts_table = pd.json_normalize(arts, record_path='results')\n",
    "arts_table[['name', 'distance','location.address']]"
   ]
  },
  {
   "cell_type": "code",
   "execution_count": null,
   "id": "8af8976e",
   "metadata": {},
   "outputs": [],
   "source": [
    "#create table\n",
    "create_entertain = \"\"\"\n",
    "CREATE TABLE IF NOT EXISTS entertain(\n",
    "  id INTEGER PRIMARY KEY AUTOINCREMENT, \n",
    "  title TEXT NOT NULL, \n",
    "  distance INTEGER NOT NULL,\n",
    "  street TEXT NOT NULL,\n",
    "  category TEXT NOT NULL\n",
    ");\n",
    "\"\"\"\n",
    "execute_query(connection, create_entertain)"
   ]
  },
  {
   "cell_type": "code",
   "execution_count": 330,
   "id": "8d2df093-28fa-45a0-960a-94531b15fbc8",
   "metadata": {},
   "outputs": [],
   "source": [
    "#insert values\n",
    "insert_entertain = \"\"\"\n",
    "INSERT INTO\n",
    "  entertain (title, distance, street, category)\n",
    "VALUES\n",
    "  ('Escape Hunt Lisbon', 432, 'Rua dos Douradores', 'Game'),\n",
    "  ('Coliseu dos Recreios', 375, 'Rua Portas de Santo Antão', 'Auditorium'),\n",
    "  ('Teatro Municipal São Luiz', 621, 'Rua António Maria Cardoso', 'Theater'),\n",
    "  ('Teatro Nacional D. Maria II', 235, 'Praça Dom Pedro IV', 'Theater'),\n",
    "  ('Trobadores - Taberna Medieval', 505, 'Rua de São Julião', 'Tavern'),\n",
    "  ('Museu de São Roque', 473, 'Largo Trindade Coelho', 'Museum'),\n",
    "  ('Teatro Taborda', 462, 'Costa do Castelo', 'Theater'),\n",
    "  ('Museu Arqueológico do Carmo', 311, 'Largo do Carmo', 'Museum'),\n",
    "  ('Hot Clube de Portugal', 805, 'Praça da Alegria', 'Club'),\n",
    "  ('Chapitô', 440, 'Costa do Castelo', 'Restaurant'),\n",
    "  ('Casa Independente', 844, 'Largo do Intendente', 'Bar'),\n",
    "  ('Damas', 797, 'Rua da Voz do Operário', 'Cafe'),\n",
    "  ('Cinema São Jorge', 1018, 'Avenida da Liberdade', 'Cinema'),\n",
    "  ('Cinemateca Portuguesa - Museu do Cinema', 1196, 'Rua Barata Salgueiro', 'Cafe'),\n",
    "  ('Cerveteca Lisboa', 1144, 'Praça das Flores', 'Bar');\n",
    "\"\"\"\n",
    "execute_query(connection, insert_entertain)"
   ]
  },
  {
   "cell_type": "markdown",
   "id": "9347b3a5-27b5-4f00-b156-76a4f6217317",
   "metadata": {},
   "source": [
    "### Bakeries"
   ]
  },
  {
   "cell_type": "code",
   "execution_count": 149,
   "id": "a7211d42-58cb-4aab-8ebf-fc7b771b4491",
   "metadata": {},
   "outputs": [
    {
     "name": "stdout",
     "output_type": "stream",
     "text": [
      "200\n"
     ]
    },
    {
     "data": {
      "application/json": {
       "context": {
        "geo_bounds": {
         "circle": {
          "center": {
           "latitude": 38.713757,
           "longitude": -9.13799
          },
          "radius": 5000
         }
        }
       },
       "results": [
        {
         "categories": [
          {
           "icon": {
            "prefix": "https://ss3.4sqi.net/img/categories_v2/food/bakery_",
            "suffix": ".png"
           },
           "id": 13002,
           "name": "Bakery"
          },
          {
           "icon": {
            "prefix": "https://ss3.4sqi.net/img/categories_v2/food/default_",
            "suffix": ".png"
           },
           "id": 13065,
           "name": "Restaurant"
          }
         ],
         "chains": [],
         "distance": 124,
         "fsq_id": "58f8bcf24acb193046db68ee",
         "geocodes": {
          "main": {
           "latitude": 38.71270362914383,
           "longitude": -9.138491909397645
          }
         },
         "location": {
          "country": "PT",
          "cross_street": "",
          "locality": "Lisbon",
          "neighborhood": [
           "Centro Histórico"
          ],
          "postcode": "1100-052",
          "region": "Lisbon"
         },
         "name": "Fabrica da Nata - Rua Augusta",
         "related_places": {},
         "timezone": "Europe/Lisbon"
        },
        {
         "categories": [
          {
           "icon": {
            "prefix": "https://ss3.4sqi.net/img/categories_v2/food/bakery_",
            "suffix": ".png"
           },
           "id": 13002,
           "name": "Bakery"
          },
          {
           "icon": {
            "prefix": "https://ss3.4sqi.net/img/categories_v2/food/dessert_",
            "suffix": ".png"
           },
           "id": 13047,
           "name": "Pastry Shop"
          },
          {
           "icon": {
            "prefix": "https://ss3.4sqi.net/img/categories_v2/food/default_",
            "suffix": ".png"
           },
           "id": 13065,
           "name": "Restaurant"
          }
         ],
         "chains": [],
         "distance": 622,
         "fsq_id": "53bedd65498e95610660114d",
         "geocodes": {
          "main": {
           "latitude": 38.710779,
           "longitude": -9.14407
          }
         },
         "location": {
          "address": "Rua do Loreto, 2",
          "country": "PT",
          "cross_street": "",
          "locality": "Lisbon",
          "neighborhood": [
           "Misericórdia"
          ],
          "postcode": "1200-242",
          "region": "Lisbon"
         },
         "name": "Manteigaria",
         "related_places": {},
         "timezone": "Europe/Lisbon"
        },
        {
         "categories": [
          {
           "icon": {
            "prefix": "https://ss3.4sqi.net/img/categories_v2/food/bakery_",
            "suffix": ".png"
           },
           "id": 13002,
           "name": "Bakery"
          },
          {
           "icon": {
            "prefix": "https://ss3.4sqi.net/img/categories_v2/food/cafe_",
            "suffix": ".png"
           },
           "id": 13034,
           "name": "Café"
          },
          {
           "icon": {
            "prefix": "https://ss3.4sqi.net/img/categories_v2/food/default_",
            "suffix": ".png"
           },
           "id": 13065,
           "name": "Restaurant"
          }
         ],
         "chains": [],
         "distance": 1014,
         "fsq_id": "58ab363d23188e3a4491ced8",
         "geocodes": {
          "main": {
           "latitude": 38.70703290404172,
           "longitude": -9.145907223713133
          }
         },
         "location": {
          "address": "Avenida 24 de Julho, 49",
          "country": "PT",
          "cross_street": "Mercado da Ribeira",
          "locality": "Lisbon",
          "postcode": "1200-481",
          "region": "Lisbon"
         },
         "name": "Manteigaria Silva",
         "related_places": {
          "parent": {
           "fsq_id": "56929539498e43f06f414c22",
           "name": "Time Out Market Lisboa"
          }
         },
         "timezone": "Europe/Lisbon"
        },
        {
         "categories": [
          {
           "icon": {
            "prefix": "https://ss3.4sqi.net/img/categories_v2/food/bakery_",
            "suffix": ".png"
           },
           "id": 13002,
           "name": "Bakery"
          },
          {
           "icon": {
            "prefix": "https://ss3.4sqi.net/img/categories_v2/food/default_",
            "suffix": ".png"
           },
           "id": 13065,
           "name": "Restaurant"
          }
         ],
         "chains": [],
         "distance": 1008,
         "fsq_id": "5927204c28122f403da6e4ff",
         "geocodes": {
          "main": {
           "latitude": 38.722582857191455,
           "longitude": -9.135277814241519
          }
         },
         "location": {
          "address": "Avenida Alm. Reis 29",
          "country": "PT",
          "cross_street": "",
          "locality": "Lisbon",
          "neighborhood": [
           "Anjos"
          ],
          "postcode": "1150-008",
          "region": "Lisbon"
         },
         "name": "A Padaria Portuguesa",
         "related_places": {},
         "timezone": "Europe/Lisbon"
        },
        {
         "categories": [
          {
           "icon": {
            "prefix": "https://ss3.4sqi.net/img/categories_v2/food/bakery_",
            "suffix": ".png"
           },
           "id": 13002,
           "name": "Bakery"
          },
          {
           "icon": {
            "prefix": "https://ss3.4sqi.net/img/categories_v2/food/default_",
            "suffix": ".png"
           },
           "id": 13065,
           "name": "Restaurant"
          }
         ],
         "chains": [],
         "distance": 1530,
         "fsq_id": "59f751464ce0660d9a80e380",
         "geocodes": {
          "main": {
           "latitude": 38.722164664482854,
           "longitude": -9.15196949972099
          }
         },
         "location": {
          "address": "Rua Braamcamp 68, Lisbon 1250-051 Portugal",
          "country": "PT",
          "cross_street": "",
          "locality": "Lisbon",
          "postcode": "1250-051",
          "region": "Lisbon"
         },
         "name": "Simpli",
         "related_places": {},
         "timezone": "Europe/Lisbon"
        },
        {
         "categories": [
          {
           "icon": {
            "prefix": "https://ss3.4sqi.net/img/categories_v2/food/bakery_",
            "suffix": ".png"
           },
           "id": 13002,
           "name": "Bakery"
          },
          {
           "icon": {
            "prefix": "https://ss3.4sqi.net/img/categories_v2/food/cafe_",
            "suffix": ".png"
           },
           "id": 13034,
           "name": "Café"
          },
          {
           "icon": {
            "prefix": "https://ss3.4sqi.net/img/categories_v2/food/dessert_",
            "suffix": ".png"
           },
           "id": 13047,
           "name": "Pastry Shop"
          }
         ],
         "chains": [],
         "distance": 332,
         "fsq_id": "56cdca59cd1022b229b03e61",
         "geocodes": {
          "main": {
           "latitude": 38.71077584153382,
           "longitude": -9.137721097926821
          }
         },
         "location": {
          "address": "Rua Augusta, 142",
          "country": "PT",
          "cross_street": "",
          "locality": "Lisbon",
          "postcode": "1100-054",
          "region": "Lisbon"
         },
         "name": "Paul",
         "related_places": {},
         "timezone": "Europe/Lisbon"
        },
        {
         "categories": [
          {
           "icon": {
            "prefix": "https://ss3.4sqi.net/img/categories_v2/food/bakery_",
            "suffix": ".png"
           },
           "id": 13002,
           "name": "Bakery"
          },
          {
           "icon": {
            "prefix": "https://ss3.4sqi.net/img/categories_v2/food/cafe_",
            "suffix": ".png"
           },
           "id": 13034,
           "name": "Café"
          },
          {
           "icon": {
            "prefix": "https://ss3.4sqi.net/img/categories_v2/food/default_",
            "suffix": ".png"
           },
           "id": 13065,
           "name": "Restaurant"
          }
         ],
         "chains": [],
         "distance": 64,
         "fsq_id": "4b0588a8f964a520c7d222e3",
         "geocodes": {
          "main": {
           "latitude": 38.71319304466737,
           "longitude": -9.138160536828913
          }
         },
         "location": {
          "address": "Praça da Figueira, 18",
          "country": "PT",
          "locality": "Lisbon",
          "neighborhood": [
           "Figueira"
          ],
          "postcode": "1100-241",
          "region": "Lisbon"
         },
         "name": "Confeitaria Nacional",
         "related_places": {},
         "timezone": "Europe/Lisbon"
        },
        {
         "categories": [
          {
           "icon": {
            "prefix": "https://ss3.4sqi.net/img/categories_v2/food/bakery_",
            "suffix": ".png"
           },
           "id": 13002,
           "name": "Bakery"
          }
         ],
         "chains": [],
         "distance": 875,
         "fsq_id": "57989ef3498e3b1a7cf29db6",
         "geocodes": {
          "main": {
           "latitude": 38.71849036265042,
           "longitude": -9.129916389811676
          }
         },
         "location": {
          "country": "PT",
          "cross_street": "",
          "locality": "Lisbon",
          "postcode": "1170-165",
          "region": "Lisbon"
         },
         "name": "Pastelaria SAGA",
         "related_places": {},
         "timezone": "Europe/Lisbon"
        },
        {
         "categories": [
          {
           "icon": {
            "prefix": "https://ss3.4sqi.net/img/categories_v2/food/bakery_",
            "suffix": ".png"
           },
           "id": 13002,
           "name": "Bakery"
          }
         ],
         "chains": [],
         "distance": 1233,
         "fsq_id": "4df4826e63659543662cdf21",
         "geocodes": {
          "main": {
           "latitude": 38.721161083494096,
           "longitude": -9.127396158643327
          }
         },
         "location": {
          "address": "Rua de Sapadores, 97",
          "country": "PT",
          "locality": "Lisbon",
          "region": "Lisbon"
         },
         "name": "Forno de Sapadores",
         "related_places": {},
         "timezone": "Europe/Lisbon"
        },
        {
         "categories": [
          {
           "icon": {
            "prefix": "https://ss3.4sqi.net/img/categories_v2/food/bakery_",
            "suffix": ".png"
           },
           "id": 13002,
           "name": "Bakery"
          },
          {
           "icon": {
            "prefix": "https://ss3.4sqi.net/img/categories_v2/food/default_",
            "suffix": ".png"
           },
           "id": 13065,
           "name": "Restaurant"
          }
         ],
         "chains": [],
         "distance": 956,
         "fsq_id": "56794c2d498e509961e5d36b",
         "geocodes": {
          "main": {
           "latitude": 38.70663923531748,
           "longitude": -9.144197186308716
          }
         },
         "location": {
          "address": "Avenida 24 Julho, 1",
          "country": "PT",
          "cross_street": "",
          "locality": "Lisbon",
          "postcode": "1200-479",
          "region": "Lisbon"
         },
         "name": "A Padaria Portuguesa",
         "related_places": {},
         "timezone": "Europe/Lisbon"
        },
        {
         "categories": [
          {
           "icon": {
            "prefix": "https://ss3.4sqi.net/img/categories_v2/food/bakery_",
            "suffix": ".png"
           },
           "id": 13002,
           "name": "Bakery"
          },
          {
           "icon": {
            "prefix": "https://ss3.4sqi.net/img/categories_v2/food/coffeeshop_",
            "suffix": ".png"
           },
           "id": 13035,
           "name": "Coffee Shop"
          },
          {
           "icon": {
            "prefix": "https://ss3.4sqi.net/img/categories_v2/food/portuguese_",
            "suffix": ".png"
           },
           "id": 13325,
           "name": "Portuguese Restaurant"
          }
         ],
         "chains": [],
         "distance": 2496,
         "fsq_id": "4b0588a1f964a520ced022e3",
         "geocodes": {
          "main": {
           "latitude": 38.73544385341053,
           "longitude": -9.145506620407104
          }
         },
         "location": {
          "address": "Avenida da República, 15",
          "country": "PT",
          "locality": "Lisbon",
          "postcode": "1050-185",
          "region": "Lisbon"
         },
         "name": "Versailles",
         "related_places": {},
         "timezone": "Europe/Lisbon"
        },
        {
         "categories": [
          {
           "icon": {
            "prefix": "https://ss3.4sqi.net/img/categories_v2/food/bakery_",
            "suffix": ".png"
           },
           "id": 13002,
           "name": "Bakery"
          },
          {
           "icon": {
            "prefix": "https://ss3.4sqi.net/img/categories_v2/food/cafe_",
            "suffix": ".png"
           },
           "id": 13034,
           "name": "Café"
          },
          {
           "icon": {
            "prefix": "https://ss3.4sqi.net/img/categories_v2/food/default_",
            "suffix": ".png"
           },
           "id": 13065,
           "name": "Restaurant"
          }
         ],
         "chains": [],
         "distance": 1953,
         "fsq_id": "4eca5c6b775bf65c06c44cb7",
         "geocodes": {
          "main": {
           "latitude": 38.73129481674355,
           "longitude": -9.136410122342193
          }
         },
         "location": {
          "address": "Rua Pascoal de Melo, 15 A",
          "country": "PT",
          "locality": "Lisbon",
          "postcode": "1000-059",
          "region": "Lisbon"
         },
         "name": "A Padaria Portuguesa",
         "related_places": {},
         "timezone": "Europe/Lisbon"
        },
        {
         "categories": [
          {
           "icon": {
            "prefix": "https://ss3.4sqi.net/img/categories_v2/food/bakery_",
            "suffix": ".png"
           },
           "id": 13002,
           "name": "Bakery"
          },
          {
           "icon": {
            "prefix": "https://ss3.4sqi.net/img/categories_v2/food/default_",
            "suffix": ".png"
           },
           "id": 13065,
           "name": "Restaurant"
          }
         ],
         "chains": [],
         "distance": 847,
         "fsq_id": "4fddc4c6e4b0599174fbeaa4",
         "geocodes": {
          "main": {
           "latitude": 38.718084459418385,
           "longitude": -9.129942038232503
          }
         },
         "location": {
          "address": "Largo da Graça, 14",
          "country": "PT",
          "locality": "Lisbon",
          "postcode": "1170-165",
          "region": "Lisbon"
         },
         "name": "A Padaria Portuguesa",
         "related_places": {},
         "timezone": "Europe/Lisbon"
        },
        {
         "categories": [
          {
           "icon": {
            "prefix": "https://ss3.4sqi.net/img/categories_v2/food/bakery_",
            "suffix": ".png"
           },
           "id": 13002,
           "name": "Bakery"
          }
         ],
         "chains": [],
         "distance": 2413,
         "fsq_id": "5a1170571543c72d4580cf4d",
         "geocodes": {
          "main": {
           "latitude": 38.716211,
           "longitude": -9.165644
          }
         },
         "location": {
          "address": "Rua Coelho da Rocha, 91A/B",
          "country": "PT",
          "cross_street": "",
          "locality": "Lisbon",
          "postcode": "1350-321",
          "region": "Lisbon"
         },
         "name": "O Moço dos Croissants",
         "related_places": {},
         "timezone": "Europe/Lisbon"
        },
        {
         "categories": [
          {
           "icon": {
            "prefix": "https://ss3.4sqi.net/img/categories_v2/food/bakery_",
            "suffix": ".png"
           },
           "id": 13002,
           "name": "Bakery"
          },
          {
           "icon": {
            "prefix": "https://ss3.4sqi.net/img/categories_v2/food/default_",
            "suffix": ".png"
           },
           "id": 13065,
           "name": "Restaurant"
          }
         ],
         "chains": [],
         "distance": 2244,
         "fsq_id": "5852c3290a3d540a0d50e1b2",
         "geocodes": {
          "main": {
           "latitude": 38.72736697883811,
           "longitude": -9.157117356817526
          }
         },
         "location": {
          "address": "Rua Rodrigo da Fonseca Nº 129, Lisbon 1070-240 Portugal",
          "country": "PT",
          "cross_street": "",
          "locality": "Lisbon",
          "postcode": "1070-240",
          "region": "Lisbon"
         },
         "name": "A Padaria Portuguesa",
         "related_places": {},
         "timezone": "Europe/Lisbon"
        }
       ]
      },
      "text/plain": [
       "<IPython.core.display.JSON object>"
      ]
     },
     "metadata": {
      "application/json": {
       "expanded": true,
       "root": "root"
      }
     },
     "output_type": "display_data"
    }
   ],
   "source": [
    "#pull bakeries\n",
    "url = \"https://api.foursquare.com/v3/places/search?ll=38.713757%2C-9.137990&radius=5000&categories=13002&limit=15\"\n",
    "headers = {\n",
    "    \"Accept\": \"application/json\",\n",
    "    \"Authorization\": \"KEY\"\n",
    "}\n",
    "\n",
    "response = requests.request(\"GET\", url, headers=headers)\n",
    "print(response.status_code)\n",
    "\n",
    "bake = response.json()\n",
    "\n",
    "with open('bake.json', 'w') as json_file:\n",
    "    json.dump(bake,json_file)\n",
    "    \n",
    "display(JSON(bake,expanded=True))"
   ]
  },
  {
   "cell_type": "code",
   "execution_count": 150,
   "id": "e9d7e1f5-d3e5-4d63-a42b-2543eefb844e",
   "metadata": {},
   "outputs": [
    {
     "data": {
      "text/html": [
       "<div>\n",
       "<style scoped>\n",
       "    .dataframe tbody tr th:only-of-type {\n",
       "        vertical-align: middle;\n",
       "    }\n",
       "\n",
       "    .dataframe tbody tr th {\n",
       "        vertical-align: top;\n",
       "    }\n",
       "\n",
       "    .dataframe thead th {\n",
       "        text-align: right;\n",
       "    }\n",
       "</style>\n",
       "<table border=\"1\" class=\"dataframe\">\n",
       "  <thead>\n",
       "    <tr style=\"text-align: right;\">\n",
       "      <th></th>\n",
       "      <th>name</th>\n",
       "      <th>distance</th>\n",
       "      <th>location.address</th>\n",
       "    </tr>\n",
       "  </thead>\n",
       "  <tbody>\n",
       "    <tr>\n",
       "      <th>0</th>\n",
       "      <td>Fabrica da Nata - Rua Augusta</td>\n",
       "      <td>124</td>\n",
       "      <td>NaN</td>\n",
       "    </tr>\n",
       "    <tr>\n",
       "      <th>1</th>\n",
       "      <td>Manteigaria</td>\n",
       "      <td>622</td>\n",
       "      <td>Rua do Loreto, 2</td>\n",
       "    </tr>\n",
       "    <tr>\n",
       "      <th>2</th>\n",
       "      <td>Manteigaria Silva</td>\n",
       "      <td>1014</td>\n",
       "      <td>Avenida 24 de Julho, 49</td>\n",
       "    </tr>\n",
       "    <tr>\n",
       "      <th>3</th>\n",
       "      <td>A Padaria Portuguesa</td>\n",
       "      <td>1008</td>\n",
       "      <td>Avenida Alm. Reis 29</td>\n",
       "    </tr>\n",
       "    <tr>\n",
       "      <th>4</th>\n",
       "      <td>Simpli</td>\n",
       "      <td>1530</td>\n",
       "      <td>Rua Braamcamp 68, Lisbon 1250-051 Portugal</td>\n",
       "    </tr>\n",
       "    <tr>\n",
       "      <th>5</th>\n",
       "      <td>Paul</td>\n",
       "      <td>332</td>\n",
       "      <td>Rua Augusta, 142</td>\n",
       "    </tr>\n",
       "    <tr>\n",
       "      <th>6</th>\n",
       "      <td>Confeitaria Nacional</td>\n",
       "      <td>64</td>\n",
       "      <td>Praça da Figueira, 18</td>\n",
       "    </tr>\n",
       "    <tr>\n",
       "      <th>7</th>\n",
       "      <td>Pastelaria SAGA</td>\n",
       "      <td>875</td>\n",
       "      <td>NaN</td>\n",
       "    </tr>\n",
       "    <tr>\n",
       "      <th>8</th>\n",
       "      <td>Forno de Sapadores</td>\n",
       "      <td>1233</td>\n",
       "      <td>Rua de Sapadores, 97</td>\n",
       "    </tr>\n",
       "    <tr>\n",
       "      <th>9</th>\n",
       "      <td>A Padaria Portuguesa</td>\n",
       "      <td>956</td>\n",
       "      <td>Avenida 24 Julho, 1</td>\n",
       "    </tr>\n",
       "    <tr>\n",
       "      <th>10</th>\n",
       "      <td>Versailles</td>\n",
       "      <td>2496</td>\n",
       "      <td>Avenida da República, 15</td>\n",
       "    </tr>\n",
       "    <tr>\n",
       "      <th>11</th>\n",
       "      <td>A Padaria Portuguesa</td>\n",
       "      <td>1953</td>\n",
       "      <td>Rua Pascoal de Melo, 15 A</td>\n",
       "    </tr>\n",
       "    <tr>\n",
       "      <th>12</th>\n",
       "      <td>A Padaria Portuguesa</td>\n",
       "      <td>847</td>\n",
       "      <td>Largo da Graça, 14</td>\n",
       "    </tr>\n",
       "    <tr>\n",
       "      <th>13</th>\n",
       "      <td>O Moço dos Croissants</td>\n",
       "      <td>2413</td>\n",
       "      <td>Rua Coelho da Rocha, 91A/B</td>\n",
       "    </tr>\n",
       "    <tr>\n",
       "      <th>14</th>\n",
       "      <td>A Padaria Portuguesa</td>\n",
       "      <td>2244</td>\n",
       "      <td>Rua Rodrigo da Fonseca Nº 129, Lisbon 1070-240...</td>\n",
       "    </tr>\n",
       "  </tbody>\n",
       "</table>\n",
       "</div>"
      ],
      "text/plain": [
       "                             name  distance  \\\n",
       "0   Fabrica da Nata - Rua Augusta       124   \n",
       "1                     Manteigaria       622   \n",
       "2               Manteigaria Silva      1014   \n",
       "3            A Padaria Portuguesa      1008   \n",
       "4                          Simpli      1530   \n",
       "5                            Paul       332   \n",
       "6            Confeitaria Nacional        64   \n",
       "7                 Pastelaria SAGA       875   \n",
       "8              Forno de Sapadores      1233   \n",
       "9            A Padaria Portuguesa       956   \n",
       "10                     Versailles      2496   \n",
       "11           A Padaria Portuguesa      1953   \n",
       "12           A Padaria Portuguesa       847   \n",
       "13          O Moço dos Croissants      2413   \n",
       "14           A Padaria Portuguesa      2244   \n",
       "\n",
       "                                     location.address  \n",
       "0                                                 NaN  \n",
       "1                                    Rua do Loreto, 2  \n",
       "2                             Avenida 24 de Julho, 49  \n",
       "3                                Avenida Alm. Reis 29  \n",
       "4          Rua Braamcamp 68, Lisbon 1250-051 Portugal  \n",
       "5                                    Rua Augusta, 142  \n",
       "6                               Praça da Figueira, 18  \n",
       "7                                                 NaN  \n",
       "8                                Rua de Sapadores, 97  \n",
       "9                                 Avenida 24 Julho, 1  \n",
       "10                           Avenida da República, 15  \n",
       "11                          Rua Pascoal de Melo, 15 A  \n",
       "12                                 Largo da Graça, 14  \n",
       "13                         Rua Coelho da Rocha, 91A/B  \n",
       "14  Rua Rodrigo da Fonseca Nº 129, Lisbon 1070-240...  "
      ]
     },
     "execution_count": 150,
     "metadata": {},
     "output_type": "execute_result"
    }
   ],
   "source": [
    "#normalize json and pull name, distance and location\n",
    "bake2 = pd.json_normalize(bake, record_path='results')\n",
    "bake2[['name', 'distance','location.address']]"
   ]
  },
  {
   "cell_type": "code",
   "execution_count": null,
   "id": "45136755",
   "metadata": {},
   "outputs": [],
   "source": [
    "#create table\n",
    "create_bakery = \"\"\"\n",
    "CREATE TABLE IF NOT EXISTS bakery(\n",
    "  id INTEGER PRIMARY KEY AUTOINCREMENT, \n",
    "  title TEXT NOT NULL, \n",
    "  distance INTEGER NOT NULL,\n",
    "  street TEXT NOT NULL,\n",
    "  category TEXT NOT NULL\n",
    ");\n",
    "\"\"\"\n",
    "\n",
    "execute_query(connection, create_bakery)"
   ]
  },
  {
   "cell_type": "code",
   "execution_count": 334,
   "id": "fd084f1e-68db-4dda-a58c-1859a4c598fb",
   "metadata": {},
   "outputs": [],
   "source": [
    "#insert values\n",
    "\n",
    "insert_bakery = \"\"\"\n",
    "INSERT INTO\n",
    "  bakery (title, distance, street, category)\n",
    "VALUES\n",
    "  ('Fabrica da Nata', 124, 'Rua Augusta', 'Restaurant'),\n",
    "  ('Manteigaria', 622, 'Rua do Loreto', 'Pastry Shop'),\n",
    "  ('Manteigaria Silva', 1014, 'Avenida 24 de Julho', 'Cafe'),\n",
    "  ('A Padaria Portuguesa', 1008, 'Avenida Alm. Reis', 'Restaurant'),\n",
    "  ('Simpli', 1530, 'Rua Braamcamp 68', 'Restaurant'),\n",
    "  ('Paul', 332, 'Rua Augusta', 'Cafe'),\n",
    "  ('Confeitaria Nacional', 64, 'Praça da Figueira', 'Cafe'),\n",
    "  ('Pastelaria SAGA', 875, 'Morada Largo da Graça', 'Cafe'),\n",
    "  ('Forno de Sapadores', 1233, 'Rua de Sapadores', 'Cafe'),\n",
    "  ('A Padaria Portuguesa', 956, 'Avenida 24 de Julho', 'Restaurant'),\n",
    "  ('Versailles', 2496, 'Avenida da República', 'Cafe'),\n",
    "  ('A Padaria Portuguesa', 1953, 'Rua Pascoal de Melo', 'Restaurant'),\n",
    "  ('A Padaria Portuguesa', 847, 'Largo da Graça', 'Restaurant'),\n",
    "  ('O Moço dos Croissants', 2413, 'Rua Coelho da Rocha', 'Bakery'),\n",
    "  ('A Padaria Portuguesa', 2244, 'Rua Rodrigo da Fonseca', 'Restaurant');\n",
    "\"\"\"\n",
    "\n",
    "execute_query(connection, insert_bakery)"
   ]
  },
  {
   "cell_type": "markdown",
   "id": "99a204d7-8cf3-4ff5-b042-4435bf953c19",
   "metadata": {},
   "source": [
    "### Wine Bars"
   ]
  },
  {
   "cell_type": "code",
   "execution_count": 157,
   "id": "95cf2eee-082b-4506-9f5a-92281648269e",
   "metadata": {},
   "outputs": [
    {
     "name": "stdout",
     "output_type": "stream",
     "text": [
      "200\n"
     ]
    },
    {
     "data": {
      "application/json": {
       "context": {
        "geo_bounds": {
         "circle": {
          "center": {
           "latitude": 38.713757,
           "longitude": -9.13799
          },
          "radius": 5000
         }
        }
       },
       "results": [
        {
         "categories": [
          {
           "icon": {
            "prefix": "https://ss3.4sqi.net/img/categories_v2/food/winery_",
            "suffix": ".png"
           },
           "id": 13025,
           "name": "Wine Bar"
          },
          {
           "icon": {
            "prefix": "https://ss3.4sqi.net/img/categories_v2/food/default_",
            "suffix": ".png"
           },
           "id": 13065,
           "name": "Restaurant"
          }
         ],
         "chains": [],
         "distance": 145,
         "fsq_id": "4b0588a1f964a520bdd022e3",
         "geocodes": {
          "main": {
           "latitude": 38.71476324348752,
           "longitude": -9.13906477653588
          }
         },
         "location": {
          "address": "Largo de São Domingos 8",
          "country": "PT",
          "locality": "Lisbon",
          "postcode": "1150-320",
          "region": "Lisbon"
         },
         "name": "A Ginjinha",
         "related_places": {},
         "timezone": "Europe/Lisbon"
        },
        {
         "categories": [
          {
           "icon": {
            "prefix": "https://ss3.4sqi.net/img/categories_v2/food/winery_",
            "suffix": ".png"
           },
           "id": 13025,
           "name": "Wine Bar"
          },
          {
           "icon": {
            "prefix": "https://ss3.4sqi.net/img/categories_v2/food/default_",
            "suffix": ".png"
           },
           "id": 13065,
           "name": "Restaurant"
          }
         ],
         "chains": [],
         "distance": 712,
         "fsq_id": "54b076cf498e5e44af67b414",
         "geocodes": {
          "main": {
           "latitude": 38.709068117208346,
           "longitude": -9.14359237224139
          }
         },
         "location": {
          "address": "Rua das Flores, 41-43",
          "country": "PT",
          "cross_street": "",
          "locality": "Lisbon",
          "postcode": "1200-193",
          "region": "Lisbon"
         },
         "name": "By The Wine - José Maria da Fonseca",
         "related_places": {},
         "timezone": "Europe/Lisbon"
        },
        {
         "categories": [
          {
           "icon": {
            "prefix": "https://ss3.4sqi.net/img/categories_v2/food/winery_",
            "suffix": ".png"
           },
           "id": 13025,
           "name": "Wine Bar"
          },
          {
           "icon": {
            "prefix": "https://ss3.4sqi.net/img/categories_v2/food/default_",
            "suffix": ".png"
           },
           "id": 13065,
           "name": "Restaurant"
          }
         ],
         "chains": [],
         "distance": 655,
         "fsq_id": "4ffcaa5de4b0279c5b1c3351",
         "geocodes": {
          "main": {
           "latitude": 38.71250567767798,
           "longitude": -9.14537201538326
          }
         },
         "location": {
          "address": "Rua da Rosa 107",
          "country": "PT",
          "cross_street": "",
          "locality": "Lisbon",
          "postcode": "1200-382",
          "region": "Lisbon"
         },
         "name": "BA Wine Bar do Bairro Alto",
         "related_places": {},
         "timezone": "Europe/Lisbon"
        },
        {
         "categories": [
          {
           "icon": {
            "prefix": "https://ss3.4sqi.net/img/categories_v2/food/winery_",
            "suffix": ".png"
           },
           "id": 13025,
           "name": "Wine Bar"
          },
          {
           "icon": {
            "prefix": "https://ss3.4sqi.net/img/categories_v2/food/tapas_",
            "suffix": ".png"
           },
           "id": 13347,
           "name": "Tapas Restaurant"
          }
         ],
         "chains": [],
         "distance": 534,
         "fsq_id": "4d261a2cf9406dcbdaf6918d",
         "geocodes": {
          "main": {
           "latitude": 38.71208806241046,
           "longitude": -9.14377404362488
          }
         },
         "location": {
          "address": "Rua do Norte, 81",
          "country": "PT",
          "cross_street": "",
          "locality": "Lisbon",
          "postcode": "1200-284",
          "region": "Lisbon"
         },
         "name": "Grapes & Bites",
         "related_places": {},
         "timezone": "Europe/Lisbon"
        },
        {
         "categories": [
          {
           "icon": {
            "prefix": "https://ss3.4sqi.net/img/categories_v2/food/winery_",
            "suffix": ".png"
           },
           "id": 13025,
           "name": "Wine Bar"
          },
          {
           "icon": {
            "prefix": "https://ss3.4sqi.net/img/categories_v2/food/default_",
            "suffix": ".png"
           },
           "id": 13065,
           "name": "Restaurant"
          }
         ],
         "chains": [],
         "distance": 621,
         "fsq_id": "515b057f19a9e498d9667bc8",
         "geocodes": {
          "main": {
           "latitude": 38.71481268596412,
           "longitude": -9.130946036480745
          }
         },
         "location": {
          "address": "Calçada da Graça, 10 A/B",
          "country": "PT",
          "cross_street": "Largo Rodrigues de Freitas",
          "locality": "Lisbon",
          "postcode": "1100-266",
          "region": "Lisbon"
         },
         "name": "Graça do Vinho",
         "related_places": {},
         "timezone": "Europe/Lisbon"
        },
        {
         "categories": [
          {
           "icon": {
            "prefix": "https://ss3.4sqi.net/img/categories_v2/food/winery_",
            "suffix": ".png"
           },
           "id": 13025,
           "name": "Wine Bar"
          },
          {
           "icon": {
            "prefix": "https://ss3.4sqi.net/img/categories_v2/food/default_",
            "suffix": ".png"
           },
           "id": 13065,
           "name": "Restaurant"
          },
          {
           "icon": {
            "prefix": "https://ss3.4sqi.net/img/categories_v2/food/winery_",
            "suffix": ".png"
           },
           "id": 13387,
           "name": "Winery"
          }
         ],
         "chains": [],
         "distance": 547,
         "fsq_id": "4bba5d0253649c74b2f148fb",
         "geocodes": {
          "main": {
           "latitude": 38.713058407527875,
           "longitude": -9.144234683913771
          }
         },
         "location": {
          "address": "Rua do Diário de Notícias 125",
          "country": "PT",
          "locality": "Lisbon",
          "postcode": "1200-143",
          "region": "Lisbon"
         },
         "name": "Garrafeira Alfaia",
         "related_places": {},
         "timezone": "Europe/Lisbon"
        },
        {
         "categories": [
          {
           "icon": {
            "prefix": "https://ss3.4sqi.net/img/categories_v2/food/winery_",
            "suffix": ".png"
           },
           "id": 13025,
           "name": "Wine Bar"
          }
         ],
         "chains": [],
         "distance": 497,
         "fsq_id": "58ca919dfa7ed0738ecd762f",
         "geocodes": {
          "main": {
           "latitude": 38.709329,
           "longitude": -9.138863
          }
         },
         "location": {
          "address": "Rua Nova do Almada, 20",
          "country": "PT",
          "cross_street": "",
          "locality": "Lisbon",
          "neighborhood": [
           "São Nicolau"
          ],
          "postcode": "1200-289",
          "region": "Lisbon"
         },
         "name": "Nova",
         "related_places": {},
         "timezone": "Europe/Lisbon"
        },
        {
         "categories": [
          {
           "icon": {
            "prefix": "https://ss3.4sqi.net/img/categories_v2/food/winery_",
            "suffix": ".png"
           },
           "id": 13025,
           "name": "Wine Bar"
          },
          {
           "icon": {
            "prefix": "https://ss3.4sqi.net/img/categories_v2/food/default_",
            "suffix": ".png"
           },
           "id": 13065,
           "name": "Restaurant"
          }
         ],
         "chains": [],
         "distance": 551,
         "fsq_id": "507dd62ee4b0a8d59beeb44b",
         "geocodes": {
          "main": {
           "latitude": 38.71140540414976,
           "longitude": -9.14358570953246
          }
         },
         "location": {
          "address": "Rua do Norte, 33",
          "country": "PT",
          "cross_street": "",
          "locality": "Lisboa",
          "postcode": "1200-141",
          "region": "Lisboa"
         },
         "name": "BacoAlto",
         "related_places": {},
         "timezone": "Europe/Lisbon"
        },
        {
         "categories": [
          {
           "icon": {
            "prefix": "https://ss3.4sqi.net/img/categories_v2/food/winery_",
            "suffix": ".png"
           },
           "id": 13025,
           "name": "Wine Bar"
          },
          {
           "icon": {
            "prefix": "https://ss3.4sqi.net/img/categories_v2/food/portuguese_",
            "suffix": ".png"
           },
           "id": 13325,
           "name": "Portuguese Restaurant"
          }
         ],
         "chains": [],
         "distance": 490,
         "fsq_id": "4d1cb838763fb1f7aa268d66",
         "geocodes": {
          "main": {
           "latitude": 38.71191739391821,
           "longitude": -9.132853180175042
          }
         },
         "location": {
          "address": "Rua Bartolomeu de Gusmão 11-13",
          "country": "PT",
          "cross_street": "",
          "locality": "Lisbon",
          "postcode": "1100-078",
          "region": "Lisbon"
         },
         "name": "Wine Bar do Castelo",
         "related_places": {},
         "timezone": "Europe/Lisbon"
        },
        {
         "categories": [
          {
           "icon": {
            "prefix": "https://ss3.4sqi.net/img/categories_v2/food/winery_",
            "suffix": ".png"
           },
           "id": 13025,
           "name": "Wine Bar"
          },
          {
           "icon": {
            "prefix": "https://ss3.4sqi.net/img/categories_v2/food/default_",
            "suffix": ".png"
           },
           "id": 13065,
           "name": "Restaurant"
          }
         ],
         "chains": [],
         "distance": 288,
         "fsq_id": "59a82f6e0868a27bc5f401d1",
         "geocodes": {
          "main": {
           "latitude": 38.7152,
           "longitude": -9.140762
          }
         },
         "location": {
          "address": "Rua do Jardim do Regedor, 47B",
          "country": "PT",
          "cross_street": "",
          "locality": "Lisbon",
          "postcode": "1150-193",
          "region": "Lisbon"
         },
         "name": "O Bar da Odete",
         "related_places": {},
         "timezone": "Europe/Lisbon"
        },
        {
         "categories": [
          {
           "icon": {
            "prefix": "https://ss3.4sqi.net/img/categories_v2/food/winery_",
            "suffix": ".png"
           },
           "id": 13025,
           "name": "Wine Bar"
          },
          {
           "icon": {
            "prefix": "https://ss3.4sqi.net/img/categories_v2/food/default_",
            "suffix": ".png"
           },
           "id": 13065,
           "name": "Restaurant"
          }
         ],
         "chains": [],
         "distance": 1033,
         "fsq_id": "543945f2498ee8034f553b91",
         "geocodes": {
          "main": {
           "latitude": 38.71286893535975,
           "longitude": -9.126126524872166
          }
         },
         "location": {
          "address": "Rua dos Remédios 132",
          "country": "PT",
          "cross_street": "",
          "locality": "Lisbon",
          "neighborhood": [
           "Remédios"
          ],
          "postcode": "1100-445",
          "region": "Lisbon"
         },
         "name": "Alfama Cellar",
         "related_places": {},
         "timezone": "Europe/Lisbon"
        },
        {
         "categories": [
          {
           "icon": {
            "prefix": "https://ss3.4sqi.net/img/categories_v2/food/winery_",
            "suffix": ".png"
           },
           "id": 13025,
           "name": "Wine Bar"
          },
          {
           "icon": {
            "prefix": "https://ss3.4sqi.net/img/categories_v2/food/default_",
            "suffix": ".png"
           },
           "id": 13065,
           "name": "Restaurant"
          }
         ],
         "chains": [],
         "distance": 1102,
         "fsq_id": "52a2f01c498e5635fd6dc09d",
         "geocodes": {
          "main": {
           "latitude": 38.70521043666897,
           "longitude": -9.144451731175483
          }
         },
         "location": {
          "address": "Rua da Cintura do Porto de Lisboa, Armazém A",
          "country": "PT",
          "cross_street": "Cais do Sodré",
          "locality": "Lisbon",
          "postcode": "1200-450",
          "region": "Lisbon"
         },
         "name": "Vestigius",
         "related_places": {},
         "timezone": "Europe/Lisbon"
        },
        {
         "categories": [
          {
           "icon": {
            "prefix": "https://ss3.4sqi.net/img/categories_v2/nightlife/nightclub_",
            "suffix": ".png"
           },
           "id": 10032,
           "name": "Night Club"
          },
          {
           "icon": {
            "prefix": "https://ss3.4sqi.net/img/categories_v2/food/winery_",
            "suffix": ".png"
           },
           "id": 13025,
           "name": "Wine Bar"
          },
          {
           "icon": {
            "prefix": "https://ss3.4sqi.net/img/categories_v2/food/default_",
            "suffix": ".png"
           },
           "id": 13065,
           "name": "Restaurant"
          }
         ],
         "chains": [],
         "distance": 861,
         "fsq_id": "4b0588a0f964a52095d022e3",
         "geocodes": {
          "main": {
           "latitude": 38.717041561590634,
           "longitude": -9.14699183543013
          }
         },
         "location": {
          "address": "Rua da Mãe de Água",
          "country": "PT",
          "cross_street": "",
          "locality": "Lisbon",
          "postcode": "1250-154",
          "region": "Lisbon"
         },
         "name": "Chafariz do Vinho-Enoteca",
         "related_places": {},
         "timezone": "Europe/Lisbon"
        },
        {
         "categories": [
          {
           "icon": {
            "prefix": "https://ss3.4sqi.net/img/categories_v2/food/winery_",
            "suffix": ".png"
           },
           "id": 13025,
           "name": "Wine Bar"
          },
          {
           "icon": {
            "prefix": "https://ss3.4sqi.net/img/categories_v2/food/default_",
            "suffix": ".png"
           },
           "id": 13065,
           "name": "Restaurant"
          }
         ],
         "chains": [],
         "distance": 1635,
         "fsq_id": "5ca0f8bc9e3b65002cd0f1ec",
         "geocodes": {
          "main": {
           "latitude": 38.71439,
           "longitude": -9.156838
          }
         },
         "location": {
          "address": "Rua Santo Amaro, 66A",
          "country": "PT",
          "cross_street": "",
          "locality": "Lisbon",
          "postcode": "1200",
          "region": "Lisbon"
         },
         "name": "Senhor Uva",
         "related_places": {},
         "timezone": "Europe/Lisbon"
        },
        {
         "categories": [
          {
           "icon": {
            "prefix": "https://ss3.4sqi.net/img/categories_v2/food/winery_",
            "suffix": ".png"
           },
           "id": 13025,
           "name": "Wine Bar"
          },
          {
           "icon": {
            "prefix": "https://ss3.4sqi.net/img/categories_v2/food/default_",
            "suffix": ".png"
           },
           "id": 13065,
           "name": "Restaurant"
          }
         ],
         "chains": [],
         "distance": 921,
         "fsq_id": "563e4cebcd106f40d0b1aa6a",
         "geocodes": {
          "main": {
           "latitude": 38.708196,
           "longitude": -9.145872
          }
         },
         "location": {
          "address": "Rua de São Paulo, 75",
          "country": "PT",
          "cross_street": "",
          "locality": "Lisbon",
          "neighborhood": [
           "Centro Histórico"
          ],
          "postcode": "1200-426",
          "region": "Lisbon"
         },
         "name": "A Tabacaria",
         "related_places": {},
         "timezone": "Europe/Lisbon"
        }
       ]
      },
      "text/plain": [
       "<IPython.core.display.JSON object>"
      ]
     },
     "metadata": {
      "application/json": {
       "expanded": true,
       "root": "root"
      }
     },
     "output_type": "display_data"
    }
   ],
   "source": [
    "#pull bars\n",
    "\n",
    "url = \"https://api.foursquare.com/v3/places/search?ll=38.713757%2C-9.137990&radius=5000&categories=13025&limit=15\"\n",
    "headers = {\n",
    "    \"Accept\": \"application/json\",\n",
    "    \"Authorization\": \"KEY\"\n",
    "}\n",
    "\n",
    "response = requests.request(\"GET\", url, headers=headers)\n",
    "print(response.status_code)\n",
    "\n",
    "wine = response.json()\n",
    "\n",
    "#open json\n",
    "with open('wine.json', 'w') as json_file:\n",
    "    json.dump(wine,json_file)\n",
    "    \n",
    "display(JSON(wine,expanded=True))"
   ]
  },
  {
   "cell_type": "code",
   "execution_count": 158,
   "id": "d1848740-748f-46b5-8ddd-d0b90316e6d2",
   "metadata": {},
   "outputs": [
    {
     "data": {
      "text/html": [
       "<div>\n",
       "<style scoped>\n",
       "    .dataframe tbody tr th:only-of-type {\n",
       "        vertical-align: middle;\n",
       "    }\n",
       "\n",
       "    .dataframe tbody tr th {\n",
       "        vertical-align: top;\n",
       "    }\n",
       "\n",
       "    .dataframe thead th {\n",
       "        text-align: right;\n",
       "    }\n",
       "</style>\n",
       "<table border=\"1\" class=\"dataframe\">\n",
       "  <thead>\n",
       "    <tr style=\"text-align: right;\">\n",
       "      <th></th>\n",
       "      <th>name</th>\n",
       "      <th>distance</th>\n",
       "      <th>location.address</th>\n",
       "    </tr>\n",
       "  </thead>\n",
       "  <tbody>\n",
       "    <tr>\n",
       "      <th>0</th>\n",
       "      <td>A Ginjinha</td>\n",
       "      <td>145</td>\n",
       "      <td>Largo de São Domingos 8</td>\n",
       "    </tr>\n",
       "    <tr>\n",
       "      <th>1</th>\n",
       "      <td>By The Wine - José Maria da Fonseca</td>\n",
       "      <td>712</td>\n",
       "      <td>Rua das Flores, 41-43</td>\n",
       "    </tr>\n",
       "    <tr>\n",
       "      <th>2</th>\n",
       "      <td>BA Wine Bar do Bairro Alto</td>\n",
       "      <td>655</td>\n",
       "      <td>Rua da Rosa 107</td>\n",
       "    </tr>\n",
       "    <tr>\n",
       "      <th>3</th>\n",
       "      <td>Grapes &amp; Bites</td>\n",
       "      <td>534</td>\n",
       "      <td>Rua do Norte, 81</td>\n",
       "    </tr>\n",
       "    <tr>\n",
       "      <th>4</th>\n",
       "      <td>Graça do Vinho</td>\n",
       "      <td>621</td>\n",
       "      <td>Calçada da Graça, 10 A/B</td>\n",
       "    </tr>\n",
       "    <tr>\n",
       "      <th>5</th>\n",
       "      <td>Garrafeira Alfaia</td>\n",
       "      <td>547</td>\n",
       "      <td>Rua do Diário de Notícias 125</td>\n",
       "    </tr>\n",
       "    <tr>\n",
       "      <th>6</th>\n",
       "      <td>Nova</td>\n",
       "      <td>497</td>\n",
       "      <td>Rua Nova do Almada, 20</td>\n",
       "    </tr>\n",
       "    <tr>\n",
       "      <th>7</th>\n",
       "      <td>BacoAlto</td>\n",
       "      <td>551</td>\n",
       "      <td>Rua do Norte, 33</td>\n",
       "    </tr>\n",
       "    <tr>\n",
       "      <th>8</th>\n",
       "      <td>Wine Bar do Castelo</td>\n",
       "      <td>490</td>\n",
       "      <td>Rua Bartolomeu de Gusmão 11-13</td>\n",
       "    </tr>\n",
       "    <tr>\n",
       "      <th>9</th>\n",
       "      <td>O Bar da Odete</td>\n",
       "      <td>288</td>\n",
       "      <td>Rua do Jardim do Regedor, 47B</td>\n",
       "    </tr>\n",
       "    <tr>\n",
       "      <th>10</th>\n",
       "      <td>Alfama Cellar</td>\n",
       "      <td>1033</td>\n",
       "      <td>Rua dos Remédios 132</td>\n",
       "    </tr>\n",
       "    <tr>\n",
       "      <th>11</th>\n",
       "      <td>Vestigius</td>\n",
       "      <td>1102</td>\n",
       "      <td>Rua da Cintura do Porto de Lisboa, Armazém A</td>\n",
       "    </tr>\n",
       "    <tr>\n",
       "      <th>12</th>\n",
       "      <td>Chafariz do Vinho-Enoteca</td>\n",
       "      <td>861</td>\n",
       "      <td>Rua da Mãe de Água</td>\n",
       "    </tr>\n",
       "    <tr>\n",
       "      <th>13</th>\n",
       "      <td>Senhor Uva</td>\n",
       "      <td>1635</td>\n",
       "      <td>Rua Santo Amaro, 66A</td>\n",
       "    </tr>\n",
       "    <tr>\n",
       "      <th>14</th>\n",
       "      <td>A Tabacaria</td>\n",
       "      <td>921</td>\n",
       "      <td>Rua de São Paulo, 75</td>\n",
       "    </tr>\n",
       "  </tbody>\n",
       "</table>\n",
       "</div>"
      ],
      "text/plain": [
       "                                   name  distance  \\\n",
       "0                            A Ginjinha       145   \n",
       "1   By The Wine - José Maria da Fonseca       712   \n",
       "2            BA Wine Bar do Bairro Alto       655   \n",
       "3                        Grapes & Bites       534   \n",
       "4                        Graça do Vinho       621   \n",
       "5                     Garrafeira Alfaia       547   \n",
       "6                                  Nova       497   \n",
       "7                              BacoAlto       551   \n",
       "8                   Wine Bar do Castelo       490   \n",
       "9                        O Bar da Odete       288   \n",
       "10                        Alfama Cellar      1033   \n",
       "11                            Vestigius      1102   \n",
       "12            Chafariz do Vinho-Enoteca       861   \n",
       "13                           Senhor Uva      1635   \n",
       "14                          A Tabacaria       921   \n",
       "\n",
       "                                location.address  \n",
       "0                        Largo de São Domingos 8  \n",
       "1                          Rua das Flores, 41-43  \n",
       "2                                Rua da Rosa 107  \n",
       "3                               Rua do Norte, 81  \n",
       "4                       Calçada da Graça, 10 A/B  \n",
       "5                  Rua do Diário de Notícias 125  \n",
       "6                         Rua Nova do Almada, 20  \n",
       "7                               Rua do Norte, 33  \n",
       "8                 Rua Bartolomeu de Gusmão 11-13  \n",
       "9                  Rua do Jardim do Regedor, 47B  \n",
       "10                          Rua dos Remédios 132  \n",
       "11  Rua da Cintura do Porto de Lisboa, Armazém A  \n",
       "12                            Rua da Mãe de Água  \n",
       "13                          Rua Santo Amaro, 66A  \n",
       "14                          Rua de São Paulo, 75  "
      ]
     },
     "execution_count": 158,
     "metadata": {},
     "output_type": "execute_result"
    }
   ],
   "source": [
    "#normalize json\n",
    "wine2 = pd.json_normalize(wine, record_path='results')\n",
    "wine2[['name', 'distance','location.address']]"
   ]
  },
  {
   "cell_type": "code",
   "execution_count": null,
   "id": "419c2e17",
   "metadata": {},
   "outputs": [],
   "source": [
    "#create table\n",
    "create_wine = \"\"\"\n",
    "CREATE TABLE IF NOT EXISTS wine_bars(\n",
    "  id INTEGER PRIMARY KEY AUTOINCREMENT, \n",
    "  title TEXT NOT NULL, \n",
    "  distance INTEGER NOT NULL,\n",
    "  street TEXT NOT NULL,\n",
    "  category TEXT NOT NULL\n",
    ");\n",
    "\"\"\"\n",
    "execute_query(connection, insert_wine)"
   ]
  },
  {
   "cell_type": "code",
   "execution_count": 338,
   "id": "7931cb11-66ed-4fc7-8367-17ea0204a807",
   "metadata": {},
   "outputs": [],
   "source": [
    "#insert values\n",
    "\n",
    "insert_wine = \"\"\"\n",
    "INSERT INTO\n",
    "  wine_bars (title, distance, street, category)\n",
    "VALUES\n",
    "  ('A Ginjinha', 145, 'Largo de São Domingos', 'Restaurant'),\n",
    "  ('By The Wine - José Maria da Fonseca', 712, 'Rua das Flores', 'Restaurant'),\n",
    "  ('BA Wine Bar do Bairro Alto', 655, 'Rua da Rosa', 'Restaurant'),\n",
    "  ('Grapes & Bites', 534, 'Rua do Norte', 'Tapas'),\n",
    "  ('Graça do Vinho', 621, 'Calçada da Graça', 'Restaurant'),\n",
    "  ('Garrafeira Alfaia', 547, 'Rua do Diário de Notícias', 'Restaurant'),\n",
    "  ('Nova', 497, 'Rua Nova do Almada', 'Wine Bar'),\n",
    "  ('BacoAlto', 551, 'Rua do Norte', 'Restaurant'),\n",
    "  ('Wine Bar do Castelo', 490, 'Rua Bartolomeu de Gusmão', 'Restaurant'),\n",
    "  ('O Bar da Odete', 288, 'Rua do Jardim do Regedor', 'Restaurant'),\n",
    "  ('Alfama Cellar', 1033, 'Rua dos Remédios', 'Restaurant'),\n",
    "  ('Vestigius', 1102, 'Rua da Cintura do Porto', 'Restaurant'),\n",
    "  ('Chafariz do Vinho-Enoteca', 861, 'Rua da Mãe de Água', 'Wine Bar'),\n",
    "  ('Senhor Uva', 1635, 'Rua Santo Amaro', 'Restaurant'),\n",
    "  ('A Tabacaria', 921, 'Rua de São Paulo', 'Restaurant');\n",
    "\"\"\"\n",
    "execute_query(connection, insert_wine)"
   ]
  },
  {
   "cell_type": "markdown",
   "id": "81de8e8f-db21-4db8-b23c-e7081497a6ff",
   "metadata": {},
   "source": [
    "## Ratings"
   ]
  },
  {
   "cell_type": "code",
   "execution_count": null,
   "id": "e0998569-415b-4f1c-a414-4441c4c1ec7c",
   "metadata": {},
   "outputs": [],
   "source": [
    "#pull rations with foursquare\n",
    "code = 16000\n",
    "url = f\"https://api.foursquare.com/v3/places/search?ll=38.713757%2C-9.137990&radius=5000&categories={code}&limit=15\"\n",
    "headers = {\n",
    "    \"Accept\": \"application/json\",\n",
    "    \"Authorization\": \"KEY\"\n",
    "}\n",
    "\n",
    "response = r.request(\"GET\", url, headers=headers)\n",
    "print(response.status_code)\n",
    "\n",
    "landmarks = response.json()"
   ]
  },
  {
   "cell_type": "markdown",
   "id": "8fb30c8e-83d1-4da9-87da-fd3496a043ed",
   "metadata": {},
   "source": [
    "## Yelp"
   ]
  },
  {
   "cell_type": "markdown",
   "id": "0e80da51-1cba-4ef2-9f20-987971cf0218",
   "metadata": {},
   "source": [
    "### Landmarks"
   ]
  },
  {
   "cell_type": "code",
   "execution_count": 294,
   "id": "1b88ba1e-8826-4fbc-b6e2-f82ea713bb31",
   "metadata": {},
   "outputs": [
    {
     "name": "stdout",
     "output_type": "stream",
     "text": [
      "200\n"
     ]
    }
   ],
   "source": [
    "#get landmarks\n",
    "yurl = \"https://api.yelp.com/v3/businesses/search\"\n",
    "headers = {\n",
    "    \"Authorization\": \"Bearer ___\"\n",
    "}\n",
    "\n",
    "yurl_params = {'categories': 'landmarks',\n",
    "              'latitude': '38.713757',\n",
    "              'longitude': '-9.137990',\n",
    "              'radius': 5000,\n",
    "              'limit': 15}\n",
    "response = requests.get(yurl, headers=headers, params=yurl_params)\n",
    "print(response.status_code)\n",
    "\n",
    "land = response.json()"
   ]
  },
  {
   "cell_type": "code",
   "execution_count": 361,
   "id": "8c9a6727-54d0-415d-915e-112992438493",
   "metadata": {},
   "outputs": [
    {
     "data": {
      "application/json": {
       "businesses": [
        {
         "alias": "castelo-de-s-jorge-lisboa-2",
         "categories": [
          {
           "alias": "landmarks",
           "title": "Landmarks & Historical Buildings"
          },
          {
           "alias": "castles",
           "title": "Castles"
          }
         ],
         "coordinates": {
          "latitude": 38.713912,
          "longitude": -9.133477
         },
         "display_phone": "+351 21 880 0620",
         "distance": 391.9406250887323,
         "id": "MZD2p2heUhcREkz9lYndDw",
         "image_url": "https://s3-media3.fl.yelpcdn.com/bphoto/IFYSkxQiUUvcYt3XM-WhCg/o.jpg",
         "is_closed": false,
         "location": {
          "address1": "R. de Santa Cruz, s/n",
          "address2": "",
          "address3": "",
          "city": "Lisbon",
          "country": "PT",
          "display_address": [
           "R. de Santa Cruz, s/n",
           "1100-129 Lisbon",
           "Portugal"
          ],
          "state": "11",
          "zip_code": "1100-129"
         },
         "name": "Castelo de S. Jorge",
         "phone": "+351218800620",
         "rating": 4.5,
         "review_count": 121,
         "transactions": [],
         "url": "https://www.yelp.com/biz/castelo-de-s-jorge-lisboa-2?adjust_creative=2WQ2yCTjUCsmLMheDX5E1A&utm_campaign=yelp_api_v3&utm_medium=api_v3_business_search&utm_source=2WQ2yCTjUCsmLMheDX5E1A"
        },
        {
         "alias": "bairro-alto-lisboa",
         "categories": [
          {
           "alias": "landmarks",
           "title": "Landmarks & Historical Buildings"
          }
         ],
         "coordinates": {
          "latitude": 38.7119,
          "longitude": -9.14449
         },
         "display_phone": "+351 965 476 181",
         "distance": 600.5805452422004,
         "id": "NB_st6u_iGxMGNOQKd3ntg",
         "image_url": "https://s3-media4.fl.yelpcdn.com/bphoto/0dhFPugXz1o6P6IpSqY0gA/o.jpg",
         "is_closed": false,
         "location": {
          "address1": null,
          "address2": null,
          "address3": null,
          "city": "Lisbon",
          "country": "PT",
          "display_address": [
           "1200-109 Lisbon",
           "Portugal"
          ],
          "state": "11",
          "zip_code": "1200-109"
         },
         "name": "Bairro Alto",
         "phone": "+351965476181",
         "rating": 4.5,
         "review_count": 49,
         "transactions": [],
         "url": "https://www.yelp.com/biz/bairro-alto-lisboa?adjust_creative=2WQ2yCTjUCsmLMheDX5E1A&utm_campaign=yelp_api_v3&utm_medium=api_v3_business_search&utm_source=2WQ2yCTjUCsmLMheDX5E1A"
        },
        {
         "alias": "elevador-de-santa-justa-lisboa",
         "categories": [
          {
           "alias": "landmarks",
           "title": "Landmarks & Historical Buildings"
          }
         ],
         "coordinates": {
          "latitude": 38.712132,
          "longitude": -9.139432
         },
         "display_phone": "+351 21 413 8679",
         "distance": 219.77922530561577,
         "id": "k0VJRIioitG2mBDkWEIXTw",
         "image_url": "https://s3-media2.fl.yelpcdn.com/bphoto/eVOJdJpHSxMPpHLB3GtuBQ/o.jpg",
         "is_closed": false,
         "location": {
          "address1": "R. do Ouro, s/n",
          "address2": "",
          "address3": "",
          "city": "Lisbon",
          "country": "PT",
          "display_address": [
           "R. do Ouro, s/n",
           "1150-060 Lisbon",
           "Portugal"
          ],
          "state": "11",
          "zip_code": "1150-060"
         },
         "name": "Elevador de Santa Justa",
         "phone": "+351214138679",
         "rating": 4,
         "review_count": 89,
         "transactions": [],
         "url": "https://www.yelp.com/biz/elevador-de-santa-justa-lisboa?adjust_creative=2WQ2yCTjUCsmLMheDX5E1A&utm_campaign=yelp_api_v3&utm_medium=api_v3_business_search&utm_source=2WQ2yCTjUCsmLMheDX5E1A"
        },
        {
         "alias": "praça-do-comércio-lisboa-2",
         "categories": [
          {
           "alias": "landmarks",
           "title": "Landmarks & Historical Buildings"
          },
          {
           "alias": "publicplazas",
           "title": "Public Plazas"
          }
         ],
         "coordinates": {
          "latitude": 38.7075434348492,
          "longitude": -9.13651696955021
         },
         "display_phone": "",
         "distance": 702.6383101991319,
         "id": "CwiSIT317rm8XJLJ2VEAeQ",
         "image_url": "https://s3-media3.fl.yelpcdn.com/bphoto/ZvK1OddbpUDMYoepBQDQsA/o.jpg",
         "is_closed": false,
         "location": {
          "address1": "Praça do Comércio",
          "address2": null,
          "address3": null,
          "city": "Lisbon",
          "country": "PT",
          "display_address": [
           "Praça do Comércio",
           "1100-148 Lisbon",
           "Portugal"
          ],
          "state": "11",
          "zip_code": "1100-148"
         },
         "name": "Praça do Comércio",
         "phone": "",
         "rating": 4.5,
         "review_count": 32,
         "transactions": [],
         "url": "https://www.yelp.com/biz/pra%C3%A7a-do-com%C3%A9rcio-lisboa-2?adjust_creative=2WQ2yCTjUCsmLMheDX5E1A&utm_campaign=yelp_api_v3&utm_medium=api_v3_business_search&utm_source=2WQ2yCTjUCsmLMheDX5E1A"
        },
        {
         "alias": "arco-da-rua-augusta-lisboa",
         "categories": [
          {
           "alias": "landmarks",
           "title": "Landmarks & Historical Buildings"
          }
         ],
         "coordinates": {
          "latitude": 38.7083560092152,
          "longitude": -9.13669801239335
         },
         "display_phone": "",
         "distance": 610.9349406539154,
         "id": "AQcoVKdSsbFe7bhWZ2AUvA",
         "image_url": "https://s3-media3.fl.yelpcdn.com/bphoto/94zyiCq8U2_tZQtKDNfBCw/o.jpg",
         "is_closed": false,
         "location": {
          "address1": "Rua do Ouro",
          "address2": "",
          "address3": "",
          "city": "Lisbon",
          "country": "PT",
          "display_address": [
           "Rua do Ouro",
           "1100-100 Lisbon",
           "Portugal"
          ],
          "state": "11",
          "zip_code": "1100-100"
         },
         "name": "Arco da Rua Augusta",
         "phone": "",
         "rating": 4.5,
         "review_count": 18,
         "transactions": [],
         "url": "https://www.yelp.com/biz/arco-da-rua-augusta-lisboa?adjust_creative=2WQ2yCTjUCsmLMheDX5E1A&utm_campaign=yelp_api_v3&utm_medium=api_v3_business_search&utm_source=2WQ2yCTjUCsmLMheDX5E1A"
        },
        {
         "alias": "miradouro-sophia-de-mello-breyner-andresen-lisboa-2",
         "categories": [
          {
           "alias": "landmarks",
           "title": "Landmarks & Historical Buildings"
          }
         ],
         "coordinates": {
          "latitude": 38.716347,
          "longitude": -9.131515
         },
         "display_phone": "",
         "distance": 631.2992179437429,
         "id": "XMKyZPdgNbcP2pr-OIDTyw",
         "image_url": "https://s3-media3.fl.yelpcdn.com/bphoto/6Rn95hYsOeP2no9LiS8ezg/o.jpg",
         "is_closed": false,
         "location": {
          "address1": "Largo da Graça",
          "address2": null,
          "address3": null,
          "city": "Lisbon",
          "country": "PT",
          "display_address": [
           "Largo da Graça",
           "1170-165 Lisbon",
           "Portugal"
          ],
          "state": "11",
          "zip_code": "1170-165"
         },
         "name": "Miradouro Sophia de Mello Breyner Andresen",
         "phone": "",
         "rating": 5,
         "review_count": 12,
         "transactions": [],
         "url": "https://www.yelp.com/biz/miradouro-sophia-de-mello-breyner-andresen-lisboa-2?adjust_creative=2WQ2yCTjUCsmLMheDX5E1A&utm_campaign=yelp_api_v3&utm_medium=api_v3_business_search&utm_source=2WQ2yCTjUCsmLMheDX5E1A"
        },
        {
         "alias": "miradouro-das-portas-do-sol-lisboa",
         "categories": [
          {
           "alias": "landmarks",
           "title": "Landmarks & Historical Buildings"
          }
         ],
         "coordinates": {
          "latitude": 38.7120870566787,
          "longitude": -9.1302075633383
         },
         "display_phone": "",
         "distance": 700.3031255547968,
         "id": "qwOe49zxeZLPg6V2c2ieRA",
         "image_url": "https://s3-media3.fl.yelpcdn.com/bphoto/hIjRkAT9OMmxVL2UFse1yg/o.jpg",
         "is_closed": false,
         "location": {
          "address1": "Largo das Portas do Sol, s/n",
          "address2": "",
          "address3": "",
          "city": "Lisbon",
          "country": "PT",
          "display_address": [
           "Largo das Portas do Sol, s/n",
           "1100-411 Lisbon",
           "Portugal"
          ],
          "state": "11",
          "zip_code": "1100-411"
         },
         "name": "Miradouro das Portas do Sol",
         "phone": "",
         "rating": 5,
         "review_count": 8,
         "transactions": [],
         "url": "https://www.yelp.com/biz/miradouro-das-portas-do-sol-lisboa?adjust_creative=2WQ2yCTjUCsmLMheDX5E1A&utm_campaign=yelp_api_v3&utm_medium=api_v3_business_search&utm_source=2WQ2yCTjUCsmLMheDX5E1A"
        },
        {
         "alias": "santuário-de-cristo-rei-almada",
         "categories": [
          {
           "alias": "landmarks",
           "title": "Landmarks & Historical Buildings"
          }
         ],
         "coordinates": {
          "latitude": 38.678643,
          "longitude": -9.171357
         },
         "display_phone": "+351 21 275 1000",
         "distance": 4861.106855957834,
         "id": "5FqBaNen3AyzNashkx4qaQ",
         "image_url": "https://s3-media3.fl.yelpcdn.com/bphoto/FJjPxWfJby0u5canlyzW9g/o.jpg",
         "is_closed": false,
         "location": {
          "address1": "Av. Cristo Rei, s/n",
          "address2": null,
          "address3": null,
          "city": "Almada",
          "country": "PT",
          "display_address": [
           "Av. Cristo Rei, s/n",
           "2800-058 Almada",
           "Portugal"
          ],
          "state": "15",
          "zip_code": "2800-058"
         },
         "name": "Santuário de Cristo Rei",
         "phone": "+351212751000",
         "rating": 4.5,
         "review_count": 30,
         "transactions": [],
         "url": "https://www.yelp.com/biz/santu%C3%A1rio-de-cristo-rei-almada?adjust_creative=2WQ2yCTjUCsmLMheDX5E1A&utm_campaign=yelp_api_v3&utm_medium=api_v3_business_search&utm_source=2WQ2yCTjUCsmLMheDX5E1A"
        },
        {
         "alias": "igreja-sao-roque-lisboa",
         "categories": [
          {
           "alias": "churches",
           "title": "Churches"
          },
          {
           "alias": "landmarks",
           "title": "Landmarks & Historical Buildings"
          }
         ],
         "coordinates": {
          "latitude": 38.7129898,
          "longitude": -9.1430502
         },
         "display_phone": "+351 21 323 5381",
         "distance": 447.2522849142643,
         "id": "4xUqgc3LbpSVrRk_QKhsww",
         "image_url": "https://s3-media1.fl.yelpcdn.com/bphoto/b_CB3t_MWcfmVyGopRwMkQ/o.jpg",
         "is_closed": false,
         "location": {
          "address1": "Largo Trinidade Coelho",
          "address2": "",
          "address3": "",
          "city": "Lisbon",
          "country": "PT",
          "display_address": [
           "Largo Trinidade Coelho",
           "1200-470 Lisbon",
           "Portugal"
          ],
          "state": "11",
          "zip_code": "1200-470"
         },
         "name": "Igreja Sao Roque",
         "phone": "+351213235381",
         "rating": 4.5,
         "review_count": 7,
         "transactions": [],
         "url": "https://www.yelp.com/biz/igreja-sao-roque-lisboa?adjust_creative=2WQ2yCTjUCsmLMheDX5E1A&utm_campaign=yelp_api_v3&utm_medium=api_v3_business_search&utm_source=2WQ2yCTjUCsmLMheDX5E1A"
        },
        {
         "alias": "miradouro-de-santa-catarina-lisboa-2",
         "categories": [
          {
           "alias": "landmarks",
           "title": "Landmarks & Historical Buildings"
          }
         ],
         "coordinates": {
          "latitude": 38.709475,
          "longitude": -9.147656
         },
         "display_phone": "",
         "distance": 964.4093074984812,
         "id": "1sZo66BlFj32BctcM1V5IQ",
         "image_url": "https://s3-media2.fl.yelpcdn.com/bphoto/ehw_nnqmUfKqFyGDpHQwFA/o.jpg",
         "is_closed": false,
         "location": {
          "address1": "R. de Santa Catarina, s/n",
          "address2": "",
          "address3": "",
          "city": "Lisbon",
          "country": "PT",
          "display_address": [
           "R. de Santa Catarina, s/n",
           "1200-012 Lisbon",
           "Portugal"
          ],
          "state": "11",
          "zip_code": "1200-012"
         },
         "name": "Miradouro de Santa Catarina",
         "phone": "",
         "rating": 4.5,
         "review_count": 11,
         "transactions": [],
         "url": "https://www.yelp.com/biz/miradouro-de-santa-catarina-lisboa-2?adjust_creative=2WQ2yCTjUCsmLMheDX5E1A&utm_campaign=yelp_api_v3&utm_medium=api_v3_business_search&utm_source=2WQ2yCTjUCsmLMheDX5E1A"
        },
        {
         "alias": "ponte-25-de-abril-lisboa",
         "categories": [
          {
           "alias": "landmarks",
           "title": "Landmarks & Historical Buildings"
          }
         ],
         "coordinates": {
          "latitude": 38.6888915483771,
          "longitude": -9.17693100908199
         },
         "display_phone": "",
         "distance": 4366.224995533998,
         "id": "02lExgybjNCrWrjKsiCAXA",
         "image_url": "https://s3-media1.fl.yelpcdn.com/bphoto/MnAkrI8ggjY6WkY-X_mvLw/o.jpg",
         "is_closed": false,
         "location": {
          "address1": "Lisboa",
          "address2": null,
          "address3": null,
          "city": "Lisbon",
          "country": "PT",
          "display_address": [
           "Lisboa",
           "1000-000 Lisbon",
           "Portugal"
          ],
          "state": "11",
          "zip_code": "1000-000"
         },
         "name": "Ponte 25 de Abril",
         "phone": "",
         "rating": 4.5,
         "review_count": 17,
         "transactions": [],
         "url": "https://www.yelp.com/biz/ponte-25-de-abril-lisboa?adjust_creative=2WQ2yCTjUCsmLMheDX5E1A&utm_campaign=yelp_api_v3&utm_medium=api_v3_business_search&utm_source=2WQ2yCTjUCsmLMheDX5E1A"
        },
        {
         "alias": "rua-augusta-lisboa",
         "categories": [
          {
           "alias": "landmarks",
           "title": "Landmarks & Historical Buildings"
          }
         ],
         "coordinates": {
          "latitude": 38.7106333,
          "longitude": -9.1377046
         },
         "display_phone": "",
         "distance": 348.22078877497637,
         "id": "1yuguR06WTRjR1FG3VYQiw",
         "image_url": "https://s3-media2.fl.yelpcdn.com/bphoto/Pp98OyCk5k4uAv0FKyJE0Q/o.jpg",
         "is_closed": false,
         "location": {
          "address1": "R. Augusta",
          "address2": "",
          "address3": null,
          "city": "Lisbon",
          "country": "PT",
          "display_address": [
           "R. Augusta",
           "1100 Lisbon",
           "Portugal"
          ],
          "state": "11",
          "zip_code": "1100"
         },
         "name": "Rua Augusta",
         "phone": "",
         "rating": 5,
         "review_count": 4,
         "transactions": [],
         "url": "https://www.yelp.com/biz/rua-augusta-lisboa?adjust_creative=2WQ2yCTjUCsmLMheDX5E1A&utm_campaign=yelp_api_v3&utm_medium=api_v3_business_search&utm_source=2WQ2yCTjUCsmLMheDX5E1A"
        },
        {
         "alias": "praça-dom-pedro-iv-lisboa",
         "categories": [
          {
           "alias": "publicplazas",
           "title": "Public Plazas"
          },
          {
           "alias": "landmarks",
           "title": "Landmarks & Historical Buildings"
          }
         ],
         "coordinates": {
          "latitude": 38.7139345259738,
          "longitude": -9.13966296560707
         },
         "display_phone": "",
         "distance": 146.48764356753296,
         "id": "6B8VuZNX6nSdUrbsFcz7bQ",
         "image_url": "https://s3-media4.fl.yelpcdn.com/bphoto/GmZ1ZDKyeThn8WZJ4IQxgg/o.jpg",
         "is_closed": false,
         "location": {
          "address1": "Praça Dom Pedro IV",
          "address2": null,
          "address3": null,
          "city": "Lisbon",
          "country": "PT",
          "display_address": [
           "Praça Dom Pedro IV",
           "1100-200 Lisbon",
           "Portugal"
          ],
          "state": "11",
          "zip_code": "1100-200"
         },
         "name": "Praça Dom Pedro IV",
         "phone": "",
         "rating": 4,
         "review_count": 7,
         "transactions": [],
         "url": "https://www.yelp.com/biz/pra%C3%A7a-dom-pedro-iv-lisboa?adjust_creative=2WQ2yCTjUCsmLMheDX5E1A&utm_campaign=yelp_api_v3&utm_medium=api_v3_business_search&utm_source=2WQ2yCTjUCsmLMheDX5E1A"
        },
        {
         "alias": "fundação-josé-saramago-lisboa",
         "categories": [
          {
           "alias": "museums",
           "title": "Museums"
          },
          {
           "alias": "bookstores",
           "title": "Bookstores"
          },
          {
           "alias": "landmarks",
           "title": "Landmarks & Historical Buildings"
          }
         ],
         "coordinates": {
          "latitude": 38.7090225,
          "longitude": -9.1339464
         },
         "display_phone": "+351 21 880 2040",
         "distance": 698.9355527753189,
         "id": "CX3MfrA2CaQA68AIduy4NQ",
         "image_url": "https://s3-media4.fl.yelpcdn.com/bphoto/BivW_I6A9th5OsF-yWk5mw/o.jpg",
         "is_closed": false,
         "location": {
          "address1": "R. dos Bacalhoeiros",
          "address2": null,
          "address3": null,
          "city": "Lisbon",
          "country": "PT",
          "display_address": [
           "R. dos Bacalhoeiros",
           "1100-135 Lisbon",
           "Portugal"
          ],
          "state": "11",
          "zip_code": "1100-135"
         },
         "name": "Fundação José Saramago",
         "phone": "+351218802040",
         "price": "€",
         "rating": 5,
         "review_count": 4,
         "transactions": [],
         "url": "https://www.yelp.com/biz/funda%C3%A7%C3%A3o-jos%C3%A9-saramago-lisboa?adjust_creative=2WQ2yCTjUCsmLMheDX5E1A&utm_campaign=yelp_api_v3&utm_medium=api_v3_business_search&utm_source=2WQ2yCTjUCsmLMheDX5E1A"
        },
        {
         "alias": "avenida-da-liberdade-lisboa",
         "categories": [
          {
           "alias": "landmarks",
           "title": "Landmarks & Historical Buildings"
          }
         ],
         "coordinates": {
          "latitude": 38.7189285837097,
          "longitude": -9.1445536799622
         },
         "display_phone": "",
         "distance": 809.3060295564832,
         "id": "oNMSlbvsxCI3UOFZD8m4EA",
         "image_url": "https://s3-media1.fl.yelpcdn.com/bphoto/a4i758yfiVDS5bNZUXZLVw/o.jpg",
         "is_closed": false,
         "location": {
          "address1": "Av. da Liberdade, s/n",
          "address2": null,
          "address3": null,
          "city": "Lisbon",
          "country": "PT",
          "display_address": [
           "Av. da Liberdade, s/n",
           "1250-096 Lisbon",
           "Portugal"
          ],
          "state": "11",
          "zip_code": "1250-096"
         },
         "name": "Avenida da Liberdade",
         "phone": "",
         "rating": 4.5,
         "review_count": 8,
         "transactions": [],
         "url": "https://www.yelp.com/biz/avenida-da-liberdade-lisboa?adjust_creative=2WQ2yCTjUCsmLMheDX5E1A&utm_campaign=yelp_api_v3&utm_medium=api_v3_business_search&utm_source=2WQ2yCTjUCsmLMheDX5E1A"
        }
       ],
       "region": {
        "center": {
         "latitude": 38.713757,
         "longitude": -9.13799
        }
       },
       "total": 48
      },
      "text/plain": [
       "<IPython.core.display.JSON object>"
      ]
     },
     "execution_count": 361,
     "metadata": {
      "application/json": {
       "expanded": true,
       "root": "root"
      }
     },
     "output_type": "execute_result"
    }
   ],
   "source": [
    "#view json\n",
    "JSON(land,expanded=True)"
   ]
  },
  {
   "cell_type": "code",
   "execution_count": 359,
   "id": "5f9ed40a-8dc2-418e-96c9-167a0a97981e",
   "metadata": {},
   "outputs": [
    {
     "data": {
      "text/html": [
       "<div>\n",
       "<style scoped>\n",
       "    .dataframe tbody tr th:only-of-type {\n",
       "        vertical-align: middle;\n",
       "    }\n",
       "\n",
       "    .dataframe tbody tr th {\n",
       "        vertical-align: top;\n",
       "    }\n",
       "\n",
       "    .dataframe thead th {\n",
       "        text-align: right;\n",
       "    }\n",
       "</style>\n",
       "<table border=\"1\" class=\"dataframe\">\n",
       "  <thead>\n",
       "    <tr style=\"text-align: right;\">\n",
       "      <th></th>\n",
       "      <th>id</th>\n",
       "      <th>alias</th>\n",
       "      <th>name</th>\n",
       "      <th>image_url</th>\n",
       "      <th>is_closed</th>\n",
       "      <th>url</th>\n",
       "      <th>review_count</th>\n",
       "      <th>categories</th>\n",
       "      <th>rating</th>\n",
       "      <th>transactions</th>\n",
       "      <th>...</th>\n",
       "      <th>coordinates.longitude</th>\n",
       "      <th>location.address1</th>\n",
       "      <th>location.address2</th>\n",
       "      <th>location.address3</th>\n",
       "      <th>location.city</th>\n",
       "      <th>location.zip_code</th>\n",
       "      <th>location.country</th>\n",
       "      <th>location.state</th>\n",
       "      <th>location.display_address</th>\n",
       "      <th>price</th>\n",
       "    </tr>\n",
       "  </thead>\n",
       "  <tbody>\n",
       "    <tr>\n",
       "      <th>0</th>\n",
       "      <td>MZD2p2heUhcREkz9lYndDw</td>\n",
       "      <td>castelo-de-s-jorge-lisboa-2</td>\n",
       "      <td>Castelo de S. Jorge</td>\n",
       "      <td>https://s3-media3.fl.yelpcdn.com/bphoto/IFYSkx...</td>\n",
       "      <td>False</td>\n",
       "      <td>https://www.yelp.com/biz/castelo-de-s-jorge-li...</td>\n",
       "      <td>121</td>\n",
       "      <td>[{'alias': 'landmarks', 'title': 'Landmarks &amp; ...</td>\n",
       "      <td>4.5</td>\n",
       "      <td>[]</td>\n",
       "      <td>...</td>\n",
       "      <td>-9.133477</td>\n",
       "      <td>R. de Santa Cruz, s/n</td>\n",
       "      <td></td>\n",
       "      <td></td>\n",
       "      <td>Lisbon</td>\n",
       "      <td>1100-129</td>\n",
       "      <td>PT</td>\n",
       "      <td>11</td>\n",
       "      <td>[R. de Santa Cruz, s/n, 1100-129 Lisbon, Portu...</td>\n",
       "      <td>NaN</td>\n",
       "    </tr>\n",
       "    <tr>\n",
       "      <th>1</th>\n",
       "      <td>NB_st6u_iGxMGNOQKd3ntg</td>\n",
       "      <td>bairro-alto-lisboa</td>\n",
       "      <td>Bairro Alto</td>\n",
       "      <td>https://s3-media4.fl.yelpcdn.com/bphoto/0dhFPu...</td>\n",
       "      <td>False</td>\n",
       "      <td>https://www.yelp.com/biz/bairro-alto-lisboa?ad...</td>\n",
       "      <td>49</td>\n",
       "      <td>[{'alias': 'landmarks', 'title': 'Landmarks &amp; ...</td>\n",
       "      <td>4.5</td>\n",
       "      <td>[]</td>\n",
       "      <td>...</td>\n",
       "      <td>-9.144490</td>\n",
       "      <td>None</td>\n",
       "      <td>None</td>\n",
       "      <td>None</td>\n",
       "      <td>Lisbon</td>\n",
       "      <td>1200-109</td>\n",
       "      <td>PT</td>\n",
       "      <td>11</td>\n",
       "      <td>[1200-109 Lisbon, Portugal]</td>\n",
       "      <td>NaN</td>\n",
       "    </tr>\n",
       "    <tr>\n",
       "      <th>2</th>\n",
       "      <td>k0VJRIioitG2mBDkWEIXTw</td>\n",
       "      <td>elevador-de-santa-justa-lisboa</td>\n",
       "      <td>Elevador de Santa Justa</td>\n",
       "      <td>https://s3-media2.fl.yelpcdn.com/bphoto/eVOJdJ...</td>\n",
       "      <td>False</td>\n",
       "      <td>https://www.yelp.com/biz/elevador-de-santa-jus...</td>\n",
       "      <td>89</td>\n",
       "      <td>[{'alias': 'landmarks', 'title': 'Landmarks &amp; ...</td>\n",
       "      <td>4.0</td>\n",
       "      <td>[]</td>\n",
       "      <td>...</td>\n",
       "      <td>-9.139432</td>\n",
       "      <td>R. do Ouro, s/n</td>\n",
       "      <td></td>\n",
       "      <td></td>\n",
       "      <td>Lisbon</td>\n",
       "      <td>1150-060</td>\n",
       "      <td>PT</td>\n",
       "      <td>11</td>\n",
       "      <td>[R. do Ouro, s/n, 1150-060 Lisbon, Portugal]</td>\n",
       "      <td>NaN</td>\n",
       "    </tr>\n",
       "    <tr>\n",
       "      <th>3</th>\n",
       "      <td>CwiSIT317rm8XJLJ2VEAeQ</td>\n",
       "      <td>praça-do-comércio-lisboa-2</td>\n",
       "      <td>Praça do Comércio</td>\n",
       "      <td>https://s3-media3.fl.yelpcdn.com/bphoto/ZvK1Od...</td>\n",
       "      <td>False</td>\n",
       "      <td>https://www.yelp.com/biz/pra%C3%A7a-do-com%C3%...</td>\n",
       "      <td>32</td>\n",
       "      <td>[{'alias': 'landmarks', 'title': 'Landmarks &amp; ...</td>\n",
       "      <td>4.5</td>\n",
       "      <td>[]</td>\n",
       "      <td>...</td>\n",
       "      <td>-9.136517</td>\n",
       "      <td>Praça do Comércio</td>\n",
       "      <td>None</td>\n",
       "      <td>None</td>\n",
       "      <td>Lisbon</td>\n",
       "      <td>1100-148</td>\n",
       "      <td>PT</td>\n",
       "      <td>11</td>\n",
       "      <td>[Praça do Comércio, 1100-148 Lisbon, Portugal]</td>\n",
       "      <td>NaN</td>\n",
       "    </tr>\n",
       "    <tr>\n",
       "      <th>4</th>\n",
       "      <td>AQcoVKdSsbFe7bhWZ2AUvA</td>\n",
       "      <td>arco-da-rua-augusta-lisboa</td>\n",
       "      <td>Arco da Rua Augusta</td>\n",
       "      <td>https://s3-media3.fl.yelpcdn.com/bphoto/94zyiC...</td>\n",
       "      <td>False</td>\n",
       "      <td>https://www.yelp.com/biz/arco-da-rua-augusta-l...</td>\n",
       "      <td>18</td>\n",
       "      <td>[{'alias': 'landmarks', 'title': 'Landmarks &amp; ...</td>\n",
       "      <td>4.5</td>\n",
       "      <td>[]</td>\n",
       "      <td>...</td>\n",
       "      <td>-9.136698</td>\n",
       "      <td>Rua do Ouro</td>\n",
       "      <td></td>\n",
       "      <td></td>\n",
       "      <td>Lisbon</td>\n",
       "      <td>1100-100</td>\n",
       "      <td>PT</td>\n",
       "      <td>11</td>\n",
       "      <td>[Rua do Ouro, 1100-100 Lisbon, Portugal]</td>\n",
       "      <td>NaN</td>\n",
       "    </tr>\n",
       "    <tr>\n",
       "      <th>5</th>\n",
       "      <td>XMKyZPdgNbcP2pr-OIDTyw</td>\n",
       "      <td>miradouro-sophia-de-mello-breyner-andresen-lis...</td>\n",
       "      <td>Miradouro Sophia de Mello Breyner Andresen</td>\n",
       "      <td>https://s3-media3.fl.yelpcdn.com/bphoto/6Rn95h...</td>\n",
       "      <td>False</td>\n",
       "      <td>https://www.yelp.com/biz/miradouro-sophia-de-m...</td>\n",
       "      <td>12</td>\n",
       "      <td>[{'alias': 'landmarks', 'title': 'Landmarks &amp; ...</td>\n",
       "      <td>5.0</td>\n",
       "      <td>[]</td>\n",
       "      <td>...</td>\n",
       "      <td>-9.131515</td>\n",
       "      <td>Largo da Graça</td>\n",
       "      <td>None</td>\n",
       "      <td>None</td>\n",
       "      <td>Lisbon</td>\n",
       "      <td>1170-165</td>\n",
       "      <td>PT</td>\n",
       "      <td>11</td>\n",
       "      <td>[Largo da Graça, 1170-165 Lisbon, Portugal]</td>\n",
       "      <td>NaN</td>\n",
       "    </tr>\n",
       "    <tr>\n",
       "      <th>6</th>\n",
       "      <td>qwOe49zxeZLPg6V2c2ieRA</td>\n",
       "      <td>miradouro-das-portas-do-sol-lisboa</td>\n",
       "      <td>Miradouro das Portas do Sol</td>\n",
       "      <td>https://s3-media3.fl.yelpcdn.com/bphoto/hIjRkA...</td>\n",
       "      <td>False</td>\n",
       "      <td>https://www.yelp.com/biz/miradouro-das-portas-...</td>\n",
       "      <td>8</td>\n",
       "      <td>[{'alias': 'landmarks', 'title': 'Landmarks &amp; ...</td>\n",
       "      <td>5.0</td>\n",
       "      <td>[]</td>\n",
       "      <td>...</td>\n",
       "      <td>-9.130208</td>\n",
       "      <td>Largo das Portas do Sol, s/n</td>\n",
       "      <td></td>\n",
       "      <td></td>\n",
       "      <td>Lisbon</td>\n",
       "      <td>1100-411</td>\n",
       "      <td>PT</td>\n",
       "      <td>11</td>\n",
       "      <td>[Largo das Portas do Sol, s/n, 1100-411 Lisbon...</td>\n",
       "      <td>NaN</td>\n",
       "    </tr>\n",
       "    <tr>\n",
       "      <th>7</th>\n",
       "      <td>5FqBaNen3AyzNashkx4qaQ</td>\n",
       "      <td>santuário-de-cristo-rei-almada</td>\n",
       "      <td>Santuário de Cristo Rei</td>\n",
       "      <td>https://s3-media3.fl.yelpcdn.com/bphoto/FJjPxW...</td>\n",
       "      <td>False</td>\n",
       "      <td>https://www.yelp.com/biz/santu%C3%A1rio-de-cri...</td>\n",
       "      <td>30</td>\n",
       "      <td>[{'alias': 'landmarks', 'title': 'Landmarks &amp; ...</td>\n",
       "      <td>4.5</td>\n",
       "      <td>[]</td>\n",
       "      <td>...</td>\n",
       "      <td>-9.171357</td>\n",
       "      <td>Av. Cristo Rei, s/n</td>\n",
       "      <td>None</td>\n",
       "      <td>None</td>\n",
       "      <td>Almada</td>\n",
       "      <td>2800-058</td>\n",
       "      <td>PT</td>\n",
       "      <td>15</td>\n",
       "      <td>[Av. Cristo Rei, s/n, 2800-058 Almada, Portugal]</td>\n",
       "      <td>NaN</td>\n",
       "    </tr>\n",
       "    <tr>\n",
       "      <th>8</th>\n",
       "      <td>4xUqgc3LbpSVrRk_QKhsww</td>\n",
       "      <td>igreja-sao-roque-lisboa</td>\n",
       "      <td>Igreja Sao Roque</td>\n",
       "      <td>https://s3-media1.fl.yelpcdn.com/bphoto/b_CB3t...</td>\n",
       "      <td>False</td>\n",
       "      <td>https://www.yelp.com/biz/igreja-sao-roque-lisb...</td>\n",
       "      <td>7</td>\n",
       "      <td>[{'alias': 'churches', 'title': 'Churches'}, {...</td>\n",
       "      <td>4.5</td>\n",
       "      <td>[]</td>\n",
       "      <td>...</td>\n",
       "      <td>-9.143050</td>\n",
       "      <td>Largo Trinidade Coelho</td>\n",
       "      <td></td>\n",
       "      <td></td>\n",
       "      <td>Lisbon</td>\n",
       "      <td>1200-470</td>\n",
       "      <td>PT</td>\n",
       "      <td>11</td>\n",
       "      <td>[Largo Trinidade Coelho, 1200-470 Lisbon, Port...</td>\n",
       "      <td>NaN</td>\n",
       "    </tr>\n",
       "    <tr>\n",
       "      <th>9</th>\n",
       "      <td>1sZo66BlFj32BctcM1V5IQ</td>\n",
       "      <td>miradouro-de-santa-catarina-lisboa-2</td>\n",
       "      <td>Miradouro de Santa Catarina</td>\n",
       "      <td>https://s3-media2.fl.yelpcdn.com/bphoto/ehw_nn...</td>\n",
       "      <td>False</td>\n",
       "      <td>https://www.yelp.com/biz/miradouro-de-santa-ca...</td>\n",
       "      <td>11</td>\n",
       "      <td>[{'alias': 'landmarks', 'title': 'Landmarks &amp; ...</td>\n",
       "      <td>4.5</td>\n",
       "      <td>[]</td>\n",
       "      <td>...</td>\n",
       "      <td>-9.147656</td>\n",
       "      <td>R. de Santa Catarina, s/n</td>\n",
       "      <td></td>\n",
       "      <td></td>\n",
       "      <td>Lisbon</td>\n",
       "      <td>1200-012</td>\n",
       "      <td>PT</td>\n",
       "      <td>11</td>\n",
       "      <td>[R. de Santa Catarina, s/n, 1200-012 Lisbon, P...</td>\n",
       "      <td>NaN</td>\n",
       "    </tr>\n",
       "    <tr>\n",
       "      <th>10</th>\n",
       "      <td>02lExgybjNCrWrjKsiCAXA</td>\n",
       "      <td>ponte-25-de-abril-lisboa</td>\n",
       "      <td>Ponte 25 de Abril</td>\n",
       "      <td>https://s3-media1.fl.yelpcdn.com/bphoto/MnAkrI...</td>\n",
       "      <td>False</td>\n",
       "      <td>https://www.yelp.com/biz/ponte-25-de-abril-lis...</td>\n",
       "      <td>17</td>\n",
       "      <td>[{'alias': 'landmarks', 'title': 'Landmarks &amp; ...</td>\n",
       "      <td>4.5</td>\n",
       "      <td>[]</td>\n",
       "      <td>...</td>\n",
       "      <td>-9.176931</td>\n",
       "      <td>Lisboa</td>\n",
       "      <td>None</td>\n",
       "      <td>None</td>\n",
       "      <td>Lisbon</td>\n",
       "      <td>1000-000</td>\n",
       "      <td>PT</td>\n",
       "      <td>11</td>\n",
       "      <td>[Lisboa, 1000-000 Lisbon, Portugal]</td>\n",
       "      <td>NaN</td>\n",
       "    </tr>\n",
       "    <tr>\n",
       "      <th>11</th>\n",
       "      <td>1yuguR06WTRjR1FG3VYQiw</td>\n",
       "      <td>rua-augusta-lisboa</td>\n",
       "      <td>Rua Augusta</td>\n",
       "      <td>https://s3-media2.fl.yelpcdn.com/bphoto/Pp98Oy...</td>\n",
       "      <td>False</td>\n",
       "      <td>https://www.yelp.com/biz/rua-augusta-lisboa?ad...</td>\n",
       "      <td>4</td>\n",
       "      <td>[{'alias': 'landmarks', 'title': 'Landmarks &amp; ...</td>\n",
       "      <td>5.0</td>\n",
       "      <td>[]</td>\n",
       "      <td>...</td>\n",
       "      <td>-9.137705</td>\n",
       "      <td>R. Augusta</td>\n",
       "      <td></td>\n",
       "      <td>None</td>\n",
       "      <td>Lisbon</td>\n",
       "      <td>1100</td>\n",
       "      <td>PT</td>\n",
       "      <td>11</td>\n",
       "      <td>[R. Augusta, 1100 Lisbon, Portugal]</td>\n",
       "      <td>NaN</td>\n",
       "    </tr>\n",
       "    <tr>\n",
       "      <th>12</th>\n",
       "      <td>6B8VuZNX6nSdUrbsFcz7bQ</td>\n",
       "      <td>praça-dom-pedro-iv-lisboa</td>\n",
       "      <td>Praça Dom Pedro IV</td>\n",
       "      <td>https://s3-media4.fl.yelpcdn.com/bphoto/GmZ1ZD...</td>\n",
       "      <td>False</td>\n",
       "      <td>https://www.yelp.com/biz/pra%C3%A7a-dom-pedro-...</td>\n",
       "      <td>7</td>\n",
       "      <td>[{'alias': 'publicplazas', 'title': 'Public Pl...</td>\n",
       "      <td>4.0</td>\n",
       "      <td>[]</td>\n",
       "      <td>...</td>\n",
       "      <td>-9.139663</td>\n",
       "      <td>Praça Dom Pedro IV</td>\n",
       "      <td>None</td>\n",
       "      <td>None</td>\n",
       "      <td>Lisbon</td>\n",
       "      <td>1100-200</td>\n",
       "      <td>PT</td>\n",
       "      <td>11</td>\n",
       "      <td>[Praça Dom Pedro IV, 1100-200 Lisbon, Portugal]</td>\n",
       "      <td>NaN</td>\n",
       "    </tr>\n",
       "    <tr>\n",
       "      <th>13</th>\n",
       "      <td>CX3MfrA2CaQA68AIduy4NQ</td>\n",
       "      <td>fundação-josé-saramago-lisboa</td>\n",
       "      <td>Fundação José Saramago</td>\n",
       "      <td>https://s3-media4.fl.yelpcdn.com/bphoto/BivW_I...</td>\n",
       "      <td>False</td>\n",
       "      <td>https://www.yelp.com/biz/funda%C3%A7%C3%A3o-jo...</td>\n",
       "      <td>4</td>\n",
       "      <td>[{'alias': 'museums', 'title': 'Museums'}, {'a...</td>\n",
       "      <td>5.0</td>\n",
       "      <td>[]</td>\n",
       "      <td>...</td>\n",
       "      <td>-9.133946</td>\n",
       "      <td>R. dos Bacalhoeiros</td>\n",
       "      <td>None</td>\n",
       "      <td>None</td>\n",
       "      <td>Lisbon</td>\n",
       "      <td>1100-135</td>\n",
       "      <td>PT</td>\n",
       "      <td>11</td>\n",
       "      <td>[R. dos Bacalhoeiros, 1100-135 Lisbon, Portugal]</td>\n",
       "      <td>€</td>\n",
       "    </tr>\n",
       "    <tr>\n",
       "      <th>14</th>\n",
       "      <td>oNMSlbvsxCI3UOFZD8m4EA</td>\n",
       "      <td>avenida-da-liberdade-lisboa</td>\n",
       "      <td>Avenida da Liberdade</td>\n",
       "      <td>https://s3-media1.fl.yelpcdn.com/bphoto/a4i758...</td>\n",
       "      <td>False</td>\n",
       "      <td>https://www.yelp.com/biz/avenida-da-liberdade-...</td>\n",
       "      <td>8</td>\n",
       "      <td>[{'alias': 'landmarks', 'title': 'Landmarks &amp; ...</td>\n",
       "      <td>4.5</td>\n",
       "      <td>[]</td>\n",
       "      <td>...</td>\n",
       "      <td>-9.144554</td>\n",
       "      <td>Av. da Liberdade, s/n</td>\n",
       "      <td>None</td>\n",
       "      <td>None</td>\n",
       "      <td>Lisbon</td>\n",
       "      <td>1250-096</td>\n",
       "      <td>PT</td>\n",
       "      <td>11</td>\n",
       "      <td>[Av. da Liberdade, s/n, 1250-096 Lisbon, Portu...</td>\n",
       "      <td>NaN</td>\n",
       "    </tr>\n",
       "  </tbody>\n",
       "</table>\n",
       "<p>15 rows × 24 columns</p>\n",
       "</div>"
      ],
      "text/plain": [
       "                        id                                              alias  \\\n",
       "0   MZD2p2heUhcREkz9lYndDw                        castelo-de-s-jorge-lisboa-2   \n",
       "1   NB_st6u_iGxMGNOQKd3ntg                                 bairro-alto-lisboa   \n",
       "2   k0VJRIioitG2mBDkWEIXTw                     elevador-de-santa-justa-lisboa   \n",
       "3   CwiSIT317rm8XJLJ2VEAeQ                         praça-do-comércio-lisboa-2   \n",
       "4   AQcoVKdSsbFe7bhWZ2AUvA                         arco-da-rua-augusta-lisboa   \n",
       "5   XMKyZPdgNbcP2pr-OIDTyw  miradouro-sophia-de-mello-breyner-andresen-lis...   \n",
       "6   qwOe49zxeZLPg6V2c2ieRA                 miradouro-das-portas-do-sol-lisboa   \n",
       "7   5FqBaNen3AyzNashkx4qaQ                     santuário-de-cristo-rei-almada   \n",
       "8   4xUqgc3LbpSVrRk_QKhsww                            igreja-sao-roque-lisboa   \n",
       "9   1sZo66BlFj32BctcM1V5IQ               miradouro-de-santa-catarina-lisboa-2   \n",
       "10  02lExgybjNCrWrjKsiCAXA                           ponte-25-de-abril-lisboa   \n",
       "11  1yuguR06WTRjR1FG3VYQiw                                 rua-augusta-lisboa   \n",
       "12  6B8VuZNX6nSdUrbsFcz7bQ                          praça-dom-pedro-iv-lisboa   \n",
       "13  CX3MfrA2CaQA68AIduy4NQ                      fundação-josé-saramago-lisboa   \n",
       "14  oNMSlbvsxCI3UOFZD8m4EA                        avenida-da-liberdade-lisboa   \n",
       "\n",
       "                                          name  \\\n",
       "0                          Castelo de S. Jorge   \n",
       "1                                  Bairro Alto   \n",
       "2                      Elevador de Santa Justa   \n",
       "3                            Praça do Comércio   \n",
       "4                          Arco da Rua Augusta   \n",
       "5   Miradouro Sophia de Mello Breyner Andresen   \n",
       "6                  Miradouro das Portas do Sol   \n",
       "7                      Santuário de Cristo Rei   \n",
       "8                             Igreja Sao Roque   \n",
       "9                  Miradouro de Santa Catarina   \n",
       "10                           Ponte 25 de Abril   \n",
       "11                                 Rua Augusta   \n",
       "12                          Praça Dom Pedro IV   \n",
       "13                      Fundação José Saramago   \n",
       "14                        Avenida da Liberdade   \n",
       "\n",
       "                                            image_url  is_closed  \\\n",
       "0   https://s3-media3.fl.yelpcdn.com/bphoto/IFYSkx...      False   \n",
       "1   https://s3-media4.fl.yelpcdn.com/bphoto/0dhFPu...      False   \n",
       "2   https://s3-media2.fl.yelpcdn.com/bphoto/eVOJdJ...      False   \n",
       "3   https://s3-media3.fl.yelpcdn.com/bphoto/ZvK1Od...      False   \n",
       "4   https://s3-media3.fl.yelpcdn.com/bphoto/94zyiC...      False   \n",
       "5   https://s3-media3.fl.yelpcdn.com/bphoto/6Rn95h...      False   \n",
       "6   https://s3-media3.fl.yelpcdn.com/bphoto/hIjRkA...      False   \n",
       "7   https://s3-media3.fl.yelpcdn.com/bphoto/FJjPxW...      False   \n",
       "8   https://s3-media1.fl.yelpcdn.com/bphoto/b_CB3t...      False   \n",
       "9   https://s3-media2.fl.yelpcdn.com/bphoto/ehw_nn...      False   \n",
       "10  https://s3-media1.fl.yelpcdn.com/bphoto/MnAkrI...      False   \n",
       "11  https://s3-media2.fl.yelpcdn.com/bphoto/Pp98Oy...      False   \n",
       "12  https://s3-media4.fl.yelpcdn.com/bphoto/GmZ1ZD...      False   \n",
       "13  https://s3-media4.fl.yelpcdn.com/bphoto/BivW_I...      False   \n",
       "14  https://s3-media1.fl.yelpcdn.com/bphoto/a4i758...      False   \n",
       "\n",
       "                                                  url  review_count  \\\n",
       "0   https://www.yelp.com/biz/castelo-de-s-jorge-li...           121   \n",
       "1   https://www.yelp.com/biz/bairro-alto-lisboa?ad...            49   \n",
       "2   https://www.yelp.com/biz/elevador-de-santa-jus...            89   \n",
       "3   https://www.yelp.com/biz/pra%C3%A7a-do-com%C3%...            32   \n",
       "4   https://www.yelp.com/biz/arco-da-rua-augusta-l...            18   \n",
       "5   https://www.yelp.com/biz/miradouro-sophia-de-m...            12   \n",
       "6   https://www.yelp.com/biz/miradouro-das-portas-...             8   \n",
       "7   https://www.yelp.com/biz/santu%C3%A1rio-de-cri...            30   \n",
       "8   https://www.yelp.com/biz/igreja-sao-roque-lisb...             7   \n",
       "9   https://www.yelp.com/biz/miradouro-de-santa-ca...            11   \n",
       "10  https://www.yelp.com/biz/ponte-25-de-abril-lis...            17   \n",
       "11  https://www.yelp.com/biz/rua-augusta-lisboa?ad...             4   \n",
       "12  https://www.yelp.com/biz/pra%C3%A7a-dom-pedro-...             7   \n",
       "13  https://www.yelp.com/biz/funda%C3%A7%C3%A3o-jo...             4   \n",
       "14  https://www.yelp.com/biz/avenida-da-liberdade-...             8   \n",
       "\n",
       "                                           categories  rating transactions  \\\n",
       "0   [{'alias': 'landmarks', 'title': 'Landmarks & ...     4.5           []   \n",
       "1   [{'alias': 'landmarks', 'title': 'Landmarks & ...     4.5           []   \n",
       "2   [{'alias': 'landmarks', 'title': 'Landmarks & ...     4.0           []   \n",
       "3   [{'alias': 'landmarks', 'title': 'Landmarks & ...     4.5           []   \n",
       "4   [{'alias': 'landmarks', 'title': 'Landmarks & ...     4.5           []   \n",
       "5   [{'alias': 'landmarks', 'title': 'Landmarks & ...     5.0           []   \n",
       "6   [{'alias': 'landmarks', 'title': 'Landmarks & ...     5.0           []   \n",
       "7   [{'alias': 'landmarks', 'title': 'Landmarks & ...     4.5           []   \n",
       "8   [{'alias': 'churches', 'title': 'Churches'}, {...     4.5           []   \n",
       "9   [{'alias': 'landmarks', 'title': 'Landmarks & ...     4.5           []   \n",
       "10  [{'alias': 'landmarks', 'title': 'Landmarks & ...     4.5           []   \n",
       "11  [{'alias': 'landmarks', 'title': 'Landmarks & ...     5.0           []   \n",
       "12  [{'alias': 'publicplazas', 'title': 'Public Pl...     4.0           []   \n",
       "13  [{'alias': 'museums', 'title': 'Museums'}, {'a...     5.0           []   \n",
       "14  [{'alias': 'landmarks', 'title': 'Landmarks & ...     4.5           []   \n",
       "\n",
       "    ... coordinates.longitude             location.address1  \\\n",
       "0   ...             -9.133477         R. de Santa Cruz, s/n   \n",
       "1   ...             -9.144490                          None   \n",
       "2   ...             -9.139432               R. do Ouro, s/n   \n",
       "3   ...             -9.136517             Praça do Comércio   \n",
       "4   ...             -9.136698                   Rua do Ouro   \n",
       "5   ...             -9.131515                Largo da Graça   \n",
       "6   ...             -9.130208  Largo das Portas do Sol, s/n   \n",
       "7   ...             -9.171357           Av. Cristo Rei, s/n   \n",
       "8   ...             -9.143050        Largo Trinidade Coelho   \n",
       "9   ...             -9.147656     R. de Santa Catarina, s/n   \n",
       "10  ...             -9.176931                        Lisboa   \n",
       "11  ...             -9.137705                    R. Augusta   \n",
       "12  ...             -9.139663            Praça Dom Pedro IV   \n",
       "13  ...             -9.133946           R. dos Bacalhoeiros   \n",
       "14  ...             -9.144554         Av. da Liberdade, s/n   \n",
       "\n",
       "    location.address2  location.address3  location.city location.zip_code  \\\n",
       "0                                                Lisbon          1100-129   \n",
       "1                None               None         Lisbon          1200-109   \n",
       "2                                                Lisbon          1150-060   \n",
       "3                None               None         Lisbon          1100-148   \n",
       "4                                                Lisbon          1100-100   \n",
       "5                None               None         Lisbon          1170-165   \n",
       "6                                                Lisbon          1100-411   \n",
       "7                None               None         Almada          2800-058   \n",
       "8                                                Lisbon          1200-470   \n",
       "9                                                Lisbon          1200-012   \n",
       "10               None               None         Lisbon          1000-000   \n",
       "11                                  None         Lisbon              1100   \n",
       "12               None               None         Lisbon          1100-200   \n",
       "13               None               None         Lisbon          1100-135   \n",
       "14               None               None         Lisbon          1250-096   \n",
       "\n",
       "   location.country location.state  \\\n",
       "0                PT             11   \n",
       "1                PT             11   \n",
       "2                PT             11   \n",
       "3                PT             11   \n",
       "4                PT             11   \n",
       "5                PT             11   \n",
       "6                PT             11   \n",
       "7                PT             15   \n",
       "8                PT             11   \n",
       "9                PT             11   \n",
       "10               PT             11   \n",
       "11               PT             11   \n",
       "12               PT             11   \n",
       "13               PT             11   \n",
       "14               PT             11   \n",
       "\n",
       "                             location.display_address price  \n",
       "0   [R. de Santa Cruz, s/n, 1100-129 Lisbon, Portu...   NaN  \n",
       "1                         [1200-109 Lisbon, Portugal]   NaN  \n",
       "2        [R. do Ouro, s/n, 1150-060 Lisbon, Portugal]   NaN  \n",
       "3      [Praça do Comércio, 1100-148 Lisbon, Portugal]   NaN  \n",
       "4            [Rua do Ouro, 1100-100 Lisbon, Portugal]   NaN  \n",
       "5         [Largo da Graça, 1170-165 Lisbon, Portugal]   NaN  \n",
       "6   [Largo das Portas do Sol, s/n, 1100-411 Lisbon...   NaN  \n",
       "7    [Av. Cristo Rei, s/n, 2800-058 Almada, Portugal]   NaN  \n",
       "8   [Largo Trinidade Coelho, 1200-470 Lisbon, Port...   NaN  \n",
       "9   [R. de Santa Catarina, s/n, 1200-012 Lisbon, P...   NaN  \n",
       "10                [Lisboa, 1000-000 Lisbon, Portugal]   NaN  \n",
       "11                [R. Augusta, 1100 Lisbon, Portugal]   NaN  \n",
       "12    [Praça Dom Pedro IV, 1100-200 Lisbon, Portugal]   NaN  \n",
       "13   [R. dos Bacalhoeiros, 1100-135 Lisbon, Portugal]     €  \n",
       "14  [Av. da Liberdade, s/n, 1250-096 Lisbon, Portu...   NaN  \n",
       "\n",
       "[15 rows x 24 columns]"
      ]
     },
     "execution_count": 359,
     "metadata": {},
     "output_type": "execute_result"
    }
   ],
   "source": [
    "#normalize pandas\n",
    "display = pd.json_normalize(land, record_path='businesses')\n",
    "display\n",
    "#display[['name', 'review_count','rating', 'location.address1']]"
   ]
  },
  {
   "cell_type": "code",
   "execution_count": null,
   "id": "23741e0e",
   "metadata": {},
   "outputs": [],
   "source": [
    "#create table\n",
    "create_landmark_yelp = \"\"\"\n",
    "CREATE TABLE IF NOT EXISTS land_yelp(\n",
    "  id INTEGER PRIMARY KEY AUTOINCREMENT, \n",
    "  name TEXT NOT NULL, \n",
    "  no_review INTEGER,\n",
    "  rating INTEGER,\n",
    "  street TEXT NOT NULL\n",
    ");\n",
    "\"\"\"\n",
    "execute_query(connection, create_landmark_yelp)"
   ]
  },
  {
   "cell_type": "code",
   "execution_count": 342,
   "id": "bdf6edf6-7d32-4fd0-9edd-9d727ffb6396",
   "metadata": {},
   "outputs": [],
   "source": [
    "#insert values\n",
    "insert_landmark_yelp = \"\"\"\n",
    "INSERT INTO\n",
    "  land_yelp (name, no_review, rating, street)\n",
    "VALUES\n",
    "  ('Castelo de S. Jorge', 121, 4.5, 'R. de Santa Cruz'),\n",
    "  ('Bairro Alto', 49, 4.5, 'None'),\n",
    "  ('Elevador de Santa Justa', 89, 4.5, 'R. do Ouro'),\n",
    "  ('Praça do Comércio', 32, 4.5, 'Praça do Comércio'),\n",
    "  ('Arco da Rua Augusta', 18, 4.5, 'Rua do Ouro'),\n",
    "  ('Miradouro Sophia de Mello Breyner Andresen', 12, 5.0, 'Largo da Graça'),\n",
    "  ('Miradouro das Portas do Sol', 8, 5.0, 'Largo das Portas do Sol'),\n",
    "  ('Santuário de Cristo Rei', 30, 4.5, 'Av. Cristo Rei'),\n",
    "  ('Igreja Sao Roque', 7, 4.5, 'Largo Trinidade Coelho'),\n",
    "  ('Miradouro de Santa Catarina', 11, 4.5, 'R. de Santa Catarina'),\n",
    "  ('Ponte 25 de Abril', 17, 4.5, 'None'),\n",
    "  ('Rua Augusta', 4, 5.0, 'R. Augusta'),\n",
    "  ('Praça Dom Pedro IV', 7, 4.0, 'Praça Dom Pedro IV'),\n",
    "  ('Fundação José Saramago', 4, 5.0, 'R. dos Bacalhoeiros'),\n",
    "  ('Avenida da Liberdade', 8, 4.5, 'Av. da Liberdade');\n",
    "\"\"\"\n",
    "execute_query(connection, insert_landmark_yelp)"
   ]
  },
  {
   "cell_type": "markdown",
   "id": "05237c62-eb60-43dd-9236-011dbb51c9a6",
   "metadata": {},
   "source": [
    "### Entertainment"
   ]
  },
  {
   "cell_type": "code",
   "execution_count": 300,
   "id": "677715b5-b51f-4695-8917-9482184937ae",
   "metadata": {},
   "outputs": [
    {
     "name": "stdout",
     "output_type": "stream",
     "text": [
      "200\n"
     ]
    },
    {
     "data": {
      "text/html": [
       "<div>\n",
       "<style scoped>\n",
       "    .dataframe tbody tr th:only-of-type {\n",
       "        vertical-align: middle;\n",
       "    }\n",
       "\n",
       "    .dataframe tbody tr th {\n",
       "        vertical-align: top;\n",
       "    }\n",
       "\n",
       "    .dataframe thead th {\n",
       "        text-align: right;\n",
       "    }\n",
       "</style>\n",
       "<table border=\"1\" class=\"dataframe\">\n",
       "  <thead>\n",
       "    <tr style=\"text-align: right;\">\n",
       "      <th></th>\n",
       "      <th>name</th>\n",
       "      <th>review_count</th>\n",
       "      <th>rating</th>\n",
       "      <th>location.address1</th>\n",
       "    </tr>\n",
       "  </thead>\n",
       "  <tbody>\n",
       "    <tr>\n",
       "      <th>0</th>\n",
       "      <td>Castelo de S. Jorge</td>\n",
       "      <td>121</td>\n",
       "      <td>4.5</td>\n",
       "      <td>R. de Santa Cruz, s/n</td>\n",
       "    </tr>\n",
       "    <tr>\n",
       "      <th>1</th>\n",
       "      <td>Museu Arqueológico do Carmo</td>\n",
       "      <td>17</td>\n",
       "      <td>4.5</td>\n",
       "      <td>Largo do Carmo</td>\n",
       "    </tr>\n",
       "    <tr>\n",
       "      <th>2</th>\n",
       "      <td>Beco Cabaret Gourmet</td>\n",
       "      <td>8</td>\n",
       "      <td>5.0</td>\n",
       "      <td>R. Nova da Trindade, 18</td>\n",
       "    </tr>\n",
       "    <tr>\n",
       "      <th>3</th>\n",
       "      <td>Museu Nacional do Azulejo</td>\n",
       "      <td>28</td>\n",
       "      <td>4.5</td>\n",
       "      <td>R. da Madre de Deus, 4</td>\n",
       "    </tr>\n",
       "    <tr>\n",
       "      <th>4</th>\n",
       "      <td>Garrafeira Nacional</td>\n",
       "      <td>10</td>\n",
       "      <td>4.5</td>\n",
       "      <td>Rua de Santa Justa, 18</td>\n",
       "    </tr>\n",
       "    <tr>\n",
       "      <th>5</th>\n",
       "      <td>Casa Independente</td>\n",
       "      <td>13</td>\n",
       "      <td>4.5</td>\n",
       "      <td>Largo do Intendente, 45</td>\n",
       "    </tr>\n",
       "    <tr>\n",
       "      <th>6</th>\n",
       "      <td>Galeria Zé dos Bois</td>\n",
       "      <td>10</td>\n",
       "      <td>4.5</td>\n",
       "      <td>R. da Barroca, 59</td>\n",
       "    </tr>\n",
       "    <tr>\n",
       "      <th>7</th>\n",
       "      <td>Duetos da Sé</td>\n",
       "      <td>14</td>\n",
       "      <td>4.0</td>\n",
       "      <td>Travessa Almargem,  1</td>\n",
       "    </tr>\n",
       "    <tr>\n",
       "      <th>8</th>\n",
       "      <td>A Arte da Terra</td>\n",
       "      <td>8</td>\n",
       "      <td>4.5</td>\n",
       "      <td>R. de Augusto Rosa, 40</td>\n",
       "    </tr>\n",
       "    <tr>\n",
       "      <th>9</th>\n",
       "      <td>Lisboa Story Centre</td>\n",
       "      <td>10</td>\n",
       "      <td>4.0</td>\n",
       "      <td>Terreiro do Paço, 78-81</td>\n",
       "    </tr>\n",
       "    <tr>\n",
       "      <th>10</th>\n",
       "      <td>Fundação José Saramago</td>\n",
       "      <td>4</td>\n",
       "      <td>5.0</td>\n",
       "      <td>R. dos Bacalhoeiros</td>\n",
       "    </tr>\n",
       "    <tr>\n",
       "      <th>11</th>\n",
       "      <td>Esperança</td>\n",
       "      <td>12</td>\n",
       "      <td>3.5</td>\n",
       "      <td>Rua do Norte, 95</td>\n",
       "    </tr>\n",
       "    <tr>\n",
       "      <th>12</th>\n",
       "      <td>Baco Alto</td>\n",
       "      <td>6</td>\n",
       "      <td>4.5</td>\n",
       "      <td>R. do Norte, 31-33</td>\n",
       "    </tr>\n",
       "    <tr>\n",
       "      <th>13</th>\n",
       "      <td>MUDE - Museu Design e da Moda</td>\n",
       "      <td>9</td>\n",
       "      <td>4.0</td>\n",
       "      <td>R. Augusta, 24</td>\n",
       "    </tr>\n",
       "    <tr>\n",
       "      <th>14</th>\n",
       "      <td>Panteão Nacional</td>\n",
       "      <td>6</td>\n",
       "      <td>5.0</td>\n",
       "      <td>Campo de Santa Clara</td>\n",
       "    </tr>\n",
       "  </tbody>\n",
       "</table>\n",
       "</div>"
      ],
      "text/plain": [
       "                             name  review_count  rating  \\\n",
       "0             Castelo de S. Jorge           121     4.5   \n",
       "1     Museu Arqueológico do Carmo            17     4.5   \n",
       "2            Beco Cabaret Gourmet             8     5.0   \n",
       "3       Museu Nacional do Azulejo            28     4.5   \n",
       "4             Garrafeira Nacional            10     4.5   \n",
       "5               Casa Independente            13     4.5   \n",
       "6             Galeria Zé dos Bois            10     4.5   \n",
       "7                    Duetos da Sé            14     4.0   \n",
       "8                 A Arte da Terra             8     4.5   \n",
       "9             Lisboa Story Centre            10     4.0   \n",
       "10         Fundação José Saramago             4     5.0   \n",
       "11                      Esperança            12     3.5   \n",
       "12                      Baco Alto             6     4.5   \n",
       "13  MUDE - Museu Design e da Moda             9     4.0   \n",
       "14               Panteão Nacional             6     5.0   \n",
       "\n",
       "          location.address1  \n",
       "0     R. de Santa Cruz, s/n  \n",
       "1            Largo do Carmo  \n",
       "2   R. Nova da Trindade, 18  \n",
       "3    R. da Madre de Deus, 4  \n",
       "4    Rua de Santa Justa, 18  \n",
       "5   Largo do Intendente, 45  \n",
       "6         R. da Barroca, 59  \n",
       "7     Travessa Almargem,  1  \n",
       "8    R. de Augusto Rosa, 40  \n",
       "9   Terreiro do Paço, 78-81  \n",
       "10      R. dos Bacalhoeiros  \n",
       "11         Rua do Norte, 95  \n",
       "12       R. do Norte, 31-33  \n",
       "13           R. Augusta, 24  \n",
       "14     Campo de Santa Clara  "
      ]
     },
     "execution_count": 300,
     "metadata": {},
     "output_type": "execute_result"
    }
   ],
   "source": [
    "#pull from yelp\n",
    "yurl = \"https://api.yelp.com/v3/businesses/search\"\n",
    "headers = {\n",
    "    \"Authorization\": \"Bearer __\"\n",
    "}\n",
    "\n",
    "yurl_params = {'categories': 'arts',\n",
    "              'latitude': '38.713757',\n",
    "              'longitude': '-9.137990',\n",
    "              'radius': 5000,\n",
    "              'limit': 15}\n",
    "response = requests.get(yurl, headers=headers, params=yurl_params)\n",
    "print(response.status_code)\n",
    "\n",
    "tain = response.json()\n",
    "\n",
    "#normalize data\n",
    "display = pd.json_normalize(tain, record_path='businesses')\n",
    "display[['name', 'review_count','rating', 'location.address1']]"
   ]
  },
  {
   "cell_type": "code",
   "execution_count": 346,
   "id": "54cc8cc9-2727-48fd-a469-0c0e32e354b4",
   "metadata": {},
   "outputs": [],
   "source": [
    "#insert values\n",
    "insert_tain_yelp = \"\"\"\n",
    "INSERT INTO\n",
    "  entertain_yelp (name, no_review, rating, street)\n",
    "VALUES\n",
    "  ('Castelo de S. Jorge', 121, 4.5, 'R. de Santa Cruz'),\n",
    "  ('Museu Arqueológico do Carmo', 17, 4.5, 'Largo do Carmo'),\n",
    "  ('Beco Cabaret Gourmet', 8, 5.0, 'R. Nova da Trindade'),\n",
    "  ('Museu Nacional do Azulejo', 28, 4.5, 'R. da Madre de Deus'),\n",
    "  ('Garrafeira Nacional', 10, 4.5, 'Rua de Santa Justa'),\n",
    "  ('Casa Independente', 13, 4.5, 'Largo do Intendente'),\n",
    "  ('Galeria Zé dos Bois', 10, 4.5, 'R. da Barroca'),\n",
    "  ('Duetos da Sé', 14, 4.0, 'Travessa Almargem'),\n",
    "  ('A Arte da Terra', 8, 4.5, 'R. de Augusto Rosa'),\n",
    "  ('Lisboa Story Centre', 10, 4.0, 'Terreiro do Paço'),\n",
    "  ('Fundação José Saramago', 4, 5.0, 'R. dos Bacalhoeiros'),\n",
    "  ('Esperança', 12, 3.5, 'R. do Norte'),\n",
    "  ('Baco Alto', 6, 4.5, 'R. do Norte'),\n",
    "  ('MUDE - Museu Design e da Moda', 9, 4.0, 'R. Augusta'),\n",
    "  ('Panteão Nacional', 6, 5.0, 'Campo de Santa Clara');\n",
    "\"\"\"\n",
    "execute_query(connection, insert_tain_yelp)"
   ]
  },
  {
   "cell_type": "code",
   "execution_count": 344,
   "id": "e89bcd6a-522a-4e96-b2d5-dd38e959612f",
   "metadata": {},
   "outputs": [],
   "source": [
    "#create table\n",
    "create_tain_yelp = \"\"\"\n",
    "CREATE TABLE IF NOT EXISTS entertain_yelp(\n",
    "  id INTEGER PRIMARY KEY AUTOINCREMENT, \n",
    "  name TEXT NOT NULL, \n",
    "  no_review INTEGER,\n",
    "  rating INTEGER,\n",
    "  street TEXT NOT NULL\n",
    ");\n",
    "\"\"\"\n",
    "execute_query(connection, create_tain_yelp)"
   ]
  },
  {
   "cell_type": "markdown",
   "id": "1620b53f-55a5-46d0-bdcb-6811144627e5",
   "metadata": {},
   "source": [
    "### Bakeries"
   ]
  },
  {
   "cell_type": "code",
   "execution_count": 275,
   "id": "df5bb976-fdcf-498d-a701-da5ea6a1738e",
   "metadata": {},
   "outputs": [
    {
     "name": "stdout",
     "output_type": "stream",
     "text": [
      "200\n"
     ]
    }
   ],
   "source": [
    "#pull bakeries\n",
    "import requests\n",
    "yurl = \"https://api.yelp.com/v3/businesses/search\"\n",
    "headers = {\n",
    "    \"Authorization\": \"Bearer ___\"\n",
    "}\n",
    "\n",
    "yurl_params = {'categories': 'bakeries',\n",
    "              'latitude': '38.713757',\n",
    "              'longitude': '-9.137990',\n",
    "              'radius': 5000,\n",
    "              'limit': 15}\n",
    "response = requests.get(yurl, headers=headers, params=yurl_params)\n",
    "print(response.status_code)\n",
    "\n",
    "bakeries = response.json()"
   ]
  },
  {
   "cell_type": "code",
   "execution_count": 276,
   "id": "d6bb0e31-48dc-4a48-a8c7-33495d020e83",
   "metadata": {},
   "outputs": [
    {
     "data": {
      "text/html": [
       "<div>\n",
       "<style scoped>\n",
       "    .dataframe tbody tr th:only-of-type {\n",
       "        vertical-align: middle;\n",
       "    }\n",
       "\n",
       "    .dataframe tbody tr th {\n",
       "        vertical-align: top;\n",
       "    }\n",
       "\n",
       "    .dataframe thead th {\n",
       "        text-align: right;\n",
       "    }\n",
       "</style>\n",
       "<table border=\"1\" class=\"dataframe\">\n",
       "  <thead>\n",
       "    <tr style=\"text-align: right;\">\n",
       "      <th></th>\n",
       "      <th>name</th>\n",
       "      <th>review_count</th>\n",
       "      <th>rating</th>\n",
       "      <th>location.address1</th>\n",
       "    </tr>\n",
       "  </thead>\n",
       "  <tbody>\n",
       "    <tr>\n",
       "      <th>0</th>\n",
       "      <td>Manteigaria</td>\n",
       "      <td>452</td>\n",
       "      <td>5.0</td>\n",
       "      <td>R. do Loreto, 2</td>\n",
       "    </tr>\n",
       "    <tr>\n",
       "      <th>1</th>\n",
       "      <td>Confeitaria Nacional</td>\n",
       "      <td>93</td>\n",
       "      <td>4.0</td>\n",
       "      <td>Praça da Figueira, 18</td>\n",
       "    </tr>\n",
       "    <tr>\n",
       "      <th>2</th>\n",
       "      <td>Pastelaria Santo António</td>\n",
       "      <td>32</td>\n",
       "      <td>4.5</td>\n",
       "      <td>R.  Milagre de Santo António, 10</td>\n",
       "    </tr>\n",
       "    <tr>\n",
       "      <th>3</th>\n",
       "      <td>Copenhagen Coffee Lab</td>\n",
       "      <td>44</td>\n",
       "      <td>4.5</td>\n",
       "      <td>R. Nova da Piedade,10</td>\n",
       "    </tr>\n",
       "    <tr>\n",
       "      <th>4</th>\n",
       "      <td>Paul</td>\n",
       "      <td>20</td>\n",
       "      <td>4.5</td>\n",
       "      <td>R. Augusta, 142</td>\n",
       "    </tr>\n",
       "    <tr>\n",
       "      <th>5</th>\n",
       "      <td>A Padaria Portuguesa</td>\n",
       "      <td>48</td>\n",
       "      <td>3.5</td>\n",
       "      <td>Praça Luís de Camões nº 44</td>\n",
       "    </tr>\n",
       "    <tr>\n",
       "      <th>6</th>\n",
       "      <td>Casa Brasileira</td>\n",
       "      <td>42</td>\n",
       "      <td>3.5</td>\n",
       "      <td>R. Augusta, 267</td>\n",
       "    </tr>\n",
       "    <tr>\n",
       "      <th>7</th>\n",
       "      <td>Fábrica da Nata</td>\n",
       "      <td>14</td>\n",
       "      <td>4.5</td>\n",
       "      <td>R. Augusta, 275</td>\n",
       "    </tr>\n",
       "    <tr>\n",
       "      <th>8</th>\n",
       "      <td>Pastelaria Alfama Doce</td>\n",
       "      <td>25</td>\n",
       "      <td>4.5</td>\n",
       "      <td>R. Regueira, 39 e 39A</td>\n",
       "    </tr>\n",
       "    <tr>\n",
       "      <th>9</th>\n",
       "      <td>Zarzuela</td>\n",
       "      <td>24</td>\n",
       "      <td>4.5</td>\n",
       "      <td>R. Bernardino Costa, 23</td>\n",
       "    </tr>\n",
       "    <tr>\n",
       "      <th>10</th>\n",
       "      <td>Choupana Caffe</td>\n",
       "      <td>46</td>\n",
       "      <td>4.0</td>\n",
       "      <td>Av. da República, 25 A</td>\n",
       "    </tr>\n",
       "    <tr>\n",
       "      <th>11</th>\n",
       "      <td>Copenhagen Coffee Lab</td>\n",
       "      <td>18</td>\n",
       "      <td>4.5</td>\n",
       "      <td>Escolas Gerais, 34</td>\n",
       "    </tr>\n",
       "    <tr>\n",
       "      <th>12</th>\n",
       "      <td>Chiado Caffe</td>\n",
       "      <td>15</td>\n",
       "      <td>4.0</td>\n",
       "      <td>Rua do Loreto, 45-47</td>\n",
       "    </tr>\n",
       "    <tr>\n",
       "      <th>13</th>\n",
       "      <td>Pastelaria Batalha</td>\n",
       "      <td>13</td>\n",
       "      <td>4.0</td>\n",
       "      <td>R. Horta Seca, 1</td>\n",
       "    </tr>\n",
       "    <tr>\n",
       "      <th>14</th>\n",
       "      <td>Panificação R. São Roque</td>\n",
       "      <td>12</td>\n",
       "      <td>4.5</td>\n",
       "      <td>R. Dom Pedro V, 57</td>\n",
       "    </tr>\n",
       "  </tbody>\n",
       "</table>\n",
       "</div>"
      ],
      "text/plain": [
       "                        name  review_count  rating  \\\n",
       "0                Manteigaria           452     5.0   \n",
       "1       Confeitaria Nacional            93     4.0   \n",
       "2   Pastelaria Santo António            32     4.5   \n",
       "3      Copenhagen Coffee Lab            44     4.5   \n",
       "4                       Paul            20     4.5   \n",
       "5       A Padaria Portuguesa            48     3.5   \n",
       "6            Casa Brasileira            42     3.5   \n",
       "7            Fábrica da Nata            14     4.5   \n",
       "8     Pastelaria Alfama Doce            25     4.5   \n",
       "9                   Zarzuela            24     4.5   \n",
       "10            Choupana Caffe            46     4.0   \n",
       "11     Copenhagen Coffee Lab            18     4.5   \n",
       "12              Chiado Caffe            15     4.0   \n",
       "13        Pastelaria Batalha            13     4.0   \n",
       "14  Panificação R. São Roque            12     4.5   \n",
       "\n",
       "                   location.address1  \n",
       "0                    R. do Loreto, 2  \n",
       "1              Praça da Figueira, 18  \n",
       "2   R.  Milagre de Santo António, 10  \n",
       "3              R. Nova da Piedade,10  \n",
       "4                    R. Augusta, 142  \n",
       "5         Praça Luís de Camões nº 44  \n",
       "6                    R. Augusta, 267  \n",
       "7                    R. Augusta, 275  \n",
       "8              R. Regueira, 39 e 39A  \n",
       "9            R. Bernardino Costa, 23  \n",
       "10            Av. da República, 25 A  \n",
       "11                Escolas Gerais, 34  \n",
       "12              Rua do Loreto, 45-47  \n",
       "13                  R. Horta Seca, 1  \n",
       "14                R. Dom Pedro V, 57  "
      ]
     },
     "execution_count": 276,
     "metadata": {},
     "output_type": "execute_result"
    }
   ],
   "source": [
    "#normalize\n",
    "display = pd.json_normalize(bakeries, record_path='businesses')\n",
    "display[['name', 'review_count','rating', 'location.address1']]"
   ]
  },
  {
   "cell_type": "code",
   "execution_count": null,
   "id": "15339e0d",
   "metadata": {},
   "outputs": [],
   "source": [
    "#create table\n",
    "create_bake2_yelp = \"\"\"\n",
    "CREATE TABLE IF NOT EXISTS bakeries_yelp(\n",
    "  id INTEGER PRIMARY KEY AUTOINCREMENT, \n",
    "  name TEXT NOT NULL, \n",
    "  no_review INTEGER,\n",
    "  rating INTEGER,\n",
    "  street TEXT NOT NULL\n",
    ");\n",
    "\"\"\"\n",
    "execute_query(connection, create_bake2_yelp)"
   ]
  },
  {
   "cell_type": "code",
   "execution_count": 350,
   "id": "9cca68c8-58bb-47e2-bc42-f64600b63f90",
   "metadata": {},
   "outputs": [],
   "source": [
    "#insert values \n",
    "insert_bake2_yelp = \"\"\"\n",
    "INSERT INTO\n",
    "  bakeries_yelp (name, no_review, rating, street)\n",
    "VALUES\n",
    "  ('Manteigaria', 452, 5.0, 'R. do Loreto'),\n",
    "  ('Confeitaria Nacional', 93, 4.0, 'Praça da Figueira'),\n",
    "  ('Pastelaria Santo António', 32, 4.5, 'R. Milagre de Santo António'),\n",
    "  ('Copenhagen Coffee Lab', 44, 4.5, 'R. Nova da Piedade'),\n",
    "  ('Paul', 20, 4.5, 'R. Augusta'),\n",
    "  ('A Padaria Portuguesa', 48, 3.5, 'Praça Luís de Camões'),\n",
    "  ('Casa Brasileira', 42, 3.5, 'R. Augusta'),\n",
    "  ('Fábrica da Nata', 14, 4.5, 'R. Augusta'),\n",
    "  ('Pastelaria Alfama Doce', 25, 4.5, 'R. Regueira'),\n",
    "  ('Zarzuela', 24, 4.5, 'R. Bernardino Costa'),\n",
    "  ('Choupana Caffe', 46, 4.0, 'Av. da República'),\n",
    "  ('Copenhagen Coffee Lab', 18, 4.5, 'Escolas Gerais'),\n",
    "  ('Chiado Caffe', 15, 4.0, 'Rua do Loreto'),\n",
    "  ('Pastelaria Batalha', 13, 4.0, 'R. Horta Seca'),\n",
    "  ('Panificação R. São Roque', 12, 4.5, 'R. Dom Pedro V');\n",
    "\"\"\"\n",
    "execute_query(connection, insert_bake2_yelp)"
   ]
  },
  {
   "cell_type": "markdown",
   "id": "da65cc40-fb1a-4364-b50e-a09cced5bdbc",
   "metadata": {},
   "source": [
    "### Wine Bars"
   ]
  },
  {
   "cell_type": "code",
   "execution_count": 288,
   "id": "8eac83f3-4b91-4b35-b67d-5881f220bc94",
   "metadata": {},
   "outputs": [
    {
     "name": "stdout",
     "output_type": "stream",
     "text": [
      "200\n"
     ]
    }
   ],
   "source": [
    "#pull bars\n",
    "\n",
    "yurl = \"https://api.yelp.com/v3/businesses/search\"\n",
    "headers = {\n",
    "    \"Authorization\": \"Bearer __\"\n",
    "}\n",
    "\n",
    "yurl_params = {'categories': 'wine_bars',\n",
    "              'latitude': '38.713757',\n",
    "              'longitude': '-9.137990',\n",
    "              'radius': 5000,\n",
    "              'limit': 15}\n",
    "response = requests.get(yurl, headers=headers, params=yurl_params)\n",
    "print(response.status_code)\n",
    "\n",
    "wineries = response.json()"
   ]
  },
  {
   "cell_type": "code",
   "execution_count": 289,
   "id": "c9c539f9-b202-4713-b346-064eebfcb26a",
   "metadata": {},
   "outputs": [
    {
     "data": {
      "text/html": [
       "<div>\n",
       "<style scoped>\n",
       "    .dataframe tbody tr th:only-of-type {\n",
       "        vertical-align: middle;\n",
       "    }\n",
       "\n",
       "    .dataframe tbody tr th {\n",
       "        vertical-align: top;\n",
       "    }\n",
       "\n",
       "    .dataframe thead th {\n",
       "        text-align: right;\n",
       "    }\n",
       "</style>\n",
       "<table border=\"1\" class=\"dataframe\">\n",
       "  <thead>\n",
       "    <tr style=\"text-align: right;\">\n",
       "      <th></th>\n",
       "      <th>name</th>\n",
       "      <th>review_count</th>\n",
       "      <th>rating</th>\n",
       "      <th>location.address1</th>\n",
       "    </tr>\n",
       "  </thead>\n",
       "  <tbody>\n",
       "    <tr>\n",
       "      <th>0</th>\n",
       "      <td>Grapes &amp; Bites</td>\n",
       "      <td>58</td>\n",
       "      <td>4.5</td>\n",
       "      <td>R. do Norte, 85</td>\n",
       "    </tr>\n",
       "    <tr>\n",
       "      <th>1</th>\n",
       "      <td>Le Petit Café</td>\n",
       "      <td>62</td>\n",
       "      <td>4.5</td>\n",
       "      <td>Largo de São Martinho, 6-7</td>\n",
       "    </tr>\n",
       "    <tr>\n",
       "      <th>2</th>\n",
       "      <td>The Little Wine Bar</td>\n",
       "      <td>23</td>\n",
       "      <td>5.0</td>\n",
       "      <td>Calçada do Duque, 39</td>\n",
       "    </tr>\n",
       "    <tr>\n",
       "      <th>3</th>\n",
       "      <td>Alfama Cellar</td>\n",
       "      <td>64</td>\n",
       "      <td>4.5</td>\n",
       "      <td>R. dos Remédios, 127-131</td>\n",
       "    </tr>\n",
       "    <tr>\n",
       "      <th>4</th>\n",
       "      <td>By the Wine - José Maria da Fonseca</td>\n",
       "      <td>52</td>\n",
       "      <td>4.5</td>\n",
       "      <td>R. das Flores, 41-43</td>\n",
       "    </tr>\n",
       "    <tr>\n",
       "      <th>5</th>\n",
       "      <td>Lisboa à Noite</td>\n",
       "      <td>35</td>\n",
       "      <td>4.5</td>\n",
       "      <td>R. das Gáveas, 69</td>\n",
       "    </tr>\n",
       "    <tr>\n",
       "      <th>6</th>\n",
       "      <td>Lisboa Cheia de Graça</td>\n",
       "      <td>36</td>\n",
       "      <td>4.5</td>\n",
       "      <td>R. da Atalaia, 75</td>\n",
       "    </tr>\n",
       "    <tr>\n",
       "      <th>7</th>\n",
       "      <td>Wine Bar do Castelo</td>\n",
       "      <td>36</td>\n",
       "      <td>4.5</td>\n",
       "      <td>Rua Bartolomeu de Gusmão, 11-13</td>\n",
       "    </tr>\n",
       "    <tr>\n",
       "      <th>8</th>\n",
       "      <td>Tábuas Porto Wine Tavern</td>\n",
       "      <td>31</td>\n",
       "      <td>4.5</td>\n",
       "      <td>R. dos Bacalhoeiros, 143</td>\n",
       "    </tr>\n",
       "    <tr>\n",
       "      <th>9</th>\n",
       "      <td>Tasca do Chico</td>\n",
       "      <td>51</td>\n",
       "      <td>4.0</td>\n",
       "      <td>R. do Diàrio de Notícias, 39</td>\n",
       "    </tr>\n",
       "    <tr>\n",
       "      <th>10</th>\n",
       "      <td>Lisbon Winery</td>\n",
       "      <td>16</td>\n",
       "      <td>5.0</td>\n",
       "      <td>R. da Barroca, 9-13</td>\n",
       "    </tr>\n",
       "    <tr>\n",
       "      <th>11</th>\n",
       "      <td>Bebedouro Wine and Food</td>\n",
       "      <td>29</td>\n",
       "      <td>4.5</td>\n",
       "      <td>R. de São Nicolau, 24</td>\n",
       "    </tr>\n",
       "    <tr>\n",
       "      <th>12</th>\n",
       "      <td>Sessenta</td>\n",
       "      <td>44</td>\n",
       "      <td>4.5</td>\n",
       "      <td>R. Tomás Ribeiro, 60</td>\n",
       "    </tr>\n",
       "    <tr>\n",
       "      <th>13</th>\n",
       "      <td>Sommelier</td>\n",
       "      <td>19</td>\n",
       "      <td>4.5</td>\n",
       "      <td>R. do Telhal, 59</td>\n",
       "    </tr>\n",
       "    <tr>\n",
       "      <th>14</th>\n",
       "      <td>Marcelino Pão &amp; Vinho</td>\n",
       "      <td>24</td>\n",
       "      <td>4.0</td>\n",
       "      <td>R. do Salvador, 62</td>\n",
       "    </tr>\n",
       "  </tbody>\n",
       "</table>\n",
       "</div>"
      ],
      "text/plain": [
       "                                   name  review_count  rating  \\\n",
       "0                        Grapes & Bites            58     4.5   \n",
       "1                         Le Petit Café            62     4.5   \n",
       "2                   The Little Wine Bar            23     5.0   \n",
       "3                         Alfama Cellar            64     4.5   \n",
       "4   By the Wine - José Maria da Fonseca            52     4.5   \n",
       "5                        Lisboa à Noite            35     4.5   \n",
       "6                 Lisboa Cheia de Graça            36     4.5   \n",
       "7                   Wine Bar do Castelo            36     4.5   \n",
       "8              Tábuas Porto Wine Tavern            31     4.5   \n",
       "9                        Tasca do Chico            51     4.0   \n",
       "10                        Lisbon Winery            16     5.0   \n",
       "11              Bebedouro Wine and Food            29     4.5   \n",
       "12                             Sessenta            44     4.5   \n",
       "13                            Sommelier            19     4.5   \n",
       "14                Marcelino Pão & Vinho            24     4.0   \n",
       "\n",
       "                  location.address1  \n",
       "0                   R. do Norte, 85  \n",
       "1        Largo de São Martinho, 6-7  \n",
       "2              Calçada do Duque, 39  \n",
       "3          R. dos Remédios, 127-131  \n",
       "4              R. das Flores, 41-43  \n",
       "5                 R. das Gáveas, 69  \n",
       "6                 R. da Atalaia, 75  \n",
       "7   Rua Bartolomeu de Gusmão, 11-13  \n",
       "8          R. dos Bacalhoeiros, 143  \n",
       "9      R. do Diàrio de Notícias, 39  \n",
       "10              R. da Barroca, 9-13  \n",
       "11            R. de São Nicolau, 24  \n",
       "12             R. Tomás Ribeiro, 60  \n",
       "13                 R. do Telhal, 59  \n",
       "14               R. do Salvador, 62  "
      ]
     },
     "execution_count": 289,
     "metadata": {},
     "output_type": "execute_result"
    }
   ],
   "source": [
    "#normalize json\n",
    "display = pd.json_normalize(wineries, record_path='businesses')\n",
    "display[['name', 'review_count','rating', 'location.address1']]"
   ]
  },
  {
   "cell_type": "code",
   "execution_count": null,
   "id": "a6a1e5ad",
   "metadata": {},
   "outputs": [],
   "source": [
    "#create table\n",
    "create_wine2_yelp = \"\"\"\n",
    "CREATE TABLE IF NOT EXISTS wineries_yelp(\n",
    "  id INTEGER PRIMARY KEY AUTOINCREMENT, \n",
    "  name TEXT NOT NULL, \n",
    "  no_review INTEGER,\n",
    "  rating INTEGER,\n",
    "  street TEXT NOT NULL\n",
    ");\n",
    "\"\"\"\n",
    "\n",
    "execute_query(connection, create_wine2_yelp)"
   ]
  },
  {
   "cell_type": "code",
   "execution_count": 353,
   "id": "59182882-7d6e-404e-89a8-e33cf79ea0a8",
   "metadata": {},
   "outputs": [],
   "source": [
    "#insert values\n",
    "\n",
    "insert_wine2_yelp = \"\"\"\n",
    "INSERT INTO\n",
    "  wineries_yelp (name, no_review, rating, street)\n",
    "VALUES\n",
    "  ('Grapes & Bites', 58, 4.5, 'R. do Norte'),\n",
    "  ('Le Petit Café', 62, 4.5, 'Largo de São Martinho'),\n",
    "  ('The Little Wine Bar', 23, 5.0, 'Calçada do Duque'),\n",
    "  ('By the Wine - José Maria da Fonseca', 52, 4.5, 'R. das Flores'),\n",
    "  ('Lisboa à Noite', 35, 4.5, 'R. das Gáveas'),\n",
    "  ('Lisboa Cheia de Graça', 36, 4.5, 'R. da Atalaia'),\n",
    "  ('Wine Bar do Castelo', 36, 4.5, 'Rua Bartolomeu de Gusmão'),\n",
    "  ('Tábuas Porto Wine Tavern', 31, 4.5, 'R. dos Bacalhoeiros'),\n",
    "  ('Alfama Cellar', 64, 4.5, 'R. dos Remédios'),\n",
    "  ('Tasca do Chico', 51, 4.0, 'R. do Diàrio de Notícias'),\n",
    "  ('Lisbon Winery', 16, 5.0, 'R. da Barroca'),\n",
    "  ('Bebedouro Wine and Food', 29, 4.5, 'R. de São Nicolau'),\n",
    "  ('Sessenta', 44, 4.5, 'R. Tomás Ribeiro'),\n",
    "  ('Sommelier', 19, 4.4, 'R. do Telhal'),\n",
    "  ('Marcelino Pão & Vinho', 24, 4.0, 'R. do Salvador');\n",
    "\"\"\"\n",
    "\n",
    "execute_query(connection, insert_wine2_yelp)"
   ]
  }
 ],
 "metadata": {
  "kernelspec": {
   "display_name": "LHLBootcamp",
   "language": "python",
   "name": "lhlbootcamp"
  },
  "language_info": {
   "codemirror_mode": {
    "name": "ipython",
    "version": 3
   },
   "file_extension": ".py",
   "mimetype": "text/x-python",
   "name": "python",
   "nbconvert_exporter": "python",
   "pygments_lexer": "ipython3",
   "version": "3.6.13"
  }
 },
 "nbformat": 4,
 "nbformat_minor": 5
}
