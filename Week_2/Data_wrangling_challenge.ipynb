{
 "cells": [
  {
   "cell_type": "markdown",
   "metadata": {},
   "source": [
    "# Data Wrangling Challenge\n",
    "### Pull and manipulate the API data\n",
    "\n",
    "The point of this exercise is to try data enrichment with data from external APIs. We are going to take data about car crashes in Monroe County, Indiana from 2003 to 2015 and try to figure out the weather during the accident and how many bars there are in the area. We will work with two different APIs during this challenge:\n",
    "\n",
    "- Foursquare API\n",
    "- World Weather Online API\n",
    "\n",
    "We will try to find correlations between the severity of crash and weather/number of bars in the area. To indicate the severity of a crash, we will use column `Injury Type`."
   ]
  },
  {
   "cell_type": "markdown",
   "metadata": {},
   "source": [
    "## Data\n",
    "\n",
    "The data for this exercise can be found [here](https://drive.google.com/file/d/1_KF9oIJV8cB8i3ngA4JPOLWIE_ETE6CJ/view?usp=sharing).\n",
    "\n",
    "Just run the cells below to get your data ready. Little help from us.\n"
   ]
  },
  {
   "cell_type": "code",
   "execution_count": 1,
   "metadata": {},
   "outputs": [],
   "source": [
    "import pandas as pd"
   ]
  },
  {
   "cell_type": "code",
   "execution_count": 2,
   "metadata": {},
   "outputs": [
    {
     "name": "stdout",
     "output_type": "stream",
     "text": [
      "(49005, 13)\n"
     ]
    },
    {
     "data": {
      "text/html": [
       "<div>\n",
       "<style scoped>\n",
       "    .dataframe tbody tr th:only-of-type {\n",
       "        vertical-align: middle;\n",
       "    }\n",
       "\n",
       "    .dataframe tbody tr th {\n",
       "        vertical-align: top;\n",
       "    }\n",
       "\n",
       "    .dataframe thead th {\n",
       "        text-align: right;\n",
       "    }\n",
       "</style>\n",
       "<table border=\"1\" class=\"dataframe\">\n",
       "  <thead>\n",
       "    <tr style=\"text-align: right;\">\n",
       "      <th></th>\n",
       "      <th>Master Record Number</th>\n",
       "      <th>Year</th>\n",
       "      <th>Month</th>\n",
       "      <th>Day</th>\n",
       "      <th>Weekend?</th>\n",
       "      <th>Hour</th>\n",
       "      <th>Collision Type</th>\n",
       "      <th>Injury Type</th>\n",
       "      <th>Primary Factor</th>\n",
       "      <th>Reported_Location</th>\n",
       "      <th>Latitude</th>\n",
       "      <th>Longitude</th>\n",
       "      <th>ll</th>\n",
       "    </tr>\n",
       "  </thead>\n",
       "  <tbody>\n",
       "    <tr>\n",
       "      <th>0</th>\n",
       "      <td>902363382</td>\n",
       "      <td>2015</td>\n",
       "      <td>1</td>\n",
       "      <td>5</td>\n",
       "      <td>Weekday</td>\n",
       "      <td>0.0</td>\n",
       "      <td>2-Car</td>\n",
       "      <td>No injury/unknown</td>\n",
       "      <td>OTHER (DRIVER) - EXPLAIN IN NARRATIVE</td>\n",
       "      <td>1ST &amp; FESS</td>\n",
       "      <td>39.159207</td>\n",
       "      <td>-86.525874</td>\n",
       "      <td>39.15920668,-86.52587356</td>\n",
       "    </tr>\n",
       "    <tr>\n",
       "      <th>1</th>\n",
       "      <td>902364268</td>\n",
       "      <td>2015</td>\n",
       "      <td>1</td>\n",
       "      <td>6</td>\n",
       "      <td>Weekday</td>\n",
       "      <td>1500.0</td>\n",
       "      <td>2-Car</td>\n",
       "      <td>No injury/unknown</td>\n",
       "      <td>FOLLOWING TOO CLOSELY</td>\n",
       "      <td>2ND &amp; COLLEGE</td>\n",
       "      <td>39.161440</td>\n",
       "      <td>-86.534848</td>\n",
       "      <td>39.16144,-86.534848</td>\n",
       "    </tr>\n",
       "    <tr>\n",
       "      <th>2</th>\n",
       "      <td>902364412</td>\n",
       "      <td>2015</td>\n",
       "      <td>1</td>\n",
       "      <td>6</td>\n",
       "      <td>Weekend</td>\n",
       "      <td>2300.0</td>\n",
       "      <td>2-Car</td>\n",
       "      <td>Non-incapacitating</td>\n",
       "      <td>DISREGARD SIGNAL/REG SIGN</td>\n",
       "      <td>BASSWOOD &amp; BLOOMFIELD</td>\n",
       "      <td>39.149780</td>\n",
       "      <td>-86.568890</td>\n",
       "      <td>39.14978027,-86.56889006</td>\n",
       "    </tr>\n",
       "    <tr>\n",
       "      <th>3</th>\n",
       "      <td>902364551</td>\n",
       "      <td>2015</td>\n",
       "      <td>1</td>\n",
       "      <td>7</td>\n",
       "      <td>Weekend</td>\n",
       "      <td>900.0</td>\n",
       "      <td>2-Car</td>\n",
       "      <td>Non-incapacitating</td>\n",
       "      <td>FAILURE TO YIELD RIGHT OF WAY</td>\n",
       "      <td>GATES &amp; JACOBS</td>\n",
       "      <td>39.165655</td>\n",
       "      <td>-86.575956</td>\n",
       "      <td>39.165655,-86.57595635</td>\n",
       "    </tr>\n",
       "    <tr>\n",
       "      <th>4</th>\n",
       "      <td>902364615</td>\n",
       "      <td>2015</td>\n",
       "      <td>1</td>\n",
       "      <td>7</td>\n",
       "      <td>Weekend</td>\n",
       "      <td>1100.0</td>\n",
       "      <td>2-Car</td>\n",
       "      <td>No injury/unknown</td>\n",
       "      <td>FAILURE TO YIELD RIGHT OF WAY</td>\n",
       "      <td>W 3RD</td>\n",
       "      <td>39.164848</td>\n",
       "      <td>-86.579625</td>\n",
       "      <td>39.164848,-86.57962482</td>\n",
       "    </tr>\n",
       "  </tbody>\n",
       "</table>\n",
       "</div>"
      ],
      "text/plain": [
       "   Master Record Number  Year  Month  Day Weekend?    Hour Collision Type  \\\n",
       "0             902363382  2015      1    5  Weekday     0.0          2-Car   \n",
       "1             902364268  2015      1    6  Weekday  1500.0          2-Car   \n",
       "2             902364412  2015      1    6  Weekend  2300.0          2-Car   \n",
       "3             902364551  2015      1    7  Weekend   900.0          2-Car   \n",
       "4             902364615  2015      1    7  Weekend  1100.0          2-Car   \n",
       "\n",
       "          Injury Type                         Primary Factor  \\\n",
       "0   No injury/unknown  OTHER (DRIVER) - EXPLAIN IN NARRATIVE   \n",
       "1   No injury/unknown                  FOLLOWING TOO CLOSELY   \n",
       "2  Non-incapacitating              DISREGARD SIGNAL/REG SIGN   \n",
       "3  Non-incapacitating          FAILURE TO YIELD RIGHT OF WAY   \n",
       "4   No injury/unknown          FAILURE TO YIELD RIGHT OF WAY   \n",
       "\n",
       "       Reported_Location   Latitude  Longitude                        ll  \n",
       "0             1ST & FESS  39.159207 -86.525874  39.15920668,-86.52587356  \n",
       "1          2ND & COLLEGE  39.161440 -86.534848       39.16144,-86.534848  \n",
       "2  BASSWOOD & BLOOMFIELD  39.149780 -86.568890  39.14978027,-86.56889006  \n",
       "3         GATES & JACOBS  39.165655 -86.575956    39.165655,-86.57595635  \n",
       "4                  W 3RD  39.164848 -86.579625    39.164848,-86.57962482  "
      ]
     },
     "execution_count": 2,
     "metadata": {},
     "output_type": "execute_result"
    }
   ],
   "source": [
    "data = pd.read_csv(\"monroe-county.csv\", encoding=\"unicode_escape\")\n",
    "# ========================\n",
    "# preparing data\n",
    "data.dropna(subset=['Latitude', 'Longitude'], inplace=True)\n",
    "# creation of variable with lon and lat together\n",
    "data['ll'] = data['Latitude'].astype(str) + ',' + data['Longitude'].astype(str)\n",
    "data = data[data['ll'] != '0.0,0.0']\n",
    "print(data.shape)\n",
    "data.head()"
   ]
  },
  {
   "cell_type": "code",
   "execution_count": 109,
   "metadata": {},
   "outputs": [
    {
     "data": {
      "text/plain": [
       "pandas.core.series.Series"
      ]
     },
     "execution_count": 109,
     "metadata": {},
     "output_type": "execute_result"
    }
   ],
   "source": [
    "type(data['ll'])"
   ]
  },
  {
   "cell_type": "markdown",
   "metadata": {},
   "source": [
    "# Foursquare API\n",
    "\n",
    "Foursquare API documentation is [here](https://developer.foursquare.com/)\n",
    "\n",
    "1. Start a foursquare application and get your keys.\n",
    "2. For each crash, create the function **get_venues** that will pull bars in the radius of 5km around the crash\n",
    "\n",
    "#### example\n",
    "`get_venues('48.146394, 17.107969')`\n",
    "\n",
    "3. Find a relationship (if there is any) between number of bars in the area and severity of the crash.\n",
    "\n",
    "HINTs: \n",
    "- check out python package \"foursquare\" (no need to send HTTP requests directly with library `requests`)\n",
    "- **categoryId** for bars and nightlife needs to be found in the [foursquare API documentation](https://developer.foursquare.com/docs/api-reference/venues/search/)"
   ]
  },
  {
   "cell_type": "code",
   "execution_count": 4,
   "metadata": {},
   "outputs": [],
   "source": [
    "#import libraries\n",
    "import requests as re    # To get HTTP request\n",
    "import foursquare\n",
    "from IPython.display import JSON # To nicely print out JSON and make it more readable (can only use in Jupyter Lab)"
   ]
  },
  {
   "cell_type": "code",
   "execution_count": 6,
   "metadata": {},
   "outputs": [],
   "source": [
    "from api_keys import FS_client\n",
    "from api_keys import FS_secret\n",
    "from api_keys import FS_Key"
   ]
  },
  {
   "cell_type": "code",
   "execution_count": 27,
   "metadata": {},
   "outputs": [],
   "source": [
    "#Use access token\n",
    "client = foursquare.Foursquare(access_token=FS_Key)"
   ]
  },
  {
   "cell_type": "code",
   "execution_count": 7,
   "metadata": {},
   "outputs": [
    {
     "name": "stdout",
     "output_type": "stream",
     "text": [
      "200\n"
     ]
    },
    {
     "data": {
      "application/json": {
       "context": {
        "geo_bounds": {
         "circle": {
          "center": {
           "latitude": 39.77500526484702,
           "longitude": -86.14968724867599
          },
          "radius": 5000
         }
        }
       },
       "results": [
        {
         "categories": [
          {
           "icon": {
            "prefix": "https://ss3.4sqi.net/img/categories_v2/nightlife/beergarden_",
            "suffix": ".png"
           },
           "id": 13007,
           "name": "Beer Garden"
          },
          {
           "icon": {
            "prefix": "https://ss3.4sqi.net/img/categories_v2/food/default_",
            "suffix": ".png"
           },
           "id": 13068,
           "name": "American Restaurant"
          },
          {
           "icon": {
            "prefix": "https://ss3.4sqi.net/img/categories_v2/food/german_",
            "suffix": ".png"
           },
           "id": 13165,
           "name": "German Restaurant"
          }
         ],
         "chains": [],
         "distance": 154,
         "fsq_id": "4b5bca44f964a5206b1629e3",
         "geocodes": {
          "main": {
           "latitude": 39.77369198043874,
           "longitude": -86.1502982513218
          }
         },
         "location": {
          "address": "401 E Michigan St",
          "country": "US",
          "cross_street": "in Athenaeum Building",
          "dma": "Indianapolis",
          "locality": "Indianapolis",
          "neighborhood": [
           "Lockerbie Square"
          ],
          "postcode": "46204",
          "region": "IN"
         },
         "name": "The Rathskeller",
         "related_places": {
          "children": [
           {
            "fsq_id": "4bda090ac79cc928b2277de9",
            "name": "Rathskeller Biergarten"
           }
          ]
         },
         "timezone": "America/Indiana/Indianapolis"
        },
        {
         "categories": [
          {
           "icon": {
            "prefix": "https://ss3.4sqi.net/img/categories_v2/nightlife/pub_",
            "suffix": ".png"
           },
           "id": 13006,
           "name": "Beer Bar"
          },
          {
           "icon": {
            "prefix": "https://ss3.4sqi.net/img/categories_v2/nightlife/default_",
            "suffix": ".png"
           },
           "id": 13016,
           "name": "Lounge"
          },
          {
           "icon": {
            "prefix": "https://ss3.4sqi.net/img/categories_v2/food/default_",
            "suffix": ".png"
           },
           "id": 13068,
           "name": "American Restaurant"
          }
         ],
         "chains": [],
         "distance": 579,
         "fsq_id": "55fdc727498e62f1d9ab9633",
         "geocodes": {
          "main": {
           "latitude": 39.771293,
           "longitude": -86.154454
          }
         },
         "location": {
          "address": "306 N Delaware St",
          "country": "US",
          "cross_street": "New York Street",
          "dma": "Indianapolis",
          "locality": "Indianapolis",
          "neighborhood": [
           "Lockerbie Square"
          ],
          "postcode": "46204",
          "region": "IN"
         },
         "name": "The Tap",
         "related_places": {},
         "timezone": "America/Indiana/Indianapolis"
        },
        {
         "categories": [
          {
           "icon": {
            "prefix": "https://ss3.4sqi.net/img/categories_v2/nightlife/cocktails_",
            "suffix": ".png"
           },
           "id": 13009,
           "name": "Cocktail Bar"
          },
          {
           "icon": {
            "prefix": "https://ss3.4sqi.net/img/categories_v2/food/default_",
            "suffix": ".png"
           },
           "id": 13068,
           "name": "American Restaurant"
          },
          {
           "icon": {
            "prefix": "https://ss3.4sqi.net/img/categories_v2/food/fastfood_",
            "suffix": ".png"
           },
           "id": 13145,
           "name": "Fast Food Restaurant"
          }
         ],
         "chains": [],
         "distance": 484,
         "fsq_id": "4b9d68dcf964a520c3aa36e3",
         "geocodes": {
          "front_door": {
           "latitude": 39.7716,
           "longitude": -86.153587
          },
          "main": {
           "latitude": 39.77178669060882,
           "longitude": -86.15350803387314
          }
         },
         "location": {
          "address": "331 Massachusetts Ave",
          "country": "US",
          "cross_street": "at E New York St.",
          "dma": "Indianapolis",
          "locality": "Indianapolis",
          "neighborhood": [
           "Lockerbie Square"
          ],
          "postcode": "46204",
          "region": "IN"
         },
         "name": "Ball & Biscuit",
         "related_places": {},
         "timezone": "America/Indiana/Indianapolis"
        },
        {
         "categories": [
          {
           "icon": {
            "prefix": "https://ss3.4sqi.net/img/categories_v2/nightlife/sportsbar_",
            "suffix": ".png"
           },
           "id": 13022,
           "name": "Sports Bar"
          },
          {
           "icon": {
            "prefix": "https://ss3.4sqi.net/img/categories_v2/food/pizza_",
            "suffix": ".png"
           },
           "id": 13064,
           "name": "Pizzeria"
          },
          {
           "icon": {
            "prefix": "https://ss3.4sqi.net/img/categories_v2/food/wings_",
            "suffix": ".png"
           },
           "id": 13388,
           "name": "Wings Joint"
          }
         ],
         "chains": [],
         "distance": 331,
         "fsq_id": "4b2444bff964a520016524e3",
         "geocodes": {
          "main": {
           "latitude": 39.776660784926165,
           "longitude": -86.14646243487914
          }
         },
         "location": {
          "address": "719 Massachusetts Ave",
          "country": "US",
          "cross_street": "at N Park Ave",
          "dma": "Indianapolis",
          "locality": "Indianapolis",
          "neighborhood": [
           "Chatham Arch"
          ],
          "postcode": "46204",
          "region": "IN"
         },
         "name": "Chatham Tap",
         "related_places": {},
         "timezone": "America/Indiana/Indianapolis"
        },
        {
         "categories": [
          {
           "icon": {
            "prefix": "https://ss3.4sqi.net/img/categories_v2/arts_entertainment/musicvenue_",
            "suffix": ".png"
           },
           "id": 10039,
           "name": "Music Venue"
          },
          {
           "icon": {
            "prefix": "https://ss3.4sqi.net/img/categories_v2/nightlife/pub_",
            "suffix": ".png"
           },
           "id": 13018,
           "name": "Pub"
          },
          {
           "icon": {
            "prefix": "https://ss3.4sqi.net/img/categories_v2/food/default_",
            "suffix": ".png"
           },
           "id": 13068,
           "name": "American Restaurant"
          }
         ],
         "chains": [],
         "distance": 60,
         "fsq_id": "535d29bc498ecf19c871547f",
         "geocodes": {
          "front_door": {
           "latitude": 39.774878,
           "longitude": -86.149059
          },
          "main": {
           "latitude": 39.77497310304067,
           "longitude": -86.14897477230086
          }
         },
         "location": {
          "address": "575 Massachusetts Ave",
          "country": "US",
          "cross_street": "",
          "dma": "Indianapolis",
          "locality": "Indianapolis",
          "neighborhood": [
           "Lockerbie Square"
          ],
          "postcode": "46204",
          "region": "IN"
         },
         "name": "Nine Irish Brothers",
         "related_places": {},
         "timezone": "America/Indiana/Indianapolis"
        },
        {
         "categories": [
          {
           "icon": {
            "prefix": "https://ss3.4sqi.net/img/categories_v2/nightlife/pub_",
            "suffix": ".png"
           },
           "id": 13006,
           "name": "Beer Bar"
          },
          {
           "icon": {
            "prefix": "https://ss3.4sqi.net/img/categories_v2/food/default_",
            "suffix": ".png"
           },
           "id": 13065,
           "name": "Restaurant"
          }
         ],
         "chains": [],
         "distance": 775,
         "fsq_id": "4ce59a66e1eeb60cb4e691ae",
         "geocodes": {
          "main": {
           "latitude": 39.76869,
           "longitude": -86.15354
          }
         },
         "location": {
          "address": "222 E Market St",
          "address_extended": "Ste 3",
          "country": "US",
          "cross_street": "btwn N Delaware & N Alabama St",
          "dma": "Indianapolis",
          "locality": "Indianapolis",
          "neighborhood": [
           "Lockerbie Square"
          ],
          "postcode": "46204",
          "region": "IN"
         },
         "name": "Tomlinson Tap Room",
         "related_places": {
          "parent": {
           "fsq_id": "4ae9c304f964a5202bb621e3",
           "name": "Indianapolis City Market"
          }
         },
         "timezone": "America/Indiana/Indianapolis"
        },
        {
         "categories": [
          {
           "icon": {
            "prefix": "https://ss3.4sqi.net/img/categories_v2/nightlife/pub_",
            "suffix": ".png"
           },
           "id": 13003,
           "name": "Bar"
          },
          {
           "icon": {
            "prefix": "https://ss3.4sqi.net/img/categories_v2/food/brewery_",
            "suffix": ".png"
           },
           "id": 13029,
           "name": "Brewery"
          },
          {
           "icon": {
            "prefix": "https://ss3.4sqi.net/img/categories_v2/food/default_",
            "suffix": ".png"
           },
           "id": 13065,
           "name": "Restaurant"
          }
         ],
         "chains": [],
         "distance": 769,
         "fsq_id": "4ad78002f964a5207b0b21e3",
         "geocodes": {
          "main": {
           "latitude": 39.76911630052346,
           "longitude": -86.14494594899493
          }
         },
         "location": {
          "address": "135 N College Ave",
          "country": "US",
          "cross_street": "at E Wabash St",
          "dma": "Indianapolis",
          "locality": "Indianapolis",
          "neighborhood": [
           "Lockerbie Square"
          ],
          "postcode": "46202",
          "region": "IN"
         },
         "name": "Sun King Brewing Co.",
         "related_places": {
          "children": [
           {
            "fsq_id": "5a00f032112c6c620118275c",
            "name": "Oca - Quality Sausage, Salumi & Cheese"
           },
           {
            "fsq_id": "5ce42881610f04002c44e37c",
            "name": "Oca"
           }
          ]
         },
         "timezone": "America/Indiana/Indianapolis"
        },
        {
         "categories": [
          {
           "icon": {
            "prefix": "https://ss3.4sqi.net/img/categories_v2/nightlife/gaybar_",
            "suffix": ".png"
           },
           "id": 13011,
           "name": "Gay Bar"
          },
          {
           "icon": {
            "prefix": "https://ss3.4sqi.net/img/categories_v2/food/default_",
            "suffix": ".png"
           },
           "id": 13068,
           "name": "American Restaurant"
          },
          {
           "icon": {
            "prefix": "https://ss3.4sqi.net/img/categories_v2/food/default_",
            "suffix": ".png"
           },
           "id": 13142,
           "name": "English Restaurant"
          }
         ],
         "chains": [],
         "distance": 668,
         "fsq_id": "4b14599cf964a520a5a123e3",
         "geocodes": {
          "front_door": {
           "latitude": 39.780746,
           "longitude": -86.152229
          },
          "main": {
           "latitude": 39.780682351512056,
           "longitude": -86.15229266171815
          }
         },
         "location": {
          "address": "944 N Alabama St",
          "country": "US",
          "dma": "Indianapolis",
          "locality": "Indianapolis",
          "postcode": "46202",
          "region": "IN"
         },
         "name": "English Ivy's",
         "related_places": {},
         "timezone": "America/Indiana/Indianapolis"
        },
        {
         "categories": [
          {
           "icon": {
            "prefix": "https://ss3.4sqi.net/img/categories_v2/nightlife/cocktails_",
            "suffix": ".png"
           },
           "id": 13009,
           "name": "Cocktail Bar"
          },
          {
           "icon": {
            "prefix": "https://ss3.4sqi.net/img/categories_v2/food/default_",
            "suffix": ".png"
           },
           "id": 13068,
           "name": "American Restaurant"
          },
          {
           "icon": {
            "prefix": "https://ss3.4sqi.net/img/categories_v2/food/newamerican_",
            "suffix": ".png"
           },
           "id": 13314,
           "name": "New American Restaurant"
          }
         ],
         "chains": [],
         "distance": 453,
         "fsq_id": "587a486913bb770a91125c98",
         "geocodes": {
          "main": {
           "latitude": 39.7720188000047,
           "longitude": -86.15330056147023
          }
         },
         "location": {
          "address": "342 Massachusetts Ave",
          "country": "US",
          "cross_street": "",
          "dma": "Indianapolis",
          "locality": "Indianapolis",
          "neighborhood": [
           "Lockerbie Square"
          ],
          "postcode": "46204",
          "region": "IN"
         },
         "name": "The Garden Table",
         "related_places": {},
         "timezone": "America/Indiana/Indianapolis"
        },
        {
         "categories": [
          {
           "icon": {
            "prefix": "https://ss3.4sqi.net/img/categories_v2/nightlife/beergarden_",
            "suffix": ".png"
           },
           "id": 13007,
           "name": "Beer Garden"
          },
          {
           "icon": {
            "prefix": "https://ss3.4sqi.net/img/categories_v2/food/brewery_",
            "suffix": ".png"
           },
           "id": 13029,
           "name": "Brewery"
          }
         ],
         "chains": [],
         "distance": 1243,
         "fsq_id": "55e71ab8498e42d80720e30a",
         "geocodes": {
          "main": {
           "latitude": 39.764207,
           "longitude": -86.145862
          }
         },
         "location": {
          "address": "140 S College Ave",
          "country": "US",
          "cross_street": "",
          "dma": "Indianapolis",
          "locality": "Indianapolis",
          "neighborhood": [
           "Irish Hills"
          ],
          "postcode": "46202",
          "region": "IN"
         },
         "name": "Metazoa Brewing Company",
         "related_places": {},
         "timezone": "America/Indiana/Indianapolis"
        },
        {
         "categories": [
          {
           "icon": {
            "prefix": "https://ss3.4sqi.net/img/categories_v2/food/winery_",
            "suffix": ".png"
           },
           "id": 13025,
           "name": "Wine Bar"
          },
          {
           "icon": {
            "prefix": "https://ss3.4sqi.net/img/categories_v2/food/default_",
            "suffix": ".png"
           },
           "id": 13068,
           "name": "American Restaurant"
          },
          {
           "icon": {
            "prefix": "https://ss3.4sqi.net/img/categories_v2/food/newamerican_",
            "suffix": ".png"
           },
           "id": 13314,
           "name": "New American Restaurant"
          }
         ],
         "chains": [],
         "distance": 1509,
         "fsq_id": "54c57fb0498eb5a67296b93f",
         "geocodes": {
          "front_door": {
           "latitude": 39.788525,
           "longitude": -86.150685
          },
          "main": {
           "latitude": 39.78856912887858,
           "longitude": -86.15072443413982
          }
         },
         "location": {
          "address": "402 E 16th St",
          "country": "US",
          "cross_street": "",
          "dma": "Indianapolis",
          "locality": "Indianapolis",
          "neighborhood": [
           "Herron Morton Place"
          ],
          "postcode": "46202",
          "region": "IN"
         },
         "name": "Tinker Street",
         "related_places": {},
         "timezone": "America/Indiana/Indianapolis"
        },
        {
         "categories": [
          {
           "icon": {
            "prefix": "https://ss3.4sqi.net/img/categories_v2/nightlife/pub_",
            "suffix": ".png"
           },
           "id": 13003,
           "name": "Bar"
          },
          {
           "icon": {
            "prefix": "https://ss3.4sqi.net/img/categories_v2/food/pizza_",
            "suffix": ".png"
           },
           "id": 13064,
           "name": "Pizzeria"
          },
          {
           "icon": {
            "prefix": "https://ss3.4sqi.net/img/categories_v2/food/default_",
            "suffix": ".png"
           },
           "id": 13068,
           "name": "American Restaurant"
          }
         ],
         "chains": [],
         "distance": 399,
         "fsq_id": "4bd8c357e914a593156d54fa",
         "geocodes": {
          "front_door": {
           "latitude": 39.777065,
           "longitude": -86.14586
          },
          "main": {
           "latitude": 39.777056927102436,
           "longitude": -86.14584906818708
          }
         },
         "location": {
          "address": "745 Massachusetts Ave",
          "country": "US",
          "cross_street": "at N College Av",
          "dma": "Indianapolis",
          "locality": "Indianapolis",
          "neighborhood": [
           "Chatham Arch"
          ],
          "postcode": "46204",
          "region": "IN"
         },
         "name": "Mass Avenue Pub",
         "related_places": {},
         "timezone": "America/Indiana/Indianapolis"
        },
        {
         "categories": [
          {
           "icon": {
            "prefix": "https://ss3.4sqi.net/img/categories_v2/arts_entertainment/comedyclub_",
            "suffix": ".png"
           },
           "id": 10010,
           "name": "Comedy Club"
          },
          {
           "icon": {
            "prefix": "https://ss3.4sqi.net/img/categories_v2/nightlife/pub_",
            "suffix": ".png"
           },
           "id": 13003,
           "name": "Bar"
          },
          {
           "icon": {
            "prefix": "https://ss3.4sqi.net/img/categories_v2/food/default_",
            "suffix": ".png"
           },
           "id": 13065,
           "name": "Restaurant"
          }
         ],
         "chains": [],
         "distance": 697,
         "fsq_id": "4b9369ddf964a5201f4334e3",
         "geocodes": {
          "main": {
           "latitude": 39.76951920983442,
           "longitude": -86.15365686908262
          }
         },
         "location": {
          "address": "247 S Meridian St",
          "country": "US",
          "cross_street": "Georgia St",
          "dma": "Indianapolis",
          "locality": "Indianapolis",
          "neighborhood": [
           "Wholesale District"
          ],
          "postcode": "46225",
          "region": "IN"
         },
         "name": "Crackers Comedy Club",
         "related_places": {},
         "timezone": "America/Indiana/Indianapolis"
        },
        {
         "categories": [
          {
           "icon": {
            "prefix": "https://ss3.4sqi.net/img/categories_v2/nightlife/pub_",
            "suffix": ".png"
           },
           "id": 13003,
           "name": "Bar"
          },
          {
           "icon": {
            "prefix": "https://ss3.4sqi.net/img/categories_v2/food/gastropub_",
            "suffix": ".png"
           },
           "id": 13057,
           "name": "Gastropub"
          },
          {
           "icon": {
            "prefix": "https://ss3.4sqi.net/img/categories_v2/food/default_",
            "suffix": ".png"
           },
           "id": 13068,
           "name": "American Restaurant"
          }
         ],
         "chains": [],
         "distance": 345,
         "fsq_id": "5553d03a498e069f13e0d042",
         "geocodes": {
          "front_door": {
           "latitude": 39.774946,
           "longitude": -86.145478
          },
          "main": {
           "latitude": 39.77496914661901,
           "longitude": -86.14563920296207
          }
         },
         "location": {
          "address": "540 N College Ave",
          "country": "US",
          "cross_street": "",
          "dma": "Indianapolis",
          "locality": "Indianapolis",
          "neighborhood": [
           "Chatham Arch"
          ],
          "postcode": "46202",
          "region": "IN"
         },
         "name": "Saint Joseph Public Ho",
         "related_places": {},
         "timezone": "America/Indiana/Indianapolis"
        },
        {
         "categories": [
          {
           "icon": {
            "prefix": "https://ss3.4sqi.net/img/categories_v2/nightlife/beergarden_",
            "suffix": ".png"
           },
           "id": 13007,
           "name": "Beer Garden"
          }
         ],
         "chains": [],
         "distance": 180,
         "fsq_id": "4bda090ac79cc928b2277de9",
         "geocodes": {
          "front_door": {
           "latitude": 39.773801,
           "longitude": -86.150071
          },
          "main": {
           "latitude": 39.773407653072915,
           "longitude": -86.15004489397334
          }
         },
         "location": {
          "address": "401 E Michigan St",
          "country": "US",
          "cross_street": "at Rathskeller Restaurant",
          "dma": "Indianapolis",
          "locality": "Indianapolis",
          "neighborhood": [
           "Lockerbie Square"
          ],
          "postcode": "46204",
          "region": "IN"
         },
         "name": "Rathskeller Biergarten",
         "related_places": {
          "parent": {
           "fsq_id": "4b5bca44f964a5206b1629e3",
           "name": "The Rathskeller"
          }
         },
         "timezone": "America/Indiana/Indianapolis"
        },
        {
         "categories": [
          {
           "icon": {
            "prefix": "https://ss3.4sqi.net/img/categories_v2/nightlife/pub_",
            "suffix": ".png"
           },
           "id": 13003,
           "name": "Bar"
          },
          {
           "icon": {
            "prefix": "https://ss3.4sqi.net/img/categories_v2/food/brewery_",
            "suffix": ".png"
           },
           "id": 13029,
           "name": "Brewery"
          }
         ],
         "chains": [],
         "distance": 1040,
         "fsq_id": "53d41f02498e2a83f39f52a0",
         "geocodes": {
          "front_door": {
           "latitude": 39.777174,
           "longitude": -86.161498
          },
          "main": {
           "latitude": 39.777223225140744,
           "longitude": -86.16152829401248
          }
         },
         "location": {
          "address": "714 N Capitol Ave",
          "country": "US",
          "cross_street": "Walnut Street",
          "dma": "Indianapolis",
          "locality": "Indianapolis",
          "neighborhood": [
           "Upper Canal"
          ],
          "postcode": "46204",
          "region": "IN"
         },
         "name": "Two Deep Brewing Co.",
         "related_places": {},
         "timezone": "America/Indiana/Indianapolis"
        },
        {
         "categories": [
          {
           "icon": {
            "prefix": "https://ss3.4sqi.net/img/categories_v2/nightlife/cocktails_",
            "suffix": ".png"
           },
           "id": 13009,
           "name": "Cocktail Bar"
          },
          {
           "icon": {
            "prefix": "https://ss3.4sqi.net/img/categories_v2/food/brewery_",
            "suffix": ".png"
           },
           "id": 13050,
           "name": "Distillery"
          },
          {
           "icon": {
            "prefix": "https://ss3.4sqi.net/img/categories_v2/food/gastropub_",
            "suffix": ".png"
           },
           "id": 13057,
           "name": "Gastropub"
          }
         ],
         "chains": [],
         "distance": 1981,
         "fsq_id": "541a289e498eaa82cbea98ef",
         "geocodes": {
          "front_door": {
           "latitude": 39.757502,
           "longitude": -86.144907
          },
          "main": {
           "latitude": 39.757566573602695,
           "longitude": -86.1448609828949
          }
         },
         "location": {
          "address": "702 Virginia Ave",
          "country": "US",
          "cross_street": "",
          "dma": "Indianapolis",
          "locality": "Indianapolis",
          "neighborhood": [
           "Fletcher Place"
          ],
          "postcode": "46203",
          "region": "IN"
         },
         "name": "Hotel Tango Distillery",
         "related_places": {},
         "timezone": "America/Indiana/Indianapolis"
        },
        {
         "categories": [
          {
           "icon": {
            "prefix": "https://ss3.4sqi.net/img/categories_v2/nightlife/pub_",
            "suffix": ".png"
           },
           "id": 13018,
           "name": "Pub"
          },
          {
           "icon": {
            "prefix": "https://ss3.4sqi.net/img/categories_v2/food/gastropub_",
            "suffix": ".png"
           },
           "id": 13057,
           "name": "Gastropub"
          },
          {
           "icon": {
            "prefix": "https://ss3.4sqi.net/img/categories_v2/food/default_",
            "suffix": ".png"
           },
           "id": 13068,
           "name": "American Restaurant"
          }
         ],
         "chains": [],
         "distance": 198,
         "fsq_id": "5057b021e4b04bd69ed75e78",
         "geocodes": {
          "main": {
           "latitude": 39.77581446934746,
           "longitude": -86.14761189420636
          }
         },
         "location": {
          "address": "635 Massachusetts Ave",
          "country": "US",
          "dma": "Indianapolis",
          "locality": "Indianapolis",
          "neighborhood": [
           "Chatham Arch"
          ],
          "postcode": "46204",
          "region": "IN"
         },
         "name": "Ralston's Drafthouse",
         "related_places": {},
         "timezone": "America/Indiana/Indianapolis"
        },
        {
         "categories": [
          {
           "icon": {
            "prefix": "https://ss3.4sqi.net/img/categories_v2/arts_entertainment/arcade_",
            "suffix": ".png"
           },
           "id": 10003,
           "name": "Arcade"
          },
          {
           "icon": {
            "prefix": "https://ss3.4sqi.net/img/categories_v2/nightlife/pub_",
            "suffix": ".png"
           },
           "id": 13003,
           "name": "Bar"
          },
          {
           "icon": {
            "prefix": "https://ss3.4sqi.net/img/categories_v2/food/default_",
            "suffix": ".png"
           },
           "id": 13065,
           "name": "Restaurant"
          }
         ],
         "chains": [],
         "distance": 1713,
         "fsq_id": "56ff2471498ed95cb1bb2c54",
         "geocodes": {
          "main": {
           "latitude": 39.75964836992843,
           "longitude": -86.14785431511918
          }
         },
         "location": {
          "address": "501 Virginia Ave",
          "address_extended": "Ste 102",
          "country": "US",
          "cross_street": "",
          "dma": "Indianapolis",
          "locality": "Indianapolis",
          "neighborhood": [
           "Fletcher Place"
          ],
          "postcode": "46203",
          "region": "IN"
         },
         "name": "Tappers Arcade Bar",
         "related_places": {},
         "timezone": "America/Indiana/Indianapolis"
        },
        {
         "categories": [
          {
           "icon": {
            "prefix": "https://ss3.4sqi.net/img/categories_v2/nightlife/divebar_",
            "suffix": ".png"
           },
           "id": 13010,
           "name": "Dive Bar"
          },
          {
           "icon": {
            "prefix": "https://ss3.4sqi.net/img/categories_v2/food/default_",
            "suffix": ".png"
           },
           "id": 13065,
           "name": "Restaurant"
          }
         ],
         "chains": [],
         "distance": 1026,
         "fsq_id": "4af4d7edf964a520d1f621e3",
         "geocodes": {
          "front_door": {
           "latitude": 39.779049,
           "longitude": -86.138877
          },
          "main": {
           "latitude": 39.77905506710716,
           "longitude": -86.13888308047656
          }
         },
         "location": {
          "address": "901 Dorman St",
          "country": "US",
          "cross_street": "at E 9th St",
          "dma": "Indianapolis",
          "locality": "Indianapolis",
          "neighborhood": [
           "Lockerbie Square"
          ],
          "postcode": "46202",
          "region": "IN"
         },
         "name": "Dorman Street Saloon",
         "related_places": {},
         "timezone": "America/Indiana/Indianapolis"
        },
        {
         "categories": [
          {
           "icon": {
            "prefix": "https://ss3.4sqi.net/img/categories_v2/nightlife/nightclub_",
            "suffix": ".png"
           },
           "id": 10032,
           "name": "Night Club"
          },
          {
           "icon": {
            "prefix": "https://ss3.4sqi.net/img/categories_v2/nightlife/pub_",
            "suffix": ".png"
           },
           "id": 13003,
           "name": "Bar"
          },
          {
           "icon": {
            "prefix": "https://ss3.4sqi.net/img/categories_v2/food/default_",
            "suffix": ".png"
           },
           "id": 13068,
           "name": "American Restaurant"
          }
         ],
         "chains": [],
         "distance": 1666,
         "fsq_id": "4b343e7ff964a520762625e3",
         "geocodes": {
          "main": {
           "latitude": 39.76155791745061,
           "longitude": -86.15831556128191
          }
         },
         "location": {
          "address": "372 S Meridian St",
          "country": "US",
          "cross_street": "at W South St.",
          "dma": "Indianapolis",
          "locality": "Indianapolis",
          "neighborhood": [
           "Pogue's Run"
          ],
          "postcode": "46225",
          "region": "IN"
         },
         "name": "Slippery Noodle Inn",
         "related_places": {},
         "timezone": "America/Indiana/Indianapolis"
        },
        {
         "categories": [
          {
           "icon": {
            "prefix": "https://ss3.4sqi.net/img/categories_v2/nightlife/nightclub_",
            "suffix": ".png"
           },
           "id": 10032,
           "name": "Night Club"
          },
          {
           "icon": {
            "prefix": "https://ss3.4sqi.net/img/categories_v2/nightlife/gaybar_",
            "suffix": ".png"
           },
           "id": 13011,
           "name": "Gay Bar"
          }
         ],
         "chains": [],
         "distance": 1503,
         "fsq_id": "4b0e1963f964a520f75423e3",
         "geocodes": {
          "front_door": {
           "latitude": 39.788347,
           "longitude": -86.152645
          },
          "main": {
           "latitude": 39.7883364944785,
           "longitude": -86.15269796840447
          }
         },
         "location": {
          "address": "231 E 16th St",
          "country": "US",
          "cross_street": "at Alabama St",
          "dma": "Indianapolis",
          "locality": "Indianapolis",
          "neighborhood": [
           "Herron Morton Place"
          ],
          "postcode": "46202",
          "region": "IN"
         },
         "name": "Gregs",
         "related_places": {},
         "timezone": "America/Indiana/Indianapolis"
        },
        {
         "categories": [
          {
           "icon": {
            "prefix": "https://ss3.4sqi.net/img/categories_v2/nightlife/pub_",
            "suffix": ".png"
           },
           "id": 13003,
           "name": "Bar"
          },
          {
           "icon": {
            "prefix": "https://ss3.4sqi.net/img/categories_v2/food/brewery_",
            "suffix": ".png"
           },
           "id": 13029,
           "name": "Brewery"
          },
          {
           "icon": {
            "prefix": "https://ss3.4sqi.net/img/categories_v2/food/default_",
            "suffix": ".png"
           },
           "id": 13065,
           "name": "Restaurant"
          }
         ],
         "chains": [],
         "distance": 2532,
         "fsq_id": "5853304be309e14af19ba3ad",
         "geocodes": {
          "main": {
           "latitude": 39.797627934394406,
           "longitude": -86.1533105382671
          }
         },
         "location": {
          "address": "2205 N Delaware St",
          "address_extended": "Ste 104",
          "country": "US",
          "cross_street": "22nd Street",
          "dma": "Indianapolis",
          "locality": "Indianapolis",
          "neighborhood": [
           "Herron Morton Place"
          ],
          "postcode": "46205",
          "region": "IN"
         },
         "name": "MashCraft on Delaware",
         "related_places": {},
         "timezone": "America/Indiana/Indianapolis"
        },
        {
         "categories": [
          {
           "icon": {
            "prefix": "https://ss3.4sqi.net/img/categories_v2/nightlife/cocktails_",
            "suffix": ".png"
           },
           "id": 13009,
           "name": "Cocktail Bar"
          },
          {
           "icon": {
            "prefix": "https://ss3.4sqi.net/img/categories_v2/nightlife/whiskey_",
            "suffix": ".png"
           },
           "id": 13024,
           "name": "Whisky Bar"
          },
          {
           "icon": {
            "prefix": "https://ss3.4sqi.net/img/categories_v2/food/brewery_",
            "suffix": ".png"
           },
           "id": 13050,
           "name": "Distillery"
          }
         ],
         "chains": [],
         "distance": 1789,
         "fsq_id": "59fcfc8c31ac6c76dec313d6",
         "geocodes": {
          "main": {
           "latitude": 39.790147,
           "longitude": -86.142556
          }
         },
         "location": {
          "address": "1660 Bellefontaine St",
          "country": "US",
          "cross_street": "17th St",
          "dma": "Indianapolis",
          "locality": "Indianapolis",
          "neighborhood": [
           "Herron Morton Place"
          ],
          "postcode": "46202",
          "region": "IN"
         },
         "name": "West Fork Whiskey Co.",
         "related_places": {},
         "timezone": "America/Indiana/Indianapolis"
        },
        {
         "categories": [
          {
           "icon": {
            "prefix": "https://ss3.4sqi.net/img/categories_v2/nightlife/beergarden_",
            "suffix": ".png"
           },
           "id": 13007,
           "name": "Beer Garden"
          },
          {
           "icon": {
            "prefix": "https://ss3.4sqi.net/img/categories_v2/food/burger_",
            "suffix": ".png"
           },
           "id": 13031,
           "name": "Burger Joint"
          },
          {
           "icon": {
            "prefix": "https://ss3.4sqi.net/img/categories_v2/food/default_",
            "suffix": ".png"
           },
           "id": 13068,
           "name": "American Restaurant"
          }
         ],
         "chains": [],
         "distance": 2697,
         "fsq_id": "55c1fb0e498e5cb07436529e",
         "geocodes": {
          "front_door": {
           "latitude": 39.752236,
           "longitude": -86.138821
          },
          "main": {
           "latitude": 39.75222765615048,
           "longitude": -86.13876301359083
          }
         },
         "location": {
          "address": "1127 Prospect St",
          "country": "US",
          "cross_street": "Morris",
          "dma": "Indianapolis",
          "locality": "Indianapolis",
          "neighborhood": [
           "Fountain Square"
          ],
          "postcode": "46203",
          "region": "IN"
         },
         "name": "Kuma's Corner",
         "related_places": {},
         "timezone": "America/Indiana/Indianapolis"
        },
        {
         "categories": [
          {
           "icon": {
            "prefix": "https://ss3.4sqi.net/img/categories_v2/nightlife/pub_",
            "suffix": ".png"
           },
           "id": 13003,
           "name": "Bar"
          },
          {
           "icon": {
            "prefix": "https://ss3.4sqi.net/img/categories_v2/food/brewery_",
            "suffix": ".png"
           },
           "id": 13029,
           "name": "Brewery"
          }
         ],
         "chains": [],
         "distance": 1333,
         "fsq_id": "58116b7838fa8f8762e28e84",
         "geocodes": {
          "main": {
           "latitude": 39.78213754705668,
           "longitude": -86.13713491749593
          }
         },
         "location": {
          "address": "1125 Brookside Ave",
          "address_extended": "Ste B2",
          "country": "US",
          "cross_street": "",
          "dma": "Indianapolis",
          "locality": "Indianapolis",
          "neighborhood": [
           "Woodruff Place"
          ],
          "postcode": "46202",
          "region": "IN"
         },
         "name": "Centerpoint Brewing",
         "related_places": {},
         "timezone": "America/Indiana/Indianapolis"
        },
        {
         "categories": [
          {
           "icon": {
            "prefix": "https://ss3.4sqi.net/img/categories_v2/nightlife/pub_",
            "suffix": ".png"
           },
           "id": 13003,
           "name": "Bar"
          },
          {
           "icon": {
            "prefix": "https://ss3.4sqi.net/img/categories_v2/food/pizza_",
            "suffix": ".png"
           },
           "id": 13064,
           "name": "Pizzeria"
          }
         ],
         "chains": [],
         "distance": 937,
         "fsq_id": "55843ffd498e29ca07f431dd",
         "geocodes": {
          "main": {
           "latitude": 39.77368831761078,
           "longitude": -86.16052553738525
          }
         },
         "location": {
          "address": "433 N Capitol Ave",
          "country": "US",
          "cross_street": "",
          "dma": "Indianapolis",
          "locality": "Indianapolis",
          "neighborhood": [
           "Canal Walk District"
          ],
          "postcode": "46204",
          "region": "IN"
         },
         "name": "Rockstone Pizzeria & Pub",
         "related_places": {},
         "timezone": "America/Indiana/Indianapolis"
        },
        {
         "categories": [
          {
           "icon": {
            "prefix": "https://ss3.4sqi.net/img/categories_v2/arts_entertainment/arcade_",
            "suffix": ".png"
           },
           "id": 10003,
           "name": "Arcade"
          },
          {
           "icon": {
            "prefix": "https://ss3.4sqi.net/img/categories_v2/nightlife/pub_",
            "suffix": ".png"
           },
           "id": 13003,
           "name": "Bar"
          }
         ],
         "chains": [],
         "distance": 647,
         "fsq_id": "5d139d96a8da670023b0624d",
         "geocodes": {
          "main": {
           "latitude": 39.771364,
           "longitude": -86.155602
          }
         },
         "location": {
          "address": "110 E New York St",
          "country": "US",
          "cross_street": "",
          "dma": "Indianapolis",
          "locality": "Indianapolis",
          "neighborhood": [
           "Lockerbie Square"
          ],
          "postcode": "46204",
          "region": "IN"
         },
         "name": "16-Bit Indy",
         "related_places": {},
         "timezone": "America/Indiana/Indianapolis"
        },
        {
         "categories": [
          {
           "icon": {
            "prefix": "https://ss3.4sqi.net/img/categories_v2/nightlife/pub_",
            "suffix": ".png"
           },
           "id": 13018,
           "name": "Pub"
          },
          {
           "icon": {
            "prefix": "https://ss3.4sqi.net/img/categories_v2/food/default_",
            "suffix": ".png"
           },
           "id": 13068,
           "name": "American Restaurant"
          }
         ],
         "chains": [],
         "distance": 2607,
         "fsq_id": "4b1eb588f964a520401e24e3",
         "geocodes": {
          "main": {
           "latitude": 39.75263455802347,
           "longitude": -86.14048554453504
          }
         },
         "location": {
          "address": "1043 Virginia Ave",
          "address_extended": "Ste 6",
          "country": "US",
          "cross_street": "in the G. C. Murphy Building",
          "dma": "Indianapolis",
          "locality": "Indianapolis",
          "neighborhood": [
           "Fountain Square"
          ],
          "postcode": "46203",
          "region": "IN"
         },
         "name": "Red Lion Grog House",
         "related_places": {},
         "timezone": "America/Indiana/Indianapolis"
        },
        {
         "categories": [
          {
           "icon": {
            "prefix": "https://ss3.4sqi.net/img/categories_v2/nightlife/pub_",
            "suffix": ".png"
           },
           "id": 13003,
           "name": "Bar"
          },
          {
           "icon": {
            "prefix": "https://ss3.4sqi.net/img/categories_v2/food/brewery_",
            "suffix": ".png"
           },
           "id": 13029,
           "name": "Brewery"
          },
          {
           "icon": {
            "prefix": "https://ss3.4sqi.net/img/categories_v2/food/default_",
            "suffix": ".png"
           },
           "id": 13065,
           "name": "Restaurant"
          }
         ],
         "chains": [],
         "distance": 2939,
         "fsq_id": "4e7e1920b8f700d320a85b00",
         "geocodes": {
          "front_door": {
           "latitude": 39.749696,
           "longitude": -86.14068
          },
          "main": {
           "latitude": 39.74954642344834,
           "longitude": -86.14034588498514
          }
         },
         "location": {
          "address": "1301 Barth Ave",
          "country": "US",
          "cross_street": "",
          "dma": "Indianapolis",
          "locality": "Indianapolis",
          "neighborhood": [
           "Fountain Square"
          ],
          "postcode": "46203",
          "region": "IN"
         },
         "name": "Fountain Square Brewing Co.",
         "related_places": {},
         "timezone": "America/Indiana/Indianapolis"
        },
        {
         "categories": [
          {
           "icon": {
            "prefix": "https://ss3.4sqi.net/img/categories_v2/nightlife/pub_",
            "suffix": ".png"
           },
           "id": 13003,
           "name": "Bar"
          }
         ],
         "chains": [],
         "distance": 1502,
         "fsq_id": "4b76ab5ef964a52074572ee3",
         "geocodes": {
          "main": {
           "latitude": 39.76383073,
           "longitude": -86.15958041
          }
         },
         "location": {
          "address": "40 Jackson Pl",
          "country": "US",
          "cross_street": "",
          "dma": "Indianapolis",
          "locality": "Indianapolis",
          "neighborhood": [
           "Wholesale District"
          ],
          "postcode": "46225",
          "region": "IN"
         },
         "name": "Severin Bar",
         "related_places": {
          "parent": {
           "fsq_id": "4ad4bff8f964a520f7e920e3",
           "name": "Omni Severin Hotel"
          }
         },
         "timezone": "America/Indiana/Indianapolis"
        },
        {
         "categories": [
          {
           "icon": {
            "prefix": "https://ss3.4sqi.net/img/categories_v2/nightlife/gaybar_",
            "suffix": ".png"
           },
           "id": 13011,
           "name": "Gay Bar"
          },
          {
           "icon": {
            "prefix": "https://ss3.4sqi.net/img/categories_v2/food/pizza_",
            "suffix": ".png"
           },
           "id": 13064,
           "name": "Pizzeria"
          },
          {
           "icon": {
            "prefix": "https://ss3.4sqi.net/img/categories_v2/food/default_",
            "suffix": ".png"
           },
           "id": 13068,
           "name": "American Restaurant"
          }
         ],
         "chains": [],
         "distance": 939,
         "fsq_id": "4b0ab5c9f964a520b62623e3",
         "geocodes": {
          "front_door": {
           "latitude": 39.778615,
           "longitude": -86.159634
          },
          "main": {
           "latitude": 39.77863650868186,
           "longitude": -86.15962358672533
          }
         },
         "location": {
          "address": "822 N Illinois St",
          "country": "US",
          "cross_street": "W St. Clair St.",
          "dma": "Indianapolis",
          "locality": "Indianapolis",
          "neighborhood": [
           "Upper Canal"
          ],
          "postcode": "46204",
          "region": "IN"
         },
         "name": "Downtown Olly's",
         "related_places": {},
         "timezone": "America/Indiana/Indianapolis"
        },
        {
         "categories": [
          {
           "icon": {
            "prefix": "https://ss3.4sqi.net/img/categories_v2/nightlife/nightclub_",
            "suffix": ".png"
           },
           "id": 10032,
           "name": "Night Club"
          },
          {
           "icon": {
            "prefix": "https://ss3.4sqi.net/img/categories_v2/nightlife/cocktails_",
            "suffix": ".png"
           },
           "id": 13009,
           "name": "Cocktail Bar"
          },
          {
           "icon": {
            "prefix": "https://ss3.4sqi.net/img/categories_v2/food/default_",
            "suffix": ".png"
           },
           "id": 13065,
           "name": "Restaurant"
          }
         ],
         "chains": [],
         "distance": 1364,
         "fsq_id": "4aeccbeff964a52046cb21e3",
         "geocodes": {
          "main": {
           "latitude": 39.764327722067634,
           "longitude": -86.15757120978206
          }
         },
         "location": {
          "address": "20 E Georgia St",
          "country": "US",
          "cross_street": "btwn Meridian and Scioto",
          "dma": "Indianapolis",
          "locality": "Indianapolis",
          "neighborhood": [
           "Wholesale District"
          ],
          "postcode": "46204",
          "region": "IN"
         },
         "name": "Howl at the Moon",
         "related_places": {},
         "timezone": "America/Indiana/Indianapolis"
        },
        {
         "categories": [
          {
           "icon": {
            "prefix": "https://ss3.4sqi.net/img/categories_v2/nightlife/secretbar_",
            "suffix": ".png"
           },
           "id": 13021,
           "name": "Speakeasy"
          },
          {
           "icon": {
            "prefix": "https://ss3.4sqi.net/img/categories_v2/food/default_",
            "suffix": ".png"
           },
           "id": 13065,
           "name": "Restaurant"
          }
         ],
         "chains": [],
         "distance": 114,
         "fsq_id": "4ad8b629f964a520e21321e3",
         "geocodes": {
          "main": {
           "latitude": 39.774717297518485,
           "longitude": -86.15097133538136
          }
         },
         "location": {
          "address": "510 N New Jersey St",
          "country": "US",
          "cross_street": "at E North St",
          "dma": "Indianapolis",
          "locality": "Indianapolis",
          "neighborhood": [
           "Lockerbie Square"
          ],
          "postcode": "46204",
          "region": "IN"
         },
         "name": "Murat Shrine Oasis",
         "related_places": {},
         "timezone": "America/Indiana/Indianapolis"
        },
        {
         "categories": [
          {
           "icon": {
            "prefix": "https://ss3.4sqi.net/img/categories_v2/nightlife/pub_",
            "suffix": ".png"
           },
           "id": 13003,
           "name": "Bar"
          },
          {
           "icon": {
            "prefix": "https://ss3.4sqi.net/img/categories_v2/food/italian_",
            "suffix": ".png"
           },
           "id": 13236,
           "name": "Italian Restaurant"
          },
          {
           "icon": {
            "prefix": "https://ss3.4sqi.net/img/categories_v2/food/steakhouse_",
            "suffix": ".png"
           },
           "id": 13383,
           "name": "Steakhouse"
          }
         ],
         "chains": [],
         "distance": 1250,
         "fsq_id": "5b7b4ec33092be002cb6835d",
         "geocodes": {
          "main": {
           "latitude": 39.7674517,
           "longitude": -86.1605357
          }
         },
         "location": {
          "address": "110 W Washington St",
          "country": "US",
          "cross_street": "Illinois Street",
          "dma": "Indianapolis",
          "locality": "Indianapolis",
          "neighborhood": [
           "Wholesale District"
          ],
          "postcode": "46204",
          "region": "IN"
         },
         "name": "Tony's of Indianapolis",
         "related_places": {
          "parent": {
           "fsq_id": "4b5cd060f964a520504529e3",
           "name": "Embassy Suites by Hilton Indianapolis Downtown"
          }
         },
         "timezone": "America/Indiana/Indianapolis"
        },
        {
         "categories": [
          {
           "icon": {
            "prefix": "https://ss3.4sqi.net/img/categories_v2/nightlife/pub_",
            "suffix": ".png"
           },
           "id": 13018,
           "name": "Pub"
          }
         ],
         "chains": [],
         "distance": 287,
         "fsq_id": "5b00c44f83e380002c917c6a",
         "geocodes": {
          "main": {
           "latitude": 39.772849,
           "longitude": -86.15154
          }
         },
         "location": {
          "address": "401 Massachusetts Ave",
          "country": "US",
          "cross_street": "",
          "dma": "Indianapolis",
          "locality": "Indianapolis",
          "neighborhood": [
           "Lockerbie Square"
          ],
          "postcode": "46204",
          "region": "IN"
         },
         "name": "Tavern At The Point",
         "related_places": {},
         "timezone": "America/Indiana/Indianapolis"
        },
        {
         "categories": [
          {
           "icon": {
            "prefix": "https://ss3.4sqi.net/img/categories_v2/nightlife/sportsbar_",
            "suffix": ".png"
           },
           "id": 13022,
           "name": "Sports Bar"
          },
          {
           "icon": {
            "prefix": "https://ss3.4sqi.net/img/categories_v2/food/bbqalt_",
            "suffix": ".png"
           },
           "id": 13026,
           "name": "BBQ Joint"
          },
          {
           "icon": {
            "prefix": "https://ss3.4sqi.net/img/categories_v2/food/default_",
            "suffix": ".png"
           },
           "id": 13068,
           "name": "American Restaurant"
          }
         ],
         "chains": [],
         "distance": 1398,
         "fsq_id": "4b17629bf964a52025c523e3",
         "geocodes": {
          "front_door": {
           "latitude": 39.764026,
           "longitude": -86.158064
          },
          "main": {
           "latitude": 39.76419653405737,
           "longitude": -86.1580799450689
          }
         },
         "location": {
          "address": "201 S Meridian St",
          "country": "US",
          "cross_street": "at E Georgia St",
          "dma": "Indianapolis",
          "locality": "Indianapolis",
          "neighborhood": [
           "Wholesale District"
          ],
          "postcode": "46225",
          "region": "IN"
         },
         "name": "Kilroys Bar & Grill",
         "related_places": {},
         "timezone": "America/Indiana/Indianapolis"
        },
        {
         "categories": [
          {
           "icon": {
            "prefix": "https://ss3.4sqi.net/img/categories_v2/food/bakery_",
            "suffix": ".png"
           },
           "id": 13002,
           "name": "Bakery"
          },
          {
           "icon": {
            "prefix": "https://ss3.4sqi.net/img/categories_v2/nightlife/pub_",
            "suffix": ".png"
           },
           "id": 13003,
           "name": "Bar"
          },
          {
           "icon": {
            "prefix": "https://ss3.4sqi.net/img/categories_v2/food/coffeeshop_",
            "suffix": ".png"
           },
           "id": 13035,
           "name": "Coffee Shop"
          }
         ],
         "chains": [],
         "distance": 1712,
         "fsq_id": "5b017bfb5315930039c7473b",
         "geocodes": {
          "main": {
           "latitude": 39.78828377626963,
           "longitude": -86.13952100214533
          }
         },
         "location": {
          "address": "1101 E 16th St",
          "country": "US",
          "cross_street": "",
          "dma": "Indianapolis",
          "locality": "Indianapolis",
          "neighborhood": [
           "Herron Morton Place"
          ],
          "postcode": "46202",
          "region": "IN"
         },
         "name": "Provider",
         "related_places": {},
         "timezone": "America/Indiana/Indianapolis"
        },
        {
         "categories": [
          {
           "icon": {
            "prefix": "https://ss3.4sqi.net/img/categories_v2/nightlife/pub_",
            "suffix": ".png"
           },
           "id": 13003,
           "name": "Bar"
          }
         ],
         "chains": [],
         "distance": 1094,
         "fsq_id": "4adce7e1f964a520686221e3",
         "geocodes": {
          "main": {
           "latitude": 39.7678084,
           "longitude": -86.1584287
          }
         },
         "location": {
          "address": "20 N Meridian St",
          "address_extended": "Ste 100",
          "country": "US",
          "cross_street": "at Monument Cir",
          "dma": "Indianapolis",
          "locality": "Indianapolis",
          "neighborhood": [
           "Wholesale District"
          ],
          "postcode": "46204",
          "region": "IN"
         },
         "name": "Nicky Blaine's Cocktail Lounge",
         "related_places": {},
         "timezone": "America/Indiana/Indianapolis"
        },
        {
         "categories": [
          {
           "icon": {
            "prefix": "https://ss3.4sqi.net/img/categories_v2/nightlife/pub_",
            "suffix": ".png"
           },
           "id": 13003,
           "name": "Bar"
          },
          {
           "icon": {
            "prefix": "https://ss3.4sqi.net/img/categories_v2/food/pizza_",
            "suffix": ".png"
           },
           "id": 13064,
           "name": "Pizzeria"
          },
          {
           "icon": {
            "prefix": "https://ss3.4sqi.net/img/categories_v2/food/mexican_",
            "suffix": ".png"
           },
           "id": 13303,
           "name": "Mexican Restaurant"
          }
         ],
         "chains": [],
         "distance": 2069,
         "fsq_id": "4fa3edcfe4b0a34ac66b31fe",
         "geocodes": {
          "front_door": {
           "latitude": 39.757948,
           "longitude": -86.139692
          },
          "main": {
           "latitude": 39.75803125456686,
           "longitude": -86.13971409946684
          }
         },
         "location": {
          "address": "1102 Fletcher Ave",
          "country": "US",
          "cross_street": "Shelby St",
          "dma": "Indianapolis",
          "locality": "Indianapolis",
          "neighborhood": [
           "Fountain Square"
          ],
          "postcode": "46203",
          "region": "IN"
         },
         "name": "Silver Circle Bar",
         "related_places": {},
         "timezone": "America/Indiana/Indianapolis"
        },
        {
         "categories": [
          {
           "icon": {
            "prefix": "https://ss3.4sqi.net/img/categories_v2/nightlife/pub_",
            "suffix": ".png"
           },
           "id": 13003,
           "name": "Bar"
          },
          {
           "icon": {
            "prefix": "https://ss3.4sqi.net/img/categories_v2/food/burger_",
            "suffix": ".png"
           },
           "id": 13031,
           "name": "Burger Joint"
          },
          {
           "icon": {
            "prefix": "https://ss3.4sqi.net/img/categories_v2/food/default_",
            "suffix": ".png"
           },
           "id": 13068,
           "name": "American Restaurant"
          }
         ],
         "chains": [],
         "distance": 4094,
         "fsq_id": "4aec289cf964a5206ac521e3",
         "geocodes": {
          "main": {
           "latitude": 39.76951434881122,
           "longitude": -86.19709224223722
          }
         },
         "location": {
          "address": "234 N Belmont Ave",
          "country": "US",
          "cross_street": "btw Washington & Michigan",
          "dma": "Indianapolis",
          "locality": "Indianapolis",
          "neighborhood": [
           "Mount Jackson"
          ],
          "postcode": "46222",
          "region": "IN"
         },
         "name": "Working Man's Friend",
         "related_places": {},
         "timezone": "America/Indiana/Indianapolis"
        },
        {
         "categories": [
          {
           "icon": {
            "prefix": "https://ss3.4sqi.net/img/categories_v2/nightlife/pub_",
            "suffix": ".png"
           },
           "id": 13003,
           "name": "Bar"
          }
         ],
         "chains": [
          {
           "id": "16ecf2b0-992b-0132-fd75-7a163eb2a6fc",
           "name": "World of Beer"
          }
         ],
         "distance": 300,
         "fsq_id": "5ad68aa33ba767694e5802f0",
         "geocodes": {
          "main": {
           "latitude": 39.77292334640493,
           "longitude": -86.15193587268935
          }
         },
         "location": {
          "address": "409 Massachusetts Ave",
          "address_extended": "Ste 100",
          "country": "US",
          "cross_street": "E Vermont St",
          "dma": "Indianapolis",
          "locality": "Indianapolis",
          "neighborhood": [
           "Lockerbie Square"
          ],
          "postcode": "46204",
          "region": "IN"
         },
         "name": "World of Beer",
         "related_places": {},
         "timezone": "America/Indiana/Indianapolis"
        },
        {
         "categories": [
          {
           "icon": {
            "prefix": "https://ss3.4sqi.net/img/categories_v2/nightlife/beergarden_",
            "suffix": ".png"
           },
           "id": 13007,
           "name": "Beer Garden"
          },
          {
           "icon": {
            "prefix": "https://ss3.4sqi.net/img/categories_v2/food/brewery_",
            "suffix": ".png"
           },
           "id": 13029,
           "name": "Brewery"
          }
         ],
         "chains": [],
         "distance": 3264,
         "fsq_id": "5cf32e640e3239002b8e4b5c",
         "geocodes": {
          "front_door": {
           "latitude": 39.790308,
           "longitude": -86.182573
          },
          "main": {
           "latitude": 39.790309,
           "longitude": -86.182315
          }
         },
         "location": {
          "address": "1701 Gent Ave",
          "country": "US",
          "cross_street": "17th",
          "dma": "Indianapolis",
          "locality": "Indianapolis",
          "postcode": "46202",
          "region": "IN"
         },
         "name": "Guggman Haus Brewing Co.",
         "related_places": {},
         "timezone": "America/Indiana/Indianapolis"
        },
        {
         "categories": [
          {
           "icon": {
            "prefix": "https://ss3.4sqi.net/img/categories_v2/nightlife/divebar_",
            "suffix": ".png"
           },
           "id": 13010,
           "name": "Dive Bar"
          },
          {
           "icon": {
            "prefix": "https://ss3.4sqi.net/img/categories_v2/food/default_",
            "suffix": ".png"
           },
           "id": 13068,
           "name": "American Restaurant"
          },
          {
           "icon": {
            "prefix": "https://ss3.4sqi.net/img/categories_v2/food/southern_",
            "suffix": ".png"
           },
           "id": 13344,
           "name": "Southern / Soul Food Restaurant"
          }
         ],
         "chains": [],
         "distance": 1877,
         "fsq_id": "4b36d2cff964a5200c3d25e3",
         "geocodes": {
          "front_door": {
           "latitude": 39.75825,
           "longitude": -86.146408
          },
          "main": {
           "latitude": 39.75830489047493,
           "longitude": -86.14639064403168
          }
         },
         "location": {
          "address": "621 Virginia Ave",
          "country": "US",
          "cross_street": "Stevens",
          "dma": "Indianapolis",
          "locality": "Indianapolis",
          "neighborhood": [
           "Fletcher Place"
          ],
          "postcode": "46203",
          "region": "IN"
         },
         "name": "Anthony's Dugout",
         "related_places": {},
         "timezone": "America/Indiana/Indianapolis"
        },
        {
         "categories": [
          {
           "icon": {
            "prefix": "https://ss3.4sqi.net/img/categories_v2/nightlife/pub_",
            "suffix": ".png"
           },
           "id": 13003,
           "name": "Bar"
          },
          {
           "icon": {
            "prefix": "https://ss3.4sqi.net/img/categories_v2/food/gastropub_",
            "suffix": ".png"
           },
           "id": 13057,
           "name": "Gastropub"
          }
         ],
         "chains": [],
         "distance": 773,
         "fsq_id": "5ab6a014db1d812e09ee3afc",
         "geocodes": {
          "main": {
           "latitude": 39.768369,
           "longitude": -86.152421
          }
         },
         "location": {
          "address": "320 E Market St",
          "country": "US",
          "cross_street": "",
          "dma": "Indianapolis",
          "locality": "Indianapolis",
          "neighborhood": [
           "Lockerbie Square"
          ],
          "postcode": "46204",
          "region": "IN"
         },
         "name": "Market Square Tap Room",
         "related_places": {
          "parent": {
           "fsq_id": "5ab0279fa22db75fb69ef2bb",
           "name": "Whole Foods"
          }
         },
         "timezone": "America/Indiana/Indianapolis"
        },
        {
         "categories": [
          {
           "icon": {
            "prefix": "https://ss3.4sqi.net/img/categories_v2/nightlife/pub_",
            "suffix": ".png"
           },
           "id": 13006,
           "name": "Beer Bar"
          },
          {
           "icon": {
            "prefix": "https://ss3.4sqi.net/img/categories_v2/nightlife/cocktails_",
            "suffix": ".png"
           },
           "id": 13009,
           "name": "Cocktail Bar"
          },
          {
           "icon": {
            "prefix": "https://ss3.4sqi.net/img/categories_v2/food/southern_",
            "suffix": ".png"
           },
           "id": 13344,
           "name": "Southern / Soul Food Restaurant"
          }
         ],
         "chains": [],
         "distance": 2745,
         "fsq_id": "52a00826498ee805b3256475",
         "geocodes": {
          "main": {
           "latitude": 39.75151149816711,
           "longitude": -86.13972647647329
          }
         },
         "location": {
          "address": "1127 Shelby St",
          "country": "US",
          "cross_street": "Morris street",
          "dma": "Indianapolis",
          "locality": "Indianapolis",
          "neighborhood": [
           "Fountain Square"
          ],
          "postcode": "46203",
          "region": "IN"
         },
         "name": "Thunderbird",
         "related_places": {},
         "timezone": "America/Indiana/Indianapolis"
        },
        {
         "categories": [
          {
           "icon": {
            "prefix": "https://ss3.4sqi.net/img/categories_v2/nightlife/pub_",
            "suffix": ".png"
           },
           "id": 13003,
           "name": "Bar"
          },
          {
           "icon": {
            "prefix": "https://ss3.4sqi.net/img/categories_v2/food/default_",
            "suffix": ".png"
           },
           "id": 13068,
           "name": "American Restaurant"
          },
          {
           "icon": {
            "prefix": "https://ss3.4sqi.net/img/categories_v2/food/newamerican_",
            "suffix": ".png"
           },
           "id": 13314,
           "name": "New American Restaurant"
          }
         ],
         "chains": [],
         "distance": 1463,
         "fsq_id": "4a9879abf964a5203e2c20e3",
         "geocodes": {
          "front_door": {
           "latitude": 39.767044,
           "longitude": -86.163794
          },
          "main": {
           "latitude": 39.767187664260305,
           "longitude": -86.1634786718093
          }
         },
         "location": {
          "address": "301 W Washington St",
          "country": "US",
          "cross_street": "Senate",
          "dma": "Indianapolis",
          "locality": "Indianapolis",
          "neighborhood": [
           "Wholesale District"
          ],
          "postcode": "46204",
          "region": "IN"
         },
         "name": "Loughmiller's Pub & Eatery",
         "related_places": {},
         "timezone": "America/Indiana/Indianapolis"
        },
        {
         "categories": [
          {
           "icon": {
            "prefix": "https://ss3.4sqi.net/img/categories_v2/nightlife/beergarden_",
            "suffix": ".png"
           },
           "id": 13007,
           "name": "Beer Garden"
          },
          {
           "icon": {
            "prefix": "https://ss3.4sqi.net/img/categories_v2/food/brewery_",
            "suffix": ".png"
           },
           "id": 13029,
           "name": "Brewery"
          },
          {
           "icon": {
            "prefix": "https://ss3.4sqi.net/img/categories_v2/food/gastropub_",
            "suffix": ".png"
           },
           "id": 13057,
           "name": "Gastropub"
          }
         ],
         "chains": [],
         "distance": 1415,
         "fsq_id": "5dc2138ee9b1a000084a97ba",
         "geocodes": {
          "main": {
           "latitude": 39.762957,
           "longitude": -86.155083
          }
         },
         "location": {
          "address": "310 S Delaware St",
          "country": "US",
          "cross_street": "",
          "dma": "Indianapolis",
          "locality": "Indianapolis",
          "neighborhood": [
           "Irish Hills"
          ],
          "postcode": "46204",
          "region": "IN"
         },
         "name": "Taxman Brewing Co- Cit",
         "related_places": {
          "parent": {
           "fsq_id": "4ed638bd754a6d426c7cbee8",
           "name": "CityWay"
          }
         },
         "timezone": "America/Indiana/Indianapolis"
        },
        {
         "categories": [
          {
           "icon": {
            "prefix": "https://ss3.4sqi.net/img/categories_v2/nightlife/pub_",
            "suffix": ".png"
           },
           "id": 13003,
           "name": "Bar"
          },
          {
           "icon": {
            "prefix": "https://ss3.4sqi.net/img/categories_v2/food/burger_",
            "suffix": ".png"
           },
           "id": 13031,
           "name": "Burger Joint"
          },
          {
           "icon": {
            "prefix": "https://ss3.4sqi.net/img/categories_v2/food/mexican_",
            "suffix": ".png"
           },
           "id": 13303,
           "name": "Mexican Restaurant"
          }
         ],
         "chains": [],
         "distance": 5755,
         "fsq_id": "4b5253abf964a520657727e3",
         "geocodes": {
          "front_door": {
           "latitude": 39.781424,
           "longitude": -86.082768
          },
          "main": {
           "latitude": 39.78132944979468,
           "longitude": -86.08279632753553
          }
         },
         "location": {
          "address": "5109 E 10th St",
          "country": "US",
          "cross_street": "at N Emerson Av",
          "dma": "Indianapolis",
          "locality": "Indianapolis",
          "neighborhood": [
           "Irvington"
          ],
          "postcode": "46219",
          "region": "IN"
         },
         "name": "Si Greene's Pub",
         "related_places": {},
         "timezone": "America/Indiana/Indianapolis"
        },
        {
         "categories": [
          {
           "icon": {
            "prefix": "https://ss3.4sqi.net/img/categories_v2/nightlife/default_",
            "suffix": ".png"
           },
           "id": 13016,
           "name": "Lounge"
          },
          {
           "icon": {
            "prefix": "https://ss3.4sqi.net/img/categories_v2/food/default_",
            "suffix": ".png"
           },
           "id": 13068,
           "name": "American Restaurant"
          },
          {
           "icon": {
            "prefix": "https://ss3.4sqi.net/img/categories_v2/food/asian_",
            "suffix": ".png"
           },
           "id": 13072,
           "name": "Asian Restaurant"
          }
         ],
         "chains": [],
         "distance": 1151,
         "fsq_id": "59fbb8e9805e3f037da48858",
         "geocodes": {
          "front_door": {
           "latitude": 39.772659,
           "longitude": -86.16292
          },
          "main": {
           "latitude": 39.772692,
           "longitude": -86.162827
          }
         },
         "location": {
          "address": "361 Indiana Ave",
          "country": "US",
          "cross_street": "",
          "dma": "Indianapolis",
          "locality": "Indianapolis",
          "neighborhood": [
           "Canal Walk District"
          ],
          "postcode": "46204",
          "region": "IN"
         },
         "name": "Stixx",
         "related_places": {},
         "timezone": "America/Indiana/Indianapolis"
        }
       ]
      },
      "text/plain": [
       "<IPython.core.display.JSON object>"
      ]
     },
     "execution_count": 7,
     "metadata": {
      "application/json": {
       "expanded": false,
       "root": "root"
      }
     },
     "output_type": "execute_result"
    }
   ],
   "source": [
    "#define api url elements\n",
    "root_endpoint = \"https://api.foursquare.com/v3/places/search\"\n",
    "\n",
    "headers = {\n",
    "    \"Accept\": \"application/json\",\n",
    "    \"Authorization\": FS_Key\n",
    "}\n",
    "\n",
    "#Test out retrieving API info\n",
    "response = re.get(root_endpoint,\n",
    "                  params={'ll': '39.77500526484702,-86.14968724867599', 'categories': 13003,\n",
    "                          'radius': 5000, 'limit': 50}, headers = headers)\n",
    "\n",
    "#make sure it works\n",
    "print(response.status_code)\n",
    "\n",
    "#convert into json (nested list of dictionaries)\n",
    "result = response.json()\n",
    "result['results']\n",
    "\n",
    "#Nicely display returned JSON. This has to be the last line of code in a block\n",
    "JSON(result)"
   ]
  },
  {
   "cell_type": "code",
   "execution_count": 3,
   "metadata": {},
   "outputs": [],
   "source": [
    "#find location (lat and long)\n",
    "location =data.head(1000)['ll'].tolist()"
   ]
  },
  {
   "cell_type": "code",
   "execution_count": 23,
   "metadata": {},
   "outputs": [
    {
     "name": "stdout",
     "output_type": "stream",
     "text": [
      "[20]\n"
     ]
    }
   ],
   "source": [
    "#try pulling lat and long from bars\n",
    "response = re.get(root_endpoint, \n",
    "                      params={'ll': location[1], 'categories': 13003, 'radius': 5000, 'limit': 50}, \n",
    "                      headers = headers)\n",
    "result = response.json()\n",
    "\n",
    "no_bars =[]\n",
    "bars = 0\n",
    "    \n",
    "for place in result['results']:\n",
    "            #go into every type a place is\n",
    "    for p_type in place['categories']:\n",
    "            \n",
    "                #if it's a bar add one to the count\n",
    "        if p_type['name'] == 'Bar':\n",
    "            bars += 1\n",
    "no_bars.append(bars)\n",
    "print(no_bars)"
   ]
  },
  {
   "cell_type": "code",
   "execution_count": 10,
   "metadata": {},
   "outputs": [],
   "source": [
    " #function get_venues that will pull bars in the radius of 5km around the crash\n",
    "def get_venues(location):\n",
    "    \"\"\" intakes string of lat, long location, returns int representing how many bars\n",
    "    are within 5km of the crash\n",
    "    \"\"\"\n",
    "    no_bars=[]\n",
    "    for item in location:\n",
    "        response = re.get(root_endpoint, \n",
    "                      params={'ll': item, 'categories': 13003, 'radius': 5000, 'limit': 50}, \n",
    "                      headers = headers)\n",
    "        result = response.json()\n",
    "\n",
    "        bars = 0\n",
    "    \n",
    "        for place in result['results']:\n",
    "            #go into every type a place is\n",
    "            for p_type in place['categories']:\n",
    "            \n",
    "                #if it's a bar add one to the count\n",
    "                if p_type['name'] == 'Bar':\n",
    "                    bars += 1\n",
    "        no_bars.append(bars)\n",
    "    return no_bars"
   ]
  },
  {
   "cell_type": "code",
   "execution_count": 12,
   "metadata": {},
   "outputs": [],
   "source": [
    "#test values\n",
    "number_bars = get_venues(location)"
   ]
  },
  {
   "cell_type": "code",
   "execution_count": 26,
   "metadata": {},
   "outputs": [],
   "source": [
    "selected = data.head(1000)"
   ]
  },
  {
   "cell_type": "code",
   "execution_count": 27,
   "metadata": {},
   "outputs": [
    {
     "name": "stderr",
     "output_type": "stream",
     "text": [
      "<ipython-input-27-027b74ced779>:1: SettingWithCopyWarning: \n",
      "A value is trying to be set on a copy of a slice from a DataFrame.\n",
      "Try using .loc[row_indexer,col_indexer] = value instead\n",
      "\n",
      "See the caveats in the documentation: https://pandas.pydata.org/pandas-docs/stable/user_guide/indexing.html#returning-a-view-versus-a-copy\n",
      "  selected['n_bars'] = number_bars\n"
     ]
    }
   ],
   "source": [
    "#add number of bars to data frame\n",
    "selected['n_bars'] = number_bars"
   ]
  },
  {
   "cell_type": "code",
   "execution_count": 29,
   "metadata": {},
   "outputs": [
    {
     "data": {
      "text/html": [
       "<div>\n",
       "<style scoped>\n",
       "    .dataframe tbody tr th:only-of-type {\n",
       "        vertical-align: middle;\n",
       "    }\n",
       "\n",
       "    .dataframe tbody tr th {\n",
       "        vertical-align: top;\n",
       "    }\n",
       "\n",
       "    .dataframe thead th {\n",
       "        text-align: right;\n",
       "    }\n",
       "</style>\n",
       "<table border=\"1\" class=\"dataframe\">\n",
       "  <thead>\n",
       "    <tr style=\"text-align: right;\">\n",
       "      <th></th>\n",
       "      <th>Master Record Number</th>\n",
       "      <th>Year</th>\n",
       "      <th>Month</th>\n",
       "      <th>Day</th>\n",
       "      <th>Weekend?</th>\n",
       "      <th>Hour</th>\n",
       "      <th>Collision Type</th>\n",
       "      <th>Injury Type</th>\n",
       "      <th>Primary Factor</th>\n",
       "      <th>Reported_Location</th>\n",
       "      <th>Latitude</th>\n",
       "      <th>Longitude</th>\n",
       "      <th>ll</th>\n",
       "      <th>n_bars</th>\n",
       "    </tr>\n",
       "  </thead>\n",
       "  <tbody>\n",
       "    <tr>\n",
       "      <th>0</th>\n",
       "      <td>902363382</td>\n",
       "      <td>2015</td>\n",
       "      <td>1</td>\n",
       "      <td>5</td>\n",
       "      <td>Weekday</td>\n",
       "      <td>0.0</td>\n",
       "      <td>2-Car</td>\n",
       "      <td>No injury/unknown</td>\n",
       "      <td>OTHER (DRIVER) - EXPLAIN IN NARRATIVE</td>\n",
       "      <td>1ST &amp; FESS</td>\n",
       "      <td>39.159207</td>\n",
       "      <td>-86.525874</td>\n",
       "      <td>39.15920668,-86.52587356</td>\n",
       "      <td>20</td>\n",
       "    </tr>\n",
       "    <tr>\n",
       "      <th>1</th>\n",
       "      <td>902364268</td>\n",
       "      <td>2015</td>\n",
       "      <td>1</td>\n",
       "      <td>6</td>\n",
       "      <td>Weekday</td>\n",
       "      <td>1500.0</td>\n",
       "      <td>2-Car</td>\n",
       "      <td>No injury/unknown</td>\n",
       "      <td>FOLLOWING TOO CLOSELY</td>\n",
       "      <td>2ND &amp; COLLEGE</td>\n",
       "      <td>39.161440</td>\n",
       "      <td>-86.534848</td>\n",
       "      <td>39.16144,-86.534848</td>\n",
       "      <td>20</td>\n",
       "    </tr>\n",
       "    <tr>\n",
       "      <th>2</th>\n",
       "      <td>902364412</td>\n",
       "      <td>2015</td>\n",
       "      <td>1</td>\n",
       "      <td>6</td>\n",
       "      <td>Weekend</td>\n",
       "      <td>2300.0</td>\n",
       "      <td>2-Car</td>\n",
       "      <td>Non-incapacitating</td>\n",
       "      <td>DISREGARD SIGNAL/REG SIGN</td>\n",
       "      <td>BASSWOOD &amp; BLOOMFIELD</td>\n",
       "      <td>39.149780</td>\n",
       "      <td>-86.568890</td>\n",
       "      <td>39.14978027,-86.56889006</td>\n",
       "      <td>20</td>\n",
       "    </tr>\n",
       "    <tr>\n",
       "      <th>3</th>\n",
       "      <td>902364551</td>\n",
       "      <td>2015</td>\n",
       "      <td>1</td>\n",
       "      <td>7</td>\n",
       "      <td>Weekend</td>\n",
       "      <td>900.0</td>\n",
       "      <td>2-Car</td>\n",
       "      <td>Non-incapacitating</td>\n",
       "      <td>FAILURE TO YIELD RIGHT OF WAY</td>\n",
       "      <td>GATES &amp; JACOBS</td>\n",
       "      <td>39.165655</td>\n",
       "      <td>-86.575956</td>\n",
       "      <td>39.165655,-86.57595635</td>\n",
       "      <td>20</td>\n",
       "    </tr>\n",
       "    <tr>\n",
       "      <th>4</th>\n",
       "      <td>902364615</td>\n",
       "      <td>2015</td>\n",
       "      <td>1</td>\n",
       "      <td>7</td>\n",
       "      <td>Weekend</td>\n",
       "      <td>1100.0</td>\n",
       "      <td>2-Car</td>\n",
       "      <td>No injury/unknown</td>\n",
       "      <td>FAILURE TO YIELD RIGHT OF WAY</td>\n",
       "      <td>W 3RD</td>\n",
       "      <td>39.164848</td>\n",
       "      <td>-86.579625</td>\n",
       "      <td>39.164848,-86.57962482</td>\n",
       "      <td>20</td>\n",
       "    </tr>\n",
       "  </tbody>\n",
       "</table>\n",
       "</div>"
      ],
      "text/plain": [
       "   Master Record Number  Year  Month  Day Weekend?    Hour Collision Type  \\\n",
       "0             902363382  2015      1    5  Weekday     0.0          2-Car   \n",
       "1             902364268  2015      1    6  Weekday  1500.0          2-Car   \n",
       "2             902364412  2015      1    6  Weekend  2300.0          2-Car   \n",
       "3             902364551  2015      1    7  Weekend   900.0          2-Car   \n",
       "4             902364615  2015      1    7  Weekend  1100.0          2-Car   \n",
       "\n",
       "          Injury Type                         Primary Factor  \\\n",
       "0   No injury/unknown  OTHER (DRIVER) - EXPLAIN IN NARRATIVE   \n",
       "1   No injury/unknown                  FOLLOWING TOO CLOSELY   \n",
       "2  Non-incapacitating              DISREGARD SIGNAL/REG SIGN   \n",
       "3  Non-incapacitating          FAILURE TO YIELD RIGHT OF WAY   \n",
       "4   No injury/unknown          FAILURE TO YIELD RIGHT OF WAY   \n",
       "\n",
       "       Reported_Location   Latitude  Longitude                        ll  \\\n",
       "0             1ST & FESS  39.159207 -86.525874  39.15920668,-86.52587356   \n",
       "1          2ND & COLLEGE  39.161440 -86.534848       39.16144,-86.534848   \n",
       "2  BASSWOOD & BLOOMFIELD  39.149780 -86.568890  39.14978027,-86.56889006   \n",
       "3         GATES & JACOBS  39.165655 -86.575956    39.165655,-86.57595635   \n",
       "4                  W 3RD  39.164848 -86.579625    39.164848,-86.57962482   \n",
       "\n",
       "   n_bars  \n",
       "0      20  \n",
       "1      20  \n",
       "2      20  \n",
       "3      20  \n",
       "4      20  "
      ]
     },
     "execution_count": 29,
     "metadata": {},
     "output_type": "execute_result"
    }
   ],
   "source": [
    "selected.head(5)"
   ]
  },
  {
   "cell_type": "code",
   "execution_count": 30,
   "metadata": {},
   "outputs": [
    {
     "name": "stderr",
     "output_type": "stream",
     "text": [
      "<ipython-input-30-2c048bdbc2fb>:2: SettingWithCopyWarning: \n",
      "A value is trying to be set on a copy of a slice from a DataFrame.\n",
      "Try using .loc[row_indexer,col_indexer] = value instead\n",
      "\n",
      "See the caveats in the documentation: https://pandas.pydata.org/pandas-docs/stable/user_guide/indexing.html#returning-a-view-versus-a-copy\n",
      "  selected[\"severity\"] = 0\n",
      "/opt/anaconda3/lib/python3.8/site-packages/pandas/core/indexing.py:965: SettingWithCopyWarning: \n",
      "A value is trying to be set on a copy of a slice from a DataFrame.\n",
      "Try using .loc[row_indexer,col_indexer] = value instead\n",
      "\n",
      "See the caveats in the documentation: https://pandas.pydata.org/pandas-docs/stable/user_guide/indexing.html#returning-a-view-versus-a-copy\n",
      "  self.obj[item] = s\n"
     ]
    }
   ],
   "source": [
    "#check columns and replace values\n",
    "selected[\"Injury Type\"].unique()\n",
    "selected[\"severity\"] = 0\n",
    "selected.loc[selected[\"Injury Type\"] == 'Non-incapacitating',\"severity\"] = 1\n",
    "selected.loc[selected[\"Injury Type\"] == 'Incapacitating',\"severity\"] = 2\n",
    "selected.loc[selected[\"Injury Type\"] == 'Fatal',\"severity\"] = 3"
   ]
  },
  {
   "cell_type": "code",
   "execution_count": 31,
   "metadata": {},
   "outputs": [
    {
     "data": {
      "text/html": [
       "<div>\n",
       "<style scoped>\n",
       "    .dataframe tbody tr th:only-of-type {\n",
       "        vertical-align: middle;\n",
       "    }\n",
       "\n",
       "    .dataframe tbody tr th {\n",
       "        vertical-align: top;\n",
       "    }\n",
       "\n",
       "    .dataframe thead th {\n",
       "        text-align: right;\n",
       "    }\n",
       "</style>\n",
       "<table border=\"1\" class=\"dataframe\">\n",
       "  <thead>\n",
       "    <tr style=\"text-align: right;\">\n",
       "      <th></th>\n",
       "      <th>Master Record Number</th>\n",
       "      <th>Year</th>\n",
       "      <th>Month</th>\n",
       "      <th>Day</th>\n",
       "      <th>Weekend?</th>\n",
       "      <th>Hour</th>\n",
       "      <th>Collision Type</th>\n",
       "      <th>Injury Type</th>\n",
       "      <th>Primary Factor</th>\n",
       "      <th>Reported_Location</th>\n",
       "      <th>Latitude</th>\n",
       "      <th>Longitude</th>\n",
       "      <th>ll</th>\n",
       "      <th>n_bars</th>\n",
       "      <th>severity</th>\n",
       "    </tr>\n",
       "  </thead>\n",
       "  <tbody>\n",
       "    <tr>\n",
       "      <th>0</th>\n",
       "      <td>902363382</td>\n",
       "      <td>2015</td>\n",
       "      <td>1</td>\n",
       "      <td>5</td>\n",
       "      <td>Weekday</td>\n",
       "      <td>0.0</td>\n",
       "      <td>2-Car</td>\n",
       "      <td>No injury/unknown</td>\n",
       "      <td>OTHER (DRIVER) - EXPLAIN IN NARRATIVE</td>\n",
       "      <td>1ST &amp; FESS</td>\n",
       "      <td>39.159207</td>\n",
       "      <td>-86.525874</td>\n",
       "      <td>39.15920668,-86.52587356</td>\n",
       "      <td>20</td>\n",
       "      <td>0</td>\n",
       "    </tr>\n",
       "    <tr>\n",
       "      <th>1</th>\n",
       "      <td>902364268</td>\n",
       "      <td>2015</td>\n",
       "      <td>1</td>\n",
       "      <td>6</td>\n",
       "      <td>Weekday</td>\n",
       "      <td>1500.0</td>\n",
       "      <td>2-Car</td>\n",
       "      <td>No injury/unknown</td>\n",
       "      <td>FOLLOWING TOO CLOSELY</td>\n",
       "      <td>2ND &amp; COLLEGE</td>\n",
       "      <td>39.161440</td>\n",
       "      <td>-86.534848</td>\n",
       "      <td>39.16144,-86.534848</td>\n",
       "      <td>20</td>\n",
       "      <td>0</td>\n",
       "    </tr>\n",
       "    <tr>\n",
       "      <th>2</th>\n",
       "      <td>902364412</td>\n",
       "      <td>2015</td>\n",
       "      <td>1</td>\n",
       "      <td>6</td>\n",
       "      <td>Weekend</td>\n",
       "      <td>2300.0</td>\n",
       "      <td>2-Car</td>\n",
       "      <td>Non-incapacitating</td>\n",
       "      <td>DISREGARD SIGNAL/REG SIGN</td>\n",
       "      <td>BASSWOOD &amp; BLOOMFIELD</td>\n",
       "      <td>39.149780</td>\n",
       "      <td>-86.568890</td>\n",
       "      <td>39.14978027,-86.56889006</td>\n",
       "      <td>20</td>\n",
       "      <td>1</td>\n",
       "    </tr>\n",
       "    <tr>\n",
       "      <th>3</th>\n",
       "      <td>902364551</td>\n",
       "      <td>2015</td>\n",
       "      <td>1</td>\n",
       "      <td>7</td>\n",
       "      <td>Weekend</td>\n",
       "      <td>900.0</td>\n",
       "      <td>2-Car</td>\n",
       "      <td>Non-incapacitating</td>\n",
       "      <td>FAILURE TO YIELD RIGHT OF WAY</td>\n",
       "      <td>GATES &amp; JACOBS</td>\n",
       "      <td>39.165655</td>\n",
       "      <td>-86.575956</td>\n",
       "      <td>39.165655,-86.57595635</td>\n",
       "      <td>20</td>\n",
       "      <td>1</td>\n",
       "    </tr>\n",
       "    <tr>\n",
       "      <th>4</th>\n",
       "      <td>902364615</td>\n",
       "      <td>2015</td>\n",
       "      <td>1</td>\n",
       "      <td>7</td>\n",
       "      <td>Weekend</td>\n",
       "      <td>1100.0</td>\n",
       "      <td>2-Car</td>\n",
       "      <td>No injury/unknown</td>\n",
       "      <td>FAILURE TO YIELD RIGHT OF WAY</td>\n",
       "      <td>W 3RD</td>\n",
       "      <td>39.164848</td>\n",
       "      <td>-86.579625</td>\n",
       "      <td>39.164848,-86.57962482</td>\n",
       "      <td>20</td>\n",
       "      <td>0</td>\n",
       "    </tr>\n",
       "    <tr>\n",
       "      <th>...</th>\n",
       "      <td>...</td>\n",
       "      <td>...</td>\n",
       "      <td>...</td>\n",
       "      <td>...</td>\n",
       "      <td>...</td>\n",
       "      <td>...</td>\n",
       "      <td>...</td>\n",
       "      <td>...</td>\n",
       "      <td>...</td>\n",
       "      <td>...</td>\n",
       "      <td>...</td>\n",
       "      <td>...</td>\n",
       "      <td>...</td>\n",
       "      <td>...</td>\n",
       "      <td>...</td>\n",
       "    </tr>\n",
       "    <tr>\n",
       "      <th>1067</th>\n",
       "      <td>902418005</td>\n",
       "      <td>2015</td>\n",
       "      <td>3</td>\n",
       "      <td>2</td>\n",
       "      <td>Weekday</td>\n",
       "      <td>1600.0</td>\n",
       "      <td>2-Car</td>\n",
       "      <td>No injury/unknown</td>\n",
       "      <td>FOLLOWING TOO CLOSELY</td>\n",
       "      <td>SR37S &amp; TAPP</td>\n",
       "      <td>39.137040</td>\n",
       "      <td>-86.572896</td>\n",
       "      <td>39.13704,-86.572896</td>\n",
       "      <td>20</td>\n",
       "      <td>0</td>\n",
       "    </tr>\n",
       "    <tr>\n",
       "      <th>1068</th>\n",
       "      <td>902418014</td>\n",
       "      <td>2015</td>\n",
       "      <td>3</td>\n",
       "      <td>2</td>\n",
       "      <td>Weekday</td>\n",
       "      <td>1800.0</td>\n",
       "      <td>2-Car</td>\n",
       "      <td>No injury/unknown</td>\n",
       "      <td>UNSAFE BACKING</td>\n",
       "      <td>W 17TH</td>\n",
       "      <td>39.178960</td>\n",
       "      <td>-86.534720</td>\n",
       "      <td>39.17896,-86.53472</td>\n",
       "      <td>20</td>\n",
       "      <td>0</td>\n",
       "    </tr>\n",
       "    <tr>\n",
       "      <th>1069</th>\n",
       "      <td>902418058</td>\n",
       "      <td>2015</td>\n",
       "      <td>3</td>\n",
       "      <td>2</td>\n",
       "      <td>Weekday</td>\n",
       "      <td>2200.0</td>\n",
       "      <td>2-Car</td>\n",
       "      <td>No injury/unknown</td>\n",
       "      <td>FAILURE TO YIELD RIGHT OF WAY</td>\n",
       "      <td>7TH &amp; WALNUT</td>\n",
       "      <td>39.168640</td>\n",
       "      <td>-86.533568</td>\n",
       "      <td>39.16864,-86.533568</td>\n",
       "      <td>20</td>\n",
       "      <td>0</td>\n",
       "    </tr>\n",
       "    <tr>\n",
       "      <th>1070</th>\n",
       "      <td>902418409</td>\n",
       "      <td>2015</td>\n",
       "      <td>3</td>\n",
       "      <td>3</td>\n",
       "      <td>Weekday</td>\n",
       "      <td>1100.0</td>\n",
       "      <td>2-Car</td>\n",
       "      <td>No injury/unknown</td>\n",
       "      <td>FOLLOWING TOO CLOSELY</td>\n",
       "      <td>W 3RD &amp; WESTPLEX</td>\n",
       "      <td>39.164410</td>\n",
       "      <td>-86.553900</td>\n",
       "      <td>39.16440971,-86.55389986</td>\n",
       "      <td>20</td>\n",
       "      <td>0</td>\n",
       "    </tr>\n",
       "    <tr>\n",
       "      <th>1071</th>\n",
       "      <td>902418410</td>\n",
       "      <td>2015</td>\n",
       "      <td>3</td>\n",
       "      <td>3</td>\n",
       "      <td>Weekday</td>\n",
       "      <td>1100.0</td>\n",
       "      <td>2-Car</td>\n",
       "      <td>No injury/unknown</td>\n",
       "      <td>IMPROPER LANE USAGE</td>\n",
       "      <td>3RD &amp; WALNUT</td>\n",
       "      <td>39.164640</td>\n",
       "      <td>-86.533600</td>\n",
       "      <td>39.164640000000006,-86.5336</td>\n",
       "      <td>20</td>\n",
       "      <td>0</td>\n",
       "    </tr>\n",
       "  </tbody>\n",
       "</table>\n",
       "<p>1000 rows × 15 columns</p>\n",
       "</div>"
      ],
      "text/plain": [
       "      Master Record Number  Year  Month  Day Weekend?    Hour Collision Type  \\\n",
       "0                902363382  2015      1    5  Weekday     0.0          2-Car   \n",
       "1                902364268  2015      1    6  Weekday  1500.0          2-Car   \n",
       "2                902364412  2015      1    6  Weekend  2300.0          2-Car   \n",
       "3                902364551  2015      1    7  Weekend   900.0          2-Car   \n",
       "4                902364615  2015      1    7  Weekend  1100.0          2-Car   \n",
       "...                    ...   ...    ...  ...      ...     ...            ...   \n",
       "1067             902418005  2015      3    2  Weekday  1600.0          2-Car   \n",
       "1068             902418014  2015      3    2  Weekday  1800.0          2-Car   \n",
       "1069             902418058  2015      3    2  Weekday  2200.0          2-Car   \n",
       "1070             902418409  2015      3    3  Weekday  1100.0          2-Car   \n",
       "1071             902418410  2015      3    3  Weekday  1100.0          2-Car   \n",
       "\n",
       "             Injury Type                         Primary Factor  \\\n",
       "0      No injury/unknown  OTHER (DRIVER) - EXPLAIN IN NARRATIVE   \n",
       "1      No injury/unknown                  FOLLOWING TOO CLOSELY   \n",
       "2     Non-incapacitating              DISREGARD SIGNAL/REG SIGN   \n",
       "3     Non-incapacitating          FAILURE TO YIELD RIGHT OF WAY   \n",
       "4      No injury/unknown          FAILURE TO YIELD RIGHT OF WAY   \n",
       "...                  ...                                    ...   \n",
       "1067   No injury/unknown                  FOLLOWING TOO CLOSELY   \n",
       "1068   No injury/unknown                         UNSAFE BACKING   \n",
       "1069   No injury/unknown          FAILURE TO YIELD RIGHT OF WAY   \n",
       "1070   No injury/unknown                  FOLLOWING TOO CLOSELY   \n",
       "1071   No injury/unknown                    IMPROPER LANE USAGE   \n",
       "\n",
       "          Reported_Location   Latitude  Longitude  \\\n",
       "0                1ST & FESS  39.159207 -86.525874   \n",
       "1             2ND & COLLEGE  39.161440 -86.534848   \n",
       "2     BASSWOOD & BLOOMFIELD  39.149780 -86.568890   \n",
       "3            GATES & JACOBS  39.165655 -86.575956   \n",
       "4                     W 3RD  39.164848 -86.579625   \n",
       "...                     ...        ...        ...   \n",
       "1067           SR37S & TAPP  39.137040 -86.572896   \n",
       "1068                 W 17TH  39.178960 -86.534720   \n",
       "1069           7TH & WALNUT  39.168640 -86.533568   \n",
       "1070       W 3RD & WESTPLEX  39.164410 -86.553900   \n",
       "1071           3RD & WALNUT  39.164640 -86.533600   \n",
       "\n",
       "                               ll  n_bars  severity  \n",
       "0        39.15920668,-86.52587356      20         0  \n",
       "1             39.16144,-86.534848      20         0  \n",
       "2        39.14978027,-86.56889006      20         1  \n",
       "3          39.165655,-86.57595635      20         1  \n",
       "4          39.164848,-86.57962482      20         0  \n",
       "...                           ...     ...       ...  \n",
       "1067          39.13704,-86.572896      20         0  \n",
       "1068           39.17896,-86.53472      20         0  \n",
       "1069          39.16864,-86.533568      20         0  \n",
       "1070     39.16440971,-86.55389986      20         0  \n",
       "1071  39.164640000000006,-86.5336      20         0  \n",
       "\n",
       "[1000 rows x 15 columns]"
      ]
     },
     "execution_count": 31,
     "metadata": {},
     "output_type": "execute_result"
    }
   ],
   "source": [
    "#view dataframe\n",
    "selected"
   ]
  },
  {
   "cell_type": "code",
   "execution_count": 34,
   "metadata": {},
   "outputs": [
    {
     "data": {
      "text/plain": [
       "array(['No injury/unknown', 'Non-incapacitating', 'Incapacitating',\n",
       "       'Fatal'], dtype=object)"
      ]
     },
     "execution_count": 34,
     "metadata": {},
     "output_type": "execute_result"
    }
   ],
   "source": [
    "#find unique values for Injury type\n",
    "selected['Injury Type'].unique()"
   ]
  },
  {
   "cell_type": "code",
   "execution_count": 35,
   "metadata": {},
   "outputs": [
    {
     "name": "stderr",
     "output_type": "stream",
     "text": [
      "<ipython-input-35-3210e56bcd15>:1: SettingWithCopyWarning: \n",
      "A value is trying to be set on a copy of a slice from a DataFrame.\n",
      "Try using .loc[row_indexer,col_indexer] = value instead\n",
      "\n",
      "See the caveats in the documentation: https://pandas.pydata.org/pandas-docs/stable/user_guide/indexing.html#returning-a-view-versus-a-copy\n",
      "  selected[\"severity\"] = 0\n",
      "/opt/anaconda3/lib/python3.8/site-packages/pandas/core/indexing.py:965: SettingWithCopyWarning: \n",
      "A value is trying to be set on a copy of a slice from a DataFrame.\n",
      "Try using .loc[row_indexer,col_indexer] = value instead\n",
      "\n",
      "See the caveats in the documentation: https://pandas.pydata.org/pandas-docs/stable/user_guide/indexing.html#returning-a-view-versus-a-copy\n",
      "  self.obj[item] = s\n"
     ]
    }
   ],
   "source": [
    "#create severity column equal to 0 and add values\n",
    "selected[\"severity\"] = 0\n",
    "selected.loc[selected[\"Injury Type\"] == 'No injury/unknown',\"severity\"] = 1\n",
    "selected.loc[selected[\"Injury Type\"] == 'Non-incapacitating',\"severity\"] = 2\n",
    "selected.loc[selected[\"Injury Type\"] == 'Incapacitating',\"severity\"] = 3\n",
    "selected.loc[selected[\"Injury Type\"] == 'Incapacitating',\"severity\"] = 4"
   ]
  },
  {
   "cell_type": "code",
   "execution_count": 38,
   "metadata": {},
   "outputs": [
    {
     "data": {
      "text/html": [
       "<div>\n",
       "<style scoped>\n",
       "    .dataframe tbody tr th:only-of-type {\n",
       "        vertical-align: middle;\n",
       "    }\n",
       "\n",
       "    .dataframe tbody tr th {\n",
       "        vertical-align: top;\n",
       "    }\n",
       "\n",
       "    .dataframe thead th {\n",
       "        text-align: right;\n",
       "    }\n",
       "</style>\n",
       "<table border=\"1\" class=\"dataframe\">\n",
       "  <thead>\n",
       "    <tr style=\"text-align: right;\">\n",
       "      <th></th>\n",
       "      <th>severity</th>\n",
       "      <th>n_bars</th>\n",
       "    </tr>\n",
       "  </thead>\n",
       "  <tbody>\n",
       "    <tr>\n",
       "      <th>severity</th>\n",
       "      <td>1.000000</td>\n",
       "      <td>-0.027427</td>\n",
       "    </tr>\n",
       "    <tr>\n",
       "      <th>n_bars</th>\n",
       "      <td>-0.027427</td>\n",
       "      <td>1.000000</td>\n",
       "    </tr>\n",
       "  </tbody>\n",
       "</table>\n",
       "</div>"
      ],
      "text/plain": [
       "          severity    n_bars\n",
       "severity  1.000000 -0.027427\n",
       "n_bars   -0.027427  1.000000"
      ]
     },
     "execution_count": 38,
     "metadata": {},
     "output_type": "execute_result"
    }
   ],
   "source": [
    "#Correlation between severity and number of bars\n",
    "selected[['severity',\"n_bars\"]].corr()"
   ]
  },
  {
   "cell_type": "code",
   "execution_count": 41,
   "metadata": {},
   "outputs": [
    {
     "data": {
      "text/plain": [
       "<AxesSubplot:xlabel='Injury Type'>"
      ]
     },
     "execution_count": 41,
     "metadata": {},
     "output_type": "execute_result"
    },
    {
     "data": {
      "image/png": "[encoded data removed]",
      "text/plain": [
       "<Figure size 432x288 with 1 Axes>"
      ]
     },
     "metadata": {
      "needs_background": "light"
     },
     "output_type": "display_data"
    }
   ],
   "source": [
    "#plot injury type with number of bars\n",
    "selected.plot.bar(x='Injury Type', y = 'n_bars', rot=0)"
   ]
  },
  {
   "cell_type": "markdown",
   "metadata": {},
   "source": [
    "# World Weather Online API\n",
    "\n",
    "World Weather Online API is [here](https://www.worldweatheronline.com/developer/api/historical-weather-api.aspx)\n",
    "\n",
    "1. Sign up for FREE api key if you haven't done that before (it's free for **30 days**).\n",
    "2. For each crush, get the weather for the location and date.\n",
    "3. Find a relationship between the weather and severity of the crash.\n",
    "\n",
    "Hints:\n",
    "\n",
    "* pull weather only for smaller sample of crashes (250 or so) due to API limits\n",
    "* for sending HTTP requests check out \"requests\" library [here](http://docs.python-requests.org/en/master/)\n"
   ]
  },
  {
   "cell_type": "code",
   "execution_count": 57,
   "metadata": {},
   "outputs": [],
   "source": [
    "#import libraries\n",
    "import requests as r\n",
    "import json\n",
    "import time\n",
    "import datetime\n",
    "import pandas as pd\n",
    "from api_keys import WWorld\n",
    "api_key = WWorld"
   ]
  },
  {
   "cell_type": "code",
   "execution_count": 76,
   "metadata": {},
   "outputs": [
    {
     "data": {
      "text/html": [
       "<div>\n",
       "<style scoped>\n",
       "    .dataframe tbody tr th:only-of-type {\n",
       "        vertical-align: middle;\n",
       "    }\n",
       "\n",
       "    .dataframe tbody tr th {\n",
       "        vertical-align: top;\n",
       "    }\n",
       "\n",
       "    .dataframe thead th {\n",
       "        text-align: right;\n",
       "    }\n",
       "</style>\n",
       "<table border=\"1\" class=\"dataframe\">\n",
       "  <thead>\n",
       "    <tr style=\"text-align: right;\">\n",
       "      <th></th>\n",
       "      <th>Master Record Number</th>\n",
       "      <th>Year</th>\n",
       "      <th>Month</th>\n",
       "      <th>Day</th>\n",
       "      <th>Weekend?</th>\n",
       "      <th>Hour</th>\n",
       "      <th>Collision Type</th>\n",
       "      <th>Injury Type</th>\n",
       "      <th>Primary Factor</th>\n",
       "      <th>Reported_Location</th>\n",
       "      <th>Latitude</th>\n",
       "      <th>Longitude</th>\n",
       "      <th>ll</th>\n",
       "    </tr>\n",
       "  </thead>\n",
       "  <tbody>\n",
       "    <tr>\n",
       "      <th>0</th>\n",
       "      <td>902363382</td>\n",
       "      <td>2015</td>\n",
       "      <td>1</td>\n",
       "      <td>5</td>\n",
       "      <td>Weekday</td>\n",
       "      <td>0.0</td>\n",
       "      <td>2-Car</td>\n",
       "      <td>No injury/unknown</td>\n",
       "      <td>OTHER (DRIVER) - EXPLAIN IN NARRATIVE</td>\n",
       "      <td>1ST &amp; FESS</td>\n",
       "      <td>39.159207</td>\n",
       "      <td>-86.525874</td>\n",
       "      <td>39.15920668,-86.52587356</td>\n",
       "    </tr>\n",
       "    <tr>\n",
       "      <th>1</th>\n",
       "      <td>902364268</td>\n",
       "      <td>2015</td>\n",
       "      <td>1</td>\n",
       "      <td>6</td>\n",
       "      <td>Weekday</td>\n",
       "      <td>1500.0</td>\n",
       "      <td>2-Car</td>\n",
       "      <td>No injury/unknown</td>\n",
       "      <td>FOLLOWING TOO CLOSELY</td>\n",
       "      <td>2ND &amp; COLLEGE</td>\n",
       "      <td>39.161440</td>\n",
       "      <td>-86.534848</td>\n",
       "      <td>39.16144,-86.534848</td>\n",
       "    </tr>\n",
       "    <tr>\n",
       "      <th>2</th>\n",
       "      <td>902364412</td>\n",
       "      <td>2015</td>\n",
       "      <td>1</td>\n",
       "      <td>6</td>\n",
       "      <td>Weekend</td>\n",
       "      <td>2300.0</td>\n",
       "      <td>2-Car</td>\n",
       "      <td>Non-incapacitating</td>\n",
       "      <td>DISREGARD SIGNAL/REG SIGN</td>\n",
       "      <td>BASSWOOD &amp; BLOOMFIELD</td>\n",
       "      <td>39.149780</td>\n",
       "      <td>-86.568890</td>\n",
       "      <td>39.14978027,-86.56889006</td>\n",
       "    </tr>\n",
       "    <tr>\n",
       "      <th>3</th>\n",
       "      <td>902364551</td>\n",
       "      <td>2015</td>\n",
       "      <td>1</td>\n",
       "      <td>7</td>\n",
       "      <td>Weekend</td>\n",
       "      <td>900.0</td>\n",
       "      <td>2-Car</td>\n",
       "      <td>Non-incapacitating</td>\n",
       "      <td>FAILURE TO YIELD RIGHT OF WAY</td>\n",
       "      <td>GATES &amp; JACOBS</td>\n",
       "      <td>39.165655</td>\n",
       "      <td>-86.575956</td>\n",
       "      <td>39.165655,-86.57595635</td>\n",
       "    </tr>\n",
       "    <tr>\n",
       "      <th>4</th>\n",
       "      <td>902364615</td>\n",
       "      <td>2015</td>\n",
       "      <td>1</td>\n",
       "      <td>7</td>\n",
       "      <td>Weekend</td>\n",
       "      <td>1100.0</td>\n",
       "      <td>2-Car</td>\n",
       "      <td>No injury/unknown</td>\n",
       "      <td>FAILURE TO YIELD RIGHT OF WAY</td>\n",
       "      <td>W 3RD</td>\n",
       "      <td>39.164848</td>\n",
       "      <td>-86.579625</td>\n",
       "      <td>39.164848,-86.57962482</td>\n",
       "    </tr>\n",
       "  </tbody>\n",
       "</table>\n",
       "</div>"
      ],
      "text/plain": [
       "   Master Record Number  Year  Month  Day Weekend?    Hour Collision Type  \\\n",
       "0             902363382  2015      1    5  Weekday     0.0          2-Car   \n",
       "1             902364268  2015      1    6  Weekday  1500.0          2-Car   \n",
       "2             902364412  2015      1    6  Weekend  2300.0          2-Car   \n",
       "3             902364551  2015      1    7  Weekend   900.0          2-Car   \n",
       "4             902364615  2015      1    7  Weekend  1100.0          2-Car   \n",
       "\n",
       "          Injury Type                         Primary Factor  \\\n",
       "0   No injury/unknown  OTHER (DRIVER) - EXPLAIN IN NARRATIVE   \n",
       "1   No injury/unknown                  FOLLOWING TOO CLOSELY   \n",
       "2  Non-incapacitating              DISREGARD SIGNAL/REG SIGN   \n",
       "3  Non-incapacitating          FAILURE TO YIELD RIGHT OF WAY   \n",
       "4   No injury/unknown          FAILURE TO YIELD RIGHT OF WAY   \n",
       "\n",
       "       Reported_Location   Latitude  Longitude                        ll  \n",
       "0             1ST & FESS  39.159207 -86.525874  39.15920668,-86.52587356  \n",
       "1          2ND & COLLEGE  39.161440 -86.534848       39.16144,-86.534848  \n",
       "2  BASSWOOD & BLOOMFIELD  39.149780 -86.568890  39.14978027,-86.56889006  \n",
       "3         GATES & JACOBS  39.165655 -86.575956    39.165655,-86.57595635  \n",
       "4                  W 3RD  39.164848 -86.579625    39.164848,-86.57962482  "
      ]
     },
     "execution_count": 76,
     "metadata": {},
     "output_type": "execute_result"
    }
   ],
   "source": [
    "#view data\n",
    "weather_data = data[0:117]\n",
    "weather_data.head()"
   ]
  },
  {
   "cell_type": "code",
   "execution_count": 59,
   "metadata": {},
   "outputs": [
    {
     "name": "stderr",
     "output_type": "stream",
     "text": [
      "<ipython-input-59-b2adc672bcdb>:1: SettingWithCopyWarning: \n",
      "A value is trying to be set on a copy of a slice from a DataFrame.\n",
      "Try using .loc[row_indexer,col_indexer] = value instead\n",
      "\n",
      "See the caveats in the documentation: https://pandas.pydata.org/pandas-docs/stable/user_guide/indexing.html#returning-a-view-versus-a-copy\n",
      "  weather_data['Date']= weather_data['Year'].astype(str)+'-'+weather_data['Month'].astype(str)+'-'+weather_data['Day'].astype(str)\n"
     ]
    }
   ],
   "source": [
    "#create date column\n",
    "weather_data['Date']= weather_data['Year'].astype(str)+'-'+weather_data['Month'].astype(str)+'-'+weather_data['Day'].astype(str)"
   ]
  },
  {
   "cell_type": "code",
   "execution_count": 46,
   "metadata": {},
   "outputs": [
    {
     "data": {
      "text/html": [
       "<div>\n",
       "<style scoped>\n",
       "    .dataframe tbody tr th:only-of-type {\n",
       "        vertical-align: middle;\n",
       "    }\n",
       "\n",
       "    .dataframe tbody tr th {\n",
       "        vertical-align: top;\n",
       "    }\n",
       "\n",
       "    .dataframe thead th {\n",
       "        text-align: right;\n",
       "    }\n",
       "</style>\n",
       "<table border=\"1\" class=\"dataframe\">\n",
       "  <thead>\n",
       "    <tr style=\"text-align: right;\">\n",
       "      <th></th>\n",
       "      <th>Master Record Number</th>\n",
       "      <th>Year</th>\n",
       "      <th>Month</th>\n",
       "      <th>Day</th>\n",
       "      <th>Weekend?</th>\n",
       "      <th>Hour</th>\n",
       "      <th>Collision Type</th>\n",
       "      <th>Injury Type</th>\n",
       "      <th>Primary Factor</th>\n",
       "      <th>Reported_Location</th>\n",
       "      <th>Latitude</th>\n",
       "      <th>Longitude</th>\n",
       "      <th>ll</th>\n",
       "      <th>Date</th>\n",
       "    </tr>\n",
       "  </thead>\n",
       "  <tbody>\n",
       "    <tr>\n",
       "      <th>0</th>\n",
       "      <td>902363382</td>\n",
       "      <td>2015</td>\n",
       "      <td>1</td>\n",
       "      <td>5</td>\n",
       "      <td>Weekday</td>\n",
       "      <td>0.0</td>\n",
       "      <td>2-Car</td>\n",
       "      <td>No injury/unknown</td>\n",
       "      <td>OTHER (DRIVER) - EXPLAIN IN NARRATIVE</td>\n",
       "      <td>1ST &amp; FESS</td>\n",
       "      <td>39.159207</td>\n",
       "      <td>-86.525874</td>\n",
       "      <td>39.15920668,-86.52587356</td>\n",
       "      <td>2015-1-5</td>\n",
       "    </tr>\n",
       "    <tr>\n",
       "      <th>1</th>\n",
       "      <td>902364268</td>\n",
       "      <td>2015</td>\n",
       "      <td>1</td>\n",
       "      <td>6</td>\n",
       "      <td>Weekday</td>\n",
       "      <td>1500.0</td>\n",
       "      <td>2-Car</td>\n",
       "      <td>No injury/unknown</td>\n",
       "      <td>FOLLOWING TOO CLOSELY</td>\n",
       "      <td>2ND &amp; COLLEGE</td>\n",
       "      <td>39.161440</td>\n",
       "      <td>-86.534848</td>\n",
       "      <td>39.16144,-86.534848</td>\n",
       "      <td>2015-1-6</td>\n",
       "    </tr>\n",
       "    <tr>\n",
       "      <th>2</th>\n",
       "      <td>902364412</td>\n",
       "      <td>2015</td>\n",
       "      <td>1</td>\n",
       "      <td>6</td>\n",
       "      <td>Weekend</td>\n",
       "      <td>2300.0</td>\n",
       "      <td>2-Car</td>\n",
       "      <td>Non-incapacitating</td>\n",
       "      <td>DISREGARD SIGNAL/REG SIGN</td>\n",
       "      <td>BASSWOOD &amp; BLOOMFIELD</td>\n",
       "      <td>39.149780</td>\n",
       "      <td>-86.568890</td>\n",
       "      <td>39.14978027,-86.56889006</td>\n",
       "      <td>2015-1-6</td>\n",
       "    </tr>\n",
       "    <tr>\n",
       "      <th>3</th>\n",
       "      <td>902364551</td>\n",
       "      <td>2015</td>\n",
       "      <td>1</td>\n",
       "      <td>7</td>\n",
       "      <td>Weekend</td>\n",
       "      <td>900.0</td>\n",
       "      <td>2-Car</td>\n",
       "      <td>Non-incapacitating</td>\n",
       "      <td>FAILURE TO YIELD RIGHT OF WAY</td>\n",
       "      <td>GATES &amp; JACOBS</td>\n",
       "      <td>39.165655</td>\n",
       "      <td>-86.575956</td>\n",
       "      <td>39.165655,-86.57595635</td>\n",
       "      <td>2015-1-7</td>\n",
       "    </tr>\n",
       "    <tr>\n",
       "      <th>4</th>\n",
       "      <td>902364615</td>\n",
       "      <td>2015</td>\n",
       "      <td>1</td>\n",
       "      <td>7</td>\n",
       "      <td>Weekend</td>\n",
       "      <td>1100.0</td>\n",
       "      <td>2-Car</td>\n",
       "      <td>No injury/unknown</td>\n",
       "      <td>FAILURE TO YIELD RIGHT OF WAY</td>\n",
       "      <td>W 3RD</td>\n",
       "      <td>39.164848</td>\n",
       "      <td>-86.579625</td>\n",
       "      <td>39.164848,-86.57962482</td>\n",
       "      <td>2015-1-7</td>\n",
       "    </tr>\n",
       "  </tbody>\n",
       "</table>\n",
       "</div>"
      ],
      "text/plain": [
       "   Master Record Number  Year  Month  Day Weekend?    Hour Collision Type  \\\n",
       "0             902363382  2015      1    5  Weekday     0.0          2-Car   \n",
       "1             902364268  2015      1    6  Weekday  1500.0          2-Car   \n",
       "2             902364412  2015      1    6  Weekend  2300.0          2-Car   \n",
       "3             902364551  2015      1    7  Weekend   900.0          2-Car   \n",
       "4             902364615  2015      1    7  Weekend  1100.0          2-Car   \n",
       "\n",
       "          Injury Type                         Primary Factor  \\\n",
       "0   No injury/unknown  OTHER (DRIVER) - EXPLAIN IN NARRATIVE   \n",
       "1   No injury/unknown                  FOLLOWING TOO CLOSELY   \n",
       "2  Non-incapacitating              DISREGARD SIGNAL/REG SIGN   \n",
       "3  Non-incapacitating          FAILURE TO YIELD RIGHT OF WAY   \n",
       "4   No injury/unknown          FAILURE TO YIELD RIGHT OF WAY   \n",
       "\n",
       "       Reported_Location   Latitude  Longitude                        ll  \\\n",
       "0             1ST & FESS  39.159207 -86.525874  39.15920668,-86.52587356   \n",
       "1          2ND & COLLEGE  39.161440 -86.534848       39.16144,-86.534848   \n",
       "2  BASSWOOD & BLOOMFIELD  39.149780 -86.568890  39.14978027,-86.56889006   \n",
       "3         GATES & JACOBS  39.165655 -86.575956    39.165655,-86.57595635   \n",
       "4                  W 3RD  39.164848 -86.579625    39.164848,-86.57962482   \n",
       "\n",
       "       Date  \n",
       "0  2015-1-5  \n",
       "1  2015-1-6  \n",
       "2  2015-1-6  \n",
       "3  2015-1-7  \n",
       "4  2015-1-7  "
      ]
     },
     "execution_count": 46,
     "metadata": {},
     "output_type": "execute_result"
    }
   ],
   "source": [
    "#check column\n",
    "weather_data.head(5)"
   ]
  },
  {
   "cell_type": "code",
   "execution_count": 60,
   "metadata": {},
   "outputs": [],
   "source": [
    "#create variable of diction containing long,lat and date\n",
    "w_dic = dict(zip(weather_data.ll, weather_data.Date))"
   ]
  },
  {
   "cell_type": "code",
   "execution_count": 61,
   "metadata": {},
   "outputs": [
    {
     "name": "stdout",
     "output_type": "stream",
     "text": [
      "200\n"
     ]
    },
    {
     "data": {
      "application/json": {
       "data": {
        "request": [
         {
          "query": "Lat 39.78 and Lon -86.15",
          "type": "LatLon"
         }
        ],
        "weather": [
         {
          "astronomy": [
           {
            "moon_illumination": "99",
            "moon_phase": "Waxing Gibbous",
            "moonrise": "06:28 PM",
            "moonset": "08:02 AM",
            "sunrise": "08:06 AM",
            "sunset": "05:34 PM"
           }
          ],
          "avgtempC": "-11",
          "avgtempF": "12",
          "date": "2015-01-05",
          "hourly": [
           {
            "DewPointC": "-15",
            "DewPointF": "4",
            "FeelsLikeC": "-20",
            "FeelsLikeF": "-3",
            "HeatIndexC": "-10",
            "HeatIndexF": "13",
            "WindChillC": "-20",
            "WindChillF": "-3",
            "WindGustKmph": "29",
            "WindGustMiles": "18",
            "cloudcover": "4",
            "humidity": "67",
            "precipInches": "0.0",
            "precipMM": "0.0",
            "pressure": "1034",
            "pressureInches": "31",
            "tempC": "-10",
            "tempF": "13",
            "time": "0",
            "uvIndex": "1",
            "visibility": "10",
            "visibilityMiles": "6",
            "weatherCode": "113",
            "weatherDesc": [
             {
              "value": "Clear"
             }
            ],
            "weatherIconUrl": [
             {
              "value": "http://cdn.worldweatheronline.com/images/wsymbols01_png_64/wsymbol_0008_clear_sky_night.png"
             }
            ],
            "winddir16Point": "WNW",
            "winddirDegree": "290",
            "windspeedKmph": "21",
            "windspeedMiles": "13"
           },
           {
            "DewPointC": "-17",
            "DewPointF": "2",
            "FeelsLikeC": "-21",
            "FeelsLikeF": "-5",
            "HeatIndexC": "-11",
            "HeatIndexF": "11",
            "WindChillC": "-21",
            "WindChillF": "-5",
            "WindGustKmph": "36",
            "WindGustMiles": "23",
            "cloudcover": "5",
            "humidity": "65",
            "precipInches": "0.0",
            "precipMM": "0.0",
            "pressure": "1036",
            "pressureInches": "31",
            "tempC": "-11",
            "tempF": "11",
            "time": "300",
            "uvIndex": "1",
            "visibility": "10",
            "visibilityMiles": "6",
            "weatherCode": "113",
            "weatherDesc": [
             {
              "value": "Clear"
             }
            ],
            "weatherIconUrl": [
             {
              "value": "http://cdn.worldweatheronline.com/images/wsymbols01_png_64/wsymbol_0008_clear_sky_night.png"
             }
            ],
            "winddir16Point": "WNW",
            "winddirDegree": "292",
            "windspeedKmph": "27",
            "windspeedMiles": "17"
           },
           {
            "DewPointC": "-17",
            "DewPointF": "1",
            "FeelsLikeC": "-22",
            "FeelsLikeF": "-7",
            "HeatIndexC": "-13",
            "HeatIndexF": "10",
            "WindChillC": "-22",
            "WindChillF": "-7",
            "WindGustKmph": "22",
            "WindGustMiles": "14",
            "cloudcover": "5",
            "humidity": "67",
            "precipInches": "0.0",
            "precipMM": "0.0",
            "pressure": "1038",
            "pressureInches": "31",
            "tempC": "-13",
            "tempF": "10",
            "time": "600",
            "uvIndex": "2",
            "visibility": "10",
            "visibilityMiles": "6",
            "weatherCode": "113",
            "weatherDesc": [
             {
              "value": "Sunny"
             }
            ],
            "weatherIconUrl": [
             {
              "value": "http://cdn.worldweatheronline.com/images/wsymbols01_png_64/wsymbol_0001_sunny.png"
             }
            ],
            "winddir16Point": "NW",
            "winddirDegree": "306",
            "windspeedKmph": "17",
            "windspeedMiles": "10"
           },
           {
            "DewPointC": "-21",
            "DewPointF": "-5",
            "FeelsLikeC": "-22",
            "FeelsLikeF": "-7",
            "HeatIndexC": "-13",
            "HeatIndexF": "8",
            "WindChillC": "-22",
            "WindChillF": "-7",
            "WindGustKmph": "24",
            "WindGustMiles": "15",
            "cloudcover": "32",
            "humidity": "54",
            "precipInches": "0.0",
            "precipMM": "0.0",
            "pressure": "1041",
            "pressureInches": "31",
            "tempC": "-13",
            "tempF": "8",
            "time": "900",
            "uvIndex": "2",
            "visibility": "10",
            "visibilityMiles": "6",
            "weatherCode": "116",
            "weatherDesc": [
             {
              "value": "Partly cloudy"
             }
            ],
            "weatherIconUrl": [
             {
              "value": "http://cdn.worldweatheronline.com/images/wsymbols01_png_64/wsymbol_0002_sunny_intervals.png"
             }
            ],
            "winddir16Point": "WNW",
            "winddirDegree": "291",
            "windspeedKmph": "19",
            "windspeedMiles": "12"
           },
           {
            "DewPointC": "-20",
            "DewPointF": "-4",
            "FeelsLikeC": "-19",
            "FeelsLikeF": "-1",
            "HeatIndexC": "-11",
            "HeatIndexF": "12",
            "WindChillC": "-19",
            "WindChillF": "-1",
            "WindGustKmph": "10",
            "WindGustMiles": "6",
            "cloudcover": "19",
            "humidity": "47",
            "precipInches": "0.0",
            "precipMM": "0.0",
            "pressure": "1038",
            "pressureInches": "31",
            "tempC": "-11",
            "tempF": "12",
            "time": "1200",
            "uvIndex": "2",
            "visibility": "10",
            "visibilityMiles": "6",
            "weatherCode": "113",
            "weatherDesc": [
             {
              "value": "Sunny"
             }
            ],
            "weatherIconUrl": [
             {
              "value": "http://cdn.worldweatheronline.com/images/wsymbols01_png_64/wsymbol_0001_sunny.png"
             }
            ],
            "winddir16Point": "WNW",
            "winddirDegree": "283",
            "windspeedKmph": "8",
            "windspeedMiles": "5"
           },
           {
            "DewPointC": "-19",
            "DewPointF": "-3",
            "FeelsLikeC": "-16",
            "FeelsLikeF": "3",
            "HeatIndexC": "-10",
            "HeatIndexF": "14",
            "WindChillC": "-16",
            "WindChillF": "3",
            "WindGustKmph": "16",
            "WindGustMiles": "10",
            "cloudcover": "46",
            "humidity": "47",
            "precipInches": "0.0",
            "precipMM": "0.0",
            "pressure": "1037",
            "pressureInches": "31",
            "tempC": "-10",
            "tempF": "14",
            "time": "1500",
            "uvIndex": "2",
            "visibility": "10",
            "visibilityMiles": "6",
            "weatherCode": "116",
            "weatherDesc": [
             {
              "value": "Partly cloudy"
             }
            ],
            "weatherIconUrl": [
             {
              "value": "http://cdn.worldweatheronline.com/images/wsymbols01_png_64/wsymbol_0002_sunny_intervals.png"
             }
            ],
            "winddir16Point": "WSW",
            "winddirDegree": "258",
            "windspeedKmph": "13",
            "windspeedMiles": "8"
           },
           {
            "DewPointC": "-18",
            "DewPointF": "0",
            "FeelsLikeC": "-14",
            "FeelsLikeF": "6",
            "HeatIndexC": "-10",
            "HeatIndexF": "15",
            "WindChillC": "-14",
            "WindChillF": "6",
            "WindGustKmph": "6",
            "WindGustMiles": "4",
            "cloudcover": "46",
            "humidity": "52",
            "precipInches": "0.0",
            "precipMM": "0.0",
            "pressure": "1034",
            "pressureInches": "31",
            "tempC": "-10",
            "tempF": "15",
            "time": "1800",
            "uvIndex": "1",
            "visibility": "10",
            "visibilityMiles": "6",
            "weatherCode": "116",
            "weatherDesc": [
             {
              "value": "Partly cloudy"
             }
            ],
            "weatherIconUrl": [
             {
              "value": "http://cdn.worldweatheronline.com/images/wsymbols01_png_64/wsymbol_0004_black_low_cloud.png"
             }
            ],
            "winddir16Point": "SSW",
            "winddirDegree": "205",
            "windspeedKmph": "5",
            "windspeedMiles": "3"
           },
           {
            "DewPointC": "-12",
            "DewPointF": "10",
            "FeelsLikeC": "-17",
            "FeelsLikeF": "1",
            "HeatIndexC": "-11",
            "HeatIndexF": "12",
            "WindChillC": "-17",
            "WindChillF": "1",
            "WindGustKmph": "17",
            "WindGustMiles": "10",
            "cloudcover": "100",
            "humidity": "92",
            "precipInches": "0.1",
            "precipMM": "1.4",
            "pressure": "1031",
            "pressureInches": "30",
            "tempC": "-11",
            "tempF": "12",
            "time": "2100",
            "uvIndex": "1",
            "visibility": "2",
            "visibilityMiles": "1",
            "weatherCode": "338",
            "weatherDesc": [
             {
              "value": "Heavy snow"
             }
            ],
            "weatherIconUrl": [
             {
              "value": "http://cdn.worldweatheronline.com/images/wsymbols01_png_64/wsymbol_0036_cloudy_with_heavy_snow_night.png"
             }
            ],
            "winddir16Point": "SSE",
            "winddirDegree": "157",
            "windspeedKmph": "12",
            "windspeedMiles": "7"
           }
          ],
          "maxtempC": "-10",
          "maxtempF": "15",
          "mintempC": "-13",
          "mintempF": "8",
          "sunHour": "8.7",
          "totalSnow_cm": "1.2",
          "uvIndex": "2"
         }
        ]
       }
      },
      "text/plain": [
       "<IPython.core.display.JSON object>"
      ]
     },
     "execution_count": 61,
     "metadata": {
      "application/json": {
       "expanded": false,
       "root": "root"
      }
     },
     "output_type": "execute_result"
    }
   ],
   "source": [
    "#test api\n",
    "\n",
    "#define api url elements\n",
    "root_endpoint = \"https://api.worldweatheronline.com/premium/v1/past-weather.ashx\"\n",
    "\n",
    "\n",
    "#Test out retrieving API info\n",
    "response = re.get(root_endpoint,\n",
    "                  params={'q': '39.77500526484702,-86.14968724867599', \n",
    "                          'date': '2015-1-5', 'time': '0',\n",
    "                          'key': WWorld, 'format': 'json'})\n",
    "\n",
    "#make sure it works\n",
    "print(response.status_code)\n",
    "\n",
    "#convert into json (nested list of dictionaries)\n",
    "result = response.json()\n",
    "\n",
    "#Nicely display returned JSON. This has to be the last line of code in a block\n",
    "JSON(result)"
   ]
  },
  {
   "cell_type": "code",
   "execution_count": 62,
   "metadata": {},
   "outputs": [
    {
     "data": {
      "text/plain": [
       "'-11'"
      ]
     },
     "execution_count": 62,
     "metadata": {},
     "output_type": "execute_result"
    }
   ],
   "source": [
    "#check with average temp is\n",
    "result['data']['weather'][0]['avgtempC']"
   ]
  },
  {
   "cell_type": "code",
   "execution_count": 64,
   "metadata": {},
   "outputs": [
    {
     "name": "stdout",
     "output_type": "stream",
     "text": [
      "['-11']\n"
     ]
    }
   ],
   "source": [
    "#try testing pulling the specific data with coordinates and data\n",
    "\n",
    "weather = []\n",
    "\n",
    "\n",
    "response = re.get(root_endpoint,\n",
    "                  params={'q': '39.77500526484702,-86.14968724867599', \n",
    "                          'date': '2015-01-05',\n",
    "                          'key': WWorld, 'format': 'json'})\n",
    "result = response.json()\n",
    "    \n",
    "avg_temp = result['data']['weather'][0]['avgtempC']\n",
    "weather.append(avg_temp)\n",
    "print(weather)"
   ]
  },
  {
   "cell_type": "code",
   "execution_count": 68,
   "metadata": {},
   "outputs": [
    {
     "name": "stdout",
     "output_type": "stream",
     "text": [
      "['-9', '-7', '-7', '-15', '-15', '-7', '-7', '-7', '1', '-15', '-2', '1', '-15', '-15', '-2', '-2', '-2', '-2', '-2', '-7', '1', '-2', '1', '1', '1', '-2', '1', '-2', '1', '1', '-14', '8', '8', '8', '1', '-15', '8', '1', '1', '7', '1', '1', '8', '1', '1', '8', '1', '1', '-9', '-9', '-9', '-9', '-9', '-9', '-15', '1', '-9', '-10', '-7', '-2', '-9', '-7', '-7', '8', '-7', '-7', '1', '-15', '-7', '-2', '-15', '-15', '-7', '-15', '-2', '-2', '-2', '-2', '1', '-2', '1', '1', '1', '1', '1', '7', '8', '-2', '1', '8', '8', '8', '8', '8', '8', '1', '8', '1', '1', '1', '-9', '8', '-9', '-9', '-9', '-9', '-9', '-10', '-9', '1', '-9', '-7', '-9', '-9', '-9', '-7', '-7']\n"
     ]
    }
   ],
   "source": [
    "#run dictionary into for loop to get temperatures\n",
    "\n",
    "weather = []\n",
    "\n",
    "for key, value in w_dic.items():\n",
    "    response = re.get(root_endpoint,\n",
    "                  params={'q': key, \n",
    "                          'date': value,\n",
    "                          'key': WWorld, 'format': 'json'})\n",
    "    result = response.json()\n",
    "    \n",
    "    avg_temp = result['data']['weather'][0]['avgtempC']\n",
    "    weather.append(avg_temp)\n",
    "print(weather)"
   ]
  },
  {
   "cell_type": "code",
   "execution_count": 69,
   "metadata": {},
   "outputs": [],
   "source": [
    "#create definition\n",
    "\n",
    "def weather_function(w_dic):\n",
    "    #get data relevant to input data\n",
    "    weather = []\n",
    "\n",
    "    for key, value in w_dic.items():\n",
    "        response = re.get(root_endpoint,\n",
    "                  params={'q': key, \n",
    "                          'date': value,\n",
    "                          'key': WWorld, 'format': 'json'})\n",
    "        result = response.json()\n",
    "    \n",
    "        avg_temp = result['data']['weather'][0]['avgtempC']\n",
    "        weather.append(avg_temp)\n",
    "    return weather"
   ]
  },
  {
   "cell_type": "code",
   "execution_count": 70,
   "metadata": {},
   "outputs": [],
   "source": [
    "#create variable using function\n",
    "local_w = weather_function(w_dic)"
   ]
  },
  {
   "cell_type": "code",
   "execution_count": 75,
   "metadata": {},
   "outputs": [
    {
     "data": {
      "text/plain": [
       "117"
      ]
     },
     "execution_count": 75,
     "metadata": {},
     "output_type": "execute_result"
    }
   ],
   "source": [
    "#check len\n",
    "len(local_w)"
   ]
  },
  {
   "cell_type": "code",
   "execution_count": 89,
   "metadata": {},
   "outputs": [
    {
     "name": "stderr",
     "output_type": "stream",
     "text": [
      "<ipython-input-89-025dc17a55a1>:2: SettingWithCopyWarning: \n",
      "A value is trying to be set on a copy of a slice from a DataFrame.\n",
      "Try using .loc[row_indexer,col_indexer] = value instead\n",
      "\n",
      "See the caveats in the documentation: https://pandas.pydata.org/pandas-docs/stable/user_guide/indexing.html#returning-a-view-versus-a-copy\n",
      "  weather_data['temp'] = local_w\n"
     ]
    }
   ],
   "source": [
    "#changed weather data to 117\n",
    "weather_data['temp'] = local_w"
   ]
  },
  {
   "cell_type": "code",
   "execution_count": 90,
   "metadata": {},
   "outputs": [
    {
     "data": {
      "text/html": [
       "<div>\n",
       "<style scoped>\n",
       "    .dataframe tbody tr th:only-of-type {\n",
       "        vertical-align: middle;\n",
       "    }\n",
       "\n",
       "    .dataframe tbody tr th {\n",
       "        vertical-align: top;\n",
       "    }\n",
       "\n",
       "    .dataframe thead th {\n",
       "        text-align: right;\n",
       "    }\n",
       "</style>\n",
       "<table border=\"1\" class=\"dataframe\">\n",
       "  <thead>\n",
       "    <tr style=\"text-align: right;\">\n",
       "      <th></th>\n",
       "      <th>Master Record Number</th>\n",
       "      <th>Year</th>\n",
       "      <th>Month</th>\n",
       "      <th>Day</th>\n",
       "      <th>Weekend?</th>\n",
       "      <th>Hour</th>\n",
       "      <th>Collision Type</th>\n",
       "      <th>Injury Type</th>\n",
       "      <th>Primary Factor</th>\n",
       "      <th>Reported_Location</th>\n",
       "      <th>Latitude</th>\n",
       "      <th>Longitude</th>\n",
       "      <th>ll</th>\n",
       "      <th>avg_temp</th>\n",
       "      <th>severity</th>\n",
       "      <th>temp</th>\n",
       "    </tr>\n",
       "  </thead>\n",
       "  <tbody>\n",
       "    <tr>\n",
       "      <th>0</th>\n",
       "      <td>902363382</td>\n",
       "      <td>2015</td>\n",
       "      <td>1</td>\n",
       "      <td>5</td>\n",
       "      <td>Weekday</td>\n",
       "      <td>0.0</td>\n",
       "      <td>2-Car</td>\n",
       "      <td>No injury/unknown</td>\n",
       "      <td>OTHER (DRIVER) - EXPLAIN IN NARRATIVE</td>\n",
       "      <td>1ST &amp; FESS</td>\n",
       "      <td>39.159207</td>\n",
       "      <td>-86.525874</td>\n",
       "      <td>39.15920668,-86.52587356</td>\n",
       "      <td>-9</td>\n",
       "      <td>1</td>\n",
       "      <td>-9</td>\n",
       "    </tr>\n",
       "    <tr>\n",
       "      <th>1</th>\n",
       "      <td>902364268</td>\n",
       "      <td>2015</td>\n",
       "      <td>1</td>\n",
       "      <td>6</td>\n",
       "      <td>Weekday</td>\n",
       "      <td>1500.0</td>\n",
       "      <td>2-Car</td>\n",
       "      <td>No injury/unknown</td>\n",
       "      <td>FOLLOWING TOO CLOSELY</td>\n",
       "      <td>2ND &amp; COLLEGE</td>\n",
       "      <td>39.161440</td>\n",
       "      <td>-86.534848</td>\n",
       "      <td>39.16144,-86.534848</td>\n",
       "      <td>-7</td>\n",
       "      <td>1</td>\n",
       "      <td>-7</td>\n",
       "    </tr>\n",
       "    <tr>\n",
       "      <th>2</th>\n",
       "      <td>902364412</td>\n",
       "      <td>2015</td>\n",
       "      <td>1</td>\n",
       "      <td>6</td>\n",
       "      <td>Weekend</td>\n",
       "      <td>2300.0</td>\n",
       "      <td>2-Car</td>\n",
       "      <td>Non-incapacitating</td>\n",
       "      <td>DISREGARD SIGNAL/REG SIGN</td>\n",
       "      <td>BASSWOOD &amp; BLOOMFIELD</td>\n",
       "      <td>39.149780</td>\n",
       "      <td>-86.568890</td>\n",
       "      <td>39.14978027,-86.56889006</td>\n",
       "      <td>-7</td>\n",
       "      <td>2</td>\n",
       "      <td>-7</td>\n",
       "    </tr>\n",
       "    <tr>\n",
       "      <th>3</th>\n",
       "      <td>902364551</td>\n",
       "      <td>2015</td>\n",
       "      <td>1</td>\n",
       "      <td>7</td>\n",
       "      <td>Weekend</td>\n",
       "      <td>900.0</td>\n",
       "      <td>2-Car</td>\n",
       "      <td>Non-incapacitating</td>\n",
       "      <td>FAILURE TO YIELD RIGHT OF WAY</td>\n",
       "      <td>GATES &amp; JACOBS</td>\n",
       "      <td>39.165655</td>\n",
       "      <td>-86.575956</td>\n",
       "      <td>39.165655,-86.57595635</td>\n",
       "      <td>-15</td>\n",
       "      <td>2</td>\n",
       "      <td>-15</td>\n",
       "    </tr>\n",
       "    <tr>\n",
       "      <th>4</th>\n",
       "      <td>902364615</td>\n",
       "      <td>2015</td>\n",
       "      <td>1</td>\n",
       "      <td>7</td>\n",
       "      <td>Weekend</td>\n",
       "      <td>1100.0</td>\n",
       "      <td>2-Car</td>\n",
       "      <td>No injury/unknown</td>\n",
       "      <td>FAILURE TO YIELD RIGHT OF WAY</td>\n",
       "      <td>W 3RD</td>\n",
       "      <td>39.164848</td>\n",
       "      <td>-86.579625</td>\n",
       "      <td>39.164848,-86.57962482</td>\n",
       "      <td>-15</td>\n",
       "      <td>1</td>\n",
       "      <td>-15</td>\n",
       "    </tr>\n",
       "    <tr>\n",
       "      <th>...</th>\n",
       "      <td>...</td>\n",
       "      <td>...</td>\n",
       "      <td>...</td>\n",
       "      <td>...</td>\n",
       "      <td>...</td>\n",
       "      <td>...</td>\n",
       "      <td>...</td>\n",
       "      <td>...</td>\n",
       "      <td>...</td>\n",
       "      <td>...</td>\n",
       "      <td>...</td>\n",
       "      <td>...</td>\n",
       "      <td>...</td>\n",
       "      <td>...</td>\n",
       "      <td>...</td>\n",
       "      <td>...</td>\n",
       "    </tr>\n",
       "    <tr>\n",
       "      <th>116</th>\n",
       "      <td>902374528</td>\n",
       "      <td>2015</td>\n",
       "      <td>1</td>\n",
       "      <td>5</td>\n",
       "      <td>Weekday</td>\n",
       "      <td>900.0</td>\n",
       "      <td>1-Car</td>\n",
       "      <td>No injury/unknown</td>\n",
       "      <td>UNSAFE BACKING</td>\n",
       "      <td>2418 E GOLDIN &amp; E GOLDIN</td>\n",
       "      <td>39.128067</td>\n",
       "      <td>-86.508726</td>\n",
       "      <td>39.128067,-86.50872634</td>\n",
       "      <td>-9</td>\n",
       "      <td>1</td>\n",
       "      <td>-9</td>\n",
       "    </tr>\n",
       "    <tr>\n",
       "      <th>117</th>\n",
       "      <td>902374541</td>\n",
       "      <td>2015</td>\n",
       "      <td>1</td>\n",
       "      <td>5</td>\n",
       "      <td>Weekday</td>\n",
       "      <td>0.0</td>\n",
       "      <td>2-Car</td>\n",
       "      <td>No injury/unknown</td>\n",
       "      <td>UNSAFE BACKING</td>\n",
       "      <td>NORTH FEE</td>\n",
       "      <td>39.176588</td>\n",
       "      <td>-86.518913</td>\n",
       "      <td>39.17658828,-86.51891313</td>\n",
       "      <td>-9</td>\n",
       "      <td>1</td>\n",
       "      <td>-9</td>\n",
       "    </tr>\n",
       "    <tr>\n",
       "      <th>118</th>\n",
       "      <td>902374549</td>\n",
       "      <td>2015</td>\n",
       "      <td>1</td>\n",
       "      <td>5</td>\n",
       "      <td>Weekday</td>\n",
       "      <td>800.0</td>\n",
       "      <td>1-Car</td>\n",
       "      <td>No injury/unknown</td>\n",
       "      <td>UNSAFE LANE MOVEMENT</td>\n",
       "      <td>FOREST &amp; KIRKWOOD</td>\n",
       "      <td>39.166089</td>\n",
       "      <td>-86.519626</td>\n",
       "      <td>39.16608943,-86.51962569999999</td>\n",
       "      <td>-9</td>\n",
       "      <td>1</td>\n",
       "      <td>-9</td>\n",
       "    </tr>\n",
       "    <tr>\n",
       "      <th>119</th>\n",
       "      <td>902374663</td>\n",
       "      <td>2015</td>\n",
       "      <td>1</td>\n",
       "      <td>5</td>\n",
       "      <td>Weekday</td>\n",
       "      <td>1500.0</td>\n",
       "      <td>2-Car</td>\n",
       "      <td>No injury/unknown</td>\n",
       "      <td>FOLLOWING TOO CLOSELY</td>\n",
       "      <td>N WALNUT &amp; SR46E</td>\n",
       "      <td>39.186368</td>\n",
       "      <td>-86.534400</td>\n",
       "      <td>39.186368,-86.5344</td>\n",
       "      <td>-7</td>\n",
       "      <td>1</td>\n",
       "      <td>-7</td>\n",
       "    </tr>\n",
       "    <tr>\n",
       "      <th>120</th>\n",
       "      <td>902374711</td>\n",
       "      <td>2015</td>\n",
       "      <td>1</td>\n",
       "      <td>5</td>\n",
       "      <td>Weekday</td>\n",
       "      <td>1600.0</td>\n",
       "      <td>2-Car</td>\n",
       "      <td>No injury/unknown</td>\n",
       "      <td>FOLLOWING TOO CLOSELY</td>\n",
       "      <td>S HARMONY &amp; SR45</td>\n",
       "      <td>39.111024</td>\n",
       "      <td>-86.638304</td>\n",
       "      <td>39.111024,-86.638304</td>\n",
       "      <td>-7</td>\n",
       "      <td>1</td>\n",
       "      <td>-7</td>\n",
       "    </tr>\n",
       "  </tbody>\n",
       "</table>\n",
       "<p>117 rows × 16 columns</p>\n",
       "</div>"
      ],
      "text/plain": [
       "     Master Record Number  Year  Month  Day Weekend?    Hour Collision Type  \\\n",
       "0               902363382  2015      1    5  Weekday     0.0          2-Car   \n",
       "1               902364268  2015      1    6  Weekday  1500.0          2-Car   \n",
       "2               902364412  2015      1    6  Weekend  2300.0          2-Car   \n",
       "3               902364551  2015      1    7  Weekend   900.0          2-Car   \n",
       "4               902364615  2015      1    7  Weekend  1100.0          2-Car   \n",
       "..                    ...   ...    ...  ...      ...     ...            ...   \n",
       "116             902374528  2015      1    5  Weekday   900.0          1-Car   \n",
       "117             902374541  2015      1    5  Weekday     0.0          2-Car   \n",
       "118             902374549  2015      1    5  Weekday   800.0          1-Car   \n",
       "119             902374663  2015      1    5  Weekday  1500.0          2-Car   \n",
       "120             902374711  2015      1    5  Weekday  1600.0          2-Car   \n",
       "\n",
       "            Injury Type                         Primary Factor  \\\n",
       "0     No injury/unknown  OTHER (DRIVER) - EXPLAIN IN NARRATIVE   \n",
       "1     No injury/unknown                  FOLLOWING TOO CLOSELY   \n",
       "2    Non-incapacitating              DISREGARD SIGNAL/REG SIGN   \n",
       "3    Non-incapacitating          FAILURE TO YIELD RIGHT OF WAY   \n",
       "4     No injury/unknown          FAILURE TO YIELD RIGHT OF WAY   \n",
       "..                  ...                                    ...   \n",
       "116   No injury/unknown                         UNSAFE BACKING   \n",
       "117   No injury/unknown                         UNSAFE BACKING   \n",
       "118   No injury/unknown                   UNSAFE LANE MOVEMENT   \n",
       "119   No injury/unknown                  FOLLOWING TOO CLOSELY   \n",
       "120   No injury/unknown                  FOLLOWING TOO CLOSELY   \n",
       "\n",
       "            Reported_Location   Latitude  Longitude  \\\n",
       "0                  1ST & FESS  39.159207 -86.525874   \n",
       "1               2ND & COLLEGE  39.161440 -86.534848   \n",
       "2       BASSWOOD & BLOOMFIELD  39.149780 -86.568890   \n",
       "3              GATES & JACOBS  39.165655 -86.575956   \n",
       "4                       W 3RD  39.164848 -86.579625   \n",
       "..                        ...        ...        ...   \n",
       "116  2418 E GOLDIN & E GOLDIN  39.128067 -86.508726   \n",
       "117                 NORTH FEE  39.176588 -86.518913   \n",
       "118         FOREST & KIRKWOOD  39.166089 -86.519626   \n",
       "119          N WALNUT & SR46E  39.186368 -86.534400   \n",
       "120          S HARMONY & SR45  39.111024 -86.638304   \n",
       "\n",
       "                                 ll avg_temp  severity temp  \n",
       "0          39.15920668,-86.52587356       -9         1   -9  \n",
       "1               39.16144,-86.534848       -7         1   -7  \n",
       "2          39.14978027,-86.56889006       -7         2   -7  \n",
       "3            39.165655,-86.57595635      -15         2  -15  \n",
       "4            39.164848,-86.57962482      -15         1  -15  \n",
       "..                              ...      ...       ...  ...  \n",
       "116          39.128067,-86.50872634       -9         1   -9  \n",
       "117        39.17658828,-86.51891313       -9         1   -9  \n",
       "118  39.16608943,-86.51962569999999       -9         1   -9  \n",
       "119              39.186368,-86.5344       -7         1   -7  \n",
       "120            39.111024,-86.638304       -7         1   -7  \n",
       "\n",
       "[117 rows x 16 columns]"
      ]
     },
     "execution_count": 90,
     "metadata": {},
     "output_type": "execute_result"
    }
   ],
   "source": [
    "#check data\n",
    "weather_data"
   ]
  },
  {
   "cell_type": "code",
   "execution_count": 80,
   "metadata": {},
   "outputs": [
    {
     "data": {
      "text/plain": [
       "array(['No injury/unknown', 'Non-incapacitating', 'Incapacitating'],\n",
       "      dtype=object)"
      ]
     },
     "execution_count": 80,
     "metadata": {},
     "output_type": "execute_result"
    }
   ],
   "source": [
    "#check unqiue values for injury types\n",
    "weather_data['Injury Type'].unique()"
   ]
  },
  {
   "cell_type": "code",
   "execution_count": 81,
   "metadata": {},
   "outputs": [
    {
     "name": "stderr",
     "output_type": "stream",
     "text": [
      "<ipython-input-81-0eceec7b2f9f>:1: SettingWithCopyWarning: \n",
      "A value is trying to be set on a copy of a slice from a DataFrame.\n",
      "Try using .loc[row_indexer,col_indexer] = value instead\n",
      "\n",
      "See the caveats in the documentation: https://pandas.pydata.org/pandas-docs/stable/user_guide/indexing.html#returning-a-view-versus-a-copy\n",
      "  weather_data[\"severity\"] = 0\n",
      "/opt/anaconda3/lib/python3.8/site-packages/pandas/core/indexing.py:965: SettingWithCopyWarning: \n",
      "A value is trying to be set on a copy of a slice from a DataFrame.\n",
      "Try using .loc[row_indexer,col_indexer] = value instead\n",
      "\n",
      "See the caveats in the documentation: https://pandas.pydata.org/pandas-docs/stable/user_guide/indexing.html#returning-a-view-versus-a-copy\n",
      "  self.obj[item] = s\n"
     ]
    }
   ],
   "source": [
    "#Add severity column and assign values\n",
    "weather_data[\"severity\"] = 0\n",
    "weather_data.loc[weather_data[\"Injury Type\"] == 'No injury/unknown',\"severity\"] = 1\n",
    "weather_data.loc[weather_data[\"Injury Type\"] == 'Non-incapacitating',\"severity\"] = 2\n",
    "weather_data.loc[weather_data[\"Injury Type\"] == 'Incapacitating',\"severity\"] = 3"
   ]
  },
  {
   "cell_type": "code",
   "execution_count": 91,
   "metadata": {},
   "outputs": [
    {
     "data": {
      "text/html": [
       "<div>\n",
       "<style scoped>\n",
       "    .dataframe tbody tr th:only-of-type {\n",
       "        vertical-align: middle;\n",
       "    }\n",
       "\n",
       "    .dataframe tbody tr th {\n",
       "        vertical-align: top;\n",
       "    }\n",
       "\n",
       "    .dataframe thead th {\n",
       "        text-align: right;\n",
       "    }\n",
       "</style>\n",
       "<table border=\"1\" class=\"dataframe\">\n",
       "  <thead>\n",
       "    <tr style=\"text-align: right;\">\n",
       "      <th></th>\n",
       "      <th>severity</th>\n",
       "    </tr>\n",
       "  </thead>\n",
       "  <tbody>\n",
       "    <tr>\n",
       "      <th>severity</th>\n",
       "      <td>1.0</td>\n",
       "    </tr>\n",
       "  </tbody>\n",
       "</table>\n",
       "</div>"
      ],
      "text/plain": [
       "          severity\n",
       "severity       1.0"
      ]
     },
     "execution_count": 91,
     "metadata": {},
     "output_type": "execute_result"
    }
   ],
   "source": [
    "#correlation between severity and temp\n",
    "weather_data[['severity','temp']].corr()"
   ]
  }
 ],
 "metadata": {
  "kernelspec": {
   "display_name": "Python 3",
   "language": "python",
   "name": "python3"
  },
  "language_info": {
   "codemirror_mode": {
    "name": "ipython",
    "version": 3
   },
   "file_extension": ".py",
   "mimetype": "text/x-python",
   "name": "python",
   "nbconvert_exporter": "python",
   "pygments_lexer": "ipython3",
   "version": "3.6.13"
  }
 },
 "nbformat": 4,
 "nbformat_minor": 4
}
